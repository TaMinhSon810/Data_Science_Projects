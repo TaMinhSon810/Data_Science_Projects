{
 "cells": [
  {
   "cell_type": "code",
   "execution_count": 1,
   "metadata": {},
   "outputs": [],
   "source": [
    "import surprise"
   ]
  },
  {
   "cell_type": "code",
   "execution_count": 2,
   "metadata": {},
   "outputs": [
    {
     "name": "stdout",
     "output_type": "stream",
     "text": [
      "Dataset ml-100k could not be found. Do you want to download it? [Y/n] Trying to download dataset from https://files.grouplens.org/datasets/movielens/ml-100k.zip...\n",
      "Done! Dataset ml-100k has been saved to C:\\Users\\LENOVO/.surprise_data/ml-100k\n"
     ]
    }
   ],
   "source": [
    "# Loading Data\n",
    "from surprise import Dataset\n",
    "\n",
    "movie_data = Dataset.load_builtin('ml-100k')"
   ]
  },
  {
   "cell_type": "code",
   "execution_count": 4,
   "metadata": {},
   "outputs": [],
   "source": [
    "# Train/Test Split of Data\n",
    "from surprise.model_selection import train_test_split\n",
    "\n",
    "trainset, testset = train_test_split(movie_data, test_size = 0.2, random_state = 42)"
   ]
  },
  {
   "cell_type": "code",
   "execution_count": 8,
   "metadata": {},
   "outputs": [
    {
     "data": {
      "text/plain": [
       "[(699, 4.0),\n",
       " (114, 4.0),\n",
       " (339, 5.0),\n",
       " (769, 5.0),\n",
       " (230, 4.0),\n",
       " (212, 5.0),\n",
       " (21, 5.0),\n",
       " (33, 3.0),\n",
       " (94, 4.0),\n",
       " (74, 2.0),\n",
       " (22, 4.0),\n",
       " (471, 5.0),\n",
       " (8, 3.0),\n",
       " (305, 3.0),\n",
       " (645, 3.0),\n",
       " (558, 2.0),\n",
       " (166, 4.0),\n",
       " (129, 4.0),\n",
       " (100, 5.0),\n",
       " (232, 3.0),\n",
       " (391, 3.0),\n",
       " (204, 3.0),\n",
       " (508, 4.0),\n",
       " (79, 3.0),\n",
       " (83, 4.0),\n",
       " (426, 1.0),\n",
       " (6, 3.0),\n",
       " (58, 3.0),\n",
       " (1119, 5.0),\n",
       " (76, 5.0)]"
      ]
     },
     "execution_count": 8,
     "metadata": {},
     "output_type": "execute_result"
    }
   ],
   "source": [
    "# each tuple is in the form ({item_id}, {rating}). See the ratings of user 590\n",
    "trainset.ur[590]"
   ]
  },
  {
   "cell_type": "code",
   "execution_count": 9,
   "metadata": {},
   "outputs": [
    {
     "name": "stdout",
     "output_type": "stream",
     "text": [
      "Computing the msd similarity matrix...\n",
      "Done computing similarity matrix.\n"
     ]
    },
    {
     "data": {
      "text/plain": [
       "<surprise.prediction_algorithms.knns.KNNBasic at 0x1de56f4ca00>"
      ]
     },
     "execution_count": 9,
     "metadata": {},
     "output_type": "execute_result"
    }
   ],
   "source": [
    "# Training A Recommender System\n",
    "from surprise import KNNBasic\n",
    "\n",
    "movie_recommender = KNNBasic()\n",
    "movie_recommender.fit(trainset)"
   ]
  },
  {
   "cell_type": "code",
   "execution_count": 10,
   "metadata": {},
   "outputs": [],
   "source": [
    "# Evaluating Recommender System Performance\n",
    "predictions = movie_recommender.test(testset)"
   ]
  },
  {
   "cell_type": "code",
   "execution_count": 11,
   "metadata": {},
   "outputs": [
    {
     "data": {
      "text/plain": [
       "Prediction(uid='907', iid='143', r_ui=5.0, est=4.039960584359155, details={'actual_k': 40, 'was_impossible': False})"
      ]
     },
     "execution_count": 11,
     "metadata": {},
     "output_type": "execute_result"
    }
   ],
   "source": [
    "predictions[0]"
   ]
  },
  {
   "cell_type": "code",
   "execution_count": 14,
   "metadata": {},
   "outputs": [
    {
     "name": "stdout",
     "output_type": "stream",
     "text": [
      "RMSE: 0.9802\n"
     ]
    },
    {
     "data": {
      "text/plain": [
       "0.980150596704479"
      ]
     },
     "execution_count": 14,
     "metadata": {},
     "output_type": "execute_result"
    }
   ],
   "source": [
    "from surprise import accuracy\n",
    "\n",
    "accuracy.rmse(predictions)"
   ]
  },
  {
   "cell_type": "code",
   "execution_count": 15,
   "metadata": {},
   "outputs": [
    {
     "name": "stdout",
     "output_type": "stream",
     "text": [
      "RMSE: 0.9358\n"
     ]
    },
    {
     "data": {
      "text/plain": [
       "0.9357500578878379"
      ]
     },
     "execution_count": 15,
     "metadata": {},
     "output_type": "execute_result"
    }
   ],
   "source": [
    "# Use SVD\n",
    "from surprise import SVD\n",
    "from surprise import accuracy\n",
    "\n",
    "svd_recommender = SVD()\n",
    "svd_recommender.fit(trainset)\n",
    "\n",
    "svd_predictions = svd_recommender.test(testset)\n",
    "\n",
    "accuracy.rmse(svd_predictions)\n"
   ]
  },
  {
   "cell_type": "code",
   "execution_count": 24,
   "metadata": {},
   "outputs": [
    {
     "data": {
      "text/html": [
       "<div>\n",
       "<style scoped>\n",
       "    .dataframe tbody tr th:only-of-type {\n",
       "        vertical-align: middle;\n",
       "    }\n",
       "\n",
       "    .dataframe tbody tr th {\n",
       "        vertical-align: top;\n",
       "    }\n",
       "\n",
       "    .dataframe thead th {\n",
       "        text-align: right;\n",
       "    }\n",
       "</style>\n",
       "<table border=\"1\" class=\"dataframe\">\n",
       "  <thead>\n",
       "    <tr style=\"text-align: right;\">\n",
       "      <th></th>\n",
       "      <th>user_id</th>\n",
       "      <th>movie_id</th>\n",
       "      <th>rating</th>\n",
       "    </tr>\n",
       "  </thead>\n",
       "  <tbody>\n",
       "    <tr>\n",
       "      <th>0</th>\n",
       "      <td>877</td>\n",
       "      <td>381</td>\n",
       "      <td>4.0</td>\n",
       "    </tr>\n",
       "    <tr>\n",
       "      <th>1</th>\n",
       "      <td>877</td>\n",
       "      <td>451</td>\n",
       "      <td>4.0</td>\n",
       "    </tr>\n",
       "    <tr>\n",
       "      <th>2</th>\n",
       "      <td>877</td>\n",
       "      <td>557</td>\n",
       "      <td>4.0</td>\n",
       "    </tr>\n",
       "    <tr>\n",
       "      <th>3</th>\n",
       "      <td>877</td>\n",
       "      <td>692</td>\n",
       "      <td>4.0</td>\n",
       "    </tr>\n",
       "    <tr>\n",
       "      <th>4</th>\n",
       "      <td>877</td>\n",
       "      <td>56</td>\n",
       "      <td>5.0</td>\n",
       "    </tr>\n",
       "  </tbody>\n",
       "</table>\n",
       "</div>"
      ],
      "text/plain": [
       "  user_id movie_id  rating\n",
       "0     877      381     4.0\n",
       "1     877      451     4.0\n",
       "2     877      557     4.0\n",
       "3     877      692     4.0\n",
       "4     877       56     5.0"
      ]
     },
     "execution_count": 24,
     "metadata": {},
     "output_type": "execute_result"
    }
   ],
   "source": [
    "import pandas as pd\n",
    "# Convert trainset to DataFrame\n",
    "train_data = []\n",
    "\n",
    "for user_id, ratings in trainset.ur.items():\n",
    "    for movie_id, ratings in trainset.ur[user_id]:\n",
    "        train_data.append((trainset.to_raw_uid(user_id), trainset.to_raw_iid(movie_id), ratings))\n",
    "\n",
    "trainset_df = pd.DataFrame(train_data, columns = ['user_id', 'movie_id', 'rating'])\n",
    "trainset_df.head()"
   ]
  },
  {
   "cell_type": "code",
   "execution_count": null,
   "metadata": {},
   "outputs": [],
   "source": [
    "        "
   ]
  }
 ],
 "metadata": {
  "kernelspec": {
   "display_name": "base",
   "language": "python",
   "name": "python3"
  },
  "language_info": {
   "codemirror_mode": {
    "name": "ipython",
    "version": 3
   },
   "file_extension": ".py",
   "mimetype": "text/x-python",
   "name": "python",
   "nbconvert_exporter": "python",
   "pygments_lexer": "ipython3",
   "version": "3.9.19"
  }
 },
 "nbformat": 4,
 "nbformat_minor": 2
}
