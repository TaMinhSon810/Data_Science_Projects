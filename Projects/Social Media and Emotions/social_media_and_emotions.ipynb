{
 "cells": [
  {
   "cell_type": "markdown",
   "metadata": {},
   "source": [
    "# **About Dataset**\n",
    "\n",
    "## **Social Media Usage and Emotional Well-Being**\n",
    "This unique dataset was meticulously researched and prepared by AI Inventor Emirhan BULUT. It captures valuable information on social media usage and the dominant emotional state of users based on their activities. The dataset is ideal for exploring the relationship between social media usage patterns and emotional well-being.\n",
    "\n",
    "## **Features:**\n",
    "- `User_ID`: Unique identifier for the user.\n",
    "- `Age`: Age of the user.\n",
    "- `Gender`: Gender of the user (Female, Male, Non-binary).\n",
    "- `Platform`: Social media platform used (e.g., Instagram, Twitter, Facebook, LinkedIn, Snapchat, Whatsapp, Telegram).\n",
    "- `Daily_Usage_Time (minutes)`: Daily time spent on the platform in minutes.\n",
    "- `Posts_Per_Day`: Number of posts made per day.\n",
    "- `Likes_Received_Per_Day`: Number of likes received per day.\n",
    "- `Comments_Received_Per_Day`: Number of comments received per day.\n",
    "- `Messages_Sent_Per_Day`: Number of messages sent per day.\n",
    "- `Dominant_Emotion`: User's dominant emotional state during the day (e.g., Happiness, Sadness, Anger, Anxiety, Boredom, Neutral).\n",
    "\n",
    "## **Files**:\n",
    "- `train.csv`: Data for training models.\n",
    "- `test.csv`: Data for testing models.\n",
    "- `val.csv`: Data for validation purposes."
   ]
  },
  {
   "cell_type": "markdown",
   "metadata": {},
   "source": [
    "## **Introduction**\n",
    "Social media is a fundamental part of modern life, influencing how we live, work, and connect. Its impact extends to our mental and emotional well-being. This analysis explores the relationship between social media usage and emotional well-being, aiming to uncover how online interactions affect our mental health. Understanding these dynamics can help promote healthier social media habits and improve overall emotional health."
   ]
  },
  {
   "cell_type": "markdown",
   "metadata": {},
   "source": [
    "# **Code**\n",
    "\n",
    "## **Import Required Libraries**"
   ]
  },
  {
   "cell_type": "code",
   "execution_count": 103,
   "metadata": {},
   "outputs": [],
   "source": [
    "import pandas as pd\n",
    "import numpy as np\n",
    "import matplotlib.pyplot as plt\n",
    "import seaborn as sns\n",
    "import plotly.express as px"
   ]
  },
  {
   "cell_type": "markdown",
   "metadata": {},
   "source": [
    "## **Loading the Data**"
   ]
  },
  {
   "cell_type": "code",
   "execution_count": 19,
   "metadata": {},
   "outputs": [],
   "source": [
    "train_df = pd.read_csv('train.csv', on_bad_lines = 'skip')\n",
    "val_df = pd.read_csv('val.csv', on_bad_lines = 'skip')\n",
    "test_df = pd.read_csv('test.csv', on_bad_lines = 'skip')"
   ]
  },
  {
   "cell_type": "code",
   "execution_count": 20,
   "metadata": {},
   "outputs": [
    {
     "name": "stdout",
     "output_type": "stream",
     "text": [
      "Training data:\n"
     ]
    },
    {
     "data": {
      "text/html": [
       "<div>\n",
       "<style scoped>\n",
       "    .dataframe tbody tr th:only-of-type {\n",
       "        vertical-align: middle;\n",
       "    }\n",
       "\n",
       "    .dataframe tbody tr th {\n",
       "        vertical-align: top;\n",
       "    }\n",
       "\n",
       "    .dataframe thead th {\n",
       "        text-align: right;\n",
       "    }\n",
       "</style>\n",
       "<table border=\"1\" class=\"dataframe\">\n",
       "  <thead>\n",
       "    <tr style=\"text-align: right;\">\n",
       "      <th></th>\n",
       "      <th>User_ID</th>\n",
       "      <th>Age</th>\n",
       "      <th>Gender</th>\n",
       "      <th>Platform</th>\n",
       "      <th>Daily_Usage_Time (minutes)</th>\n",
       "      <th>Posts_Per_Day</th>\n",
       "      <th>Likes_Received_Per_Day</th>\n",
       "      <th>Comments_Received_Per_Day</th>\n",
       "      <th>Messages_Sent_Per_Day</th>\n",
       "      <th>Dominant_Emotion</th>\n",
       "    </tr>\n",
       "  </thead>\n",
       "  <tbody>\n",
       "    <tr>\n",
       "      <th>0</th>\n",
       "      <td>1</td>\n",
       "      <td>25</td>\n",
       "      <td>Female</td>\n",
       "      <td>Instagram</td>\n",
       "      <td>120.0</td>\n",
       "      <td>3.0</td>\n",
       "      <td>45.0</td>\n",
       "      <td>10.0</td>\n",
       "      <td>12.0</td>\n",
       "      <td>Happiness</td>\n",
       "    </tr>\n",
       "    <tr>\n",
       "      <th>1</th>\n",
       "      <td>2</td>\n",
       "      <td>30</td>\n",
       "      <td>Male</td>\n",
       "      <td>Twitter</td>\n",
       "      <td>90.0</td>\n",
       "      <td>5.0</td>\n",
       "      <td>20.0</td>\n",
       "      <td>25.0</td>\n",
       "      <td>30.0</td>\n",
       "      <td>Anger</td>\n",
       "    </tr>\n",
       "    <tr>\n",
       "      <th>2</th>\n",
       "      <td>3</td>\n",
       "      <td>22</td>\n",
       "      <td>Non-binary</td>\n",
       "      <td>Facebook</td>\n",
       "      <td>60.0</td>\n",
       "      <td>2.0</td>\n",
       "      <td>15.0</td>\n",
       "      <td>5.0</td>\n",
       "      <td>20.0</td>\n",
       "      <td>Neutral</td>\n",
       "    </tr>\n",
       "    <tr>\n",
       "      <th>3</th>\n",
       "      <td>4</td>\n",
       "      <td>28</td>\n",
       "      <td>Female</td>\n",
       "      <td>Instagram</td>\n",
       "      <td>200.0</td>\n",
       "      <td>8.0</td>\n",
       "      <td>100.0</td>\n",
       "      <td>30.0</td>\n",
       "      <td>50.0</td>\n",
       "      <td>Anxiety</td>\n",
       "    </tr>\n",
       "    <tr>\n",
       "      <th>4</th>\n",
       "      <td>5</td>\n",
       "      <td>33</td>\n",
       "      <td>Male</td>\n",
       "      <td>LinkedIn</td>\n",
       "      <td>45.0</td>\n",
       "      <td>1.0</td>\n",
       "      <td>5.0</td>\n",
       "      <td>2.0</td>\n",
       "      <td>10.0</td>\n",
       "      <td>Boredom</td>\n",
       "    </tr>\n",
       "  </tbody>\n",
       "</table>\n",
       "</div>"
      ],
      "text/plain": [
       "  User_ID Age      Gender   Platform  Daily_Usage_Time (minutes)  \\\n",
       "0       1  25      Female  Instagram                       120.0   \n",
       "1       2  30        Male    Twitter                        90.0   \n",
       "2       3  22  Non-binary   Facebook                        60.0   \n",
       "3       4  28      Female  Instagram                       200.0   \n",
       "4       5  33        Male   LinkedIn                        45.0   \n",
       "\n",
       "   Posts_Per_Day  Likes_Received_Per_Day  Comments_Received_Per_Day  \\\n",
       "0            3.0                    45.0                       10.0   \n",
       "1            5.0                    20.0                       25.0   \n",
       "2            2.0                    15.0                        5.0   \n",
       "3            8.0                   100.0                       30.0   \n",
       "4            1.0                     5.0                        2.0   \n",
       "\n",
       "   Messages_Sent_Per_Day Dominant_Emotion  \n",
       "0                   12.0        Happiness  \n",
       "1                   30.0            Anger  \n",
       "2                   20.0          Neutral  \n",
       "3                   50.0          Anxiety  \n",
       "4                   10.0          Boredom  "
      ]
     },
     "metadata": {},
     "output_type": "display_data"
    },
    {
     "name": "stdout",
     "output_type": "stream",
     "text": [
      "---------------------------------------------------------------------------------------------------\n",
      "Validation data:\n"
     ]
    },
    {
     "data": {
      "text/html": [
       "<div>\n",
       "<style scoped>\n",
       "    .dataframe tbody tr th:only-of-type {\n",
       "        vertical-align: middle;\n",
       "    }\n",
       "\n",
       "    .dataframe tbody tr th {\n",
       "        vertical-align: top;\n",
       "    }\n",
       "\n",
       "    .dataframe thead th {\n",
       "        text-align: right;\n",
       "    }\n",
       "</style>\n",
       "<table border=\"1\" class=\"dataframe\">\n",
       "  <thead>\n",
       "    <tr style=\"text-align: right;\">\n",
       "      <th></th>\n",
       "      <th>User_ID</th>\n",
       "      <th>Age</th>\n",
       "      <th>Gender</th>\n",
       "      <th>Platform</th>\n",
       "      <th>Daily_Usage_Time (minutes)</th>\n",
       "      <th>Posts_Per_Day</th>\n",
       "      <th>Likes_Received_Per_Day</th>\n",
       "      <th>Comments_Received_Per_Day</th>\n",
       "      <th>Messages_Sent_Per_Day</th>\n",
       "      <th>Dominant_Emotion</th>\n",
       "    </tr>\n",
       "  </thead>\n",
       "  <tbody>\n",
       "    <tr>\n",
       "      <th>0</th>\n",
       "      <td>10</td>\n",
       "      <td>31</td>\n",
       "      <td>Male</td>\n",
       "      <td>Instagram</td>\n",
       "      <td>170</td>\n",
       "      <td>5</td>\n",
       "      <td>80</td>\n",
       "      <td>20</td>\n",
       "      <td>35</td>\n",
       "      <td>Happiness</td>\n",
       "    </tr>\n",
       "    <tr>\n",
       "      <th>1</th>\n",
       "      <td>877</td>\n",
       "      <td>32</td>\n",
       "      <td>Female</td>\n",
       "      <td>Instagram</td>\n",
       "      <td>155</td>\n",
       "      <td>6</td>\n",
       "      <td>75</td>\n",
       "      <td>25</td>\n",
       "      <td>38</td>\n",
       "      <td>Happiness</td>\n",
       "    </tr>\n",
       "    <tr>\n",
       "      <th>2</th>\n",
       "      <td>230</td>\n",
       "      <td>26</td>\n",
       "      <td>Non-binary</td>\n",
       "      <td>Facebook</td>\n",
       "      <td>45</td>\n",
       "      <td>1</td>\n",
       "      <td>8</td>\n",
       "      <td>4</td>\n",
       "      <td>12</td>\n",
       "      <td>Sadness</td>\n",
       "    </tr>\n",
       "    <tr>\n",
       "      <th>3</th>\n",
       "      <td>876</td>\n",
       "      <td>28</td>\n",
       "      <td>Non-binary</td>\n",
       "      <td>Snapchat</td>\n",
       "      <td>115</td>\n",
       "      <td>3</td>\n",
       "      <td>38</td>\n",
       "      <td>18</td>\n",
       "      <td>27</td>\n",
       "      <td>Anxiety</td>\n",
       "    </tr>\n",
       "    <tr>\n",
       "      <th>4</th>\n",
       "      <td>376</td>\n",
       "      <td>28</td>\n",
       "      <td>Non-binary</td>\n",
       "      <td>Snapchat</td>\n",
       "      <td>115</td>\n",
       "      <td>3</td>\n",
       "      <td>38</td>\n",
       "      <td>18</td>\n",
       "      <td>27</td>\n",
       "      <td>Anxiety</td>\n",
       "    </tr>\n",
       "  </tbody>\n",
       "</table>\n",
       "</div>"
      ],
      "text/plain": [
       "   User_ID Age      Gender   Platform  Daily_Usage_Time (minutes)  \\\n",
       "0       10  31        Male  Instagram                         170   \n",
       "1      877  32      Female  Instagram                         155   \n",
       "2      230  26  Non-binary   Facebook                          45   \n",
       "3      876  28  Non-binary   Snapchat                         115   \n",
       "4      376  28  Non-binary   Snapchat                         115   \n",
       "\n",
       "   Posts_Per_Day  Likes_Received_Per_Day  Comments_Received_Per_Day  \\\n",
       "0              5                      80                         20   \n",
       "1              6                      75                         25   \n",
       "2              1                       8                          4   \n",
       "3              3                      38                         18   \n",
       "4              3                      38                         18   \n",
       "\n",
       "  Messages_Sent_Per_Day Dominant_Emotion  \n",
       "0                    35        Happiness  \n",
       "1                    38        Happiness  \n",
       "2                    12          Sadness  \n",
       "3                    27          Anxiety  \n",
       "4                    27          Anxiety  "
      ]
     },
     "metadata": {},
     "output_type": "display_data"
    },
    {
     "name": "stdout",
     "output_type": "stream",
     "text": [
      "---------------------------------------------------------------------------------------------------\n",
      "Test data:\n"
     ]
    },
    {
     "data": {
      "text/html": [
       "<div>\n",
       "<style scoped>\n",
       "    .dataframe tbody tr th:only-of-type {\n",
       "        vertical-align: middle;\n",
       "    }\n",
       "\n",
       "    .dataframe tbody tr th {\n",
       "        vertical-align: top;\n",
       "    }\n",
       "\n",
       "    .dataframe thead th {\n",
       "        text-align: right;\n",
       "    }\n",
       "</style>\n",
       "<table border=\"1\" class=\"dataframe\">\n",
       "  <thead>\n",
       "    <tr style=\"text-align: right;\">\n",
       "      <th></th>\n",
       "      <th>User_ID</th>\n",
       "      <th>Age</th>\n",
       "      <th>Gender</th>\n",
       "      <th>Platform</th>\n",
       "      <th>Daily_Usage_Time (minutes)</th>\n",
       "      <th>Posts_Per_Day</th>\n",
       "      <th>Likes_Received_Per_Day</th>\n",
       "      <th>Comments_Received_Per_Day</th>\n",
       "      <th>Messages_Sent_Per_Day</th>\n",
       "      <th>Dominant_Emotion</th>\n",
       "    </tr>\n",
       "  </thead>\n",
       "  <tbody>\n",
       "    <tr>\n",
       "      <th>0</th>\n",
       "      <td>500</td>\n",
       "      <td>27</td>\n",
       "      <td>Female</td>\n",
       "      <td>Snapchat</td>\n",
       "      <td>120</td>\n",
       "      <td>4</td>\n",
       "      <td>40</td>\n",
       "      <td>18</td>\n",
       "      <td>22</td>\n",
       "      <td>Neutral</td>\n",
       "    </tr>\n",
       "    <tr>\n",
       "      <th>1</th>\n",
       "      <td>488</td>\n",
       "      <td>21</td>\n",
       "      <td>Non-binary</td>\n",
       "      <td>Snapchat</td>\n",
       "      <td>60</td>\n",
       "      <td>1</td>\n",
       "      <td>18</td>\n",
       "      <td>7</td>\n",
       "      <td>12</td>\n",
       "      <td>Neutral</td>\n",
       "    </tr>\n",
       "    <tr>\n",
       "      <th>2</th>\n",
       "      <td>776</td>\n",
       "      <td>28</td>\n",
       "      <td>Non-binary</td>\n",
       "      <td>Snapchat</td>\n",
       "      <td>115</td>\n",
       "      <td>3</td>\n",
       "      <td>38</td>\n",
       "      <td>18</td>\n",
       "      <td>27</td>\n",
       "      <td>Anxiety</td>\n",
       "    </tr>\n",
       "    <tr>\n",
       "      <th>3</th>\n",
       "      <td>869</td>\n",
       "      <td>27</td>\n",
       "      <td>Male</td>\n",
       "      <td>Telegram</td>\n",
       "      <td>105</td>\n",
       "      <td>3</td>\n",
       "      <td>48</td>\n",
       "      <td>20</td>\n",
       "      <td>28</td>\n",
       "      <td>Anxiety</td>\n",
       "    </tr>\n",
       "    <tr>\n",
       "      <th>4</th>\n",
       "      <td>573</td>\n",
       "      <td>21</td>\n",
       "      <td>Non-binary</td>\n",
       "      <td>Facebook</td>\n",
       "      <td>55</td>\n",
       "      <td>3</td>\n",
       "      <td>17</td>\n",
       "      <td>7</td>\n",
       "      <td>12</td>\n",
       "      <td>Neutral</td>\n",
       "    </tr>\n",
       "  </tbody>\n",
       "</table>\n",
       "</div>"
      ],
      "text/plain": [
       "   User_ID Age      Gender  Platform  Daily_Usage_Time (minutes)  \\\n",
       "0      500  27      Female  Snapchat                         120   \n",
       "1      488  21  Non-binary  Snapchat                          60   \n",
       "2      776  28  Non-binary  Snapchat                         115   \n",
       "3      869  27        Male  Telegram                         105   \n",
       "4      573  21  Non-binary  Facebook                          55   \n",
       "\n",
       "   Posts_Per_Day  Likes_Received_Per_Day  Comments_Received_Per_Day  \\\n",
       "0              4                      40                         18   \n",
       "1              1                      18                          7   \n",
       "2              3                      38                         18   \n",
       "3              3                      48                         20   \n",
       "4              3                      17                          7   \n",
       "\n",
       "   Messages_Sent_Per_Day Dominant_Emotion  \n",
       "0                     22          Neutral  \n",
       "1                     12          Neutral  \n",
       "2                     27          Anxiety  \n",
       "3                     28          Anxiety  \n",
       "4                     12          Neutral  "
      ]
     },
     "metadata": {},
     "output_type": "display_data"
    }
   ],
   "source": [
    "# Take a look at the data\n",
    "print(\"Training data:\")\n",
    "display(train_df.head())\n",
    "print(\"---------------------------------------------------------------------------------------------------\")\n",
    "print(\"Validation data:\")\n",
    "display(val_df.head())\n",
    "print(\"---------------------------------------------------------------------------------------------------\")\n",
    "print(\"Test data:\")\n",
    "display(test_df.head())"
   ]
  },
  {
   "cell_type": "code",
   "execution_count": 21,
   "metadata": {},
   "outputs": [
    {
     "name": "stdout",
     "output_type": "stream",
     "text": [
      "Training data Info:\n",
      "<class 'pandas.core.frame.DataFrame'>\n",
      "RangeIndex: 1001 entries, 0 to 1000\n",
      "Data columns (total 10 columns):\n",
      " #   Column                      Non-Null Count  Dtype  \n",
      "---  ------                      --------------  -----  \n",
      " 0   User_ID                     1001 non-null   object \n",
      " 1   Age                         1001 non-null   object \n",
      " 2   Gender                      1000 non-null   object \n",
      " 3   Platform                    1000 non-null   object \n",
      " 4   Daily_Usage_Time (minutes)  1000 non-null   float64\n",
      " 5   Posts_Per_Day               1000 non-null   float64\n",
      " 6   Likes_Received_Per_Day      1000 non-null   float64\n",
      " 7   Comments_Received_Per_Day   1000 non-null   float64\n",
      " 8   Messages_Sent_Per_Day       1000 non-null   float64\n",
      " 9   Dominant_Emotion            1000 non-null   object \n",
      "dtypes: float64(5), object(5)\n",
      "memory usage: 78.3+ KB\n"
     ]
    }
   ],
   "source": [
    "# Training Data info\n",
    "print(\"Training data Info:\")\n",
    "train_df.info()"
   ]
  },
  {
   "cell_type": "code",
   "execution_count": 22,
   "metadata": {},
   "outputs": [
    {
     "name": "stdout",
     "output_type": "stream",
     "text": [
      "There are 1001 rows and 10 columns in the training data.\n",
      "There are 145 rows and 10 columns in the validation data.\n",
      "There are 103 rows and 10 columns in the test data.\n"
     ]
    }
   ],
   "source": [
    "# Shape of training data, validation data, and test data\n",
    "print(f'There are {train_df.shape[0]} rows and {train_df.shape[1]} columns in the training data.')\n",
    "print(f'There are {val_df.shape[0]} rows and {val_df.shape[1]} columns in the validation data.')\n",
    "print(f'There are {test_df.shape[0]} rows and {test_df.shape[1]} columns in the test data.')"
   ]
  },
  {
   "cell_type": "code",
   "execution_count": 23,
   "metadata": {},
   "outputs": [
    {
     "name": "stdout",
     "output_type": "stream",
     "text": [
      "Traning data:\n"
     ]
    },
    {
     "data": {
      "text/plain": [
       "User_ID                       0\n",
       "Age                           0\n",
       "Gender                        1\n",
       "Platform                      1\n",
       "Daily_Usage_Time (minutes)    1\n",
       "Posts_Per_Day                 1\n",
       "Likes_Received_Per_Day        1\n",
       "Comments_Received_Per_Day     1\n",
       "Messages_Sent_Per_Day         1\n",
       "Dominant_Emotion              1\n",
       "dtype: int64"
      ]
     },
     "metadata": {},
     "output_type": "display_data"
    },
    {
     "name": "stdout",
     "output_type": "stream",
     "text": [
      "There are 8 null values in the training data.\n",
      "------------------------------------------------------------------------------\n",
      "Validation data:\n"
     ]
    },
    {
     "data": {
      "text/plain": [
       "User_ID                       0\n",
       "Age                           0\n",
       "Gender                        0\n",
       "Platform                      0\n",
       "Daily_Usage_Time (minutes)    0\n",
       "Posts_Per_Day                 0\n",
       "Likes_Received_Per_Day        0\n",
       "Comments_Received_Per_Day     0\n",
       "Messages_Sent_Per_Day         0\n",
       "Dominant_Emotion              1\n",
       "dtype: int64"
      ]
     },
     "metadata": {},
     "output_type": "display_data"
    },
    {
     "name": "stdout",
     "output_type": "stream",
     "text": [
      "There are 1 null values in the validation data.\n",
      "------------------------------------------------------------------------------\n",
      "Test data:\n"
     ]
    },
    {
     "data": {
      "text/plain": [
       "User_ID                       0\n",
       "Age                           0\n",
       "Gender                        0\n",
       "Platform                      0\n",
       "Daily_Usage_Time (minutes)    0\n",
       "Posts_Per_Day                 0\n",
       "Likes_Received_Per_Day        0\n",
       "Comments_Received_Per_Day     0\n",
       "Messages_Sent_Per_Day         0\n",
       "Dominant_Emotion              0\n",
       "dtype: int64"
      ]
     },
     "metadata": {},
     "output_type": "display_data"
    },
    {
     "name": "stdout",
     "output_type": "stream",
     "text": [
      "There are 0 null values in the test data.\n"
     ]
    }
   ],
   "source": [
    "# Check for null values:\n",
    "print(\"Traning data:\")\n",
    "display(train_df.isnull().sum())\n",
    "print(f'There are {train_df.isnull().sum().sum()} null values in the training data.')\n",
    "print(\"------------------------------------------------------------------------------\")\n",
    "print(\"Validation data:\")\n",
    "display(val_df.isnull().sum())\n",
    "print(f'There are {val_df.isnull().sum().sum()} null values in the validation data.')\n",
    "print(\"------------------------------------------------------------------------------\")\n",
    "print(\"Test data:\")\n",
    "display(test_df.isnull().sum())\n",
    "print(f'There are {test_df.isnull().sum().sum()} null values in the test data.')"
   ]
  },
  {
   "cell_type": "markdown",
   "metadata": {},
   "source": [
    "## **Exploratory Data Analysis (EDA)**"
   ]
  },
  {
   "cell_type": "code",
   "execution_count": 24,
   "metadata": {},
   "outputs": [
    {
     "data": {
      "text/html": [
       "<div>\n",
       "<style scoped>\n",
       "    .dataframe tbody tr th:only-of-type {\n",
       "        vertical-align: middle;\n",
       "    }\n",
       "\n",
       "    .dataframe tbody tr th {\n",
       "        vertical-align: top;\n",
       "    }\n",
       "\n",
       "    .dataframe thead th {\n",
       "        text-align: right;\n",
       "    }\n",
       "</style>\n",
       "<table border=\"1\" class=\"dataframe\">\n",
       "  <thead>\n",
       "    <tr style=\"text-align: right;\">\n",
       "      <th></th>\n",
       "      <th>User_ID</th>\n",
       "      <th>Age</th>\n",
       "      <th>Gender</th>\n",
       "      <th>Platform</th>\n",
       "      <th>Daily_Usage_Time (minutes)</th>\n",
       "      <th>Posts_Per_Day</th>\n",
       "      <th>Likes_Received_Per_Day</th>\n",
       "      <th>Comments_Received_Per_Day</th>\n",
       "      <th>Messages_Sent_Per_Day</th>\n",
       "      <th>Dominant_Emotion</th>\n",
       "    </tr>\n",
       "  </thead>\n",
       "  <tbody>\n",
       "    <tr>\n",
       "      <th>0</th>\n",
       "      <td>1</td>\n",
       "      <td>25</td>\n",
       "      <td>Female</td>\n",
       "      <td>Instagram</td>\n",
       "      <td>120.0</td>\n",
       "      <td>3.0</td>\n",
       "      <td>45.0</td>\n",
       "      <td>10.0</td>\n",
       "      <td>12.0</td>\n",
       "      <td>Happiness</td>\n",
       "    </tr>\n",
       "    <tr>\n",
       "      <th>1</th>\n",
       "      <td>2</td>\n",
       "      <td>30</td>\n",
       "      <td>Male</td>\n",
       "      <td>Twitter</td>\n",
       "      <td>90.0</td>\n",
       "      <td>5.0</td>\n",
       "      <td>20.0</td>\n",
       "      <td>25.0</td>\n",
       "      <td>30.0</td>\n",
       "      <td>Anger</td>\n",
       "    </tr>\n",
       "    <tr>\n",
       "      <th>2</th>\n",
       "      <td>3</td>\n",
       "      <td>22</td>\n",
       "      <td>Non-binary</td>\n",
       "      <td>Facebook</td>\n",
       "      <td>60.0</td>\n",
       "      <td>2.0</td>\n",
       "      <td>15.0</td>\n",
       "      <td>5.0</td>\n",
       "      <td>20.0</td>\n",
       "      <td>Neutral</td>\n",
       "    </tr>\n",
       "    <tr>\n",
       "      <th>3</th>\n",
       "      <td>4</td>\n",
       "      <td>28</td>\n",
       "      <td>Female</td>\n",
       "      <td>Instagram</td>\n",
       "      <td>200.0</td>\n",
       "      <td>8.0</td>\n",
       "      <td>100.0</td>\n",
       "      <td>30.0</td>\n",
       "      <td>50.0</td>\n",
       "      <td>Anxiety</td>\n",
       "    </tr>\n",
       "    <tr>\n",
       "      <th>4</th>\n",
       "      <td>5</td>\n",
       "      <td>33</td>\n",
       "      <td>Male</td>\n",
       "      <td>LinkedIn</td>\n",
       "      <td>45.0</td>\n",
       "      <td>1.0</td>\n",
       "      <td>5.0</td>\n",
       "      <td>2.0</td>\n",
       "      <td>10.0</td>\n",
       "      <td>Boredom</td>\n",
       "    </tr>\n",
       "  </tbody>\n",
       "</table>\n",
       "</div>"
      ],
      "text/plain": [
       "  User_ID Age      Gender   Platform  Daily_Usage_Time (minutes)  \\\n",
       "0       1  25      Female  Instagram                       120.0   \n",
       "1       2  30        Male    Twitter                        90.0   \n",
       "2       3  22  Non-binary   Facebook                        60.0   \n",
       "3       4  28      Female  Instagram                       200.0   \n",
       "4       5  33        Male   LinkedIn                        45.0   \n",
       "\n",
       "   Posts_Per_Day  Likes_Received_Per_Day  Comments_Received_Per_Day  \\\n",
       "0            3.0                    45.0                       10.0   \n",
       "1            5.0                    20.0                       25.0   \n",
       "2            2.0                    15.0                        5.0   \n",
       "3            8.0                   100.0                       30.0   \n",
       "4            1.0                     5.0                        2.0   \n",
       "\n",
       "   Messages_Sent_Per_Day Dominant_Emotion  \n",
       "0                   12.0        Happiness  \n",
       "1                   30.0            Anger  \n",
       "2                   20.0          Neutral  \n",
       "3                   50.0          Anxiety  \n",
       "4                   10.0          Boredom  "
      ]
     },
     "execution_count": 24,
     "metadata": {},
     "output_type": "execute_result"
    }
   ],
   "source": [
    "train_df.head()"
   ]
  },
  {
   "cell_type": "code",
   "execution_count": 25,
   "metadata": {},
   "outputs": [
    {
     "data": {
      "text/plain": [
       "Index(['User_ID', 'Age', 'Gender', 'Platform', 'Daily_Usage_Time (minutes)',\n",
       "       'Posts_Per_Day', 'Likes_Received_Per_Day', 'Comments_Received_Per_Day',\n",
       "       'Messages_Sent_Per_Day', 'Dominant_Emotion'],\n",
       "      dtype='object')"
      ]
     },
     "execution_count": 25,
     "metadata": {},
     "output_type": "execute_result"
    }
   ],
   "source": [
    "# List of columns in the traning data\n",
    "train_df.columns"
   ]
  },
  {
   "cell_type": "code",
   "execution_count": 26,
   "metadata": {},
   "outputs": [
    {
     "data": {
      "text/html": [
       "<div>\n",
       "<style scoped>\n",
       "    .dataframe tbody tr th:only-of-type {\n",
       "        vertical-align: middle;\n",
       "    }\n",
       "\n",
       "    .dataframe tbody tr th {\n",
       "        vertical-align: top;\n",
       "    }\n",
       "\n",
       "    .dataframe thead th {\n",
       "        text-align: right;\n",
       "    }\n",
       "</style>\n",
       "<table border=\"1\" class=\"dataframe\">\n",
       "  <thead>\n",
       "    <tr style=\"text-align: right;\">\n",
       "      <th></th>\n",
       "      <th>Daily_Usage_Time (minutes)</th>\n",
       "      <th>Posts_Per_Day</th>\n",
       "      <th>Likes_Received_Per_Day</th>\n",
       "      <th>Comments_Received_Per_Day</th>\n",
       "      <th>Messages_Sent_Per_Day</th>\n",
       "    </tr>\n",
       "  </thead>\n",
       "  <tbody>\n",
       "    <tr>\n",
       "      <th>count</th>\n",
       "      <td>1000.000000</td>\n",
       "      <td>1000.000000</td>\n",
       "      <td>1000.000000</td>\n",
       "      <td>1000.000000</td>\n",
       "      <td>1000.000000</td>\n",
       "    </tr>\n",
       "    <tr>\n",
       "      <th>mean</th>\n",
       "      <td>95.950000</td>\n",
       "      <td>3.321000</td>\n",
       "      <td>39.898000</td>\n",
       "      <td>15.611000</td>\n",
       "      <td>22.560000</td>\n",
       "    </tr>\n",
       "    <tr>\n",
       "      <th>std</th>\n",
       "      <td>38.850442</td>\n",
       "      <td>1.914582</td>\n",
       "      <td>26.393867</td>\n",
       "      <td>8.819493</td>\n",
       "      <td>8.516274</td>\n",
       "    </tr>\n",
       "    <tr>\n",
       "      <th>min</th>\n",
       "      <td>40.000000</td>\n",
       "      <td>1.000000</td>\n",
       "      <td>5.000000</td>\n",
       "      <td>2.000000</td>\n",
       "      <td>8.000000</td>\n",
       "    </tr>\n",
       "    <tr>\n",
       "      <th>25%</th>\n",
       "      <td>65.000000</td>\n",
       "      <td>2.000000</td>\n",
       "      <td>20.000000</td>\n",
       "      <td>8.000000</td>\n",
       "      <td>17.750000</td>\n",
       "    </tr>\n",
       "    <tr>\n",
       "      <th>50%</th>\n",
       "      <td>85.000000</td>\n",
       "      <td>3.000000</td>\n",
       "      <td>33.000000</td>\n",
       "      <td>14.000000</td>\n",
       "      <td>22.000000</td>\n",
       "    </tr>\n",
       "    <tr>\n",
       "      <th>75%</th>\n",
       "      <td>120.000000</td>\n",
       "      <td>4.000000</td>\n",
       "      <td>55.000000</td>\n",
       "      <td>22.000000</td>\n",
       "      <td>28.000000</td>\n",
       "    </tr>\n",
       "    <tr>\n",
       "      <th>max</th>\n",
       "      <td>200.000000</td>\n",
       "      <td>8.000000</td>\n",
       "      <td>110.000000</td>\n",
       "      <td>40.000000</td>\n",
       "      <td>50.000000</td>\n",
       "    </tr>\n",
       "  </tbody>\n",
       "</table>\n",
       "</div>"
      ],
      "text/plain": [
       "       Daily_Usage_Time (minutes)  Posts_Per_Day  Likes_Received_Per_Day  \\\n",
       "count                 1000.000000    1000.000000             1000.000000   \n",
       "mean                    95.950000       3.321000               39.898000   \n",
       "std                     38.850442       1.914582               26.393867   \n",
       "min                     40.000000       1.000000                5.000000   \n",
       "25%                     65.000000       2.000000               20.000000   \n",
       "50%                     85.000000       3.000000               33.000000   \n",
       "75%                    120.000000       4.000000               55.000000   \n",
       "max                    200.000000       8.000000              110.000000   \n",
       "\n",
       "       Comments_Received_Per_Day  Messages_Sent_Per_Day  \n",
       "count                1000.000000            1000.000000  \n",
       "mean                   15.611000              22.560000  \n",
       "std                     8.819493               8.516274  \n",
       "min                     2.000000               8.000000  \n",
       "25%                     8.000000              17.750000  \n",
       "50%                    14.000000              22.000000  \n",
       "75%                    22.000000              28.000000  \n",
       "max                    40.000000              50.000000  "
      ]
     },
     "execution_count": 26,
     "metadata": {},
     "output_type": "execute_result"
    }
   ],
   "source": [
    "train_df.describe()"
   ]
  },
  {
   "cell_type": "markdown",
   "metadata": {},
   "source": [
    "### **Age Distribution**"
   ]
  },
  {
   "cell_type": "code",
   "execution_count": 27,
   "metadata": {},
   "outputs": [
    {
     "data": {
      "text/plain": [
       "0"
      ]
     },
     "execution_count": 27,
     "metadata": {},
     "output_type": "execute_result"
    }
   ],
   "source": [
    "train_df['Age'].isnull().sum()"
   ]
  },
  {
   "cell_type": "code",
   "execution_count": 28,
   "metadata": {},
   "outputs": [
    {
     "data": {
      "text/plain": [
       "Age\n",
       "28                                                      0.091908\n",
       "27                                                      0.091908\n",
       "29                                                      0.089910\n",
       "22                                                      0.073926\n",
       "26                                                      0.065934\n",
       "25                                                      0.063936\n",
       "24                                                      0.063936\n",
       "31                                                      0.061938\n",
       "21                                                      0.055944\n",
       "33                                                      0.055944\n",
       "30                                                      0.047952\n",
       "23                                                      0.047952\n",
       "35                                                      0.037962\n",
       "32                                                      0.037962\n",
       "34                                                      0.035964\n",
       "Male                                                    0.027972\n",
       "Female                                                  0.025974\n",
       "Non-binary                                              0.021978\n",
       " işte mevcut veri kümesini 1000 satıra tamamlıyorum:    0.000999\n",
       "Name: proportion, dtype: float64"
      ]
     },
     "execution_count": 28,
     "metadata": {},
     "output_type": "execute_result"
    }
   ],
   "source": [
    "train_df['Age'].value_counts(normalize = True)"
   ]
  },
  {
   "cell_type": "markdown",
   "metadata": {},
   "source": [
    "We have 4 irrigular values: Male, Female, Non-binary and Other"
   ]
  },
  {
   "cell_type": "code",
   "execution_count": 29,
   "metadata": {},
   "outputs": [
    {
     "name": "stderr",
     "output_type": "stream",
     "text": [
      "C:\\Users\\LENOVO\\AppData\\Local\\Temp/ipykernel_7600/715671427.py:7: FutureWarning: A value is trying to be set on a copy of a DataFrame or Series through chained assignment using an inplace method.\n",
      "The behavior will change in pandas 3.0. This inplace method will never work because the intermediate object on which we are setting values always behaves as a copy.\n",
      "\n",
      "For example, when doing 'df[col].method(value, inplace=True)', try using 'df.method({col: value}, inplace=True)' or df[col] = df[col].method(value) instead, to perform the operation inplace on the original object.\n",
      "\n",
      "\n",
      "  train_df['Age'].fillna(train_df['Age'].median(), inplace=True)\n"
     ]
    }
   ],
   "source": [
    "# removing the Male, Female, Non-binary, and işte mevcut veri kümesini 1000 satıra tamamlıyorum:\n",
    "\n",
    "# Replace non-numeric values with Nan\n",
    "train_df['Age'] = pd.to_numeric(train_df['Age'], errors = 'coerce')\n",
    "\n",
    "# Handle Nan values\n",
    "train_df['Age'].fillna(train_df['Age'].median(), inplace=True)"
   ]
  },
  {
   "cell_type": "code",
   "execution_count": 30,
   "metadata": {},
   "outputs": [
    {
     "data": {
      "text/plain": [
       "array([25., 30., 22., 28., 33., 21., 27., 24., 29., 31., 23., 26., 34.,\n",
       "       35., 32.])"
      ]
     },
     "execution_count": 30,
     "metadata": {},
     "output_type": "execute_result"
    }
   ],
   "source": [
    "train_df['Age'].unique()"
   ]
  },
  {
   "cell_type": "code",
   "execution_count": 37,
   "metadata": {},
   "outputs": [
    {
     "data": {
      "application/vnd.plotly.v1+json": {
       "config": {
        "plotlyServerURL": "https://plot.ly"
       },
       "data": [
        {
         "alignmentgroup": "True",
         "bingroup": "x",
         "hovertemplate": "Age=%{x}<br>count=%{y}<extra></extra>",
         "legendgroup": "",
         "marker": {
          "color": "#636efa",
          "pattern": {
           "shape": ""
          }
         },
         "name": "",
         "offsetgroup": "",
         "orientation": "v",
         "showlegend": false,
         "type": "histogram",
         "x": [
          25,
          30,
          22,
          28,
          33,
          21,
          27,
          24,
          29,
          31,
          23,
          26,
          34,
          22,
          28,
          21,
          35,
          27,
          23,
          32,
          26,
          24,
          29,
          33,
          22,
          31,
          27,
          25,
          30,
          26,
          34,
          28,
          23,
          21,
          29,
          24,
          33,
          27,
          22,
          28,
          31,
          25,
          29,
          23,
          35,
          30,
          21,
          26,
          32,
          28,
          27,
          24,
          29,
          33,
          31,
          22,
          25,
          29,
          28,
          27,
          30,
          23,
          34,
          26,
          25,
          29,
          28,
          31,
          27,
          22,
          24,
          35,
          21,
          29,
          25,
          28,
          32,
          26,
          33,
          27,
          31,
          24,
          34,
          22,
          29,
          28,
          31,
          21,
          25,
          30,
          27,
          32,
          24,
          29,
          26,
          33,
          22,
          35,
          28,
          27,
          25,
          30,
          22,
          28,
          33,
          21,
          27,
          24,
          29,
          31,
          23,
          26,
          34,
          22,
          28,
          21,
          35,
          27,
          23,
          32,
          26,
          24,
          29,
          33,
          22,
          31,
          27,
          25,
          30,
          26,
          34,
          28,
          23,
          21,
          29,
          24,
          33,
          27,
          22,
          28,
          31,
          25,
          29,
          23,
          35,
          30,
          21,
          26,
          32,
          28,
          27,
          24,
          29,
          33,
          31,
          22,
          25,
          29,
          28,
          27,
          30,
          23,
          34,
          26,
          25,
          29,
          28,
          31,
          27,
          22,
          24,
          35,
          21,
          29,
          25,
          28,
          32,
          26,
          33,
          27,
          31,
          24,
          34,
          22,
          29,
          28,
          31,
          21,
          25,
          30,
          27,
          32,
          24,
          29,
          26,
          33,
          22,
          35,
          28,
          27,
          25,
          30,
          22,
          28,
          33,
          21,
          27,
          24,
          29,
          31,
          23,
          26,
          34,
          22,
          28,
          21,
          35,
          27,
          23,
          32,
          26,
          24,
          29,
          33,
          22,
          31,
          27,
          25,
          30,
          26,
          34,
          28,
          23,
          21,
          29,
          24,
          33,
          27,
          22,
          28,
          31,
          25,
          29,
          23,
          35,
          30,
          21,
          26,
          32,
          28,
          27,
          27,
          27,
          27,
          27,
          27,
          27,
          27,
          27,
          27,
          27,
          27,
          27,
          27,
          27,
          27,
          27,
          27,
          27,
          27,
          27,
          27,
          27,
          27,
          27,
          27,
          27,
          27,
          27,
          27,
          27,
          27,
          27,
          27,
          27,
          27,
          27,
          27,
          25,
          30,
          27,
          32,
          24,
          29,
          26,
          33,
          22,
          35,
          28,
          27,
          25,
          30,
          22,
          28,
          33,
          21,
          27,
          24,
          29,
          31,
          23,
          26,
          34,
          22,
          28,
          21,
          35,
          27,
          23,
          32,
          26,
          24,
          29,
          33,
          22,
          31,
          27,
          25,
          30,
          26,
          34,
          28,
          23,
          21,
          29,
          24,
          33,
          27,
          22,
          28,
          31,
          25,
          29,
          23,
          35,
          30,
          21,
          26,
          32,
          28,
          27,
          24,
          29,
          33,
          31,
          22,
          25,
          29,
          28,
          27,
          30,
          23,
          34,
          26,
          25,
          29,
          28,
          31,
          27,
          22,
          24,
          35,
          21,
          29,
          25,
          28,
          32,
          26,
          33,
          27,
          31,
          24,
          34,
          22,
          29,
          28,
          31,
          21,
          25,
          30,
          27,
          32,
          24,
          29,
          26,
          33,
          22,
          35,
          28,
          27,
          25,
          30,
          22,
          28,
          33,
          21,
          27,
          24,
          29,
          31,
          23,
          26,
          34,
          22,
          28,
          21,
          35,
          27,
          23,
          32,
          26,
          24,
          29,
          33,
          22,
          31,
          27,
          25,
          30,
          26,
          34,
          28,
          23,
          21,
          29,
          24,
          33,
          27,
          22,
          28,
          31,
          25,
          29,
          23,
          35,
          30,
          21,
          26,
          32,
          28,
          27,
          24,
          29,
          33,
          31,
          22,
          25,
          29,
          28,
          27,
          30,
          23,
          34,
          26,
          25,
          29,
          28,
          31,
          27,
          22,
          24,
          35,
          21,
          29,
          25,
          28,
          32,
          26,
          33,
          27,
          31,
          24,
          34,
          22,
          29,
          28,
          31,
          21,
          25,
          30,
          27,
          32,
          24,
          29,
          26,
          33,
          22,
          35,
          28,
          27,
          25,
          30,
          22,
          28,
          33,
          21,
          27,
          24,
          29,
          31,
          23,
          26,
          34,
          22,
          28,
          21,
          35,
          27,
          23,
          32,
          26,
          24,
          29,
          33,
          22,
          31,
          27,
          25,
          30,
          26,
          34,
          28,
          23,
          21,
          29,
          24,
          33,
          27,
          22,
          28,
          31,
          25,
          29,
          23,
          35,
          30,
          21,
          26,
          32,
          28,
          27,
          24,
          29,
          33,
          31,
          22,
          25,
          29,
          28,
          27,
          30,
          23,
          34,
          26,
          25,
          29,
          28,
          31,
          27,
          22,
          24,
          35,
          21,
          29,
          25,
          28,
          32,
          26,
          33,
          27,
          31,
          24,
          34,
          22,
          29,
          28,
          31,
          21,
          25,
          30,
          27,
          32,
          24,
          29,
          26,
          33,
          22,
          35,
          28,
          27,
          25,
          30,
          22,
          28,
          33,
          21,
          27,
          24,
          29,
          31,
          23,
          26,
          34,
          22,
          28,
          21,
          35,
          27,
          23,
          32,
          26,
          24,
          29,
          33,
          22,
          31,
          27,
          25,
          30,
          26,
          34,
          28,
          23,
          21,
          29,
          24,
          33,
          27,
          22,
          28,
          31,
          27,
          25,
          29,
          23,
          35,
          30,
          21,
          26,
          32,
          28,
          27,
          24,
          29,
          33,
          31,
          22,
          25,
          29,
          28,
          27,
          30,
          23,
          34,
          26,
          25,
          29,
          28,
          31,
          27,
          22,
          24,
          35,
          21,
          29,
          25,
          28,
          32,
          26,
          33,
          27,
          31,
          24,
          34,
          22,
          29,
          28,
          31,
          21,
          25,
          30,
          27,
          32,
          24,
          29,
          26,
          33,
          22,
          35,
          28,
          27,
          25,
          30,
          22,
          28,
          33,
          21,
          27,
          24,
          29,
          31,
          23,
          26,
          34,
          22,
          28,
          21,
          35,
          27,
          23,
          32,
          26,
          24,
          29,
          33,
          22,
          31,
          27,
          25,
          30,
          26,
          34,
          28,
          23,
          21,
          29,
          24,
          33,
          27,
          22,
          28,
          31,
          25,
          29,
          23,
          35,
          30,
          21,
          26,
          32,
          28,
          27,
          27,
          27,
          27,
          27,
          27,
          27,
          27,
          27,
          27,
          27,
          27,
          27,
          27,
          27,
          27,
          27,
          27,
          27,
          27,
          27,
          27,
          27,
          27,
          27,
          27,
          27,
          27,
          27,
          27,
          27,
          27,
          27,
          27,
          27,
          27,
          27,
          27,
          25,
          30,
          27,
          32,
          24,
          29,
          26,
          33,
          22,
          35,
          28,
          27,
          25,
          30,
          22,
          28,
          33,
          21,
          27,
          24,
          29,
          31,
          23,
          26,
          34,
          22,
          28,
          21,
          35,
          27,
          23,
          32,
          26,
          24,
          29,
          33,
          22,
          31,
          27,
          25,
          30,
          26,
          34,
          28,
          23,
          21,
          29,
          24,
          33,
          27,
          22,
          28,
          31,
          25,
          29,
          23,
          35,
          30,
          21,
          26,
          32,
          28,
          27,
          24,
          29,
          33,
          31,
          22,
          25,
          29,
          28,
          27,
          30,
          23,
          34,
          26,
          25,
          29,
          28,
          31,
          27,
          22,
          24,
          35,
          21,
          29,
          25,
          28,
          32,
          26,
          33,
          27,
          31,
          24,
          34,
          22,
          29,
          28,
          31,
          21,
          25,
          30,
          27,
          32,
          24,
          29,
          26,
          33,
          22,
          35,
          28,
          27,
          25,
          30,
          22,
          28,
          33,
          21,
          27,
          24,
          29,
          31,
          23,
          26,
          34,
          22,
          28,
          21,
          35,
          27,
          23,
          32,
          26,
          24,
          29,
          33,
          22,
          31,
          27,
          25,
          30,
          26,
          34,
          28,
          23,
          21,
          29,
          24,
          33,
          27,
          22,
          28,
          31,
          25,
          29,
          23,
          35,
          30,
          21,
          26,
          32,
          28,
          27,
          24,
          29,
          33,
          31,
          22,
          25,
          29,
          28,
          27,
          30,
          23,
          34,
          26,
          25,
          29,
          28,
          31,
          27,
          22,
          24,
          35,
          21,
          29,
          25,
          28,
          32,
          26,
          33,
          27,
          31,
          24,
          34,
          22,
          29,
          28,
          31,
          21,
          25,
          30,
          27,
          32,
          24,
          29,
          26,
          33,
          22,
          35,
          28,
          27
         ],
         "xaxis": "x",
         "yaxis": "y"
        }
       ],
       "layout": {
        "barmode": "relative",
        "legend": {
         "tracegroupgap": 0
        },
        "template": {
         "data": {
          "bar": [
           {
            "error_x": {
             "color": "#2a3f5f"
            },
            "error_y": {
             "color": "#2a3f5f"
            },
            "marker": {
             "line": {
              "color": "#E5ECF6",
              "width": 0.5
             },
             "pattern": {
              "fillmode": "overlay",
              "size": 10,
              "solidity": 0.2
             }
            },
            "type": "bar"
           }
          ],
          "barpolar": [
           {
            "marker": {
             "line": {
              "color": "#E5ECF6",
              "width": 0.5
             },
             "pattern": {
              "fillmode": "overlay",
              "size": 10,
              "solidity": 0.2
             }
            },
            "type": "barpolar"
           }
          ],
          "carpet": [
           {
            "aaxis": {
             "endlinecolor": "#2a3f5f",
             "gridcolor": "white",
             "linecolor": "white",
             "minorgridcolor": "white",
             "startlinecolor": "#2a3f5f"
            },
            "baxis": {
             "endlinecolor": "#2a3f5f",
             "gridcolor": "white",
             "linecolor": "white",
             "minorgridcolor": "white",
             "startlinecolor": "#2a3f5f"
            },
            "type": "carpet"
           }
          ],
          "choropleth": [
           {
            "colorbar": {
             "outlinewidth": 0,
             "ticks": ""
            },
            "type": "choropleth"
           }
          ],
          "contour": [
           {
            "colorbar": {
             "outlinewidth": 0,
             "ticks": ""
            },
            "colorscale": [
             [
              0,
              "#0d0887"
             ],
             [
              0.1111111111111111,
              "#46039f"
             ],
             [
              0.2222222222222222,
              "#7201a8"
             ],
             [
              0.3333333333333333,
              "#9c179e"
             ],
             [
              0.4444444444444444,
              "#bd3786"
             ],
             [
              0.5555555555555556,
              "#d8576b"
             ],
             [
              0.6666666666666666,
              "#ed7953"
             ],
             [
              0.7777777777777778,
              "#fb9f3a"
             ],
             [
              0.8888888888888888,
              "#fdca26"
             ],
             [
              1,
              "#f0f921"
             ]
            ],
            "type": "contour"
           }
          ],
          "contourcarpet": [
           {
            "colorbar": {
             "outlinewidth": 0,
             "ticks": ""
            },
            "type": "contourcarpet"
           }
          ],
          "heatmap": [
           {
            "colorbar": {
             "outlinewidth": 0,
             "ticks": ""
            },
            "colorscale": [
             [
              0,
              "#0d0887"
             ],
             [
              0.1111111111111111,
              "#46039f"
             ],
             [
              0.2222222222222222,
              "#7201a8"
             ],
             [
              0.3333333333333333,
              "#9c179e"
             ],
             [
              0.4444444444444444,
              "#bd3786"
             ],
             [
              0.5555555555555556,
              "#d8576b"
             ],
             [
              0.6666666666666666,
              "#ed7953"
             ],
             [
              0.7777777777777778,
              "#fb9f3a"
             ],
             [
              0.8888888888888888,
              "#fdca26"
             ],
             [
              1,
              "#f0f921"
             ]
            ],
            "type": "heatmap"
           }
          ],
          "heatmapgl": [
           {
            "colorbar": {
             "outlinewidth": 0,
             "ticks": ""
            },
            "colorscale": [
             [
              0,
              "#0d0887"
             ],
             [
              0.1111111111111111,
              "#46039f"
             ],
             [
              0.2222222222222222,
              "#7201a8"
             ],
             [
              0.3333333333333333,
              "#9c179e"
             ],
             [
              0.4444444444444444,
              "#bd3786"
             ],
             [
              0.5555555555555556,
              "#d8576b"
             ],
             [
              0.6666666666666666,
              "#ed7953"
             ],
             [
              0.7777777777777778,
              "#fb9f3a"
             ],
             [
              0.8888888888888888,
              "#fdca26"
             ],
             [
              1,
              "#f0f921"
             ]
            ],
            "type": "heatmapgl"
           }
          ],
          "histogram": [
           {
            "marker": {
             "pattern": {
              "fillmode": "overlay",
              "size": 10,
              "solidity": 0.2
             }
            },
            "type": "histogram"
           }
          ],
          "histogram2d": [
           {
            "colorbar": {
             "outlinewidth": 0,
             "ticks": ""
            },
            "colorscale": [
             [
              0,
              "#0d0887"
             ],
             [
              0.1111111111111111,
              "#46039f"
             ],
             [
              0.2222222222222222,
              "#7201a8"
             ],
             [
              0.3333333333333333,
              "#9c179e"
             ],
             [
              0.4444444444444444,
              "#bd3786"
             ],
             [
              0.5555555555555556,
              "#d8576b"
             ],
             [
              0.6666666666666666,
              "#ed7953"
             ],
             [
              0.7777777777777778,
              "#fb9f3a"
             ],
             [
              0.8888888888888888,
              "#fdca26"
             ],
             [
              1,
              "#f0f921"
             ]
            ],
            "type": "histogram2d"
           }
          ],
          "histogram2dcontour": [
           {
            "colorbar": {
             "outlinewidth": 0,
             "ticks": ""
            },
            "colorscale": [
             [
              0,
              "#0d0887"
             ],
             [
              0.1111111111111111,
              "#46039f"
             ],
             [
              0.2222222222222222,
              "#7201a8"
             ],
             [
              0.3333333333333333,
              "#9c179e"
             ],
             [
              0.4444444444444444,
              "#bd3786"
             ],
             [
              0.5555555555555556,
              "#d8576b"
             ],
             [
              0.6666666666666666,
              "#ed7953"
             ],
             [
              0.7777777777777778,
              "#fb9f3a"
             ],
             [
              0.8888888888888888,
              "#fdca26"
             ],
             [
              1,
              "#f0f921"
             ]
            ],
            "type": "histogram2dcontour"
           }
          ],
          "mesh3d": [
           {
            "colorbar": {
             "outlinewidth": 0,
             "ticks": ""
            },
            "type": "mesh3d"
           }
          ],
          "parcoords": [
           {
            "line": {
             "colorbar": {
              "outlinewidth": 0,
              "ticks": ""
             }
            },
            "type": "parcoords"
           }
          ],
          "pie": [
           {
            "automargin": true,
            "type": "pie"
           }
          ],
          "scatter": [
           {
            "fillpattern": {
             "fillmode": "overlay",
             "size": 10,
             "solidity": 0.2
            },
            "type": "scatter"
           }
          ],
          "scatter3d": [
           {
            "line": {
             "colorbar": {
              "outlinewidth": 0,
              "ticks": ""
             }
            },
            "marker": {
             "colorbar": {
              "outlinewidth": 0,
              "ticks": ""
             }
            },
            "type": "scatter3d"
           }
          ],
          "scattercarpet": [
           {
            "marker": {
             "colorbar": {
              "outlinewidth": 0,
              "ticks": ""
             }
            },
            "type": "scattercarpet"
           }
          ],
          "scattergeo": [
           {
            "marker": {
             "colorbar": {
              "outlinewidth": 0,
              "ticks": ""
             }
            },
            "type": "scattergeo"
           }
          ],
          "scattergl": [
           {
            "marker": {
             "colorbar": {
              "outlinewidth": 0,
              "ticks": ""
             }
            },
            "type": "scattergl"
           }
          ],
          "scattermapbox": [
           {
            "marker": {
             "colorbar": {
              "outlinewidth": 0,
              "ticks": ""
             }
            },
            "type": "scattermapbox"
           }
          ],
          "scatterpolar": [
           {
            "marker": {
             "colorbar": {
              "outlinewidth": 0,
              "ticks": ""
             }
            },
            "type": "scatterpolar"
           }
          ],
          "scatterpolargl": [
           {
            "marker": {
             "colorbar": {
              "outlinewidth": 0,
              "ticks": ""
             }
            },
            "type": "scatterpolargl"
           }
          ],
          "scatterternary": [
           {
            "marker": {
             "colorbar": {
              "outlinewidth": 0,
              "ticks": ""
             }
            },
            "type": "scatterternary"
           }
          ],
          "surface": [
           {
            "colorbar": {
             "outlinewidth": 0,
             "ticks": ""
            },
            "colorscale": [
             [
              0,
              "#0d0887"
             ],
             [
              0.1111111111111111,
              "#46039f"
             ],
             [
              0.2222222222222222,
              "#7201a8"
             ],
             [
              0.3333333333333333,
              "#9c179e"
             ],
             [
              0.4444444444444444,
              "#bd3786"
             ],
             [
              0.5555555555555556,
              "#d8576b"
             ],
             [
              0.6666666666666666,
              "#ed7953"
             ],
             [
              0.7777777777777778,
              "#fb9f3a"
             ],
             [
              0.8888888888888888,
              "#fdca26"
             ],
             [
              1,
              "#f0f921"
             ]
            ],
            "type": "surface"
           }
          ],
          "table": [
           {
            "cells": {
             "fill": {
              "color": "#EBF0F8"
             },
             "line": {
              "color": "white"
             }
            },
            "header": {
             "fill": {
              "color": "#C8D4E3"
             },
             "line": {
              "color": "white"
             }
            },
            "type": "table"
           }
          ]
         },
         "layout": {
          "annotationdefaults": {
           "arrowcolor": "#2a3f5f",
           "arrowhead": 0,
           "arrowwidth": 1
          },
          "autotypenumbers": "strict",
          "coloraxis": {
           "colorbar": {
            "outlinewidth": 0,
            "ticks": ""
           }
          },
          "colorscale": {
           "diverging": [
            [
             0,
             "#8e0152"
            ],
            [
             0.1,
             "#c51b7d"
            ],
            [
             0.2,
             "#de77ae"
            ],
            [
             0.3,
             "#f1b6da"
            ],
            [
             0.4,
             "#fde0ef"
            ],
            [
             0.5,
             "#f7f7f7"
            ],
            [
             0.6,
             "#e6f5d0"
            ],
            [
             0.7,
             "#b8e186"
            ],
            [
             0.8,
             "#7fbc41"
            ],
            [
             0.9,
             "#4d9221"
            ],
            [
             1,
             "#276419"
            ]
           ],
           "sequential": [
            [
             0,
             "#0d0887"
            ],
            [
             0.1111111111111111,
             "#46039f"
            ],
            [
             0.2222222222222222,
             "#7201a8"
            ],
            [
             0.3333333333333333,
             "#9c179e"
            ],
            [
             0.4444444444444444,
             "#bd3786"
            ],
            [
             0.5555555555555556,
             "#d8576b"
            ],
            [
             0.6666666666666666,
             "#ed7953"
            ],
            [
             0.7777777777777778,
             "#fb9f3a"
            ],
            [
             0.8888888888888888,
             "#fdca26"
            ],
            [
             1,
             "#f0f921"
            ]
           ],
           "sequentialminus": [
            [
             0,
             "#0d0887"
            ],
            [
             0.1111111111111111,
             "#46039f"
            ],
            [
             0.2222222222222222,
             "#7201a8"
            ],
            [
             0.3333333333333333,
             "#9c179e"
            ],
            [
             0.4444444444444444,
             "#bd3786"
            ],
            [
             0.5555555555555556,
             "#d8576b"
            ],
            [
             0.6666666666666666,
             "#ed7953"
            ],
            [
             0.7777777777777778,
             "#fb9f3a"
            ],
            [
             0.8888888888888888,
             "#fdca26"
            ],
            [
             1,
             "#f0f921"
            ]
           ]
          },
          "colorway": [
           "#636efa",
           "#EF553B",
           "#00cc96",
           "#ab63fa",
           "#FFA15A",
           "#19d3f3",
           "#FF6692",
           "#B6E880",
           "#FF97FF",
           "#FECB52"
          ],
          "font": {
           "color": "#2a3f5f"
          },
          "geo": {
           "bgcolor": "white",
           "lakecolor": "white",
           "landcolor": "#E5ECF6",
           "showlakes": true,
           "showland": true,
           "subunitcolor": "white"
          },
          "hoverlabel": {
           "align": "left"
          },
          "hovermode": "closest",
          "mapbox": {
           "style": "light"
          },
          "paper_bgcolor": "white",
          "plot_bgcolor": "#E5ECF6",
          "polar": {
           "angularaxis": {
            "gridcolor": "white",
            "linecolor": "white",
            "ticks": ""
           },
           "bgcolor": "#E5ECF6",
           "radialaxis": {
            "gridcolor": "white",
            "linecolor": "white",
            "ticks": ""
           }
          },
          "scene": {
           "xaxis": {
            "backgroundcolor": "#E5ECF6",
            "gridcolor": "white",
            "gridwidth": 2,
            "linecolor": "white",
            "showbackground": true,
            "ticks": "",
            "zerolinecolor": "white"
           },
           "yaxis": {
            "backgroundcolor": "#E5ECF6",
            "gridcolor": "white",
            "gridwidth": 2,
            "linecolor": "white",
            "showbackground": true,
            "ticks": "",
            "zerolinecolor": "white"
           },
           "zaxis": {
            "backgroundcolor": "#E5ECF6",
            "gridcolor": "white",
            "gridwidth": 2,
            "linecolor": "white",
            "showbackground": true,
            "ticks": "",
            "zerolinecolor": "white"
           }
          },
          "shapedefaults": {
           "line": {
            "color": "#2a3f5f"
           }
          },
          "ternary": {
           "aaxis": {
            "gridcolor": "white",
            "linecolor": "white",
            "ticks": ""
           },
           "baxis": {
            "gridcolor": "white",
            "linecolor": "white",
            "ticks": ""
           },
           "bgcolor": "#E5ECF6",
           "caxis": {
            "gridcolor": "white",
            "linecolor": "white",
            "ticks": ""
           }
          },
          "title": {
           "x": 0.05
          },
          "xaxis": {
           "automargin": true,
           "gridcolor": "white",
           "linecolor": "white",
           "ticks": "",
           "title": {
            "standoff": 15
           },
           "zerolinecolor": "white",
           "zerolinewidth": 2
          },
          "yaxis": {
           "automargin": true,
           "gridcolor": "white",
           "linecolor": "white",
           "ticks": "",
           "title": {
            "standoff": 15
           },
           "zerolinecolor": "white",
           "zerolinewidth": 2
          }
         }
        },
        "title": {
         "text": "Age Distribution"
        },
        "xaxis": {
         "anchor": "y",
         "domain": [
          0,
          1
         ],
         "title": {
          "text": "Age"
         }
        },
        "yaxis": {
         "anchor": "x",
         "domain": [
          0,
          1
         ],
         "title": {
          "text": "count"
         }
        }
       }
      }
     },
     "metadata": {},
     "output_type": "display_data"
    }
   ],
   "source": [
    "plt = px.histogram(train_df, x = 'Age', title = 'Age Distribution')\n",
    "plt.show()"
   ]
  },
  {
   "cell_type": "markdown",
   "metadata": {},
   "source": [
    "### **Gender Distribution**"
   ]
  },
  {
   "cell_type": "code",
   "execution_count": 39,
   "metadata": {},
   "outputs": [
    {
     "data": {
      "text/plain": [
       "array(['Female', 'Male', 'Non-binary', '27', '24', '29', '33', '31', '22',\n",
       "       '25', '28', '30', '23', '34', '26', '35', '21', '32', nan],\n",
       "      dtype=object)"
      ]
     },
     "execution_count": 39,
     "metadata": {},
     "output_type": "execute_result"
    }
   ],
   "source": [
    "train_df['Gender'].unique()"
   ]
  },
  {
   "cell_type": "code",
   "execution_count": 41,
   "metadata": {},
   "outputs": [
    {
     "name": "stderr",
     "output_type": "stream",
     "text": [
      "C:\\Users\\LENOVO\\AppData\\Local\\Temp/ipykernel_7600/2022888896.py:12: FutureWarning:\n",
      "\n",
      "A value is trying to be set on a copy of a DataFrame or Series through chained assignment using an inplace method.\n",
      "The behavior will change in pandas 3.0. This inplace method will never work because the intermediate object on which we are setting values always behaves as a copy.\n",
      "\n",
      "For example, when doing 'df[col].method(value, inplace=True)', try using 'df.method({col: value}, inplace=True)' or df[col] = df[col].method(value) instead, to perform the operation inplace on the original object.\n",
      "\n",
      "\n",
      "\n"
     ]
    }
   ],
   "source": [
    "# Replace numeric values with NaN\n",
    "def replace_numeric_with_nan(value):\n",
    "    try:\n",
    "        float(value)\n",
    "        return np.nan\n",
    "    except ValueError:\n",
    "        return value\n",
    "    \n",
    "train_df['Gender'] = train_df['Gender'].apply(replace_numeric_with_nan)\n",
    "\n",
    "# Handle NaN values\n",
    "train_df['Gender'].fillna('Unknown', inplace=True)"
   ]
  },
  {
   "cell_type": "code",
   "execution_count": 42,
   "metadata": {},
   "outputs": [
    {
     "data": {
      "text/plain": [
       "array(['Female', 'Male', 'Non-binary', 'Unknown'], dtype=object)"
      ]
     },
     "execution_count": 42,
     "metadata": {},
     "output_type": "execute_result"
    }
   ],
   "source": [
    "train_df['Gender'].unique()"
   ]
  },
  {
   "cell_type": "code",
   "execution_count": 43,
   "metadata": {},
   "outputs": [
    {
     "data": {
      "text/plain": [
       "Gender\n",
       "Female        0.343656\n",
       "Male          0.331668\n",
       "Non-binary    0.247752\n",
       "Unknown       0.076923\n",
       "Name: proportion, dtype: float64"
      ]
     },
     "execution_count": 43,
     "metadata": {},
     "output_type": "execute_result"
    }
   ],
   "source": [
    "train_df['Gender'].value_counts(normalize = True)"
   ]
  },
  {
   "cell_type": "markdown",
   "metadata": {},
   "source": [
    "### **Platform Distribution**"
   ]
  },
  {
   "cell_type": "code",
   "execution_count": 44,
   "metadata": {},
   "outputs": [
    {
     "data": {
      "text/plain": [
       "array(['Instagram', 'Twitter', 'Facebook', 'LinkedIn', 'Whatsapp',\n",
       "       'Telegram', 'Snapchat', nan], dtype=object)"
      ]
     },
     "execution_count": 44,
     "metadata": {},
     "output_type": "execute_result"
    }
   ],
   "source": [
    "train_df['Platform'].unique()"
   ]
  },
  {
   "cell_type": "code",
   "execution_count": 45,
   "metadata": {},
   "outputs": [
    {
     "name": "stderr",
     "output_type": "stream",
     "text": [
      "C:\\Users\\LENOVO\\AppData\\Local\\Temp/ipykernel_7600/992683400.py:2: FutureWarning:\n",
      "\n",
      "A value is trying to be set on a copy of a DataFrame or Series through chained assignment using an inplace method.\n",
      "The behavior will change in pandas 3.0. This inplace method will never work because the intermediate object on which we are setting values always behaves as a copy.\n",
      "\n",
      "For example, when doing 'df[col].method(value, inplace=True)', try using 'df.method({col: value}, inplace=True)' or df[col] = df[col].method(value) instead, to perform the operation inplace on the original object.\n",
      "\n",
      "\n",
      "\n"
     ]
    }
   ],
   "source": [
    "# Filling nan values with mode\n",
    "train_df['Platform'].fillna(train_df['Platform'].mode()[0], inplace = True)"
   ]
  },
  {
   "cell_type": "code",
   "execution_count": 46,
   "metadata": {},
   "outputs": [
    {
     "data": {
      "text/plain": [
       "array(['Instagram', 'Twitter', 'Facebook', 'LinkedIn', 'Whatsapp',\n",
       "       'Telegram', 'Snapchat'], dtype=object)"
      ]
     },
     "execution_count": 46,
     "metadata": {},
     "output_type": "execute_result"
    }
   ],
   "source": [
    "train_df['Platform'].unique()"
   ]
  },
  {
   "cell_type": "code",
   "execution_count": 48,
   "metadata": {},
   "outputs": [
    {
     "data": {
      "text/plain": [
       "Platform\n",
       "Instagram    0.250749\n",
       "Twitter      0.199800\n",
       "Facebook     0.189810\n",
       "LinkedIn     0.119880\n",
       "Whatsapp     0.079920\n",
       "Telegram     0.079920\n",
       "Snapchat     0.079920\n",
       "Name: proportion, dtype: float64"
      ]
     },
     "execution_count": 48,
     "metadata": {},
     "output_type": "execute_result"
    }
   ],
   "source": [
    "train_df['Platform'].value_counts(normalize = True)"
   ]
  },
  {
   "cell_type": "markdown",
   "metadata": {},
   "source": [
    "### **Daily Usage Time (minutes) Distribution**"
   ]
  },
  {
   "cell_type": "code",
   "execution_count": 50,
   "metadata": {},
   "outputs": [
    {
     "data": {
      "text/plain": [
       "array([120.,  90.,  60., 200.,  45., 150.,  85., 110.,  55., 170.,  75.,\n",
       "        95.,  65., 180., 100.,  40., 125.,  50., 140., 105., 190.,  70.,\n",
       "        80., 160., 145., 130., 115., 175., 165., 155.,  nan])"
      ]
     },
     "execution_count": 50,
     "metadata": {},
     "output_type": "execute_result"
    }
   ],
   "source": [
    "train_df['Daily_Usage_Time (minutes)'].unique()"
   ]
  },
  {
   "cell_type": "code",
   "execution_count": 51,
   "metadata": {},
   "outputs": [
    {
     "name": "stderr",
     "output_type": "stream",
     "text": [
      "C:\\Users\\LENOVO\\AppData\\Local\\Temp/ipykernel_7600/797500578.py:2: FutureWarning:\n",
      "\n",
      "A value is trying to be set on a copy of a DataFrame or Series through chained assignment using an inplace method.\n",
      "The behavior will change in pandas 3.0. This inplace method will never work because the intermediate object on which we are setting values always behaves as a copy.\n",
      "\n",
      "For example, when doing 'df[col].method(value, inplace=True)', try using 'df.method({col: value}, inplace=True)' or df[col] = df[col].method(value) instead, to perform the operation inplace on the original object.\n",
      "\n",
      "\n",
      "\n"
     ]
    }
   ],
   "source": [
    "# Filling nan values with mode\n",
    "train_df['Daily_Usage_Time (minutes)'].fillna(train_df['Daily_Usage_Time (minutes)'].mode()[0], inplace = True)"
   ]
  },
  {
   "cell_type": "code",
   "execution_count": 54,
   "metadata": {},
   "outputs": [
    {
     "data": {
      "application/vnd.plotly.v1+json": {
       "config": {
        "plotlyServerURL": "https://plot.ly"
       },
       "data": [
        {
         "alignmentgroup": "True",
         "bingroup": "x",
         "hovertemplate": "Daily_Usage_Time (minutes)=%{x}<br>count=%{y}<extra></extra>",
         "legendgroup": "",
         "marker": {
          "color": "#636efa",
          "pattern": {
           "shape": ""
          }
         },
         "name": "",
         "offsetgroup": "",
         "orientation": "v",
         "showlegend": false,
         "type": "histogram",
         "x": [
          120,
          90,
          60,
          200,
          45,
          150,
          85,
          110,
          55,
          170,
          75,
          95,
          65,
          180,
          100,
          40,
          125,
          90,
          50,
          140,
          75,
          105,
          60,
          190,
          70,
          80,
          55,
          160,
          90,
          45,
          65,
          145,
          70,
          130,
          65,
          55,
          170,
          85,
          115,
          100,
          45,
          150,
          95,
          105,
          60,
          175,
          90,
          75,
          130,
          55,
          165,
          75,
          85,
          145,
          60,
          70,
          90,
          50,
          95,
          60,
          175,
          70,
          80,
          120,
          90,
          60,
          165,
          65,
          105,
          75,
          140,
          70,
          55,
          90,
          80,
          115,
          155,
          75,
          65,
          90,
          50,
          85,
          120,
          70,
          75,
          100,
          85,
          60,
          170,
          70,
          50,
          105,
          75,
          95,
          150,
          85,
          70,
          110,
          60,
          120,
          120,
          90,
          60,
          200,
          45,
          150,
          85,
          110,
          55,
          170,
          75,
          95,
          65,
          180,
          100,
          40,
          125,
          90,
          50,
          140,
          75,
          105,
          60,
          190,
          70,
          80,
          55,
          160,
          90,
          45,
          65,
          145,
          70,
          130,
          65,
          55,
          170,
          85,
          115,
          100,
          45,
          150,
          95,
          105,
          60,
          175,
          90,
          75,
          130,
          55,
          165,
          75,
          85,
          145,
          60,
          70,
          90,
          50,
          95,
          60,
          175,
          70,
          80,
          120,
          90,
          60,
          165,
          65,
          105,
          75,
          140,
          70,
          55,
          90,
          80,
          115,
          155,
          75,
          65,
          90,
          50,
          85,
          120,
          70,
          75,
          100,
          85,
          60,
          170,
          70,
          50,
          105,
          75,
          95,
          150,
          85,
          70,
          110,
          60,
          120,
          120,
          90,
          60,
          200,
          45,
          150,
          85,
          110,
          55,
          170,
          75,
          95,
          65,
          180,
          100,
          40,
          125,
          90,
          50,
          140,
          75,
          105,
          60,
          190,
          70,
          80,
          55,
          160,
          90,
          45,
          65,
          145,
          70,
          130,
          65,
          55,
          170,
          85,
          115,
          100,
          45,
          150,
          95,
          105,
          60,
          175,
          90,
          75,
          130,
          55,
          165,
          75,
          85,
          145,
          60,
          70,
          90,
          50,
          95,
          60,
          175,
          70,
          80,
          120,
          90,
          60,
          165,
          65,
          105,
          75,
          140,
          70,
          55,
          90,
          80,
          115,
          155,
          75,
          65,
          90,
          50,
          85,
          120,
          70,
          75,
          100,
          85,
          60,
          170,
          70,
          50,
          105,
          75,
          95,
          150,
          85,
          70,
          110,
          60,
          120,
          120,
          90,
          60,
          200,
          45,
          150,
          85,
          110,
          55,
          170,
          75,
          95,
          65,
          180,
          100,
          40,
          125,
          90,
          50,
          140,
          75,
          105,
          60,
          190,
          70,
          80,
          55,
          160,
          90,
          45,
          65,
          145,
          70,
          130,
          65,
          55,
          170,
          85,
          115,
          100,
          45,
          150,
          95,
          105,
          60,
          175,
          90,
          75,
          130,
          55,
          165,
          75,
          85,
          145,
          60,
          70,
          90,
          50,
          95,
          60,
          175,
          70,
          80,
          120,
          90,
          60,
          165,
          65,
          105,
          75,
          140,
          70,
          55,
          90,
          80,
          115,
          155,
          75,
          65,
          90,
          50,
          85,
          120,
          70,
          75,
          100,
          85,
          60,
          170,
          70,
          50,
          105,
          75,
          95,
          150,
          85,
          70,
          110,
          60,
          120,
          120,
          90,
          60,
          200,
          45,
          150,
          85,
          110,
          55,
          170,
          75,
          95,
          65,
          180,
          100,
          40,
          125,
          90,
          50,
          140,
          75,
          105,
          60,
          190,
          70,
          80,
          55,
          160,
          90,
          45,
          65,
          145,
          70,
          130,
          65,
          55,
          170,
          85,
          115,
          100,
          45,
          150,
          95,
          105,
          60,
          175,
          90,
          75,
          130,
          55,
          165,
          75,
          85,
          145,
          60,
          70,
          90,
          50,
          95,
          60,
          175,
          70,
          80,
          120,
          90,
          60,
          165,
          65,
          105,
          75,
          140,
          70,
          55,
          90,
          80,
          115,
          155,
          75,
          65,
          90,
          50,
          85,
          120,
          70,
          75,
          100,
          85,
          60,
          170,
          70,
          50,
          105,
          75,
          95,
          150,
          85,
          70,
          110,
          60,
          120,
          120,
          90,
          60,
          200,
          45,
          150,
          85,
          110,
          55,
          170,
          75,
          95,
          65,
          180,
          100,
          40,
          125,
          90,
          50,
          140,
          75,
          105,
          60,
          190,
          70,
          80,
          55,
          160,
          90,
          45,
          65,
          145,
          70,
          130,
          65,
          55,
          170,
          85,
          115,
          100,
          45,
          150,
          95,
          105,
          60,
          175,
          90,
          75,
          130,
          55,
          165,
          75,
          85,
          145,
          60,
          70,
          90,
          50,
          95,
          60,
          175,
          70,
          80,
          120,
          90,
          60,
          165,
          65,
          105,
          75,
          140,
          70,
          55,
          90,
          80,
          115,
          155,
          75,
          65,
          90,
          50,
          85,
          120,
          70,
          75,
          100,
          85,
          60,
          170,
          70,
          50,
          105,
          75,
          95,
          150,
          85,
          70,
          110,
          60,
          120,
          120,
          90,
          60,
          200,
          45,
          150,
          85,
          110,
          55,
          170,
          75,
          95,
          65,
          180,
          100,
          40,
          125,
          90,
          50,
          140,
          75,
          105,
          60,
          190,
          70,
          80,
          55,
          160,
          90,
          45,
          65,
          145,
          70,
          130,
          65,
          55,
          170,
          85,
          115,
          100,
          45,
          60,
          150,
          95,
          105,
          60,
          175,
          90,
          75,
          130,
          55,
          165,
          75,
          85,
          145,
          60,
          70,
          90,
          50,
          95,
          60,
          175,
          70,
          80,
          120,
          90,
          60,
          165,
          65,
          105,
          75,
          140,
          70,
          55,
          90,
          80,
          115,
          155,
          75,
          65,
          90,
          50,
          85,
          120,
          70,
          75,
          100,
          85,
          60,
          170,
          70,
          50,
          105,
          75,
          95,
          150,
          85,
          70,
          110,
          60,
          120,
          120,
          90,
          60,
          200,
          45,
          150,
          85,
          110,
          55,
          170,
          75,
          95,
          65,
          180,
          100,
          40,
          125,
          90,
          50,
          140,
          75,
          105,
          60,
          190,
          70,
          80,
          55,
          160,
          90,
          45,
          65,
          145,
          70,
          130,
          65,
          55,
          170,
          85,
          115,
          100,
          45,
          150,
          95,
          105,
          60,
          175,
          90,
          75,
          130,
          55,
          165,
          75,
          85,
          145,
          60,
          70,
          90,
          50,
          95,
          60,
          175,
          70,
          80,
          120,
          90,
          60,
          165,
          65,
          105,
          75,
          140,
          70,
          55,
          90,
          80,
          115,
          155,
          75,
          65,
          90,
          50,
          85,
          120,
          70,
          75,
          100,
          85,
          60,
          170,
          70,
          50,
          105,
          75,
          95,
          150,
          85,
          70,
          110,
          60,
          120,
          120,
          90,
          60,
          200,
          45,
          150,
          85,
          110,
          55,
          170,
          75,
          95,
          65,
          180,
          100,
          40,
          125,
          90,
          50,
          140,
          75,
          105,
          60,
          190,
          70,
          80,
          55,
          160,
          90,
          45,
          65,
          145,
          70,
          130,
          65,
          55,
          170,
          85,
          115,
          100,
          45,
          150,
          95,
          105,
          60,
          175,
          90,
          75,
          130,
          55,
          165,
          75,
          85,
          145,
          60,
          70,
          90,
          50,
          95,
          60,
          175,
          70,
          80,
          120,
          90,
          60,
          165,
          65,
          105,
          75,
          140,
          70,
          55,
          90,
          80,
          115,
          155,
          75,
          65,
          90,
          50,
          85,
          120,
          70,
          75,
          100,
          85,
          60,
          170,
          70,
          50,
          105,
          75,
          95,
          150,
          85,
          70,
          110,
          60,
          120,
          120,
          90,
          60,
          200,
          45,
          150,
          85,
          110,
          55,
          170,
          75,
          95,
          65,
          180,
          100,
          40,
          125,
          90,
          50,
          140,
          75,
          105,
          60,
          190,
          70,
          80,
          55,
          160,
          90,
          45,
          65,
          145,
          70,
          130,
          65,
          55,
          170,
          85,
          115,
          100,
          45,
          150,
          95,
          105,
          60,
          175,
          90,
          75,
          130,
          55,
          165,
          75,
          85,
          145,
          60,
          70,
          90,
          50,
          95,
          60,
          175,
          70,
          80,
          120,
          90,
          60,
          165,
          65,
          105,
          75,
          140,
          70,
          55,
          90,
          80,
          115,
          155,
          75,
          65,
          90,
          50,
          85,
          120,
          70,
          75,
          100,
          85,
          60,
          170,
          70,
          50,
          105,
          75,
          95,
          150,
          85,
          70,
          110,
          60,
          120
         ],
         "xaxis": "x",
         "yaxis": "y"
        }
       ],
       "layout": {
        "barmode": "relative",
        "legend": {
         "tracegroupgap": 0
        },
        "template": {
         "data": {
          "bar": [
           {
            "error_x": {
             "color": "#2a3f5f"
            },
            "error_y": {
             "color": "#2a3f5f"
            },
            "marker": {
             "line": {
              "color": "#E5ECF6",
              "width": 0.5
             },
             "pattern": {
              "fillmode": "overlay",
              "size": 10,
              "solidity": 0.2
             }
            },
            "type": "bar"
           }
          ],
          "barpolar": [
           {
            "marker": {
             "line": {
              "color": "#E5ECF6",
              "width": 0.5
             },
             "pattern": {
              "fillmode": "overlay",
              "size": 10,
              "solidity": 0.2
             }
            },
            "type": "barpolar"
           }
          ],
          "carpet": [
           {
            "aaxis": {
             "endlinecolor": "#2a3f5f",
             "gridcolor": "white",
             "linecolor": "white",
             "minorgridcolor": "white",
             "startlinecolor": "#2a3f5f"
            },
            "baxis": {
             "endlinecolor": "#2a3f5f",
             "gridcolor": "white",
             "linecolor": "white",
             "minorgridcolor": "white",
             "startlinecolor": "#2a3f5f"
            },
            "type": "carpet"
           }
          ],
          "choropleth": [
           {
            "colorbar": {
             "outlinewidth": 0,
             "ticks": ""
            },
            "type": "choropleth"
           }
          ],
          "contour": [
           {
            "colorbar": {
             "outlinewidth": 0,
             "ticks": ""
            },
            "colorscale": [
             [
              0,
              "#0d0887"
             ],
             [
              0.1111111111111111,
              "#46039f"
             ],
             [
              0.2222222222222222,
              "#7201a8"
             ],
             [
              0.3333333333333333,
              "#9c179e"
             ],
             [
              0.4444444444444444,
              "#bd3786"
             ],
             [
              0.5555555555555556,
              "#d8576b"
             ],
             [
              0.6666666666666666,
              "#ed7953"
             ],
             [
              0.7777777777777778,
              "#fb9f3a"
             ],
             [
              0.8888888888888888,
              "#fdca26"
             ],
             [
              1,
              "#f0f921"
             ]
            ],
            "type": "contour"
           }
          ],
          "contourcarpet": [
           {
            "colorbar": {
             "outlinewidth": 0,
             "ticks": ""
            },
            "type": "contourcarpet"
           }
          ],
          "heatmap": [
           {
            "colorbar": {
             "outlinewidth": 0,
             "ticks": ""
            },
            "colorscale": [
             [
              0,
              "#0d0887"
             ],
             [
              0.1111111111111111,
              "#46039f"
             ],
             [
              0.2222222222222222,
              "#7201a8"
             ],
             [
              0.3333333333333333,
              "#9c179e"
             ],
             [
              0.4444444444444444,
              "#bd3786"
             ],
             [
              0.5555555555555556,
              "#d8576b"
             ],
             [
              0.6666666666666666,
              "#ed7953"
             ],
             [
              0.7777777777777778,
              "#fb9f3a"
             ],
             [
              0.8888888888888888,
              "#fdca26"
             ],
             [
              1,
              "#f0f921"
             ]
            ],
            "type": "heatmap"
           }
          ],
          "heatmapgl": [
           {
            "colorbar": {
             "outlinewidth": 0,
             "ticks": ""
            },
            "colorscale": [
             [
              0,
              "#0d0887"
             ],
             [
              0.1111111111111111,
              "#46039f"
             ],
             [
              0.2222222222222222,
              "#7201a8"
             ],
             [
              0.3333333333333333,
              "#9c179e"
             ],
             [
              0.4444444444444444,
              "#bd3786"
             ],
             [
              0.5555555555555556,
              "#d8576b"
             ],
             [
              0.6666666666666666,
              "#ed7953"
             ],
             [
              0.7777777777777778,
              "#fb9f3a"
             ],
             [
              0.8888888888888888,
              "#fdca26"
             ],
             [
              1,
              "#f0f921"
             ]
            ],
            "type": "heatmapgl"
           }
          ],
          "histogram": [
           {
            "marker": {
             "pattern": {
              "fillmode": "overlay",
              "size": 10,
              "solidity": 0.2
             }
            },
            "type": "histogram"
           }
          ],
          "histogram2d": [
           {
            "colorbar": {
             "outlinewidth": 0,
             "ticks": ""
            },
            "colorscale": [
             [
              0,
              "#0d0887"
             ],
             [
              0.1111111111111111,
              "#46039f"
             ],
             [
              0.2222222222222222,
              "#7201a8"
             ],
             [
              0.3333333333333333,
              "#9c179e"
             ],
             [
              0.4444444444444444,
              "#bd3786"
             ],
             [
              0.5555555555555556,
              "#d8576b"
             ],
             [
              0.6666666666666666,
              "#ed7953"
             ],
             [
              0.7777777777777778,
              "#fb9f3a"
             ],
             [
              0.8888888888888888,
              "#fdca26"
             ],
             [
              1,
              "#f0f921"
             ]
            ],
            "type": "histogram2d"
           }
          ],
          "histogram2dcontour": [
           {
            "colorbar": {
             "outlinewidth": 0,
             "ticks": ""
            },
            "colorscale": [
             [
              0,
              "#0d0887"
             ],
             [
              0.1111111111111111,
              "#46039f"
             ],
             [
              0.2222222222222222,
              "#7201a8"
             ],
             [
              0.3333333333333333,
              "#9c179e"
             ],
             [
              0.4444444444444444,
              "#bd3786"
             ],
             [
              0.5555555555555556,
              "#d8576b"
             ],
             [
              0.6666666666666666,
              "#ed7953"
             ],
             [
              0.7777777777777778,
              "#fb9f3a"
             ],
             [
              0.8888888888888888,
              "#fdca26"
             ],
             [
              1,
              "#f0f921"
             ]
            ],
            "type": "histogram2dcontour"
           }
          ],
          "mesh3d": [
           {
            "colorbar": {
             "outlinewidth": 0,
             "ticks": ""
            },
            "type": "mesh3d"
           }
          ],
          "parcoords": [
           {
            "line": {
             "colorbar": {
              "outlinewidth": 0,
              "ticks": ""
             }
            },
            "type": "parcoords"
           }
          ],
          "pie": [
           {
            "automargin": true,
            "type": "pie"
           }
          ],
          "scatter": [
           {
            "fillpattern": {
             "fillmode": "overlay",
             "size": 10,
             "solidity": 0.2
            },
            "type": "scatter"
           }
          ],
          "scatter3d": [
           {
            "line": {
             "colorbar": {
              "outlinewidth": 0,
              "ticks": ""
             }
            },
            "marker": {
             "colorbar": {
              "outlinewidth": 0,
              "ticks": ""
             }
            },
            "type": "scatter3d"
           }
          ],
          "scattercarpet": [
           {
            "marker": {
             "colorbar": {
              "outlinewidth": 0,
              "ticks": ""
             }
            },
            "type": "scattercarpet"
           }
          ],
          "scattergeo": [
           {
            "marker": {
             "colorbar": {
              "outlinewidth": 0,
              "ticks": ""
             }
            },
            "type": "scattergeo"
           }
          ],
          "scattergl": [
           {
            "marker": {
             "colorbar": {
              "outlinewidth": 0,
              "ticks": ""
             }
            },
            "type": "scattergl"
           }
          ],
          "scattermapbox": [
           {
            "marker": {
             "colorbar": {
              "outlinewidth": 0,
              "ticks": ""
             }
            },
            "type": "scattermapbox"
           }
          ],
          "scatterpolar": [
           {
            "marker": {
             "colorbar": {
              "outlinewidth": 0,
              "ticks": ""
             }
            },
            "type": "scatterpolar"
           }
          ],
          "scatterpolargl": [
           {
            "marker": {
             "colorbar": {
              "outlinewidth": 0,
              "ticks": ""
             }
            },
            "type": "scatterpolargl"
           }
          ],
          "scatterternary": [
           {
            "marker": {
             "colorbar": {
              "outlinewidth": 0,
              "ticks": ""
             }
            },
            "type": "scatterternary"
           }
          ],
          "surface": [
           {
            "colorbar": {
             "outlinewidth": 0,
             "ticks": ""
            },
            "colorscale": [
             [
              0,
              "#0d0887"
             ],
             [
              0.1111111111111111,
              "#46039f"
             ],
             [
              0.2222222222222222,
              "#7201a8"
             ],
             [
              0.3333333333333333,
              "#9c179e"
             ],
             [
              0.4444444444444444,
              "#bd3786"
             ],
             [
              0.5555555555555556,
              "#d8576b"
             ],
             [
              0.6666666666666666,
              "#ed7953"
             ],
             [
              0.7777777777777778,
              "#fb9f3a"
             ],
             [
              0.8888888888888888,
              "#fdca26"
             ],
             [
              1,
              "#f0f921"
             ]
            ],
            "type": "surface"
           }
          ],
          "table": [
           {
            "cells": {
             "fill": {
              "color": "#EBF0F8"
             },
             "line": {
              "color": "white"
             }
            },
            "header": {
             "fill": {
              "color": "#C8D4E3"
             },
             "line": {
              "color": "white"
             }
            },
            "type": "table"
           }
          ]
         },
         "layout": {
          "annotationdefaults": {
           "arrowcolor": "#2a3f5f",
           "arrowhead": 0,
           "arrowwidth": 1
          },
          "autotypenumbers": "strict",
          "coloraxis": {
           "colorbar": {
            "outlinewidth": 0,
            "ticks": ""
           }
          },
          "colorscale": {
           "diverging": [
            [
             0,
             "#8e0152"
            ],
            [
             0.1,
             "#c51b7d"
            ],
            [
             0.2,
             "#de77ae"
            ],
            [
             0.3,
             "#f1b6da"
            ],
            [
             0.4,
             "#fde0ef"
            ],
            [
             0.5,
             "#f7f7f7"
            ],
            [
             0.6,
             "#e6f5d0"
            ],
            [
             0.7,
             "#b8e186"
            ],
            [
             0.8,
             "#7fbc41"
            ],
            [
             0.9,
             "#4d9221"
            ],
            [
             1,
             "#276419"
            ]
           ],
           "sequential": [
            [
             0,
             "#0d0887"
            ],
            [
             0.1111111111111111,
             "#46039f"
            ],
            [
             0.2222222222222222,
             "#7201a8"
            ],
            [
             0.3333333333333333,
             "#9c179e"
            ],
            [
             0.4444444444444444,
             "#bd3786"
            ],
            [
             0.5555555555555556,
             "#d8576b"
            ],
            [
             0.6666666666666666,
             "#ed7953"
            ],
            [
             0.7777777777777778,
             "#fb9f3a"
            ],
            [
             0.8888888888888888,
             "#fdca26"
            ],
            [
             1,
             "#f0f921"
            ]
           ],
           "sequentialminus": [
            [
             0,
             "#0d0887"
            ],
            [
             0.1111111111111111,
             "#46039f"
            ],
            [
             0.2222222222222222,
             "#7201a8"
            ],
            [
             0.3333333333333333,
             "#9c179e"
            ],
            [
             0.4444444444444444,
             "#bd3786"
            ],
            [
             0.5555555555555556,
             "#d8576b"
            ],
            [
             0.6666666666666666,
             "#ed7953"
            ],
            [
             0.7777777777777778,
             "#fb9f3a"
            ],
            [
             0.8888888888888888,
             "#fdca26"
            ],
            [
             1,
             "#f0f921"
            ]
           ]
          },
          "colorway": [
           "#636efa",
           "#EF553B",
           "#00cc96",
           "#ab63fa",
           "#FFA15A",
           "#19d3f3",
           "#FF6692",
           "#B6E880",
           "#FF97FF",
           "#FECB52"
          ],
          "font": {
           "color": "#2a3f5f"
          },
          "geo": {
           "bgcolor": "white",
           "lakecolor": "white",
           "landcolor": "#E5ECF6",
           "showlakes": true,
           "showland": true,
           "subunitcolor": "white"
          },
          "hoverlabel": {
           "align": "left"
          },
          "hovermode": "closest",
          "mapbox": {
           "style": "light"
          },
          "paper_bgcolor": "white",
          "plot_bgcolor": "#E5ECF6",
          "polar": {
           "angularaxis": {
            "gridcolor": "white",
            "linecolor": "white",
            "ticks": ""
           },
           "bgcolor": "#E5ECF6",
           "radialaxis": {
            "gridcolor": "white",
            "linecolor": "white",
            "ticks": ""
           }
          },
          "scene": {
           "xaxis": {
            "backgroundcolor": "#E5ECF6",
            "gridcolor": "white",
            "gridwidth": 2,
            "linecolor": "white",
            "showbackground": true,
            "ticks": "",
            "zerolinecolor": "white"
           },
           "yaxis": {
            "backgroundcolor": "#E5ECF6",
            "gridcolor": "white",
            "gridwidth": 2,
            "linecolor": "white",
            "showbackground": true,
            "ticks": "",
            "zerolinecolor": "white"
           },
           "zaxis": {
            "backgroundcolor": "#E5ECF6",
            "gridcolor": "white",
            "gridwidth": 2,
            "linecolor": "white",
            "showbackground": true,
            "ticks": "",
            "zerolinecolor": "white"
           }
          },
          "shapedefaults": {
           "line": {
            "color": "#2a3f5f"
           }
          },
          "ternary": {
           "aaxis": {
            "gridcolor": "white",
            "linecolor": "white",
            "ticks": ""
           },
           "baxis": {
            "gridcolor": "white",
            "linecolor": "white",
            "ticks": ""
           },
           "bgcolor": "#E5ECF6",
           "caxis": {
            "gridcolor": "white",
            "linecolor": "white",
            "ticks": ""
           }
          },
          "title": {
           "x": 0.05
          },
          "xaxis": {
           "automargin": true,
           "gridcolor": "white",
           "linecolor": "white",
           "ticks": "",
           "title": {
            "standoff": 15
           },
           "zerolinecolor": "white",
           "zerolinewidth": 2
          },
          "yaxis": {
           "automargin": true,
           "gridcolor": "white",
           "linecolor": "white",
           "ticks": "",
           "title": {
            "standoff": 15
           },
           "zerolinecolor": "white",
           "zerolinewidth": 2
          }
         }
        },
        "title": {
         "text": "Daily Usage Time Distribution"
        },
        "xaxis": {
         "anchor": "y",
         "domain": [
          0,
          1
         ],
         "title": {
          "text": "Daily_Usage_Time (minutes)"
         }
        },
        "yaxis": {
         "anchor": "x",
         "domain": [
          0,
          1
         ],
         "title": {
          "text": "count"
         }
        }
       }
      }
     },
     "metadata": {},
     "output_type": "display_data"
    }
   ],
   "source": [
    "plt = px.histogram(train_df, x='Daily_Usage_Time (minutes)', title='Daily Usage Time Distribution')\n",
    "plt.show()"
   ]
  },
  {
   "cell_type": "markdown",
   "metadata": {},
   "source": [
    "### **Post Per Day Distribution**"
   ]
  },
  {
   "cell_type": "code",
   "execution_count": 55,
   "metadata": {},
   "outputs": [
    {
     "data": {
      "text/plain": [
       "array([ 3.,  5.,  2.,  8.,  1.,  4.,  6.,  7., nan])"
      ]
     },
     "execution_count": 55,
     "metadata": {},
     "output_type": "execute_result"
    }
   ],
   "source": [
    "train_df['Posts_Per_Day'].unique()"
   ]
  },
  {
   "cell_type": "code",
   "execution_count": 56,
   "metadata": {},
   "outputs": [
    {
     "name": "stderr",
     "output_type": "stream",
     "text": [
      "C:\\Users\\LENOVO\\AppData\\Local\\Temp/ipykernel_7600/3979840521.py:1: FutureWarning:\n",
      "\n",
      "A value is trying to be set on a copy of a DataFrame or Series through chained assignment using an inplace method.\n",
      "The behavior will change in pandas 3.0. This inplace method will never work because the intermediate object on which we are setting values always behaves as a copy.\n",
      "\n",
      "For example, when doing 'df[col].method(value, inplace=True)', try using 'df.method({col: value}, inplace=True)' or df[col] = df[col].method(value) instead, to perform the operation inplace on the original object.\n",
      "\n",
      "\n",
      "\n"
     ]
    }
   ],
   "source": [
    "train_df['Posts_Per_Day'].fillna(train_df['Posts_Per_Day'].mode()[0], inplace = True)"
   ]
  },
  {
   "cell_type": "code",
   "execution_count": 57,
   "metadata": {},
   "outputs": [
    {
     "data": {
      "application/vnd.plotly.v1+json": {
       "config": {
        "plotlyServerURL": "https://plot.ly"
       },
       "data": [
        {
         "alignmentgroup": "True",
         "bingroup": "x",
         "hovertemplate": "Posts_Per_Day=%{x}<br>count=%{y}<extra></extra>",
         "legendgroup": "",
         "marker": {
          "color": "#636efa",
          "pattern": {
           "shape": ""
          }
         },
         "name": "",
         "offsetgroup": "",
         "orientation": "v",
         "showlegend": false,
         "type": "histogram",
         "x": [
          3,
          5,
          2,
          8,
          1,
          4,
          3,
          6,
          2,
          5,
          4,
          3,
          1,
          7,
          6,
          1,
          4,
          3,
          1,
          5,
          2,
          4,
          2,
          8,
          3,
          2,
          1,
          6,
          4,
          1,
          2,
          5,
          3,
          6,
          2,
          1,
          7,
          4,
          3,
          2,
          1,
          6,
          4,
          2,
          1,
          7,
          3,
          2,
          5,
          1,
          6,
          3,
          2,
          4,
          1,
          2,
          3,
          2,
          4,
          1,
          6,
          3,
          2,
          4,
          6,
          1,
          5,
          2,
          3,
          2,
          4,
          1,
          3,
          2,
          4,
          3,
          6,
          2,
          1,
          4,
          2,
          3,
          5,
          1,
          2,
          4,
          3,
          1,
          6,
          2,
          1,
          4,
          3,
          2,
          5,
          4,
          1,
          3,
          2,
          4,
          5,
          4,
          2,
          8,
          1,
          5,
          3,
          6,
          2,
          7,
          4,
          3,
          1,
          8,
          6,
          1,
          5,
          3,
          1,
          6,
          2,
          4,
          2,
          8,
          3,
          2,
          1,
          6,
          4,
          1,
          2,
          7,
          3,
          6,
          2,
          1,
          7,
          4,
          3,
          2,
          1,
          6,
          4,
          2,
          1,
          7,
          3,
          2,
          5,
          1,
          6,
          3,
          2,
          4,
          1,
          2,
          3,
          2,
          4,
          1,
          6,
          3,
          2,
          4,
          6,
          1,
          5,
          2,
          3,
          2,
          4,
          1,
          3,
          2,
          4,
          3,
          6,
          2,
          1,
          4,
          2,
          3,
          5,
          1,
          2,
          4,
          3,
          1,
          6,
          2,
          1,
          4,
          3,
          2,
          5,
          4,
          1,
          3,
          2,
          4,
          5,
          4,
          2,
          8,
          1,
          5,
          3,
          6,
          2,
          7,
          4,
          3,
          1,
          8,
          6,
          1,
          5,
          3,
          1,
          6,
          2,
          4,
          2,
          8,
          3,
          2,
          1,
          6,
          4,
          1,
          2,
          7,
          3,
          6,
          2,
          1,
          7,
          4,
          3,
          2,
          1,
          6,
          4,
          2,
          1,
          7,
          3,
          2,
          5,
          1,
          6,
          3,
          2,
          4,
          1,
          2,
          3,
          2,
          4,
          1,
          6,
          3,
          2,
          4,
          6,
          1,
          5,
          2,
          3,
          2,
          4,
          1,
          3,
          2,
          4,
          3,
          6,
          2,
          1,
          4,
          2,
          3,
          5,
          1,
          2,
          4,
          3,
          1,
          6,
          2,
          1,
          4,
          3,
          2,
          5,
          4,
          1,
          3,
          2,
          4,
          5,
          4,
          2,
          8,
          1,
          5,
          3,
          6,
          2,
          7,
          4,
          3,
          1,
          8,
          6,
          1,
          5,
          3,
          1,
          6,
          2,
          4,
          2,
          8,
          3,
          2,
          1,
          6,
          4,
          1,
          2,
          7,
          3,
          6,
          2,
          1,
          7,
          4,
          3,
          2,
          1,
          6,
          4,
          2,
          1,
          7,
          3,
          2,
          5,
          1,
          6,
          3,
          2,
          4,
          1,
          2,
          3,
          2,
          4,
          1,
          6,
          3,
          2,
          4,
          6,
          1,
          5,
          2,
          3,
          2,
          4,
          1,
          3,
          2,
          4,
          3,
          6,
          2,
          1,
          4,
          2,
          3,
          5,
          1,
          2,
          4,
          3,
          1,
          6,
          2,
          1,
          4,
          3,
          2,
          5,
          4,
          1,
          3,
          2,
          4,
          5,
          4,
          2,
          8,
          1,
          5,
          3,
          6,
          2,
          7,
          4,
          3,
          1,
          8,
          6,
          1,
          5,
          3,
          1,
          6,
          2,
          4,
          2,
          8,
          3,
          2,
          1,
          6,
          4,
          1,
          2,
          7,
          3,
          6,
          2,
          1,
          7,
          4,
          3,
          2,
          1,
          6,
          4,
          2,
          1,
          7,
          3,
          2,
          5,
          1,
          6,
          3,
          2,
          4,
          1,
          2,
          3,
          2,
          4,
          1,
          6,
          3,
          2,
          4,
          6,
          1,
          5,
          2,
          3,
          2,
          4,
          1,
          3,
          2,
          4,
          3,
          6,
          2,
          1,
          4,
          2,
          3,
          5,
          1,
          2,
          4,
          3,
          1,
          6,
          2,
          1,
          4,
          3,
          2,
          5,
          4,
          1,
          3,
          2,
          4,
          5,
          4,
          2,
          8,
          1,
          5,
          3,
          6,
          2,
          7,
          4,
          3,
          1,
          8,
          6,
          1,
          5,
          3,
          1,
          6,
          2,
          4,
          2,
          8,
          3,
          2,
          1,
          6,
          4,
          1,
          2,
          7,
          3,
          6,
          2,
          1,
          7,
          4,
          3,
          2,
          1,
          6,
          4,
          2,
          1,
          7,
          3,
          2,
          5,
          1,
          6,
          3,
          2,
          4,
          1,
          2,
          3,
          2,
          4,
          1,
          6,
          3,
          2,
          4,
          6,
          1,
          5,
          2,
          3,
          2,
          4,
          1,
          3,
          2,
          4,
          3,
          6,
          2,
          1,
          4,
          2,
          3,
          5,
          1,
          2,
          4,
          3,
          1,
          6,
          2,
          1,
          4,
          3,
          2,
          5,
          4,
          1,
          3,
          2,
          4,
          5,
          4,
          2,
          8,
          1,
          5,
          3,
          6,
          2,
          7,
          4,
          3,
          1,
          8,
          6,
          1,
          5,
          3,
          1,
          6,
          2,
          4,
          2,
          8,
          3,
          2,
          1,
          6,
          4,
          1,
          2,
          7,
          3,
          6,
          2,
          1,
          7,
          4,
          3,
          2,
          1,
          2,
          6,
          4,
          2,
          1,
          7,
          3,
          2,
          5,
          1,
          6,
          3,
          2,
          4,
          1,
          2,
          3,
          2,
          4,
          1,
          6,
          3,
          2,
          4,
          6,
          1,
          5,
          2,
          3,
          2,
          4,
          1,
          3,
          2,
          4,
          3,
          6,
          2,
          1,
          4,
          2,
          3,
          5,
          1,
          2,
          4,
          3,
          1,
          6,
          2,
          1,
          4,
          3,
          2,
          5,
          4,
          1,
          3,
          2,
          4,
          5,
          4,
          2,
          8,
          1,
          5,
          3,
          6,
          2,
          7,
          4,
          3,
          1,
          8,
          6,
          1,
          5,
          3,
          1,
          6,
          2,
          4,
          2,
          8,
          3,
          2,
          1,
          6,
          4,
          1,
          2,
          7,
          3,
          6,
          2,
          1,
          7,
          4,
          3,
          2,
          1,
          6,
          4,
          2,
          1,
          7,
          3,
          2,
          5,
          1,
          6,
          3,
          2,
          4,
          1,
          2,
          3,
          2,
          4,
          1,
          6,
          3,
          2,
          4,
          6,
          1,
          5,
          2,
          3,
          2,
          4,
          1,
          3,
          2,
          4,
          3,
          6,
          2,
          1,
          4,
          2,
          3,
          5,
          1,
          2,
          4,
          3,
          1,
          6,
          2,
          1,
          4,
          3,
          2,
          5,
          4,
          1,
          3,
          2,
          4,
          5,
          4,
          2,
          8,
          1,
          5,
          3,
          6,
          2,
          7,
          4,
          3,
          1,
          8,
          6,
          1,
          5,
          3,
          1,
          6,
          2,
          4,
          2,
          8,
          3,
          2,
          1,
          6,
          4,
          1,
          2,
          7,
          3,
          6,
          2,
          1,
          7,
          4,
          3,
          2,
          1,
          6,
          4,
          2,
          1,
          7,
          3,
          2,
          5,
          1,
          6,
          3,
          2,
          4,
          1,
          2,
          3,
          2,
          4,
          1,
          6,
          3,
          2,
          4,
          6,
          1,
          5,
          2,
          3,
          2,
          4,
          1,
          3,
          2,
          4,
          3,
          6,
          2,
          1,
          4,
          2,
          3,
          5,
          1,
          2,
          4,
          3,
          1,
          6,
          2,
          1,
          4,
          3,
          2,
          5,
          4,
          1,
          3,
          2,
          4,
          5,
          4,
          2,
          8,
          1,
          5,
          3,
          6,
          2,
          7,
          4,
          3,
          1,
          8,
          6,
          1,
          5,
          3,
          1,
          6,
          2,
          4,
          2,
          8,
          3,
          2,
          1,
          6,
          4,
          1,
          2,
          7,
          3,
          6,
          2,
          1,
          7,
          4,
          3,
          2,
          1,
          6,
          4,
          2,
          1,
          7,
          3,
          2,
          5,
          1,
          6,
          3,
          2,
          4,
          1,
          2,
          3,
          2,
          4,
          1,
          6,
          3,
          2,
          4,
          6,
          1,
          5,
          2,
          3,
          2,
          4,
          1,
          3,
          2,
          4,
          3,
          6,
          2,
          1,
          4,
          2,
          3,
          5,
          1,
          2,
          4,
          3,
          1,
          6,
          2,
          1,
          4,
          3,
          2,
          5,
          4,
          1,
          3,
          2,
          4
         ],
         "xaxis": "x",
         "yaxis": "y"
        }
       ],
       "layout": {
        "barmode": "relative",
        "legend": {
         "tracegroupgap": 0
        },
        "template": {
         "data": {
          "bar": [
           {
            "error_x": {
             "color": "#2a3f5f"
            },
            "error_y": {
             "color": "#2a3f5f"
            },
            "marker": {
             "line": {
              "color": "#E5ECF6",
              "width": 0.5
             },
             "pattern": {
              "fillmode": "overlay",
              "size": 10,
              "solidity": 0.2
             }
            },
            "type": "bar"
           }
          ],
          "barpolar": [
           {
            "marker": {
             "line": {
              "color": "#E5ECF6",
              "width": 0.5
             },
             "pattern": {
              "fillmode": "overlay",
              "size": 10,
              "solidity": 0.2
             }
            },
            "type": "barpolar"
           }
          ],
          "carpet": [
           {
            "aaxis": {
             "endlinecolor": "#2a3f5f",
             "gridcolor": "white",
             "linecolor": "white",
             "minorgridcolor": "white",
             "startlinecolor": "#2a3f5f"
            },
            "baxis": {
             "endlinecolor": "#2a3f5f",
             "gridcolor": "white",
             "linecolor": "white",
             "minorgridcolor": "white",
             "startlinecolor": "#2a3f5f"
            },
            "type": "carpet"
           }
          ],
          "choropleth": [
           {
            "colorbar": {
             "outlinewidth": 0,
             "ticks": ""
            },
            "type": "choropleth"
           }
          ],
          "contour": [
           {
            "colorbar": {
             "outlinewidth": 0,
             "ticks": ""
            },
            "colorscale": [
             [
              0,
              "#0d0887"
             ],
             [
              0.1111111111111111,
              "#46039f"
             ],
             [
              0.2222222222222222,
              "#7201a8"
             ],
             [
              0.3333333333333333,
              "#9c179e"
             ],
             [
              0.4444444444444444,
              "#bd3786"
             ],
             [
              0.5555555555555556,
              "#d8576b"
             ],
             [
              0.6666666666666666,
              "#ed7953"
             ],
             [
              0.7777777777777778,
              "#fb9f3a"
             ],
             [
              0.8888888888888888,
              "#fdca26"
             ],
             [
              1,
              "#f0f921"
             ]
            ],
            "type": "contour"
           }
          ],
          "contourcarpet": [
           {
            "colorbar": {
             "outlinewidth": 0,
             "ticks": ""
            },
            "type": "contourcarpet"
           }
          ],
          "heatmap": [
           {
            "colorbar": {
             "outlinewidth": 0,
             "ticks": ""
            },
            "colorscale": [
             [
              0,
              "#0d0887"
             ],
             [
              0.1111111111111111,
              "#46039f"
             ],
             [
              0.2222222222222222,
              "#7201a8"
             ],
             [
              0.3333333333333333,
              "#9c179e"
             ],
             [
              0.4444444444444444,
              "#bd3786"
             ],
             [
              0.5555555555555556,
              "#d8576b"
             ],
             [
              0.6666666666666666,
              "#ed7953"
             ],
             [
              0.7777777777777778,
              "#fb9f3a"
             ],
             [
              0.8888888888888888,
              "#fdca26"
             ],
             [
              1,
              "#f0f921"
             ]
            ],
            "type": "heatmap"
           }
          ],
          "heatmapgl": [
           {
            "colorbar": {
             "outlinewidth": 0,
             "ticks": ""
            },
            "colorscale": [
             [
              0,
              "#0d0887"
             ],
             [
              0.1111111111111111,
              "#46039f"
             ],
             [
              0.2222222222222222,
              "#7201a8"
             ],
             [
              0.3333333333333333,
              "#9c179e"
             ],
             [
              0.4444444444444444,
              "#bd3786"
             ],
             [
              0.5555555555555556,
              "#d8576b"
             ],
             [
              0.6666666666666666,
              "#ed7953"
             ],
             [
              0.7777777777777778,
              "#fb9f3a"
             ],
             [
              0.8888888888888888,
              "#fdca26"
             ],
             [
              1,
              "#f0f921"
             ]
            ],
            "type": "heatmapgl"
           }
          ],
          "histogram": [
           {
            "marker": {
             "pattern": {
              "fillmode": "overlay",
              "size": 10,
              "solidity": 0.2
             }
            },
            "type": "histogram"
           }
          ],
          "histogram2d": [
           {
            "colorbar": {
             "outlinewidth": 0,
             "ticks": ""
            },
            "colorscale": [
             [
              0,
              "#0d0887"
             ],
             [
              0.1111111111111111,
              "#46039f"
             ],
             [
              0.2222222222222222,
              "#7201a8"
             ],
             [
              0.3333333333333333,
              "#9c179e"
             ],
             [
              0.4444444444444444,
              "#bd3786"
             ],
             [
              0.5555555555555556,
              "#d8576b"
             ],
             [
              0.6666666666666666,
              "#ed7953"
             ],
             [
              0.7777777777777778,
              "#fb9f3a"
             ],
             [
              0.8888888888888888,
              "#fdca26"
             ],
             [
              1,
              "#f0f921"
             ]
            ],
            "type": "histogram2d"
           }
          ],
          "histogram2dcontour": [
           {
            "colorbar": {
             "outlinewidth": 0,
             "ticks": ""
            },
            "colorscale": [
             [
              0,
              "#0d0887"
             ],
             [
              0.1111111111111111,
              "#46039f"
             ],
             [
              0.2222222222222222,
              "#7201a8"
             ],
             [
              0.3333333333333333,
              "#9c179e"
             ],
             [
              0.4444444444444444,
              "#bd3786"
             ],
             [
              0.5555555555555556,
              "#d8576b"
             ],
             [
              0.6666666666666666,
              "#ed7953"
             ],
             [
              0.7777777777777778,
              "#fb9f3a"
             ],
             [
              0.8888888888888888,
              "#fdca26"
             ],
             [
              1,
              "#f0f921"
             ]
            ],
            "type": "histogram2dcontour"
           }
          ],
          "mesh3d": [
           {
            "colorbar": {
             "outlinewidth": 0,
             "ticks": ""
            },
            "type": "mesh3d"
           }
          ],
          "parcoords": [
           {
            "line": {
             "colorbar": {
              "outlinewidth": 0,
              "ticks": ""
             }
            },
            "type": "parcoords"
           }
          ],
          "pie": [
           {
            "automargin": true,
            "type": "pie"
           }
          ],
          "scatter": [
           {
            "fillpattern": {
             "fillmode": "overlay",
             "size": 10,
             "solidity": 0.2
            },
            "type": "scatter"
           }
          ],
          "scatter3d": [
           {
            "line": {
             "colorbar": {
              "outlinewidth": 0,
              "ticks": ""
             }
            },
            "marker": {
             "colorbar": {
              "outlinewidth": 0,
              "ticks": ""
             }
            },
            "type": "scatter3d"
           }
          ],
          "scattercarpet": [
           {
            "marker": {
             "colorbar": {
              "outlinewidth": 0,
              "ticks": ""
             }
            },
            "type": "scattercarpet"
           }
          ],
          "scattergeo": [
           {
            "marker": {
             "colorbar": {
              "outlinewidth": 0,
              "ticks": ""
             }
            },
            "type": "scattergeo"
           }
          ],
          "scattergl": [
           {
            "marker": {
             "colorbar": {
              "outlinewidth": 0,
              "ticks": ""
             }
            },
            "type": "scattergl"
           }
          ],
          "scattermapbox": [
           {
            "marker": {
             "colorbar": {
              "outlinewidth": 0,
              "ticks": ""
             }
            },
            "type": "scattermapbox"
           }
          ],
          "scatterpolar": [
           {
            "marker": {
             "colorbar": {
              "outlinewidth": 0,
              "ticks": ""
             }
            },
            "type": "scatterpolar"
           }
          ],
          "scatterpolargl": [
           {
            "marker": {
             "colorbar": {
              "outlinewidth": 0,
              "ticks": ""
             }
            },
            "type": "scatterpolargl"
           }
          ],
          "scatterternary": [
           {
            "marker": {
             "colorbar": {
              "outlinewidth": 0,
              "ticks": ""
             }
            },
            "type": "scatterternary"
           }
          ],
          "surface": [
           {
            "colorbar": {
             "outlinewidth": 0,
             "ticks": ""
            },
            "colorscale": [
             [
              0,
              "#0d0887"
             ],
             [
              0.1111111111111111,
              "#46039f"
             ],
             [
              0.2222222222222222,
              "#7201a8"
             ],
             [
              0.3333333333333333,
              "#9c179e"
             ],
             [
              0.4444444444444444,
              "#bd3786"
             ],
             [
              0.5555555555555556,
              "#d8576b"
             ],
             [
              0.6666666666666666,
              "#ed7953"
             ],
             [
              0.7777777777777778,
              "#fb9f3a"
             ],
             [
              0.8888888888888888,
              "#fdca26"
             ],
             [
              1,
              "#f0f921"
             ]
            ],
            "type": "surface"
           }
          ],
          "table": [
           {
            "cells": {
             "fill": {
              "color": "#EBF0F8"
             },
             "line": {
              "color": "white"
             }
            },
            "header": {
             "fill": {
              "color": "#C8D4E3"
             },
             "line": {
              "color": "white"
             }
            },
            "type": "table"
           }
          ]
         },
         "layout": {
          "annotationdefaults": {
           "arrowcolor": "#2a3f5f",
           "arrowhead": 0,
           "arrowwidth": 1
          },
          "autotypenumbers": "strict",
          "coloraxis": {
           "colorbar": {
            "outlinewidth": 0,
            "ticks": ""
           }
          },
          "colorscale": {
           "diverging": [
            [
             0,
             "#8e0152"
            ],
            [
             0.1,
             "#c51b7d"
            ],
            [
             0.2,
             "#de77ae"
            ],
            [
             0.3,
             "#f1b6da"
            ],
            [
             0.4,
             "#fde0ef"
            ],
            [
             0.5,
             "#f7f7f7"
            ],
            [
             0.6,
             "#e6f5d0"
            ],
            [
             0.7,
             "#b8e186"
            ],
            [
             0.8,
             "#7fbc41"
            ],
            [
             0.9,
             "#4d9221"
            ],
            [
             1,
             "#276419"
            ]
           ],
           "sequential": [
            [
             0,
             "#0d0887"
            ],
            [
             0.1111111111111111,
             "#46039f"
            ],
            [
             0.2222222222222222,
             "#7201a8"
            ],
            [
             0.3333333333333333,
             "#9c179e"
            ],
            [
             0.4444444444444444,
             "#bd3786"
            ],
            [
             0.5555555555555556,
             "#d8576b"
            ],
            [
             0.6666666666666666,
             "#ed7953"
            ],
            [
             0.7777777777777778,
             "#fb9f3a"
            ],
            [
             0.8888888888888888,
             "#fdca26"
            ],
            [
             1,
             "#f0f921"
            ]
           ],
           "sequentialminus": [
            [
             0,
             "#0d0887"
            ],
            [
             0.1111111111111111,
             "#46039f"
            ],
            [
             0.2222222222222222,
             "#7201a8"
            ],
            [
             0.3333333333333333,
             "#9c179e"
            ],
            [
             0.4444444444444444,
             "#bd3786"
            ],
            [
             0.5555555555555556,
             "#d8576b"
            ],
            [
             0.6666666666666666,
             "#ed7953"
            ],
            [
             0.7777777777777778,
             "#fb9f3a"
            ],
            [
             0.8888888888888888,
             "#fdca26"
            ],
            [
             1,
             "#f0f921"
            ]
           ]
          },
          "colorway": [
           "#636efa",
           "#EF553B",
           "#00cc96",
           "#ab63fa",
           "#FFA15A",
           "#19d3f3",
           "#FF6692",
           "#B6E880",
           "#FF97FF",
           "#FECB52"
          ],
          "font": {
           "color": "#2a3f5f"
          },
          "geo": {
           "bgcolor": "white",
           "lakecolor": "white",
           "landcolor": "#E5ECF6",
           "showlakes": true,
           "showland": true,
           "subunitcolor": "white"
          },
          "hoverlabel": {
           "align": "left"
          },
          "hovermode": "closest",
          "mapbox": {
           "style": "light"
          },
          "paper_bgcolor": "white",
          "plot_bgcolor": "#E5ECF6",
          "polar": {
           "angularaxis": {
            "gridcolor": "white",
            "linecolor": "white",
            "ticks": ""
           },
           "bgcolor": "#E5ECF6",
           "radialaxis": {
            "gridcolor": "white",
            "linecolor": "white",
            "ticks": ""
           }
          },
          "scene": {
           "xaxis": {
            "backgroundcolor": "#E5ECF6",
            "gridcolor": "white",
            "gridwidth": 2,
            "linecolor": "white",
            "showbackground": true,
            "ticks": "",
            "zerolinecolor": "white"
           },
           "yaxis": {
            "backgroundcolor": "#E5ECF6",
            "gridcolor": "white",
            "gridwidth": 2,
            "linecolor": "white",
            "showbackground": true,
            "ticks": "",
            "zerolinecolor": "white"
           },
           "zaxis": {
            "backgroundcolor": "#E5ECF6",
            "gridcolor": "white",
            "gridwidth": 2,
            "linecolor": "white",
            "showbackground": true,
            "ticks": "",
            "zerolinecolor": "white"
           }
          },
          "shapedefaults": {
           "line": {
            "color": "#2a3f5f"
           }
          },
          "ternary": {
           "aaxis": {
            "gridcolor": "white",
            "linecolor": "white",
            "ticks": ""
           },
           "baxis": {
            "gridcolor": "white",
            "linecolor": "white",
            "ticks": ""
           },
           "bgcolor": "#E5ECF6",
           "caxis": {
            "gridcolor": "white",
            "linecolor": "white",
            "ticks": ""
           }
          },
          "title": {
           "x": 0.05
          },
          "xaxis": {
           "automargin": true,
           "gridcolor": "white",
           "linecolor": "white",
           "ticks": "",
           "title": {
            "standoff": 15
           },
           "zerolinecolor": "white",
           "zerolinewidth": 2
          },
          "yaxis": {
           "automargin": true,
           "gridcolor": "white",
           "linecolor": "white",
           "ticks": "",
           "title": {
            "standoff": 15
           },
           "zerolinecolor": "white",
           "zerolinewidth": 2
          }
         }
        },
        "title": {
         "text": "Posts Per Day Distribution"
        },
        "xaxis": {
         "anchor": "y",
         "domain": [
          0,
          1
         ],
         "title": {
          "text": "Posts_Per_Day"
         }
        },
        "yaxis": {
         "anchor": "x",
         "domain": [
          0,
          1
         ],
         "title": {
          "text": "count"
         }
        }
       }
      }
     },
     "metadata": {},
     "output_type": "display_data"
    }
   ],
   "source": [
    "plt = px.histogram(train_df, x='Posts_Per_Day', title='Posts Per Day Distribution')\n",
    "plt.show()"
   ]
  },
  {
   "cell_type": "markdown",
   "metadata": {},
   "source": [
    "### **Likes Per Day Distribution**"
   ]
  },
  {
   "cell_type": "code",
   "execution_count": 58,
   "metadata": {},
   "outputs": [
    {
     "data": {
      "text/plain": [
       "array([ 45.,  20.,  15., 100.,   5.,  60.,  30.,  25.,  10.,  80.,  35.,\n",
       "        12.,  90.,  40.,  55.,  33.,   8.,  70.,  28.,  11.,  95.,  18.,\n",
       "         9.,  85.,  38.,   6.,  13.,  75.,  27.,  88.,  22.,  78.,  29.,\n",
       "        50.,  36.,  72.,  65., 110.,  14.,  17., 105.,  43.,  37.,  42.,\n",
       "        48.,  21.,  24.,  23.,  83.,  nan])"
      ]
     },
     "execution_count": 58,
     "metadata": {},
     "output_type": "execute_result"
    }
   ],
   "source": [
    "train_df['Likes_Received_Per_Day'].unique()"
   ]
  },
  {
   "cell_type": "code",
   "execution_count": 59,
   "metadata": {},
   "outputs": [
    {
     "name": "stderr",
     "output_type": "stream",
     "text": [
      "C:\\Users\\LENOVO\\AppData\\Local\\Temp/ipykernel_7600/3126200830.py:1: FutureWarning:\n",
      "\n",
      "A value is trying to be set on a copy of a DataFrame or Series through chained assignment using an inplace method.\n",
      "The behavior will change in pandas 3.0. This inplace method will never work because the intermediate object on which we are setting values always behaves as a copy.\n",
      "\n",
      "For example, when doing 'df[col].method(value, inplace=True)', try using 'df.method({col: value}, inplace=True)' or df[col] = df[col].method(value) instead, to perform the operation inplace on the original object.\n",
      "\n",
      "\n",
      "\n"
     ]
    }
   ],
   "source": [
    "train_df['Likes_Received_Per_Day'].fillna(train_df['Likes_Received_Per_Day'].mode()[0], inplace = True)"
   ]
  },
  {
   "cell_type": "code",
   "execution_count": 60,
   "metadata": {},
   "outputs": [
    {
     "data": {
      "application/vnd.plotly.v1+json": {
       "config": {
        "plotlyServerURL": "https://plot.ly"
       },
       "data": [
        {
         "alignmentgroup": "True",
         "bingroup": "x",
         "hovertemplate": "Likes_Received_Per_Day=%{x}<br>count=%{y}<extra></extra>",
         "legendgroup": "",
         "marker": {
          "color": "#636efa",
          "pattern": {
           "shape": ""
          }
         },
         "name": "",
         "offsetgroup": "",
         "orientation": "v",
         "showlegend": false,
         "type": "histogram",
         "x": [
          45,
          20,
          15,
          100,
          5,
          60,
          30,
          25,
          10,
          80,
          35,
          20,
          12,
          90,
          40,
          5,
          55,
          33,
          8,
          70,
          25,
          28,
          11,
          95,
          20,
          18,
          9,
          85,
          38,
          6,
          13,
          75,
          27,
          88,
          22,
          10,
          90,
          35,
          55,
          18,
          6,
          80,
          40,
          20,
          12,
          85,
          33,
          28,
          70,
          8,
          78,
          29,
          25,
          60,
          10,
          40,
          20,
          15,
          45,
          10,
          70,
          20,
          18,
          50,
          40,
          8,
          75,
          25,
          45,
          18,
          60,
          12,
          15,
          20,
          28,
          36,
          72,
          22,
          12,
          35,
          18,
          30,
          55,
          20,
          18,
          35,
          40,
          15,
          78,
          28,
          8,
          50,
          33,
          20,
          65,
          30,
          12,
          45,
          15,
          38,
          50,
          30,
          20,
          110,
          10,
          65,
          40,
          35,
          15,
          90,
          45,
          30,
          14,
          100,
          50,
          10,
          65,
          40,
          12,
          75,
          30,
          35,
          17,
          105,
          25,
          20,
          12,
          85,
          43,
          8,
          17,
          80,
          30,
          95,
          27,
          11,
          95,
          45,
          60,
          22,
          9,
          90,
          50,
          25,
          15,
          100,
          37,
          30,
          80,
          12,
          85,
          33,
          27,
          65,
          15,
          42,
          22,
          18,
          48,
          12,
          72,
          22,
          21,
          55,
          42,
          12,
          78,
          27,
          48,
          21,
          65,
          13,
          17,
          24,
          30,
          38,
          75,
          23,
          13,
          37,
          20,
          33,
          60,
          22,
          20,
          37,
          45,
          18,
          83,
          30,
          10,
          55,
          37,
          23,
          70,
          35,
          14,
          50,
          18,
          40,
          50,
          30,
          20,
          110,
          10,
          65,
          40,
          35,
          15,
          90,
          45,
          30,
          14,
          100,
          50,
          10,
          65,
          40,
          12,
          75,
          30,
          35,
          17,
          105,
          25,
          20,
          12,
          85,
          43,
          8,
          17,
          80,
          30,
          95,
          27,
          11,
          95,
          45,
          60,
          22,
          9,
          90,
          50,
          25,
          15,
          100,
          37,
          30,
          80,
          12,
          85,
          33,
          27,
          65,
          15,
          42,
          22,
          18,
          48,
          12,
          72,
          22,
          21,
          55,
          42,
          12,
          78,
          27,
          48,
          21,
          65,
          13,
          17,
          24,
          30,
          38,
          75,
          23,
          13,
          37,
          20,
          33,
          60,
          22,
          20,
          37,
          45,
          18,
          83,
          30,
          10,
          55,
          37,
          23,
          70,
          35,
          14,
          50,
          18,
          40,
          50,
          30,
          20,
          110,
          10,
          65,
          40,
          35,
          15,
          90,
          45,
          30,
          14,
          100,
          50,
          10,
          65,
          40,
          12,
          75,
          30,
          35,
          17,
          105,
          25,
          20,
          12,
          85,
          43,
          8,
          17,
          80,
          30,
          95,
          27,
          11,
          95,
          45,
          60,
          22,
          9,
          90,
          50,
          25,
          15,
          100,
          37,
          30,
          80,
          12,
          85,
          33,
          27,
          65,
          15,
          42,
          22,
          18,
          48,
          12,
          72,
          22,
          21,
          55,
          42,
          12,
          78,
          27,
          48,
          21,
          65,
          13,
          17,
          24,
          30,
          38,
          75,
          23,
          13,
          37,
          20,
          33,
          60,
          22,
          20,
          37,
          45,
          18,
          83,
          30,
          10,
          55,
          37,
          23,
          70,
          35,
          14,
          50,
          18,
          40,
          50,
          30,
          20,
          110,
          10,
          65,
          40,
          35,
          15,
          90,
          45,
          30,
          14,
          100,
          50,
          10,
          65,
          40,
          12,
          75,
          30,
          35,
          17,
          105,
          25,
          20,
          12,
          85,
          43,
          8,
          17,
          80,
          30,
          95,
          27,
          11,
          95,
          45,
          60,
          22,
          9,
          90,
          50,
          25,
          15,
          100,
          37,
          30,
          80,
          12,
          85,
          33,
          27,
          65,
          15,
          42,
          22,
          18,
          48,
          12,
          72,
          22,
          21,
          55,
          42,
          12,
          78,
          27,
          48,
          21,
          65,
          13,
          17,
          24,
          30,
          38,
          75,
          23,
          13,
          37,
          20,
          33,
          60,
          22,
          20,
          37,
          45,
          18,
          83,
          30,
          10,
          55,
          37,
          23,
          70,
          35,
          14,
          50,
          18,
          40,
          50,
          30,
          20,
          110,
          10,
          65,
          40,
          35,
          15,
          90,
          45,
          30,
          14,
          100,
          50,
          10,
          65,
          40,
          12,
          75,
          30,
          35,
          17,
          105,
          25,
          20,
          12,
          85,
          43,
          8,
          17,
          80,
          30,
          95,
          27,
          11,
          95,
          45,
          60,
          22,
          9,
          90,
          50,
          25,
          15,
          100,
          37,
          30,
          80,
          12,
          85,
          33,
          27,
          65,
          15,
          42,
          22,
          18,
          48,
          12,
          72,
          22,
          21,
          55,
          42,
          12,
          78,
          27,
          48,
          21,
          65,
          13,
          17,
          24,
          30,
          38,
          75,
          23,
          13,
          37,
          20,
          33,
          60,
          22,
          20,
          37,
          45,
          18,
          83,
          30,
          10,
          55,
          37,
          23,
          70,
          35,
          14,
          50,
          18,
          40,
          50,
          30,
          20,
          110,
          10,
          65,
          40,
          35,
          15,
          90,
          45,
          30,
          14,
          100,
          50,
          10,
          65,
          40,
          12,
          75,
          30,
          35,
          17,
          105,
          25,
          20,
          12,
          85,
          43,
          8,
          17,
          80,
          30,
          95,
          27,
          11,
          95,
          45,
          60,
          22,
          9,
          30,
          90,
          50,
          25,
          15,
          100,
          37,
          30,
          80,
          12,
          85,
          33,
          27,
          65,
          15,
          42,
          22,
          18,
          48,
          12,
          72,
          22,
          21,
          55,
          42,
          12,
          78,
          27,
          48,
          21,
          65,
          13,
          17,
          24,
          30,
          38,
          75,
          23,
          13,
          37,
          20,
          33,
          60,
          22,
          20,
          37,
          45,
          18,
          83,
          30,
          10,
          55,
          37,
          23,
          70,
          35,
          14,
          50,
          18,
          40,
          50,
          30,
          20,
          110,
          10,
          65,
          40,
          35,
          15,
          90,
          45,
          30,
          14,
          100,
          50,
          10,
          65,
          40,
          12,
          75,
          30,
          35,
          17,
          105,
          25,
          20,
          12,
          85,
          43,
          8,
          17,
          80,
          30,
          95,
          27,
          11,
          95,
          45,
          60,
          22,
          9,
          90,
          50,
          25,
          15,
          100,
          37,
          30,
          80,
          12,
          85,
          33,
          27,
          65,
          15,
          42,
          22,
          18,
          48,
          12,
          72,
          22,
          21,
          55,
          42,
          12,
          78,
          27,
          48,
          21,
          65,
          13,
          17,
          24,
          30,
          38,
          75,
          23,
          13,
          37,
          20,
          33,
          60,
          22,
          20,
          37,
          45,
          18,
          83,
          30,
          10,
          55,
          37,
          23,
          70,
          35,
          14,
          50,
          18,
          40,
          50,
          30,
          20,
          110,
          10,
          65,
          40,
          35,
          15,
          90,
          45,
          30,
          14,
          100,
          50,
          10,
          65,
          40,
          12,
          75,
          30,
          35,
          17,
          105,
          25,
          20,
          12,
          85,
          43,
          8,
          17,
          80,
          30,
          95,
          27,
          11,
          95,
          45,
          60,
          22,
          9,
          90,
          50,
          25,
          15,
          100,
          37,
          30,
          80,
          12,
          85,
          33,
          27,
          65,
          15,
          42,
          22,
          18,
          48,
          12,
          72,
          22,
          21,
          55,
          42,
          12,
          78,
          27,
          48,
          21,
          65,
          13,
          17,
          24,
          30,
          38,
          75,
          23,
          13,
          37,
          20,
          33,
          60,
          22,
          20,
          37,
          45,
          18,
          83,
          30,
          10,
          55,
          37,
          23,
          70,
          35,
          14,
          50,
          18,
          40,
          50,
          30,
          20,
          110,
          10,
          65,
          40,
          35,
          15,
          90,
          45,
          30,
          14,
          100,
          50,
          10,
          65,
          40,
          12,
          75,
          30,
          35,
          17,
          105,
          25,
          20,
          12,
          85,
          43,
          8,
          17,
          80,
          30,
          95,
          27,
          11,
          95,
          45,
          60,
          22,
          9,
          90,
          50,
          25,
          15,
          100,
          37,
          30,
          80,
          12,
          85,
          33,
          27,
          65,
          15,
          42,
          22,
          18,
          48,
          12,
          72,
          22,
          21,
          55,
          42,
          12,
          78,
          27,
          48,
          21,
          65,
          13,
          17,
          24,
          30,
          38,
          75,
          23,
          13,
          37,
          20,
          33,
          60,
          22,
          20,
          37,
          45,
          18,
          83,
          30,
          10,
          55,
          37,
          23,
          70,
          35,
          14,
          50,
          18,
          40
         ],
         "xaxis": "x",
         "yaxis": "y"
        }
       ],
       "layout": {
        "barmode": "relative",
        "legend": {
         "tracegroupgap": 0
        },
        "template": {
         "data": {
          "bar": [
           {
            "error_x": {
             "color": "#2a3f5f"
            },
            "error_y": {
             "color": "#2a3f5f"
            },
            "marker": {
             "line": {
              "color": "#E5ECF6",
              "width": 0.5
             },
             "pattern": {
              "fillmode": "overlay",
              "size": 10,
              "solidity": 0.2
             }
            },
            "type": "bar"
           }
          ],
          "barpolar": [
           {
            "marker": {
             "line": {
              "color": "#E5ECF6",
              "width": 0.5
             },
             "pattern": {
              "fillmode": "overlay",
              "size": 10,
              "solidity": 0.2
             }
            },
            "type": "barpolar"
           }
          ],
          "carpet": [
           {
            "aaxis": {
             "endlinecolor": "#2a3f5f",
             "gridcolor": "white",
             "linecolor": "white",
             "minorgridcolor": "white",
             "startlinecolor": "#2a3f5f"
            },
            "baxis": {
             "endlinecolor": "#2a3f5f",
             "gridcolor": "white",
             "linecolor": "white",
             "minorgridcolor": "white",
             "startlinecolor": "#2a3f5f"
            },
            "type": "carpet"
           }
          ],
          "choropleth": [
           {
            "colorbar": {
             "outlinewidth": 0,
             "ticks": ""
            },
            "type": "choropleth"
           }
          ],
          "contour": [
           {
            "colorbar": {
             "outlinewidth": 0,
             "ticks": ""
            },
            "colorscale": [
             [
              0,
              "#0d0887"
             ],
             [
              0.1111111111111111,
              "#46039f"
             ],
             [
              0.2222222222222222,
              "#7201a8"
             ],
             [
              0.3333333333333333,
              "#9c179e"
             ],
             [
              0.4444444444444444,
              "#bd3786"
             ],
             [
              0.5555555555555556,
              "#d8576b"
             ],
             [
              0.6666666666666666,
              "#ed7953"
             ],
             [
              0.7777777777777778,
              "#fb9f3a"
             ],
             [
              0.8888888888888888,
              "#fdca26"
             ],
             [
              1,
              "#f0f921"
             ]
            ],
            "type": "contour"
           }
          ],
          "contourcarpet": [
           {
            "colorbar": {
             "outlinewidth": 0,
             "ticks": ""
            },
            "type": "contourcarpet"
           }
          ],
          "heatmap": [
           {
            "colorbar": {
             "outlinewidth": 0,
             "ticks": ""
            },
            "colorscale": [
             [
              0,
              "#0d0887"
             ],
             [
              0.1111111111111111,
              "#46039f"
             ],
             [
              0.2222222222222222,
              "#7201a8"
             ],
             [
              0.3333333333333333,
              "#9c179e"
             ],
             [
              0.4444444444444444,
              "#bd3786"
             ],
             [
              0.5555555555555556,
              "#d8576b"
             ],
             [
              0.6666666666666666,
              "#ed7953"
             ],
             [
              0.7777777777777778,
              "#fb9f3a"
             ],
             [
              0.8888888888888888,
              "#fdca26"
             ],
             [
              1,
              "#f0f921"
             ]
            ],
            "type": "heatmap"
           }
          ],
          "heatmapgl": [
           {
            "colorbar": {
             "outlinewidth": 0,
             "ticks": ""
            },
            "colorscale": [
             [
              0,
              "#0d0887"
             ],
             [
              0.1111111111111111,
              "#46039f"
             ],
             [
              0.2222222222222222,
              "#7201a8"
             ],
             [
              0.3333333333333333,
              "#9c179e"
             ],
             [
              0.4444444444444444,
              "#bd3786"
             ],
             [
              0.5555555555555556,
              "#d8576b"
             ],
             [
              0.6666666666666666,
              "#ed7953"
             ],
             [
              0.7777777777777778,
              "#fb9f3a"
             ],
             [
              0.8888888888888888,
              "#fdca26"
             ],
             [
              1,
              "#f0f921"
             ]
            ],
            "type": "heatmapgl"
           }
          ],
          "histogram": [
           {
            "marker": {
             "pattern": {
              "fillmode": "overlay",
              "size": 10,
              "solidity": 0.2
             }
            },
            "type": "histogram"
           }
          ],
          "histogram2d": [
           {
            "colorbar": {
             "outlinewidth": 0,
             "ticks": ""
            },
            "colorscale": [
             [
              0,
              "#0d0887"
             ],
             [
              0.1111111111111111,
              "#46039f"
             ],
             [
              0.2222222222222222,
              "#7201a8"
             ],
             [
              0.3333333333333333,
              "#9c179e"
             ],
             [
              0.4444444444444444,
              "#bd3786"
             ],
             [
              0.5555555555555556,
              "#d8576b"
             ],
             [
              0.6666666666666666,
              "#ed7953"
             ],
             [
              0.7777777777777778,
              "#fb9f3a"
             ],
             [
              0.8888888888888888,
              "#fdca26"
             ],
             [
              1,
              "#f0f921"
             ]
            ],
            "type": "histogram2d"
           }
          ],
          "histogram2dcontour": [
           {
            "colorbar": {
             "outlinewidth": 0,
             "ticks": ""
            },
            "colorscale": [
             [
              0,
              "#0d0887"
             ],
             [
              0.1111111111111111,
              "#46039f"
             ],
             [
              0.2222222222222222,
              "#7201a8"
             ],
             [
              0.3333333333333333,
              "#9c179e"
             ],
             [
              0.4444444444444444,
              "#bd3786"
             ],
             [
              0.5555555555555556,
              "#d8576b"
             ],
             [
              0.6666666666666666,
              "#ed7953"
             ],
             [
              0.7777777777777778,
              "#fb9f3a"
             ],
             [
              0.8888888888888888,
              "#fdca26"
             ],
             [
              1,
              "#f0f921"
             ]
            ],
            "type": "histogram2dcontour"
           }
          ],
          "mesh3d": [
           {
            "colorbar": {
             "outlinewidth": 0,
             "ticks": ""
            },
            "type": "mesh3d"
           }
          ],
          "parcoords": [
           {
            "line": {
             "colorbar": {
              "outlinewidth": 0,
              "ticks": ""
             }
            },
            "type": "parcoords"
           }
          ],
          "pie": [
           {
            "automargin": true,
            "type": "pie"
           }
          ],
          "scatter": [
           {
            "fillpattern": {
             "fillmode": "overlay",
             "size": 10,
             "solidity": 0.2
            },
            "type": "scatter"
           }
          ],
          "scatter3d": [
           {
            "line": {
             "colorbar": {
              "outlinewidth": 0,
              "ticks": ""
             }
            },
            "marker": {
             "colorbar": {
              "outlinewidth": 0,
              "ticks": ""
             }
            },
            "type": "scatter3d"
           }
          ],
          "scattercarpet": [
           {
            "marker": {
             "colorbar": {
              "outlinewidth": 0,
              "ticks": ""
             }
            },
            "type": "scattercarpet"
           }
          ],
          "scattergeo": [
           {
            "marker": {
             "colorbar": {
              "outlinewidth": 0,
              "ticks": ""
             }
            },
            "type": "scattergeo"
           }
          ],
          "scattergl": [
           {
            "marker": {
             "colorbar": {
              "outlinewidth": 0,
              "ticks": ""
             }
            },
            "type": "scattergl"
           }
          ],
          "scattermapbox": [
           {
            "marker": {
             "colorbar": {
              "outlinewidth": 0,
              "ticks": ""
             }
            },
            "type": "scattermapbox"
           }
          ],
          "scatterpolar": [
           {
            "marker": {
             "colorbar": {
              "outlinewidth": 0,
              "ticks": ""
             }
            },
            "type": "scatterpolar"
           }
          ],
          "scatterpolargl": [
           {
            "marker": {
             "colorbar": {
              "outlinewidth": 0,
              "ticks": ""
             }
            },
            "type": "scatterpolargl"
           }
          ],
          "scatterternary": [
           {
            "marker": {
             "colorbar": {
              "outlinewidth": 0,
              "ticks": ""
             }
            },
            "type": "scatterternary"
           }
          ],
          "surface": [
           {
            "colorbar": {
             "outlinewidth": 0,
             "ticks": ""
            },
            "colorscale": [
             [
              0,
              "#0d0887"
             ],
             [
              0.1111111111111111,
              "#46039f"
             ],
             [
              0.2222222222222222,
              "#7201a8"
             ],
             [
              0.3333333333333333,
              "#9c179e"
             ],
             [
              0.4444444444444444,
              "#bd3786"
             ],
             [
              0.5555555555555556,
              "#d8576b"
             ],
             [
              0.6666666666666666,
              "#ed7953"
             ],
             [
              0.7777777777777778,
              "#fb9f3a"
             ],
             [
              0.8888888888888888,
              "#fdca26"
             ],
             [
              1,
              "#f0f921"
             ]
            ],
            "type": "surface"
           }
          ],
          "table": [
           {
            "cells": {
             "fill": {
              "color": "#EBF0F8"
             },
             "line": {
              "color": "white"
             }
            },
            "header": {
             "fill": {
              "color": "#C8D4E3"
             },
             "line": {
              "color": "white"
             }
            },
            "type": "table"
           }
          ]
         },
         "layout": {
          "annotationdefaults": {
           "arrowcolor": "#2a3f5f",
           "arrowhead": 0,
           "arrowwidth": 1
          },
          "autotypenumbers": "strict",
          "coloraxis": {
           "colorbar": {
            "outlinewidth": 0,
            "ticks": ""
           }
          },
          "colorscale": {
           "diverging": [
            [
             0,
             "#8e0152"
            ],
            [
             0.1,
             "#c51b7d"
            ],
            [
             0.2,
             "#de77ae"
            ],
            [
             0.3,
             "#f1b6da"
            ],
            [
             0.4,
             "#fde0ef"
            ],
            [
             0.5,
             "#f7f7f7"
            ],
            [
             0.6,
             "#e6f5d0"
            ],
            [
             0.7,
             "#b8e186"
            ],
            [
             0.8,
             "#7fbc41"
            ],
            [
             0.9,
             "#4d9221"
            ],
            [
             1,
             "#276419"
            ]
           ],
           "sequential": [
            [
             0,
             "#0d0887"
            ],
            [
             0.1111111111111111,
             "#46039f"
            ],
            [
             0.2222222222222222,
             "#7201a8"
            ],
            [
             0.3333333333333333,
             "#9c179e"
            ],
            [
             0.4444444444444444,
             "#bd3786"
            ],
            [
             0.5555555555555556,
             "#d8576b"
            ],
            [
             0.6666666666666666,
             "#ed7953"
            ],
            [
             0.7777777777777778,
             "#fb9f3a"
            ],
            [
             0.8888888888888888,
             "#fdca26"
            ],
            [
             1,
             "#f0f921"
            ]
           ],
           "sequentialminus": [
            [
             0,
             "#0d0887"
            ],
            [
             0.1111111111111111,
             "#46039f"
            ],
            [
             0.2222222222222222,
             "#7201a8"
            ],
            [
             0.3333333333333333,
             "#9c179e"
            ],
            [
             0.4444444444444444,
             "#bd3786"
            ],
            [
             0.5555555555555556,
             "#d8576b"
            ],
            [
             0.6666666666666666,
             "#ed7953"
            ],
            [
             0.7777777777777778,
             "#fb9f3a"
            ],
            [
             0.8888888888888888,
             "#fdca26"
            ],
            [
             1,
             "#f0f921"
            ]
           ]
          },
          "colorway": [
           "#636efa",
           "#EF553B",
           "#00cc96",
           "#ab63fa",
           "#FFA15A",
           "#19d3f3",
           "#FF6692",
           "#B6E880",
           "#FF97FF",
           "#FECB52"
          ],
          "font": {
           "color": "#2a3f5f"
          },
          "geo": {
           "bgcolor": "white",
           "lakecolor": "white",
           "landcolor": "#E5ECF6",
           "showlakes": true,
           "showland": true,
           "subunitcolor": "white"
          },
          "hoverlabel": {
           "align": "left"
          },
          "hovermode": "closest",
          "mapbox": {
           "style": "light"
          },
          "paper_bgcolor": "white",
          "plot_bgcolor": "#E5ECF6",
          "polar": {
           "angularaxis": {
            "gridcolor": "white",
            "linecolor": "white",
            "ticks": ""
           },
           "bgcolor": "#E5ECF6",
           "radialaxis": {
            "gridcolor": "white",
            "linecolor": "white",
            "ticks": ""
           }
          },
          "scene": {
           "xaxis": {
            "backgroundcolor": "#E5ECF6",
            "gridcolor": "white",
            "gridwidth": 2,
            "linecolor": "white",
            "showbackground": true,
            "ticks": "",
            "zerolinecolor": "white"
           },
           "yaxis": {
            "backgroundcolor": "#E5ECF6",
            "gridcolor": "white",
            "gridwidth": 2,
            "linecolor": "white",
            "showbackground": true,
            "ticks": "",
            "zerolinecolor": "white"
           },
           "zaxis": {
            "backgroundcolor": "#E5ECF6",
            "gridcolor": "white",
            "gridwidth": 2,
            "linecolor": "white",
            "showbackground": true,
            "ticks": "",
            "zerolinecolor": "white"
           }
          },
          "shapedefaults": {
           "line": {
            "color": "#2a3f5f"
           }
          },
          "ternary": {
           "aaxis": {
            "gridcolor": "white",
            "linecolor": "white",
            "ticks": ""
           },
           "baxis": {
            "gridcolor": "white",
            "linecolor": "white",
            "ticks": ""
           },
           "bgcolor": "#E5ECF6",
           "caxis": {
            "gridcolor": "white",
            "linecolor": "white",
            "ticks": ""
           }
          },
          "title": {
           "x": 0.05
          },
          "xaxis": {
           "automargin": true,
           "gridcolor": "white",
           "linecolor": "white",
           "ticks": "",
           "title": {
            "standoff": 15
           },
           "zerolinecolor": "white",
           "zerolinewidth": 2
          },
          "yaxis": {
           "automargin": true,
           "gridcolor": "white",
           "linecolor": "white",
           "ticks": "",
           "title": {
            "standoff": 15
           },
           "zerolinecolor": "white",
           "zerolinewidth": 2
          }
         }
        },
        "title": {
         "text": "Likes Received Per Day Distribution"
        },
        "xaxis": {
         "anchor": "y",
         "domain": [
          0,
          1
         ],
         "title": {
          "text": "Likes_Received_Per_Day"
         }
        },
        "yaxis": {
         "anchor": "x",
         "domain": [
          0,
          1
         ],
         "title": {
          "text": "count"
         }
        }
       }
      }
     },
     "metadata": {},
     "output_type": "display_data"
    }
   ],
   "source": [
    "plt = px.histogram(train_df, x='Likes_Received_Per_Day', title='Likes Received Per Day Distribution')\n",
    "plt.show()"
   ]
  },
  {
   "cell_type": "markdown",
   "metadata": {},
   "source": [
    "### **Comments Per Day Distribution**"
   ]
  },
  {
   "cell_type": "code",
   "execution_count": 61,
   "metadata": {},
   "outputs": [
    {
     "data": {
      "text/plain": [
       "array([10., 25.,  5., 30.,  2., 15., 12.,  3., 20.,  7.,  4., 23., 18.,\n",
       "       22., 14., 26.,  8., 19., 17., 11.,  6.,  9., 13., 40., 16., 35.,\n",
       "       38., 28., 36., 33., nan])"
      ]
     },
     "execution_count": 61,
     "metadata": {},
     "output_type": "execute_result"
    }
   ],
   "source": [
    "train_df['Comments_Received_Per_Day'].unique()"
   ]
  },
  {
   "cell_type": "code",
   "execution_count": 62,
   "metadata": {},
   "outputs": [
    {
     "name": "stderr",
     "output_type": "stream",
     "text": [
      "C:\\Users\\LENOVO\\AppData\\Local\\Temp/ipykernel_7600/2426418402.py:1: FutureWarning:\n",
      "\n",
      "A value is trying to be set on a copy of a DataFrame or Series through chained assignment using an inplace method.\n",
      "The behavior will change in pandas 3.0. This inplace method will never work because the intermediate object on which we are setting values always behaves as a copy.\n",
      "\n",
      "For example, when doing 'df[col].method(value, inplace=True)', try using 'df.method({col: value}, inplace=True)' or df[col] = df[col].method(value) instead, to perform the operation inplace on the original object.\n",
      "\n",
      "\n",
      "\n"
     ]
    }
   ],
   "source": [
    "train_df['Comments_Received_Per_Day'].fillna(train_df['Comments_Received_Per_Day'].mode()[0], inplace = True)"
   ]
  },
  {
   "cell_type": "code",
   "execution_count": 63,
   "metadata": {},
   "outputs": [
    {
     "data": {
      "application/vnd.plotly.v1+json": {
       "config": {
        "plotlyServerURL": "https://plot.ly"
       },
       "data": [
        {
         "alignmentgroup": "True",
         "bingroup": "x",
         "hovertemplate": "Comments_Received_Per_Day=%{x}<br>count=%{y}<extra></extra>",
         "legendgroup": "",
         "marker": {
          "color": "#636efa",
          "pattern": {
           "shape": ""
          }
         },
         "name": "",
         "offsetgroup": "",
         "orientation": "v",
         "showlegend": false,
         "type": "histogram",
         "x": [
          10,
          25,
          5,
          30,
          2,
          15,
          10,
          12,
          3,
          20,
          7,
          10,
          4,
          25,
          23,
          2,
          18,
          15,
          3,
          22,
          10,
          14,
          5,
          26,
          12,
          8,
          2,
          19,
          17,
          3,
          4,
          20,
          11,
          15,
          8,
          5,
          25,
          15,
          12,
          10,
          2,
          18,
          20,
          8,
          5,
          23,
          12,
          11,
          19,
          4,
          22,
          15,
          7,
          18,
          3,
          8,
          10,
          5,
          20,
          4,
          23,
          8,
          7,
          15,
          12,
          2,
          18,
          8,
          15,
          6,
          18,
          7,
          5,
          9,
          11,
          12,
          20,
          10,
          5,
          14,
          6,
          13,
          19,
          5,
          8,
          12,
          15,
          5,
          22,
          10,
          2,
          18,
          13,
          7,
          20,
          13,
          5,
          20,
          6,
          13,
          20,
          20,
          10,
          40,
          5,
          25,
          18,
          16,
          5,
          35,
          20,
          14,
          6,
          38,
          30,
          4,
          22,
          16,
          6,
          28,
          14,
          20,
          8,
          36,
          16,
          10,
          5,
          26,
          19,
          4,
          5,
          30,
          14,
          22,
          11,
          6,
          30,
          18,
          17,
          12,
          4,
          26,
          22,
          12,
          7,
          33,
          14,
          12,
          28,
          6,
          30,
          18,
          9,
          23,
          7,
          10,
          11,
          7,
          22,
          5,
          30,
          10,
          8,
          18,
          14,
          4,
          23,
          10,
          20,
          8,
          22,
          8,
          7,
          12,
          13,
          18,
          25,
          12,
          7,
          18,
          10,
          20,
          25,
          7,
          8,
          14,
          20,
          7,
          30,
          12,
          4,
          25,
          16,
          10,
          25,
          18,
          6,
          25,
          8,
          18,
          20,
          20,
          10,
          40,
          5,
          25,
          18,
          16,
          5,
          35,
          20,
          14,
          6,
          38,
          30,
          4,
          22,
          16,
          6,
          28,
          14,
          20,
          8,
          36,
          16,
          10,
          5,
          26,
          19,
          4,
          5,
          30,
          14,
          22,
          11,
          6,
          30,
          18,
          17,
          12,
          4,
          26,
          22,
          12,
          7,
          33,
          14,
          12,
          28,
          6,
          30,
          18,
          9,
          23,
          7,
          10,
          11,
          7,
          22,
          5,
          30,
          10,
          8,
          18,
          14,
          4,
          23,
          10,
          20,
          8,
          22,
          8,
          7,
          12,
          13,
          18,
          25,
          12,
          7,
          18,
          10,
          20,
          25,
          7,
          8,
          14,
          20,
          7,
          30,
          12,
          4,
          25,
          16,
          10,
          25,
          18,
          6,
          25,
          8,
          18,
          20,
          20,
          10,
          40,
          5,
          25,
          18,
          16,
          5,
          35,
          20,
          14,
          6,
          38,
          30,
          4,
          22,
          16,
          6,
          28,
          14,
          20,
          8,
          36,
          16,
          10,
          5,
          26,
          19,
          4,
          5,
          30,
          14,
          22,
          11,
          6,
          30,
          18,
          17,
          12,
          4,
          26,
          22,
          12,
          7,
          33,
          14,
          12,
          28,
          6,
          30,
          18,
          9,
          23,
          7,
          10,
          11,
          7,
          22,
          5,
          30,
          10,
          8,
          18,
          14,
          4,
          23,
          10,
          20,
          8,
          22,
          8,
          7,
          12,
          13,
          18,
          25,
          12,
          7,
          18,
          10,
          20,
          25,
          7,
          8,
          14,
          20,
          7,
          30,
          12,
          4,
          25,
          16,
          10,
          25,
          18,
          6,
          25,
          8,
          18,
          20,
          20,
          10,
          40,
          5,
          25,
          18,
          16,
          5,
          35,
          20,
          14,
          6,
          38,
          30,
          4,
          22,
          16,
          6,
          28,
          14,
          20,
          8,
          36,
          16,
          10,
          5,
          26,
          19,
          4,
          5,
          30,
          14,
          22,
          11,
          6,
          30,
          18,
          17,
          12,
          4,
          26,
          22,
          12,
          7,
          33,
          14,
          12,
          28,
          6,
          30,
          18,
          9,
          23,
          7,
          10,
          11,
          7,
          22,
          5,
          30,
          10,
          8,
          18,
          14,
          4,
          23,
          10,
          20,
          8,
          22,
          8,
          7,
          12,
          13,
          18,
          25,
          12,
          7,
          18,
          10,
          20,
          25,
          7,
          8,
          14,
          20,
          7,
          30,
          12,
          4,
          25,
          16,
          10,
          25,
          18,
          6,
          25,
          8,
          18,
          20,
          20,
          10,
          40,
          5,
          25,
          18,
          16,
          5,
          35,
          20,
          14,
          6,
          38,
          30,
          4,
          22,
          16,
          6,
          28,
          14,
          20,
          8,
          36,
          16,
          10,
          5,
          26,
          19,
          4,
          5,
          30,
          14,
          22,
          11,
          6,
          30,
          18,
          17,
          12,
          4,
          26,
          22,
          12,
          7,
          33,
          14,
          12,
          28,
          6,
          30,
          18,
          9,
          23,
          7,
          10,
          11,
          7,
          22,
          5,
          30,
          10,
          8,
          18,
          14,
          4,
          23,
          10,
          20,
          8,
          22,
          8,
          7,
          12,
          13,
          18,
          25,
          12,
          7,
          18,
          10,
          20,
          25,
          7,
          8,
          14,
          20,
          7,
          30,
          12,
          4,
          25,
          16,
          10,
          25,
          18,
          6,
          25,
          8,
          18,
          20,
          20,
          10,
          40,
          5,
          25,
          18,
          16,
          5,
          35,
          20,
          14,
          6,
          38,
          30,
          4,
          22,
          16,
          6,
          28,
          14,
          20,
          8,
          36,
          16,
          10,
          5,
          26,
          19,
          4,
          5,
          30,
          14,
          22,
          11,
          6,
          30,
          18,
          17,
          12,
          4,
          18,
          26,
          22,
          12,
          7,
          33,
          14,
          12,
          28,
          6,
          30,
          18,
          9,
          23,
          7,
          10,
          11,
          7,
          22,
          5,
          30,
          10,
          8,
          18,
          14,
          4,
          23,
          10,
          20,
          8,
          22,
          8,
          7,
          12,
          13,
          18,
          25,
          12,
          7,
          18,
          10,
          20,
          25,
          7,
          8,
          14,
          20,
          7,
          30,
          12,
          4,
          25,
          16,
          10,
          25,
          18,
          6,
          25,
          8,
          18,
          20,
          20,
          10,
          40,
          5,
          25,
          18,
          16,
          5,
          35,
          20,
          14,
          6,
          38,
          30,
          4,
          22,
          16,
          6,
          28,
          14,
          20,
          8,
          36,
          16,
          10,
          5,
          26,
          19,
          4,
          5,
          30,
          14,
          22,
          11,
          6,
          30,
          18,
          17,
          12,
          4,
          26,
          22,
          12,
          7,
          33,
          14,
          12,
          28,
          6,
          30,
          18,
          9,
          23,
          7,
          10,
          11,
          7,
          22,
          5,
          30,
          10,
          8,
          18,
          14,
          4,
          23,
          10,
          20,
          8,
          22,
          8,
          7,
          12,
          13,
          18,
          25,
          12,
          7,
          18,
          10,
          20,
          25,
          7,
          8,
          14,
          20,
          7,
          30,
          12,
          4,
          25,
          16,
          10,
          25,
          18,
          6,
          25,
          8,
          18,
          20,
          20,
          10,
          40,
          5,
          25,
          18,
          16,
          5,
          35,
          20,
          14,
          6,
          38,
          30,
          4,
          22,
          16,
          6,
          28,
          14,
          20,
          8,
          36,
          16,
          10,
          5,
          26,
          19,
          4,
          5,
          30,
          14,
          22,
          11,
          6,
          30,
          18,
          17,
          12,
          4,
          26,
          22,
          12,
          7,
          33,
          14,
          12,
          28,
          6,
          30,
          18,
          9,
          23,
          7,
          10,
          11,
          7,
          22,
          5,
          30,
          10,
          8,
          18,
          14,
          4,
          23,
          10,
          20,
          8,
          22,
          8,
          7,
          12,
          13,
          18,
          25,
          12,
          7,
          18,
          10,
          20,
          25,
          7,
          8,
          14,
          20,
          7,
          30,
          12,
          4,
          25,
          16,
          10,
          25,
          18,
          6,
          25,
          8,
          18,
          20,
          20,
          10,
          40,
          5,
          25,
          18,
          16,
          5,
          35,
          20,
          14,
          6,
          38,
          30,
          4,
          22,
          16,
          6,
          28,
          14,
          20,
          8,
          36,
          16,
          10,
          5,
          26,
          19,
          4,
          5,
          30,
          14,
          22,
          11,
          6,
          30,
          18,
          17,
          12,
          4,
          26,
          22,
          12,
          7,
          33,
          14,
          12,
          28,
          6,
          30,
          18,
          9,
          23,
          7,
          10,
          11,
          7,
          22,
          5,
          30,
          10,
          8,
          18,
          14,
          4,
          23,
          10,
          20,
          8,
          22,
          8,
          7,
          12,
          13,
          18,
          25,
          12,
          7,
          18,
          10,
          20,
          25,
          7,
          8,
          14,
          20,
          7,
          30,
          12,
          4,
          25,
          16,
          10,
          25,
          18,
          6,
          25,
          8,
          18
         ],
         "xaxis": "x",
         "yaxis": "y"
        }
       ],
       "layout": {
        "barmode": "relative",
        "legend": {
         "tracegroupgap": 0
        },
        "template": {
         "data": {
          "bar": [
           {
            "error_x": {
             "color": "#2a3f5f"
            },
            "error_y": {
             "color": "#2a3f5f"
            },
            "marker": {
             "line": {
              "color": "#E5ECF6",
              "width": 0.5
             },
             "pattern": {
              "fillmode": "overlay",
              "size": 10,
              "solidity": 0.2
             }
            },
            "type": "bar"
           }
          ],
          "barpolar": [
           {
            "marker": {
             "line": {
              "color": "#E5ECF6",
              "width": 0.5
             },
             "pattern": {
              "fillmode": "overlay",
              "size": 10,
              "solidity": 0.2
             }
            },
            "type": "barpolar"
           }
          ],
          "carpet": [
           {
            "aaxis": {
             "endlinecolor": "#2a3f5f",
             "gridcolor": "white",
             "linecolor": "white",
             "minorgridcolor": "white",
             "startlinecolor": "#2a3f5f"
            },
            "baxis": {
             "endlinecolor": "#2a3f5f",
             "gridcolor": "white",
             "linecolor": "white",
             "minorgridcolor": "white",
             "startlinecolor": "#2a3f5f"
            },
            "type": "carpet"
           }
          ],
          "choropleth": [
           {
            "colorbar": {
             "outlinewidth": 0,
             "ticks": ""
            },
            "type": "choropleth"
           }
          ],
          "contour": [
           {
            "colorbar": {
             "outlinewidth": 0,
             "ticks": ""
            },
            "colorscale": [
             [
              0,
              "#0d0887"
             ],
             [
              0.1111111111111111,
              "#46039f"
             ],
             [
              0.2222222222222222,
              "#7201a8"
             ],
             [
              0.3333333333333333,
              "#9c179e"
             ],
             [
              0.4444444444444444,
              "#bd3786"
             ],
             [
              0.5555555555555556,
              "#d8576b"
             ],
             [
              0.6666666666666666,
              "#ed7953"
             ],
             [
              0.7777777777777778,
              "#fb9f3a"
             ],
             [
              0.8888888888888888,
              "#fdca26"
             ],
             [
              1,
              "#f0f921"
             ]
            ],
            "type": "contour"
           }
          ],
          "contourcarpet": [
           {
            "colorbar": {
             "outlinewidth": 0,
             "ticks": ""
            },
            "type": "contourcarpet"
           }
          ],
          "heatmap": [
           {
            "colorbar": {
             "outlinewidth": 0,
             "ticks": ""
            },
            "colorscale": [
             [
              0,
              "#0d0887"
             ],
             [
              0.1111111111111111,
              "#46039f"
             ],
             [
              0.2222222222222222,
              "#7201a8"
             ],
             [
              0.3333333333333333,
              "#9c179e"
             ],
             [
              0.4444444444444444,
              "#bd3786"
             ],
             [
              0.5555555555555556,
              "#d8576b"
             ],
             [
              0.6666666666666666,
              "#ed7953"
             ],
             [
              0.7777777777777778,
              "#fb9f3a"
             ],
             [
              0.8888888888888888,
              "#fdca26"
             ],
             [
              1,
              "#f0f921"
             ]
            ],
            "type": "heatmap"
           }
          ],
          "heatmapgl": [
           {
            "colorbar": {
             "outlinewidth": 0,
             "ticks": ""
            },
            "colorscale": [
             [
              0,
              "#0d0887"
             ],
             [
              0.1111111111111111,
              "#46039f"
             ],
             [
              0.2222222222222222,
              "#7201a8"
             ],
             [
              0.3333333333333333,
              "#9c179e"
             ],
             [
              0.4444444444444444,
              "#bd3786"
             ],
             [
              0.5555555555555556,
              "#d8576b"
             ],
             [
              0.6666666666666666,
              "#ed7953"
             ],
             [
              0.7777777777777778,
              "#fb9f3a"
             ],
             [
              0.8888888888888888,
              "#fdca26"
             ],
             [
              1,
              "#f0f921"
             ]
            ],
            "type": "heatmapgl"
           }
          ],
          "histogram": [
           {
            "marker": {
             "pattern": {
              "fillmode": "overlay",
              "size": 10,
              "solidity": 0.2
             }
            },
            "type": "histogram"
           }
          ],
          "histogram2d": [
           {
            "colorbar": {
             "outlinewidth": 0,
             "ticks": ""
            },
            "colorscale": [
             [
              0,
              "#0d0887"
             ],
             [
              0.1111111111111111,
              "#46039f"
             ],
             [
              0.2222222222222222,
              "#7201a8"
             ],
             [
              0.3333333333333333,
              "#9c179e"
             ],
             [
              0.4444444444444444,
              "#bd3786"
             ],
             [
              0.5555555555555556,
              "#d8576b"
             ],
             [
              0.6666666666666666,
              "#ed7953"
             ],
             [
              0.7777777777777778,
              "#fb9f3a"
             ],
             [
              0.8888888888888888,
              "#fdca26"
             ],
             [
              1,
              "#f0f921"
             ]
            ],
            "type": "histogram2d"
           }
          ],
          "histogram2dcontour": [
           {
            "colorbar": {
             "outlinewidth": 0,
             "ticks": ""
            },
            "colorscale": [
             [
              0,
              "#0d0887"
             ],
             [
              0.1111111111111111,
              "#46039f"
             ],
             [
              0.2222222222222222,
              "#7201a8"
             ],
             [
              0.3333333333333333,
              "#9c179e"
             ],
             [
              0.4444444444444444,
              "#bd3786"
             ],
             [
              0.5555555555555556,
              "#d8576b"
             ],
             [
              0.6666666666666666,
              "#ed7953"
             ],
             [
              0.7777777777777778,
              "#fb9f3a"
             ],
             [
              0.8888888888888888,
              "#fdca26"
             ],
             [
              1,
              "#f0f921"
             ]
            ],
            "type": "histogram2dcontour"
           }
          ],
          "mesh3d": [
           {
            "colorbar": {
             "outlinewidth": 0,
             "ticks": ""
            },
            "type": "mesh3d"
           }
          ],
          "parcoords": [
           {
            "line": {
             "colorbar": {
              "outlinewidth": 0,
              "ticks": ""
             }
            },
            "type": "parcoords"
           }
          ],
          "pie": [
           {
            "automargin": true,
            "type": "pie"
           }
          ],
          "scatter": [
           {
            "fillpattern": {
             "fillmode": "overlay",
             "size": 10,
             "solidity": 0.2
            },
            "type": "scatter"
           }
          ],
          "scatter3d": [
           {
            "line": {
             "colorbar": {
              "outlinewidth": 0,
              "ticks": ""
             }
            },
            "marker": {
             "colorbar": {
              "outlinewidth": 0,
              "ticks": ""
             }
            },
            "type": "scatter3d"
           }
          ],
          "scattercarpet": [
           {
            "marker": {
             "colorbar": {
              "outlinewidth": 0,
              "ticks": ""
             }
            },
            "type": "scattercarpet"
           }
          ],
          "scattergeo": [
           {
            "marker": {
             "colorbar": {
              "outlinewidth": 0,
              "ticks": ""
             }
            },
            "type": "scattergeo"
           }
          ],
          "scattergl": [
           {
            "marker": {
             "colorbar": {
              "outlinewidth": 0,
              "ticks": ""
             }
            },
            "type": "scattergl"
           }
          ],
          "scattermapbox": [
           {
            "marker": {
             "colorbar": {
              "outlinewidth": 0,
              "ticks": ""
             }
            },
            "type": "scattermapbox"
           }
          ],
          "scatterpolar": [
           {
            "marker": {
             "colorbar": {
              "outlinewidth": 0,
              "ticks": ""
             }
            },
            "type": "scatterpolar"
           }
          ],
          "scatterpolargl": [
           {
            "marker": {
             "colorbar": {
              "outlinewidth": 0,
              "ticks": ""
             }
            },
            "type": "scatterpolargl"
           }
          ],
          "scatterternary": [
           {
            "marker": {
             "colorbar": {
              "outlinewidth": 0,
              "ticks": ""
             }
            },
            "type": "scatterternary"
           }
          ],
          "surface": [
           {
            "colorbar": {
             "outlinewidth": 0,
             "ticks": ""
            },
            "colorscale": [
             [
              0,
              "#0d0887"
             ],
             [
              0.1111111111111111,
              "#46039f"
             ],
             [
              0.2222222222222222,
              "#7201a8"
             ],
             [
              0.3333333333333333,
              "#9c179e"
             ],
             [
              0.4444444444444444,
              "#bd3786"
             ],
             [
              0.5555555555555556,
              "#d8576b"
             ],
             [
              0.6666666666666666,
              "#ed7953"
             ],
             [
              0.7777777777777778,
              "#fb9f3a"
             ],
             [
              0.8888888888888888,
              "#fdca26"
             ],
             [
              1,
              "#f0f921"
             ]
            ],
            "type": "surface"
           }
          ],
          "table": [
           {
            "cells": {
             "fill": {
              "color": "#EBF0F8"
             },
             "line": {
              "color": "white"
             }
            },
            "header": {
             "fill": {
              "color": "#C8D4E3"
             },
             "line": {
              "color": "white"
             }
            },
            "type": "table"
           }
          ]
         },
         "layout": {
          "annotationdefaults": {
           "arrowcolor": "#2a3f5f",
           "arrowhead": 0,
           "arrowwidth": 1
          },
          "autotypenumbers": "strict",
          "coloraxis": {
           "colorbar": {
            "outlinewidth": 0,
            "ticks": ""
           }
          },
          "colorscale": {
           "diverging": [
            [
             0,
             "#8e0152"
            ],
            [
             0.1,
             "#c51b7d"
            ],
            [
             0.2,
             "#de77ae"
            ],
            [
             0.3,
             "#f1b6da"
            ],
            [
             0.4,
             "#fde0ef"
            ],
            [
             0.5,
             "#f7f7f7"
            ],
            [
             0.6,
             "#e6f5d0"
            ],
            [
             0.7,
             "#b8e186"
            ],
            [
             0.8,
             "#7fbc41"
            ],
            [
             0.9,
             "#4d9221"
            ],
            [
             1,
             "#276419"
            ]
           ],
           "sequential": [
            [
             0,
             "#0d0887"
            ],
            [
             0.1111111111111111,
             "#46039f"
            ],
            [
             0.2222222222222222,
             "#7201a8"
            ],
            [
             0.3333333333333333,
             "#9c179e"
            ],
            [
             0.4444444444444444,
             "#bd3786"
            ],
            [
             0.5555555555555556,
             "#d8576b"
            ],
            [
             0.6666666666666666,
             "#ed7953"
            ],
            [
             0.7777777777777778,
             "#fb9f3a"
            ],
            [
             0.8888888888888888,
             "#fdca26"
            ],
            [
             1,
             "#f0f921"
            ]
           ],
           "sequentialminus": [
            [
             0,
             "#0d0887"
            ],
            [
             0.1111111111111111,
             "#46039f"
            ],
            [
             0.2222222222222222,
             "#7201a8"
            ],
            [
             0.3333333333333333,
             "#9c179e"
            ],
            [
             0.4444444444444444,
             "#bd3786"
            ],
            [
             0.5555555555555556,
             "#d8576b"
            ],
            [
             0.6666666666666666,
             "#ed7953"
            ],
            [
             0.7777777777777778,
             "#fb9f3a"
            ],
            [
             0.8888888888888888,
             "#fdca26"
            ],
            [
             1,
             "#f0f921"
            ]
           ]
          },
          "colorway": [
           "#636efa",
           "#EF553B",
           "#00cc96",
           "#ab63fa",
           "#FFA15A",
           "#19d3f3",
           "#FF6692",
           "#B6E880",
           "#FF97FF",
           "#FECB52"
          ],
          "font": {
           "color": "#2a3f5f"
          },
          "geo": {
           "bgcolor": "white",
           "lakecolor": "white",
           "landcolor": "#E5ECF6",
           "showlakes": true,
           "showland": true,
           "subunitcolor": "white"
          },
          "hoverlabel": {
           "align": "left"
          },
          "hovermode": "closest",
          "mapbox": {
           "style": "light"
          },
          "paper_bgcolor": "white",
          "plot_bgcolor": "#E5ECF6",
          "polar": {
           "angularaxis": {
            "gridcolor": "white",
            "linecolor": "white",
            "ticks": ""
           },
           "bgcolor": "#E5ECF6",
           "radialaxis": {
            "gridcolor": "white",
            "linecolor": "white",
            "ticks": ""
           }
          },
          "scene": {
           "xaxis": {
            "backgroundcolor": "#E5ECF6",
            "gridcolor": "white",
            "gridwidth": 2,
            "linecolor": "white",
            "showbackground": true,
            "ticks": "",
            "zerolinecolor": "white"
           },
           "yaxis": {
            "backgroundcolor": "#E5ECF6",
            "gridcolor": "white",
            "gridwidth": 2,
            "linecolor": "white",
            "showbackground": true,
            "ticks": "",
            "zerolinecolor": "white"
           },
           "zaxis": {
            "backgroundcolor": "#E5ECF6",
            "gridcolor": "white",
            "gridwidth": 2,
            "linecolor": "white",
            "showbackground": true,
            "ticks": "",
            "zerolinecolor": "white"
           }
          },
          "shapedefaults": {
           "line": {
            "color": "#2a3f5f"
           }
          },
          "ternary": {
           "aaxis": {
            "gridcolor": "white",
            "linecolor": "white",
            "ticks": ""
           },
           "baxis": {
            "gridcolor": "white",
            "linecolor": "white",
            "ticks": ""
           },
           "bgcolor": "#E5ECF6",
           "caxis": {
            "gridcolor": "white",
            "linecolor": "white",
            "ticks": ""
           }
          },
          "title": {
           "x": 0.05
          },
          "xaxis": {
           "automargin": true,
           "gridcolor": "white",
           "linecolor": "white",
           "ticks": "",
           "title": {
            "standoff": 15
           },
           "zerolinecolor": "white",
           "zerolinewidth": 2
          },
          "yaxis": {
           "automargin": true,
           "gridcolor": "white",
           "linecolor": "white",
           "ticks": "",
           "title": {
            "standoff": 15
           },
           "zerolinecolor": "white",
           "zerolinewidth": 2
          }
         }
        },
        "title": {
         "text": "Comments Received Per Day Distribution"
        },
        "xaxis": {
         "anchor": "y",
         "domain": [
          0,
          1
         ],
         "title": {
          "text": "Comments_Received_Per_Day"
         }
        },
        "yaxis": {
         "anchor": "x",
         "domain": [
          0,
          1
         ],
         "title": {
          "text": "count"
         }
        }
       }
      }
     },
     "metadata": {},
     "output_type": "display_data"
    }
   ],
   "source": [
    "plt = px.histogram(train_df, x='Comments_Received_Per_Day', title='Comments Received Per Day Distribution')\n",
    "plt.show()"
   ]
  },
  {
   "cell_type": "markdown",
   "metadata": {},
   "source": [
    "## **Messages Per Day Distribution**"
   ]
  },
  {
   "cell_type": "code",
   "execution_count": 64,
   "metadata": {},
   "outputs": [
    {
     "data": {
      "text/plain": [
       "array([12., 30., 20., 50., 10., 25., 18., 22.,  8., 35., 15., 40., 28.,\n",
       "       33., 17., 45., 21., 11., 32., 24., 14.,  9., 38., 31., 27., 19.,\n",
       "       26., 29., 23., nan])"
      ]
     },
     "execution_count": 64,
     "metadata": {},
     "output_type": "execute_result"
    }
   ],
   "source": [
    "train_df['Messages_Sent_Per_Day'].unique()"
   ]
  },
  {
   "cell_type": "code",
   "execution_count": 65,
   "metadata": {},
   "outputs": [
    {
     "name": "stderr",
     "output_type": "stream",
     "text": [
      "C:\\Users\\LENOVO\\AppData\\Local\\Temp/ipykernel_7600/2304683996.py:1: FutureWarning:\n",
      "\n",
      "A value is trying to be set on a copy of a DataFrame or Series through chained assignment using an inplace method.\n",
      "The behavior will change in pandas 3.0. This inplace method will never work because the intermediate object on which we are setting values always behaves as a copy.\n",
      "\n",
      "For example, when doing 'df[col].method(value, inplace=True)', try using 'df.method({col: value}, inplace=True)' or df[col] = df[col].method(value) instead, to perform the operation inplace on the original object.\n",
      "\n",
      "\n",
      "\n"
     ]
    }
   ],
   "source": [
    "train_df['Messages_Sent_Per_Day'].fillna(train_df['Messages_Sent_Per_Day'].mode()[0], inplace = True)"
   ]
  },
  {
   "cell_type": "code",
   "execution_count": 66,
   "metadata": {},
   "outputs": [
    {
     "data": {
      "application/vnd.plotly.v1+json": {
       "config": {
        "plotlyServerURL": "https://plot.ly"
       },
       "data": [
        {
         "alignmentgroup": "True",
         "bingroup": "x",
         "hovertemplate": "Messages_Sent_Per_Day=%{x}<br>count=%{y}<extra></extra>",
         "legendgroup": "",
         "marker": {
          "color": "#636efa",
          "pattern": {
           "shape": ""
          }
         },
         "name": "",
         "offsetgroup": "",
         "orientation": "v",
         "showlegend": false,
         "type": "histogram",
         "x": [
          12,
          30,
          20,
          50,
          10,
          25,
          18,
          22,
          8,
          35,
          20,
          18,
          15,
          40,
          28,
          10,
          30,
          25,
          12,
          33,
          18,
          20,
          17,
          45,
          15,
          21,
          11,
          32,
          24,
          10,
          14,
          35,
          18,
          30,
          20,
          11,
          40,
          20,
          25,
          22,
          9,
          30,
          22,
          18,
          14,
          38,
          20,
          18,
          31,
          10,
          27,
          19,
          20,
          35,
          17,
          21,
          22,
          18,
          25,
          15,
          33,
          18,
          20,
          30,
          26,
          12,
          35,
          20,
          28,
          20,
          30,
          10,
          12,
          22,
          25,
          27,
          38,
          18,
          14,
          20,
          12,
          18,
          25,
          22,
          20,
          26,
          28,
          12,
          33,
          20,
          10,
          25,
          22,
          28,
          30,
          18,
          10,
          25,
          18,
          22,
          25,
          22,
          15,
          45,
          12,
          30,
          20,
          25,
          10,
          40,
          25,
          18,
          15,
          45,
          29,
          12,
          28,
          24,
          12,
          30,
          20,
          23,
          15,
          50,
          15,
          20,
          11,
          30,
          24,
          12,
          14,
          35,
          18,
          28,
          22,
          11,
          38,
          24,
          30,
          25,
          10,
          30,
          22,
          18,
          14,
          38,
          20,
          18,
          31,
          10,
          28,
          19,
          20,
          35,
          17,
          21,
          22,
          18,
          25,
          15,
          33,
          18,
          20,
          30,
          26,
          12,
          35,
          20,
          28,
          20,
          30,
          10,
          12,
          22,
          25,
          27,
          38,
          18,
          14,
          20,
          12,
          18,
          25,
          22,
          20,
          26,
          28,
          12,
          33,
          20,
          10,
          25,
          22,
          28,
          30,
          18,
          10,
          25,
          18,
          22,
          25,
          22,
          15,
          45,
          12,
          30,
          20,
          25,
          10,
          40,
          25,
          18,
          15,
          45,
          29,
          12,
          28,
          24,
          12,
          30,
          20,
          23,
          15,
          50,
          15,
          20,
          11,
          30,
          24,
          12,
          14,
          35,
          18,
          28,
          22,
          11,
          38,
          24,
          30,
          25,
          10,
          30,
          22,
          18,
          14,
          38,
          20,
          18,
          31,
          10,
          28,
          19,
          20,
          35,
          17,
          21,
          22,
          18,
          25,
          15,
          33,
          18,
          20,
          30,
          26,
          12,
          35,
          20,
          28,
          20,
          30,
          10,
          12,
          22,
          25,
          27,
          38,
          18,
          14,
          20,
          12,
          18,
          25,
          22,
          20,
          26,
          28,
          12,
          33,
          20,
          10,
          25,
          22,
          28,
          30,
          18,
          10,
          25,
          18,
          22,
          25,
          22,
          15,
          45,
          12,
          30,
          20,
          25,
          10,
          40,
          25,
          18,
          15,
          45,
          29,
          12,
          28,
          24,
          12,
          30,
          20,
          23,
          15,
          50,
          15,
          20,
          11,
          30,
          24,
          12,
          14,
          35,
          18,
          28,
          22,
          11,
          38,
          24,
          30,
          25,
          10,
          30,
          22,
          18,
          14,
          38,
          20,
          18,
          31,
          10,
          28,
          19,
          20,
          35,
          17,
          21,
          22,
          18,
          25,
          15,
          33,
          18,
          20,
          30,
          26,
          12,
          35,
          20,
          28,
          20,
          30,
          10,
          12,
          22,
          25,
          27,
          38,
          18,
          14,
          20,
          12,
          18,
          25,
          22,
          20,
          26,
          28,
          12,
          33,
          20,
          10,
          25,
          22,
          28,
          30,
          18,
          10,
          25,
          18,
          22,
          25,
          22,
          15,
          45,
          12,
          30,
          20,
          25,
          10,
          40,
          25,
          18,
          15,
          45,
          29,
          12,
          28,
          24,
          12,
          30,
          20,
          23,
          15,
          50,
          15,
          20,
          11,
          30,
          24,
          12,
          14,
          35,
          18,
          28,
          22,
          11,
          38,
          24,
          30,
          25,
          10,
          30,
          22,
          18,
          14,
          38,
          20,
          18,
          31,
          10,
          28,
          19,
          20,
          35,
          17,
          21,
          22,
          18,
          25,
          15,
          33,
          18,
          20,
          30,
          26,
          12,
          35,
          20,
          28,
          20,
          30,
          10,
          12,
          22,
          25,
          27,
          38,
          18,
          14,
          20,
          12,
          18,
          25,
          22,
          20,
          26,
          28,
          12,
          33,
          20,
          10,
          25,
          22,
          28,
          30,
          18,
          10,
          25,
          18,
          22,
          25,
          22,
          15,
          45,
          12,
          30,
          20,
          25,
          10,
          40,
          25,
          18,
          15,
          45,
          29,
          12,
          28,
          24,
          12,
          30,
          20,
          23,
          15,
          50,
          15,
          20,
          11,
          30,
          24,
          12,
          14,
          35,
          18,
          28,
          22,
          11,
          38,
          24,
          30,
          25,
          10,
          30,
          22,
          18,
          14,
          38,
          20,
          18,
          31,
          10,
          28,
          19,
          20,
          35,
          17,
          21,
          22,
          18,
          25,
          15,
          33,
          18,
          20,
          30,
          26,
          12,
          35,
          20,
          28,
          20,
          30,
          10,
          12,
          22,
          25,
          27,
          38,
          18,
          14,
          20,
          12,
          18,
          25,
          22,
          20,
          26,
          28,
          12,
          33,
          20,
          10,
          25,
          22,
          28,
          30,
          18,
          10,
          25,
          18,
          22,
          25,
          22,
          15,
          45,
          12,
          30,
          20,
          25,
          10,
          40,
          25,
          18,
          15,
          45,
          29,
          12,
          28,
          24,
          12,
          30,
          20,
          23,
          15,
          50,
          15,
          20,
          11,
          30,
          24,
          12,
          14,
          35,
          18,
          28,
          22,
          11,
          38,
          24,
          30,
          25,
          10,
          20,
          30,
          22,
          18,
          14,
          38,
          20,
          18,
          31,
          10,
          28,
          19,
          20,
          35,
          17,
          21,
          22,
          18,
          25,
          15,
          33,
          18,
          20,
          30,
          26,
          12,
          35,
          20,
          28,
          20,
          30,
          10,
          12,
          22,
          25,
          27,
          38,
          18,
          14,
          20,
          12,
          18,
          25,
          22,
          20,
          26,
          28,
          12,
          33,
          20,
          10,
          25,
          22,
          28,
          30,
          18,
          10,
          25,
          18,
          22,
          25,
          22,
          15,
          45,
          12,
          30,
          20,
          25,
          10,
          40,
          25,
          18,
          15,
          45,
          29,
          12,
          28,
          24,
          12,
          30,
          20,
          23,
          15,
          50,
          15,
          20,
          11,
          30,
          24,
          12,
          14,
          35,
          18,
          28,
          22,
          11,
          38,
          24,
          30,
          25,
          10,
          30,
          22,
          18,
          14,
          38,
          20,
          18,
          31,
          10,
          28,
          19,
          20,
          35,
          17,
          21,
          22,
          18,
          25,
          15,
          33,
          18,
          20,
          30,
          26,
          12,
          35,
          20,
          28,
          20,
          30,
          10,
          12,
          22,
          25,
          27,
          38,
          18,
          14,
          20,
          12,
          18,
          25,
          22,
          20,
          26,
          28,
          12,
          33,
          20,
          10,
          25,
          22,
          28,
          30,
          18,
          10,
          25,
          18,
          22,
          25,
          22,
          15,
          45,
          12,
          30,
          20,
          25,
          10,
          40,
          25,
          18,
          15,
          45,
          29,
          12,
          28,
          24,
          12,
          30,
          20,
          23,
          15,
          50,
          15,
          20,
          11,
          30,
          24,
          12,
          14,
          35,
          18,
          28,
          22,
          11,
          38,
          24,
          30,
          25,
          10,
          30,
          22,
          18,
          14,
          38,
          20,
          18,
          31,
          10,
          28,
          19,
          20,
          35,
          17,
          21,
          22,
          18,
          25,
          15,
          33,
          18,
          20,
          30,
          26,
          12,
          35,
          20,
          28,
          20,
          30,
          10,
          12,
          22,
          25,
          27,
          38,
          18,
          14,
          20,
          12,
          18,
          25,
          22,
          20,
          26,
          28,
          12,
          33,
          20,
          10,
          25,
          22,
          28,
          30,
          18,
          10,
          25,
          18,
          22,
          25,
          22,
          15,
          45,
          12,
          30,
          20,
          25,
          10,
          40,
          25,
          18,
          15,
          45,
          29,
          12,
          28,
          24,
          12,
          30,
          20,
          23,
          15,
          50,
          15,
          20,
          11,
          30,
          24,
          12,
          14,
          35,
          18,
          28,
          22,
          11,
          38,
          24,
          30,
          25,
          10,
          30,
          22,
          18,
          14,
          38,
          20,
          18,
          31,
          10,
          28,
          19,
          20,
          35,
          17,
          21,
          22,
          18,
          25,
          15,
          33,
          18,
          20,
          30,
          26,
          12,
          35,
          20,
          28,
          20,
          30,
          10,
          12,
          22,
          25,
          27,
          38,
          18,
          14,
          20,
          12,
          18,
          25,
          22,
          20,
          26,
          28,
          12,
          33,
          20,
          10,
          25,
          22,
          28,
          30,
          18,
          10,
          25,
          18,
          22
         ],
         "xaxis": "x",
         "yaxis": "y"
        }
       ],
       "layout": {
        "barmode": "relative",
        "legend": {
         "tracegroupgap": 0
        },
        "template": {
         "data": {
          "bar": [
           {
            "error_x": {
             "color": "#2a3f5f"
            },
            "error_y": {
             "color": "#2a3f5f"
            },
            "marker": {
             "line": {
              "color": "#E5ECF6",
              "width": 0.5
             },
             "pattern": {
              "fillmode": "overlay",
              "size": 10,
              "solidity": 0.2
             }
            },
            "type": "bar"
           }
          ],
          "barpolar": [
           {
            "marker": {
             "line": {
              "color": "#E5ECF6",
              "width": 0.5
             },
             "pattern": {
              "fillmode": "overlay",
              "size": 10,
              "solidity": 0.2
             }
            },
            "type": "barpolar"
           }
          ],
          "carpet": [
           {
            "aaxis": {
             "endlinecolor": "#2a3f5f",
             "gridcolor": "white",
             "linecolor": "white",
             "minorgridcolor": "white",
             "startlinecolor": "#2a3f5f"
            },
            "baxis": {
             "endlinecolor": "#2a3f5f",
             "gridcolor": "white",
             "linecolor": "white",
             "minorgridcolor": "white",
             "startlinecolor": "#2a3f5f"
            },
            "type": "carpet"
           }
          ],
          "choropleth": [
           {
            "colorbar": {
             "outlinewidth": 0,
             "ticks": ""
            },
            "type": "choropleth"
           }
          ],
          "contour": [
           {
            "colorbar": {
             "outlinewidth": 0,
             "ticks": ""
            },
            "colorscale": [
             [
              0,
              "#0d0887"
             ],
             [
              0.1111111111111111,
              "#46039f"
             ],
             [
              0.2222222222222222,
              "#7201a8"
             ],
             [
              0.3333333333333333,
              "#9c179e"
             ],
             [
              0.4444444444444444,
              "#bd3786"
             ],
             [
              0.5555555555555556,
              "#d8576b"
             ],
             [
              0.6666666666666666,
              "#ed7953"
             ],
             [
              0.7777777777777778,
              "#fb9f3a"
             ],
             [
              0.8888888888888888,
              "#fdca26"
             ],
             [
              1,
              "#f0f921"
             ]
            ],
            "type": "contour"
           }
          ],
          "contourcarpet": [
           {
            "colorbar": {
             "outlinewidth": 0,
             "ticks": ""
            },
            "type": "contourcarpet"
           }
          ],
          "heatmap": [
           {
            "colorbar": {
             "outlinewidth": 0,
             "ticks": ""
            },
            "colorscale": [
             [
              0,
              "#0d0887"
             ],
             [
              0.1111111111111111,
              "#46039f"
             ],
             [
              0.2222222222222222,
              "#7201a8"
             ],
             [
              0.3333333333333333,
              "#9c179e"
             ],
             [
              0.4444444444444444,
              "#bd3786"
             ],
             [
              0.5555555555555556,
              "#d8576b"
             ],
             [
              0.6666666666666666,
              "#ed7953"
             ],
             [
              0.7777777777777778,
              "#fb9f3a"
             ],
             [
              0.8888888888888888,
              "#fdca26"
             ],
             [
              1,
              "#f0f921"
             ]
            ],
            "type": "heatmap"
           }
          ],
          "heatmapgl": [
           {
            "colorbar": {
             "outlinewidth": 0,
             "ticks": ""
            },
            "colorscale": [
             [
              0,
              "#0d0887"
             ],
             [
              0.1111111111111111,
              "#46039f"
             ],
             [
              0.2222222222222222,
              "#7201a8"
             ],
             [
              0.3333333333333333,
              "#9c179e"
             ],
             [
              0.4444444444444444,
              "#bd3786"
             ],
             [
              0.5555555555555556,
              "#d8576b"
             ],
             [
              0.6666666666666666,
              "#ed7953"
             ],
             [
              0.7777777777777778,
              "#fb9f3a"
             ],
             [
              0.8888888888888888,
              "#fdca26"
             ],
             [
              1,
              "#f0f921"
             ]
            ],
            "type": "heatmapgl"
           }
          ],
          "histogram": [
           {
            "marker": {
             "pattern": {
              "fillmode": "overlay",
              "size": 10,
              "solidity": 0.2
             }
            },
            "type": "histogram"
           }
          ],
          "histogram2d": [
           {
            "colorbar": {
             "outlinewidth": 0,
             "ticks": ""
            },
            "colorscale": [
             [
              0,
              "#0d0887"
             ],
             [
              0.1111111111111111,
              "#46039f"
             ],
             [
              0.2222222222222222,
              "#7201a8"
             ],
             [
              0.3333333333333333,
              "#9c179e"
             ],
             [
              0.4444444444444444,
              "#bd3786"
             ],
             [
              0.5555555555555556,
              "#d8576b"
             ],
             [
              0.6666666666666666,
              "#ed7953"
             ],
             [
              0.7777777777777778,
              "#fb9f3a"
             ],
             [
              0.8888888888888888,
              "#fdca26"
             ],
             [
              1,
              "#f0f921"
             ]
            ],
            "type": "histogram2d"
           }
          ],
          "histogram2dcontour": [
           {
            "colorbar": {
             "outlinewidth": 0,
             "ticks": ""
            },
            "colorscale": [
             [
              0,
              "#0d0887"
             ],
             [
              0.1111111111111111,
              "#46039f"
             ],
             [
              0.2222222222222222,
              "#7201a8"
             ],
             [
              0.3333333333333333,
              "#9c179e"
             ],
             [
              0.4444444444444444,
              "#bd3786"
             ],
             [
              0.5555555555555556,
              "#d8576b"
             ],
             [
              0.6666666666666666,
              "#ed7953"
             ],
             [
              0.7777777777777778,
              "#fb9f3a"
             ],
             [
              0.8888888888888888,
              "#fdca26"
             ],
             [
              1,
              "#f0f921"
             ]
            ],
            "type": "histogram2dcontour"
           }
          ],
          "mesh3d": [
           {
            "colorbar": {
             "outlinewidth": 0,
             "ticks": ""
            },
            "type": "mesh3d"
           }
          ],
          "parcoords": [
           {
            "line": {
             "colorbar": {
              "outlinewidth": 0,
              "ticks": ""
             }
            },
            "type": "parcoords"
           }
          ],
          "pie": [
           {
            "automargin": true,
            "type": "pie"
           }
          ],
          "scatter": [
           {
            "fillpattern": {
             "fillmode": "overlay",
             "size": 10,
             "solidity": 0.2
            },
            "type": "scatter"
           }
          ],
          "scatter3d": [
           {
            "line": {
             "colorbar": {
              "outlinewidth": 0,
              "ticks": ""
             }
            },
            "marker": {
             "colorbar": {
              "outlinewidth": 0,
              "ticks": ""
             }
            },
            "type": "scatter3d"
           }
          ],
          "scattercarpet": [
           {
            "marker": {
             "colorbar": {
              "outlinewidth": 0,
              "ticks": ""
             }
            },
            "type": "scattercarpet"
           }
          ],
          "scattergeo": [
           {
            "marker": {
             "colorbar": {
              "outlinewidth": 0,
              "ticks": ""
             }
            },
            "type": "scattergeo"
           }
          ],
          "scattergl": [
           {
            "marker": {
             "colorbar": {
              "outlinewidth": 0,
              "ticks": ""
             }
            },
            "type": "scattergl"
           }
          ],
          "scattermapbox": [
           {
            "marker": {
             "colorbar": {
              "outlinewidth": 0,
              "ticks": ""
             }
            },
            "type": "scattermapbox"
           }
          ],
          "scatterpolar": [
           {
            "marker": {
             "colorbar": {
              "outlinewidth": 0,
              "ticks": ""
             }
            },
            "type": "scatterpolar"
           }
          ],
          "scatterpolargl": [
           {
            "marker": {
             "colorbar": {
              "outlinewidth": 0,
              "ticks": ""
             }
            },
            "type": "scatterpolargl"
           }
          ],
          "scatterternary": [
           {
            "marker": {
             "colorbar": {
              "outlinewidth": 0,
              "ticks": ""
             }
            },
            "type": "scatterternary"
           }
          ],
          "surface": [
           {
            "colorbar": {
             "outlinewidth": 0,
             "ticks": ""
            },
            "colorscale": [
             [
              0,
              "#0d0887"
             ],
             [
              0.1111111111111111,
              "#46039f"
             ],
             [
              0.2222222222222222,
              "#7201a8"
             ],
             [
              0.3333333333333333,
              "#9c179e"
             ],
             [
              0.4444444444444444,
              "#bd3786"
             ],
             [
              0.5555555555555556,
              "#d8576b"
             ],
             [
              0.6666666666666666,
              "#ed7953"
             ],
             [
              0.7777777777777778,
              "#fb9f3a"
             ],
             [
              0.8888888888888888,
              "#fdca26"
             ],
             [
              1,
              "#f0f921"
             ]
            ],
            "type": "surface"
           }
          ],
          "table": [
           {
            "cells": {
             "fill": {
              "color": "#EBF0F8"
             },
             "line": {
              "color": "white"
             }
            },
            "header": {
             "fill": {
              "color": "#C8D4E3"
             },
             "line": {
              "color": "white"
             }
            },
            "type": "table"
           }
          ]
         },
         "layout": {
          "annotationdefaults": {
           "arrowcolor": "#2a3f5f",
           "arrowhead": 0,
           "arrowwidth": 1
          },
          "autotypenumbers": "strict",
          "coloraxis": {
           "colorbar": {
            "outlinewidth": 0,
            "ticks": ""
           }
          },
          "colorscale": {
           "diverging": [
            [
             0,
             "#8e0152"
            ],
            [
             0.1,
             "#c51b7d"
            ],
            [
             0.2,
             "#de77ae"
            ],
            [
             0.3,
             "#f1b6da"
            ],
            [
             0.4,
             "#fde0ef"
            ],
            [
             0.5,
             "#f7f7f7"
            ],
            [
             0.6,
             "#e6f5d0"
            ],
            [
             0.7,
             "#b8e186"
            ],
            [
             0.8,
             "#7fbc41"
            ],
            [
             0.9,
             "#4d9221"
            ],
            [
             1,
             "#276419"
            ]
           ],
           "sequential": [
            [
             0,
             "#0d0887"
            ],
            [
             0.1111111111111111,
             "#46039f"
            ],
            [
             0.2222222222222222,
             "#7201a8"
            ],
            [
             0.3333333333333333,
             "#9c179e"
            ],
            [
             0.4444444444444444,
             "#bd3786"
            ],
            [
             0.5555555555555556,
             "#d8576b"
            ],
            [
             0.6666666666666666,
             "#ed7953"
            ],
            [
             0.7777777777777778,
             "#fb9f3a"
            ],
            [
             0.8888888888888888,
             "#fdca26"
            ],
            [
             1,
             "#f0f921"
            ]
           ],
           "sequentialminus": [
            [
             0,
             "#0d0887"
            ],
            [
             0.1111111111111111,
             "#46039f"
            ],
            [
             0.2222222222222222,
             "#7201a8"
            ],
            [
             0.3333333333333333,
             "#9c179e"
            ],
            [
             0.4444444444444444,
             "#bd3786"
            ],
            [
             0.5555555555555556,
             "#d8576b"
            ],
            [
             0.6666666666666666,
             "#ed7953"
            ],
            [
             0.7777777777777778,
             "#fb9f3a"
            ],
            [
             0.8888888888888888,
             "#fdca26"
            ],
            [
             1,
             "#f0f921"
            ]
           ]
          },
          "colorway": [
           "#636efa",
           "#EF553B",
           "#00cc96",
           "#ab63fa",
           "#FFA15A",
           "#19d3f3",
           "#FF6692",
           "#B6E880",
           "#FF97FF",
           "#FECB52"
          ],
          "font": {
           "color": "#2a3f5f"
          },
          "geo": {
           "bgcolor": "white",
           "lakecolor": "white",
           "landcolor": "#E5ECF6",
           "showlakes": true,
           "showland": true,
           "subunitcolor": "white"
          },
          "hoverlabel": {
           "align": "left"
          },
          "hovermode": "closest",
          "mapbox": {
           "style": "light"
          },
          "paper_bgcolor": "white",
          "plot_bgcolor": "#E5ECF6",
          "polar": {
           "angularaxis": {
            "gridcolor": "white",
            "linecolor": "white",
            "ticks": ""
           },
           "bgcolor": "#E5ECF6",
           "radialaxis": {
            "gridcolor": "white",
            "linecolor": "white",
            "ticks": ""
           }
          },
          "scene": {
           "xaxis": {
            "backgroundcolor": "#E5ECF6",
            "gridcolor": "white",
            "gridwidth": 2,
            "linecolor": "white",
            "showbackground": true,
            "ticks": "",
            "zerolinecolor": "white"
           },
           "yaxis": {
            "backgroundcolor": "#E5ECF6",
            "gridcolor": "white",
            "gridwidth": 2,
            "linecolor": "white",
            "showbackground": true,
            "ticks": "",
            "zerolinecolor": "white"
           },
           "zaxis": {
            "backgroundcolor": "#E5ECF6",
            "gridcolor": "white",
            "gridwidth": 2,
            "linecolor": "white",
            "showbackground": true,
            "ticks": "",
            "zerolinecolor": "white"
           }
          },
          "shapedefaults": {
           "line": {
            "color": "#2a3f5f"
           }
          },
          "ternary": {
           "aaxis": {
            "gridcolor": "white",
            "linecolor": "white",
            "ticks": ""
           },
           "baxis": {
            "gridcolor": "white",
            "linecolor": "white",
            "ticks": ""
           },
           "bgcolor": "#E5ECF6",
           "caxis": {
            "gridcolor": "white",
            "linecolor": "white",
            "ticks": ""
           }
          },
          "title": {
           "x": 0.05
          },
          "xaxis": {
           "automargin": true,
           "gridcolor": "white",
           "linecolor": "white",
           "ticks": "",
           "title": {
            "standoff": 15
           },
           "zerolinecolor": "white",
           "zerolinewidth": 2
          },
          "yaxis": {
           "automargin": true,
           "gridcolor": "white",
           "linecolor": "white",
           "ticks": "",
           "title": {
            "standoff": 15
           },
           "zerolinecolor": "white",
           "zerolinewidth": 2
          }
         }
        },
        "title": {
         "text": "Messages Sent Per Day Distribution"
        },
        "xaxis": {
         "anchor": "y",
         "domain": [
          0,
          1
         ],
         "title": {
          "text": "Messages_Sent_Per_Day"
         }
        },
        "yaxis": {
         "anchor": "x",
         "domain": [
          0,
          1
         ],
         "title": {
          "text": "count"
         }
        }
       }
      }
     },
     "metadata": {},
     "output_type": "display_data"
    }
   ],
   "source": [
    "plt = px.histogram(train_df, x='Messages_Sent_Per_Day', title='Messages Sent Per Day Distribution')\n",
    "plt.show()"
   ]
  },
  {
   "cell_type": "markdown",
   "metadata": {},
   "source": [
    "### **Emotion Distribution**"
   ]
  },
  {
   "cell_type": "code",
   "execution_count": 67,
   "metadata": {},
   "outputs": [
    {
     "data": {
      "text/plain": [
       "array(['Happiness', 'Anger', 'Neutral', 'Anxiety', 'Boredom', 'Sadness',\n",
       "       nan], dtype=object)"
      ]
     },
     "execution_count": 67,
     "metadata": {},
     "output_type": "execute_result"
    }
   ],
   "source": [
    "train_df['Dominant_Emotion'].unique()"
   ]
  },
  {
   "cell_type": "code",
   "execution_count": 68,
   "metadata": {},
   "outputs": [
    {
     "name": "stderr",
     "output_type": "stream",
     "text": [
      "C:\\Users\\LENOVO\\AppData\\Local\\Temp/ipykernel_7600/1067033448.py:1: FutureWarning:\n",
      "\n",
      "A value is trying to be set on a copy of a DataFrame or Series through chained assignment using an inplace method.\n",
      "The behavior will change in pandas 3.0. This inplace method will never work because the intermediate object on which we are setting values always behaves as a copy.\n",
      "\n",
      "For example, when doing 'df[col].method(value, inplace=True)', try using 'df.method({col: value}, inplace=True)' or df[col] = df[col].method(value) instead, to perform the operation inplace on the original object.\n",
      "\n",
      "\n",
      "\n"
     ]
    }
   ],
   "source": [
    "train_df['Dominant_Emotion'].fillna(train_df['Dominant_Emotion'].mode()[0], inplace = True)"
   ]
  },
  {
   "cell_type": "code",
   "execution_count": 70,
   "metadata": {},
   "outputs": [
    {
     "data": {
      "application/vnd.plotly.v1+json": {
       "config": {
        "plotlyServerURL": "https://plot.ly"
       },
       "data": [
        {
         "domain": {
          "x": [
           0,
           1
          ],
          "y": [
           0,
           1
          ]
         },
         "hovertemplate": "Dominant_Emotion=%{label}<extra></extra>",
         "labels": [
          "Happiness",
          "Anger",
          "Neutral",
          "Anxiety",
          "Boredom",
          "Happiness",
          "Anger",
          "Sadness",
          "Neutral",
          "Happiness",
          "Anxiety",
          "Sadness",
          "Boredom",
          "Happiness",
          "Anger",
          "Neutral",
          "Anxiety",
          "Sadness",
          "Neutral",
          "Happiness",
          "Anxiety",
          "Anger",
          "Boredom",
          "Happiness",
          "Sadness",
          "Neutral",
          "Anxiety",
          "Happiness",
          "Anger",
          "Sadness",
          "Boredom",
          "Happiness",
          "Neutral",
          "Sadness",
          "Anxiety",
          "Boredom",
          "Happiness",
          "Anger",
          "Neutral",
          "Anxiety",
          "Sadness",
          "Happiness",
          "Anger",
          "Neutral",
          "Boredom",
          "Happiness",
          "Sadness",
          "Anxiety",
          "Neutral",
          "Boredom",
          "Happiness",
          "Anger",
          "Neutral",
          "Sadness",
          "Anxiety",
          "Anxiety",
          "Boredom",
          "Sadness",
          "Happiness",
          "Boredom",
          "Happiness",
          "Anger",
          "Neutral",
          "Anxiety",
          "Sadness",
          "Boredom",
          "Happiness",
          "Neutral",
          "Anxiety",
          "Sadness",
          "Happiness",
          "Boredom",
          "Neutral",
          "Anger",
          "Neutral",
          "Anxiety",
          "Happiness",
          "Sadness",
          "Anxiety",
          "Neutral",
          "Sadness",
          "Happiness",
          "Anger",
          "Neutral",
          "Boredom",
          "Anxiety",
          "Sadness",
          "Neutral",
          "Happiness",
          "Anxiety",
          "Boredom",
          "Anger",
          "Neutral",
          "Sadness",
          "Anxiety",
          "Boredom",
          "Neutral",
          "Happiness",
          "Anger",
          "Neutral",
          "Happiness",
          "Anger",
          "Neutral",
          "Anxiety",
          "Boredom",
          "Happiness",
          "Anger",
          "Sadness",
          "Neutral",
          "Happiness",
          "Anxiety",
          "Sadness",
          "Boredom",
          "Happiness",
          "Anger",
          "Neutral",
          "Anxiety",
          "Sadness",
          "Neutral",
          "Happiness",
          "Anxiety",
          "Anger",
          "Boredom",
          "Happiness",
          "Sadness",
          "Neutral",
          "Anxiety",
          "Happiness",
          "Anger",
          "Sadness",
          "Boredom",
          "Happiness",
          "Neutral",
          "Sadness",
          "Anxiety",
          "Boredom",
          "Happiness",
          "Anger",
          "Neutral",
          "Anxiety",
          "Sadness",
          "Happiness",
          "Anger",
          "Neutral",
          "Boredom",
          "Happiness",
          "Sadness",
          "Anxiety",
          "Neutral",
          "Boredom",
          "Happiness",
          "Anger",
          "Neutral",
          "Sadness",
          "Anxiety",
          "Anxiety",
          "Boredom",
          "Sadness",
          "Happiness",
          "Boredom",
          "Happiness",
          "Anger",
          "Neutral",
          "Anxiety",
          "Sadness",
          "Boredom",
          "Happiness",
          "Neutral",
          "Anxiety",
          "Sadness",
          "Happiness",
          "Boredom",
          "Neutral",
          "Anger",
          "Neutral",
          "Anxiety",
          "Happiness",
          "Sadness",
          "Anxiety",
          "Neutral",
          "Sadness",
          "Happiness",
          "Anger",
          "Neutral",
          "Boredom",
          "Anxiety",
          "Sadness",
          "Neutral",
          "Happiness",
          "Anxiety",
          "Boredom",
          "Anger",
          "Neutral",
          "Sadness",
          "Anxiety",
          "Boredom",
          "Neutral",
          "Happiness",
          "Anger",
          "Neutral",
          "Happiness",
          "Anger",
          "Neutral",
          "Anxiety",
          "Boredom",
          "Happiness",
          "Anger",
          "Sadness",
          "Neutral",
          "Happiness",
          "Anxiety",
          "Sadness",
          "Boredom",
          "Happiness",
          "Anger",
          "Neutral",
          "Anxiety",
          "Sadness",
          "Neutral",
          "Happiness",
          "Anxiety",
          "Anger",
          "Boredom",
          "Happiness",
          "Sadness",
          "Neutral",
          "Anxiety",
          "Happiness",
          "Anger",
          "Sadness",
          "Boredom",
          "Happiness",
          "Neutral",
          "Sadness",
          "Anxiety",
          "Boredom",
          "Happiness",
          "Anger",
          "Neutral",
          "Anxiety",
          "Sadness",
          "Happiness",
          "Anger",
          "Neutral",
          "Boredom",
          "Happiness",
          "Sadness",
          "Anxiety",
          "Neutral",
          "Boredom",
          "Happiness",
          "Anger",
          "Neutral",
          "Sadness",
          "Anxiety",
          "Anxiety",
          "Boredom",
          "Sadness",
          "Happiness",
          "Boredom",
          "Happiness",
          "Anger",
          "Neutral",
          "Anxiety",
          "Sadness",
          "Boredom",
          "Happiness",
          "Neutral",
          "Anxiety",
          "Sadness",
          "Happiness",
          "Boredom",
          "Neutral",
          "Anger",
          "Neutral",
          "Anxiety",
          "Happiness",
          "Sadness",
          "Anxiety",
          "Neutral",
          "Sadness",
          "Happiness",
          "Anger",
          "Neutral",
          "Boredom",
          "Anxiety",
          "Sadness",
          "Neutral",
          "Happiness",
          "Anxiety",
          "Boredom",
          "Anger",
          "Neutral",
          "Sadness",
          "Anxiety",
          "Boredom",
          "Neutral",
          "Happiness",
          "Anger",
          "Neutral",
          "Happiness",
          "Anger",
          "Neutral",
          "Anxiety",
          "Boredom",
          "Happiness",
          "Anger",
          "Sadness",
          "Neutral",
          "Happiness",
          "Anxiety",
          "Sadness",
          "Boredom",
          "Happiness",
          "Anger",
          "Neutral",
          "Anxiety",
          "Sadness",
          "Neutral",
          "Happiness",
          "Anxiety",
          "Anger",
          "Boredom",
          "Happiness",
          "Sadness",
          "Neutral",
          "Anxiety",
          "Happiness",
          "Anger",
          "Sadness",
          "Boredom",
          "Happiness",
          "Neutral",
          "Sadness",
          "Anxiety",
          "Boredom",
          "Happiness",
          "Anger",
          "Neutral",
          "Anxiety",
          "Sadness",
          "Happiness",
          "Anger",
          "Neutral",
          "Boredom",
          "Happiness",
          "Sadness",
          "Anxiety",
          "Neutral",
          "Boredom",
          "Happiness",
          "Anger",
          "Neutral",
          "Sadness",
          "Anxiety",
          "Anxiety",
          "Boredom",
          "Sadness",
          "Happiness",
          "Boredom",
          "Happiness",
          "Anger",
          "Neutral",
          "Anxiety",
          "Sadness",
          "Boredom",
          "Happiness",
          "Neutral",
          "Anxiety",
          "Sadness",
          "Happiness",
          "Boredom",
          "Neutral",
          "Anger",
          "Neutral",
          "Anxiety",
          "Happiness",
          "Sadness",
          "Anxiety",
          "Neutral",
          "Sadness",
          "Happiness",
          "Anger",
          "Neutral",
          "Boredom",
          "Anxiety",
          "Sadness",
          "Neutral",
          "Happiness",
          "Anxiety",
          "Boredom",
          "Anger",
          "Neutral",
          "Sadness",
          "Anxiety",
          "Boredom",
          "Neutral",
          "Happiness",
          "Anger",
          "Neutral",
          "Happiness",
          "Anger",
          "Neutral",
          "Anxiety",
          "Boredom",
          "Happiness",
          "Anger",
          "Sadness",
          "Neutral",
          "Happiness",
          "Anxiety",
          "Sadness",
          "Boredom",
          "Happiness",
          "Anger",
          "Neutral",
          "Anxiety",
          "Sadness",
          "Neutral",
          "Happiness",
          "Anxiety",
          "Anger",
          "Boredom",
          "Happiness",
          "Sadness",
          "Neutral",
          "Anxiety",
          "Happiness",
          "Anger",
          "Sadness",
          "Boredom",
          "Happiness",
          "Neutral",
          "Sadness",
          "Anxiety",
          "Boredom",
          "Happiness",
          "Anger",
          "Neutral",
          "Anxiety",
          "Sadness",
          "Happiness",
          "Anger",
          "Neutral",
          "Boredom",
          "Happiness",
          "Sadness",
          "Anxiety",
          "Neutral",
          "Boredom",
          "Happiness",
          "Anger",
          "Neutral",
          "Sadness",
          "Anxiety",
          "Anxiety",
          "Boredom",
          "Sadness",
          "Happiness",
          "Boredom",
          "Happiness",
          "Anger",
          "Neutral",
          "Anxiety",
          "Sadness",
          "Boredom",
          "Happiness",
          "Neutral",
          "Anxiety",
          "Sadness",
          "Happiness",
          "Boredom",
          "Neutral",
          "Anger",
          "Neutral",
          "Anxiety",
          "Happiness",
          "Sadness",
          "Anxiety",
          "Neutral",
          "Sadness",
          "Happiness",
          "Anger",
          "Neutral",
          "Boredom",
          "Anxiety",
          "Sadness",
          "Neutral",
          "Happiness",
          "Anxiety",
          "Boredom",
          "Anger",
          "Neutral",
          "Sadness",
          "Anxiety",
          "Boredom",
          "Neutral",
          "Happiness",
          "Anger",
          "Neutral",
          "Happiness",
          "Anger",
          "Neutral",
          "Anxiety",
          "Boredom",
          "Happiness",
          "Anger",
          "Sadness",
          "Neutral",
          "Happiness",
          "Anxiety",
          "Sadness",
          "Boredom",
          "Happiness",
          "Anger",
          "Neutral",
          "Anxiety",
          "Sadness",
          "Neutral",
          "Happiness",
          "Anxiety",
          "Anger",
          "Boredom",
          "Happiness",
          "Sadness",
          "Neutral",
          "Anxiety",
          "Happiness",
          "Anger",
          "Sadness",
          "Boredom",
          "Happiness",
          "Neutral",
          "Sadness",
          "Anxiety",
          "Boredom",
          "Happiness",
          "Anger",
          "Neutral",
          "Anxiety",
          "Sadness",
          "Happiness",
          "Anger",
          "Neutral",
          "Boredom",
          "Happiness",
          "Sadness",
          "Anxiety",
          "Neutral",
          "Boredom",
          "Happiness",
          "Anger",
          "Neutral",
          "Sadness",
          "Anxiety",
          "Anxiety",
          "Boredom",
          "Sadness",
          "Happiness",
          "Boredom",
          "Happiness",
          "Anger",
          "Neutral",
          "Anxiety",
          "Sadness",
          "Boredom",
          "Happiness",
          "Neutral",
          "Anxiety",
          "Sadness",
          "Happiness",
          "Boredom",
          "Neutral",
          "Anger",
          "Neutral",
          "Anxiety",
          "Happiness",
          "Sadness",
          "Anxiety",
          "Neutral",
          "Sadness",
          "Happiness",
          "Anger",
          "Neutral",
          "Boredom",
          "Anxiety",
          "Sadness",
          "Neutral",
          "Happiness",
          "Anxiety",
          "Boredom",
          "Anger",
          "Neutral",
          "Sadness",
          "Anxiety",
          "Boredom",
          "Neutral",
          "Happiness",
          "Anger",
          "Neutral",
          "Happiness",
          "Anger",
          "Neutral",
          "Anxiety",
          "Boredom",
          "Happiness",
          "Anger",
          "Sadness",
          "Neutral",
          "Happiness",
          "Anxiety",
          "Sadness",
          "Boredom",
          "Happiness",
          "Anger",
          "Neutral",
          "Anxiety",
          "Sadness",
          "Neutral",
          "Happiness",
          "Anxiety",
          "Anger",
          "Boredom",
          "Happiness",
          "Sadness",
          "Neutral",
          "Anxiety",
          "Happiness",
          "Anger",
          "Sadness",
          "Boredom",
          "Happiness",
          "Neutral",
          "Sadness",
          "Anxiety",
          "Boredom",
          "Happiness",
          "Anger",
          "Neutral",
          "Anxiety",
          "Sadness",
          "Happiness",
          "Happiness",
          "Anger",
          "Neutral",
          "Boredom",
          "Happiness",
          "Sadness",
          "Anxiety",
          "Neutral",
          "Boredom",
          "Happiness",
          "Anger",
          "Neutral",
          "Sadness",
          "Anxiety",
          "Anxiety",
          "Boredom",
          "Sadness",
          "Happiness",
          "Boredom",
          "Happiness",
          "Anger",
          "Neutral",
          "Anxiety",
          "Sadness",
          "Boredom",
          "Happiness",
          "Neutral",
          "Anxiety",
          "Sadness",
          "Happiness",
          "Boredom",
          "Neutral",
          "Anger",
          "Neutral",
          "Anxiety",
          "Happiness",
          "Sadness",
          "Anxiety",
          "Neutral",
          "Sadness",
          "Happiness",
          "Anger",
          "Neutral",
          "Boredom",
          "Anxiety",
          "Sadness",
          "Neutral",
          "Happiness",
          "Anxiety",
          "Boredom",
          "Anger",
          "Neutral",
          "Sadness",
          "Anxiety",
          "Boredom",
          "Neutral",
          "Happiness",
          "Anger",
          "Neutral",
          "Happiness",
          "Anger",
          "Neutral",
          "Anxiety",
          "Boredom",
          "Happiness",
          "Anger",
          "Sadness",
          "Neutral",
          "Happiness",
          "Anxiety",
          "Sadness",
          "Boredom",
          "Happiness",
          "Anger",
          "Neutral",
          "Anxiety",
          "Sadness",
          "Neutral",
          "Happiness",
          "Anxiety",
          "Anger",
          "Boredom",
          "Happiness",
          "Sadness",
          "Neutral",
          "Anxiety",
          "Happiness",
          "Anger",
          "Sadness",
          "Boredom",
          "Happiness",
          "Neutral",
          "Sadness",
          "Anxiety",
          "Boredom",
          "Happiness",
          "Anger",
          "Neutral",
          "Anxiety",
          "Sadness",
          "Happiness",
          "Anger",
          "Neutral",
          "Boredom",
          "Happiness",
          "Sadness",
          "Anxiety",
          "Neutral",
          "Boredom",
          "Happiness",
          "Anger",
          "Neutral",
          "Sadness",
          "Anxiety",
          "Anxiety",
          "Boredom",
          "Sadness",
          "Happiness",
          "Boredom",
          "Happiness",
          "Anger",
          "Neutral",
          "Anxiety",
          "Sadness",
          "Boredom",
          "Happiness",
          "Neutral",
          "Anxiety",
          "Sadness",
          "Happiness",
          "Boredom",
          "Neutral",
          "Anger",
          "Neutral",
          "Anxiety",
          "Happiness",
          "Sadness",
          "Anxiety",
          "Neutral",
          "Sadness",
          "Happiness",
          "Anger",
          "Neutral",
          "Boredom",
          "Anxiety",
          "Sadness",
          "Neutral",
          "Happiness",
          "Anxiety",
          "Boredom",
          "Anger",
          "Neutral",
          "Sadness",
          "Anxiety",
          "Boredom",
          "Neutral",
          "Happiness",
          "Anger",
          "Neutral",
          "Happiness",
          "Anger",
          "Neutral",
          "Anxiety",
          "Boredom",
          "Happiness",
          "Anger",
          "Sadness",
          "Neutral",
          "Happiness",
          "Anxiety",
          "Sadness",
          "Boredom",
          "Happiness",
          "Anger",
          "Neutral",
          "Anxiety",
          "Sadness",
          "Neutral",
          "Happiness",
          "Anxiety",
          "Anger",
          "Boredom",
          "Happiness",
          "Sadness",
          "Neutral",
          "Anxiety",
          "Happiness",
          "Anger",
          "Sadness",
          "Boredom",
          "Happiness",
          "Neutral",
          "Sadness",
          "Anxiety",
          "Boredom",
          "Happiness",
          "Anger",
          "Neutral",
          "Anxiety",
          "Sadness",
          "Happiness",
          "Anger",
          "Neutral",
          "Boredom",
          "Happiness",
          "Sadness",
          "Anxiety",
          "Neutral",
          "Boredom",
          "Happiness",
          "Anger",
          "Neutral",
          "Sadness",
          "Anxiety",
          "Anxiety",
          "Boredom",
          "Sadness",
          "Happiness",
          "Boredom",
          "Happiness",
          "Anger",
          "Neutral",
          "Anxiety",
          "Sadness",
          "Boredom",
          "Happiness",
          "Neutral",
          "Anxiety",
          "Sadness",
          "Happiness",
          "Boredom",
          "Neutral",
          "Anger",
          "Neutral",
          "Anxiety",
          "Happiness",
          "Sadness",
          "Anxiety",
          "Neutral",
          "Sadness",
          "Happiness",
          "Anger",
          "Neutral",
          "Boredom",
          "Anxiety",
          "Sadness",
          "Neutral",
          "Happiness",
          "Anxiety",
          "Boredom",
          "Anger",
          "Neutral",
          "Sadness",
          "Anxiety",
          "Boredom",
          "Neutral",
          "Happiness",
          "Anger",
          "Neutral",
          "Happiness",
          "Anger",
          "Neutral",
          "Anxiety",
          "Boredom",
          "Happiness",
          "Anger",
          "Sadness",
          "Neutral",
          "Happiness",
          "Anxiety",
          "Sadness",
          "Boredom",
          "Happiness",
          "Anger",
          "Neutral",
          "Anxiety",
          "Sadness",
          "Neutral",
          "Happiness",
          "Anxiety",
          "Anger",
          "Boredom",
          "Happiness",
          "Sadness",
          "Neutral",
          "Anxiety",
          "Happiness",
          "Anger",
          "Sadness",
          "Boredom",
          "Happiness",
          "Neutral",
          "Sadness",
          "Anxiety",
          "Boredom",
          "Happiness",
          "Anger",
          "Neutral",
          "Anxiety",
          "Sadness",
          "Happiness",
          "Anger",
          "Neutral",
          "Boredom",
          "Happiness",
          "Sadness",
          "Anxiety",
          "Neutral",
          "Boredom",
          "Happiness",
          "Anger",
          "Neutral",
          "Sadness",
          "Anxiety",
          "Anxiety",
          "Boredom",
          "Sadness",
          "Happiness",
          "Boredom",
          "Happiness",
          "Anger",
          "Neutral",
          "Anxiety",
          "Sadness",
          "Boredom",
          "Happiness",
          "Neutral",
          "Anxiety",
          "Sadness",
          "Happiness",
          "Boredom",
          "Neutral",
          "Anger",
          "Neutral",
          "Anxiety",
          "Happiness",
          "Sadness",
          "Anxiety",
          "Neutral",
          "Sadness",
          "Happiness",
          "Anger",
          "Neutral",
          "Boredom",
          "Anxiety",
          "Sadness",
          "Neutral",
          "Happiness",
          "Anxiety",
          "Boredom",
          "Anger",
          "Neutral",
          "Sadness",
          "Anxiety",
          "Boredom",
          "Neutral",
          "Happiness",
          "Anger",
          "Neutral"
         ],
         "legendgroup": "",
         "name": "",
         "showlegend": true,
         "textinfo": "percent+label",
         "textposition": "inside",
         "type": "pie"
        }
       ],
       "layout": {
        "legend": {
         "tracegroupgap": 0
        },
        "template": {
         "data": {
          "bar": [
           {
            "error_x": {
             "color": "#2a3f5f"
            },
            "error_y": {
             "color": "#2a3f5f"
            },
            "marker": {
             "line": {
              "color": "#E5ECF6",
              "width": 0.5
             },
             "pattern": {
              "fillmode": "overlay",
              "size": 10,
              "solidity": 0.2
             }
            },
            "type": "bar"
           }
          ],
          "barpolar": [
           {
            "marker": {
             "line": {
              "color": "#E5ECF6",
              "width": 0.5
             },
             "pattern": {
              "fillmode": "overlay",
              "size": 10,
              "solidity": 0.2
             }
            },
            "type": "barpolar"
           }
          ],
          "carpet": [
           {
            "aaxis": {
             "endlinecolor": "#2a3f5f",
             "gridcolor": "white",
             "linecolor": "white",
             "minorgridcolor": "white",
             "startlinecolor": "#2a3f5f"
            },
            "baxis": {
             "endlinecolor": "#2a3f5f",
             "gridcolor": "white",
             "linecolor": "white",
             "minorgridcolor": "white",
             "startlinecolor": "#2a3f5f"
            },
            "type": "carpet"
           }
          ],
          "choropleth": [
           {
            "colorbar": {
             "outlinewidth": 0,
             "ticks": ""
            },
            "type": "choropleth"
           }
          ],
          "contour": [
           {
            "colorbar": {
             "outlinewidth": 0,
             "ticks": ""
            },
            "colorscale": [
             [
              0,
              "#0d0887"
             ],
             [
              0.1111111111111111,
              "#46039f"
             ],
             [
              0.2222222222222222,
              "#7201a8"
             ],
             [
              0.3333333333333333,
              "#9c179e"
             ],
             [
              0.4444444444444444,
              "#bd3786"
             ],
             [
              0.5555555555555556,
              "#d8576b"
             ],
             [
              0.6666666666666666,
              "#ed7953"
             ],
             [
              0.7777777777777778,
              "#fb9f3a"
             ],
             [
              0.8888888888888888,
              "#fdca26"
             ],
             [
              1,
              "#f0f921"
             ]
            ],
            "type": "contour"
           }
          ],
          "contourcarpet": [
           {
            "colorbar": {
             "outlinewidth": 0,
             "ticks": ""
            },
            "type": "contourcarpet"
           }
          ],
          "heatmap": [
           {
            "colorbar": {
             "outlinewidth": 0,
             "ticks": ""
            },
            "colorscale": [
             [
              0,
              "#0d0887"
             ],
             [
              0.1111111111111111,
              "#46039f"
             ],
             [
              0.2222222222222222,
              "#7201a8"
             ],
             [
              0.3333333333333333,
              "#9c179e"
             ],
             [
              0.4444444444444444,
              "#bd3786"
             ],
             [
              0.5555555555555556,
              "#d8576b"
             ],
             [
              0.6666666666666666,
              "#ed7953"
             ],
             [
              0.7777777777777778,
              "#fb9f3a"
             ],
             [
              0.8888888888888888,
              "#fdca26"
             ],
             [
              1,
              "#f0f921"
             ]
            ],
            "type": "heatmap"
           }
          ],
          "heatmapgl": [
           {
            "colorbar": {
             "outlinewidth": 0,
             "ticks": ""
            },
            "colorscale": [
             [
              0,
              "#0d0887"
             ],
             [
              0.1111111111111111,
              "#46039f"
             ],
             [
              0.2222222222222222,
              "#7201a8"
             ],
             [
              0.3333333333333333,
              "#9c179e"
             ],
             [
              0.4444444444444444,
              "#bd3786"
             ],
             [
              0.5555555555555556,
              "#d8576b"
             ],
             [
              0.6666666666666666,
              "#ed7953"
             ],
             [
              0.7777777777777778,
              "#fb9f3a"
             ],
             [
              0.8888888888888888,
              "#fdca26"
             ],
             [
              1,
              "#f0f921"
             ]
            ],
            "type": "heatmapgl"
           }
          ],
          "histogram": [
           {
            "marker": {
             "pattern": {
              "fillmode": "overlay",
              "size": 10,
              "solidity": 0.2
             }
            },
            "type": "histogram"
           }
          ],
          "histogram2d": [
           {
            "colorbar": {
             "outlinewidth": 0,
             "ticks": ""
            },
            "colorscale": [
             [
              0,
              "#0d0887"
             ],
             [
              0.1111111111111111,
              "#46039f"
             ],
             [
              0.2222222222222222,
              "#7201a8"
             ],
             [
              0.3333333333333333,
              "#9c179e"
             ],
             [
              0.4444444444444444,
              "#bd3786"
             ],
             [
              0.5555555555555556,
              "#d8576b"
             ],
             [
              0.6666666666666666,
              "#ed7953"
             ],
             [
              0.7777777777777778,
              "#fb9f3a"
             ],
             [
              0.8888888888888888,
              "#fdca26"
             ],
             [
              1,
              "#f0f921"
             ]
            ],
            "type": "histogram2d"
           }
          ],
          "histogram2dcontour": [
           {
            "colorbar": {
             "outlinewidth": 0,
             "ticks": ""
            },
            "colorscale": [
             [
              0,
              "#0d0887"
             ],
             [
              0.1111111111111111,
              "#46039f"
             ],
             [
              0.2222222222222222,
              "#7201a8"
             ],
             [
              0.3333333333333333,
              "#9c179e"
             ],
             [
              0.4444444444444444,
              "#bd3786"
             ],
             [
              0.5555555555555556,
              "#d8576b"
             ],
             [
              0.6666666666666666,
              "#ed7953"
             ],
             [
              0.7777777777777778,
              "#fb9f3a"
             ],
             [
              0.8888888888888888,
              "#fdca26"
             ],
             [
              1,
              "#f0f921"
             ]
            ],
            "type": "histogram2dcontour"
           }
          ],
          "mesh3d": [
           {
            "colorbar": {
             "outlinewidth": 0,
             "ticks": ""
            },
            "type": "mesh3d"
           }
          ],
          "parcoords": [
           {
            "line": {
             "colorbar": {
              "outlinewidth": 0,
              "ticks": ""
             }
            },
            "type": "parcoords"
           }
          ],
          "pie": [
           {
            "automargin": true,
            "type": "pie"
           }
          ],
          "scatter": [
           {
            "fillpattern": {
             "fillmode": "overlay",
             "size": 10,
             "solidity": 0.2
            },
            "type": "scatter"
           }
          ],
          "scatter3d": [
           {
            "line": {
             "colorbar": {
              "outlinewidth": 0,
              "ticks": ""
             }
            },
            "marker": {
             "colorbar": {
              "outlinewidth": 0,
              "ticks": ""
             }
            },
            "type": "scatter3d"
           }
          ],
          "scattercarpet": [
           {
            "marker": {
             "colorbar": {
              "outlinewidth": 0,
              "ticks": ""
             }
            },
            "type": "scattercarpet"
           }
          ],
          "scattergeo": [
           {
            "marker": {
             "colorbar": {
              "outlinewidth": 0,
              "ticks": ""
             }
            },
            "type": "scattergeo"
           }
          ],
          "scattergl": [
           {
            "marker": {
             "colorbar": {
              "outlinewidth": 0,
              "ticks": ""
             }
            },
            "type": "scattergl"
           }
          ],
          "scattermapbox": [
           {
            "marker": {
             "colorbar": {
              "outlinewidth": 0,
              "ticks": ""
             }
            },
            "type": "scattermapbox"
           }
          ],
          "scatterpolar": [
           {
            "marker": {
             "colorbar": {
              "outlinewidth": 0,
              "ticks": ""
             }
            },
            "type": "scatterpolar"
           }
          ],
          "scatterpolargl": [
           {
            "marker": {
             "colorbar": {
              "outlinewidth": 0,
              "ticks": ""
             }
            },
            "type": "scatterpolargl"
           }
          ],
          "scatterternary": [
           {
            "marker": {
             "colorbar": {
              "outlinewidth": 0,
              "ticks": ""
             }
            },
            "type": "scatterternary"
           }
          ],
          "surface": [
           {
            "colorbar": {
             "outlinewidth": 0,
             "ticks": ""
            },
            "colorscale": [
             [
              0,
              "#0d0887"
             ],
             [
              0.1111111111111111,
              "#46039f"
             ],
             [
              0.2222222222222222,
              "#7201a8"
             ],
             [
              0.3333333333333333,
              "#9c179e"
             ],
             [
              0.4444444444444444,
              "#bd3786"
             ],
             [
              0.5555555555555556,
              "#d8576b"
             ],
             [
              0.6666666666666666,
              "#ed7953"
             ],
             [
              0.7777777777777778,
              "#fb9f3a"
             ],
             [
              0.8888888888888888,
              "#fdca26"
             ],
             [
              1,
              "#f0f921"
             ]
            ],
            "type": "surface"
           }
          ],
          "table": [
           {
            "cells": {
             "fill": {
              "color": "#EBF0F8"
             },
             "line": {
              "color": "white"
             }
            },
            "header": {
             "fill": {
              "color": "#C8D4E3"
             },
             "line": {
              "color": "white"
             }
            },
            "type": "table"
           }
          ]
         },
         "layout": {
          "annotationdefaults": {
           "arrowcolor": "#2a3f5f",
           "arrowhead": 0,
           "arrowwidth": 1
          },
          "autotypenumbers": "strict",
          "coloraxis": {
           "colorbar": {
            "outlinewidth": 0,
            "ticks": ""
           }
          },
          "colorscale": {
           "diverging": [
            [
             0,
             "#8e0152"
            ],
            [
             0.1,
             "#c51b7d"
            ],
            [
             0.2,
             "#de77ae"
            ],
            [
             0.3,
             "#f1b6da"
            ],
            [
             0.4,
             "#fde0ef"
            ],
            [
             0.5,
             "#f7f7f7"
            ],
            [
             0.6,
             "#e6f5d0"
            ],
            [
             0.7,
             "#b8e186"
            ],
            [
             0.8,
             "#7fbc41"
            ],
            [
             0.9,
             "#4d9221"
            ],
            [
             1,
             "#276419"
            ]
           ],
           "sequential": [
            [
             0,
             "#0d0887"
            ],
            [
             0.1111111111111111,
             "#46039f"
            ],
            [
             0.2222222222222222,
             "#7201a8"
            ],
            [
             0.3333333333333333,
             "#9c179e"
            ],
            [
             0.4444444444444444,
             "#bd3786"
            ],
            [
             0.5555555555555556,
             "#d8576b"
            ],
            [
             0.6666666666666666,
             "#ed7953"
            ],
            [
             0.7777777777777778,
             "#fb9f3a"
            ],
            [
             0.8888888888888888,
             "#fdca26"
            ],
            [
             1,
             "#f0f921"
            ]
           ],
           "sequentialminus": [
            [
             0,
             "#0d0887"
            ],
            [
             0.1111111111111111,
             "#46039f"
            ],
            [
             0.2222222222222222,
             "#7201a8"
            ],
            [
             0.3333333333333333,
             "#9c179e"
            ],
            [
             0.4444444444444444,
             "#bd3786"
            ],
            [
             0.5555555555555556,
             "#d8576b"
            ],
            [
             0.6666666666666666,
             "#ed7953"
            ],
            [
             0.7777777777777778,
             "#fb9f3a"
            ],
            [
             0.8888888888888888,
             "#fdca26"
            ],
            [
             1,
             "#f0f921"
            ]
           ]
          },
          "colorway": [
           "#636efa",
           "#EF553B",
           "#00cc96",
           "#ab63fa",
           "#FFA15A",
           "#19d3f3",
           "#FF6692",
           "#B6E880",
           "#FF97FF",
           "#FECB52"
          ],
          "font": {
           "color": "#2a3f5f"
          },
          "geo": {
           "bgcolor": "white",
           "lakecolor": "white",
           "landcolor": "#E5ECF6",
           "showlakes": true,
           "showland": true,
           "subunitcolor": "white"
          },
          "hoverlabel": {
           "align": "left"
          },
          "hovermode": "closest",
          "mapbox": {
           "style": "light"
          },
          "paper_bgcolor": "white",
          "plot_bgcolor": "#E5ECF6",
          "polar": {
           "angularaxis": {
            "gridcolor": "white",
            "linecolor": "white",
            "ticks": ""
           },
           "bgcolor": "#E5ECF6",
           "radialaxis": {
            "gridcolor": "white",
            "linecolor": "white",
            "ticks": ""
           }
          },
          "scene": {
           "xaxis": {
            "backgroundcolor": "#E5ECF6",
            "gridcolor": "white",
            "gridwidth": 2,
            "linecolor": "white",
            "showbackground": true,
            "ticks": "",
            "zerolinecolor": "white"
           },
           "yaxis": {
            "backgroundcolor": "#E5ECF6",
            "gridcolor": "white",
            "gridwidth": 2,
            "linecolor": "white",
            "showbackground": true,
            "ticks": "",
            "zerolinecolor": "white"
           },
           "zaxis": {
            "backgroundcolor": "#E5ECF6",
            "gridcolor": "white",
            "gridwidth": 2,
            "linecolor": "white",
            "showbackground": true,
            "ticks": "",
            "zerolinecolor": "white"
           }
          },
          "shapedefaults": {
           "line": {
            "color": "#2a3f5f"
           }
          },
          "ternary": {
           "aaxis": {
            "gridcolor": "white",
            "linecolor": "white",
            "ticks": ""
           },
           "baxis": {
            "gridcolor": "white",
            "linecolor": "white",
            "ticks": ""
           },
           "bgcolor": "#E5ECF6",
           "caxis": {
            "gridcolor": "white",
            "linecolor": "white",
            "ticks": ""
           }
          },
          "title": {
           "x": 0.05
          },
          "xaxis": {
           "automargin": true,
           "gridcolor": "white",
           "linecolor": "white",
           "ticks": "",
           "title": {
            "standoff": 15
           },
           "zerolinecolor": "white",
           "zerolinewidth": 2
          },
          "yaxis": {
           "automargin": true,
           "gridcolor": "white",
           "linecolor": "white",
           "ticks": "",
           "title": {
            "standoff": 15
           },
           "zerolinecolor": "white",
           "zerolinewidth": 2
          }
         }
        },
        "title": {
         "text": "Dominant Emotion Distribution"
        }
       }
      }
     },
     "metadata": {},
     "output_type": "display_data"
    }
   ],
   "source": [
    "plt = px.pie(train_df, names='Dominant_Emotion', title='Dominant Emotion Distribution')\n",
    "# adding the values to the pie section\n",
    "plt.update_traces(textposition='inside', textinfo='percent+label')\n",
    "plt.show()"
   ]
  },
  {
   "cell_type": "markdown",
   "metadata": {},
   "source": [
    "## **Relationship Between Variables**"
   ]
  },
  {
   "cell_type": "markdown",
   "metadata": {},
   "source": [
    "### **Gender and Platform**"
   ]
  },
  {
   "cell_type": "code",
   "execution_count": 86,
   "metadata": {},
   "outputs": [
    {
     "data": {
      "text/html": [
       "<div>\n",
       "<style scoped>\n",
       "    .dataframe tbody tr th:only-of-type {\n",
       "        vertical-align: middle;\n",
       "    }\n",
       "\n",
       "    .dataframe tbody tr th {\n",
       "        vertical-align: top;\n",
       "    }\n",
       "\n",
       "    .dataframe thead th {\n",
       "        text-align: right;\n",
       "    }\n",
       "</style>\n",
       "<table border=\"1\" class=\"dataframe\">\n",
       "  <thead>\n",
       "    <tr style=\"text-align: right;\">\n",
       "      <th></th>\n",
       "      <th>Gender</th>\n",
       "      <th>Platform</th>\n",
       "      <th>Count</th>\n",
       "    </tr>\n",
       "  </thead>\n",
       "  <tbody>\n",
       "    <tr>\n",
       "      <th>0</th>\n",
       "      <td>Female</td>\n",
       "      <td>Facebook</td>\n",
       "      <td>10</td>\n",
       "    </tr>\n",
       "    <tr>\n",
       "      <th>1</th>\n",
       "      <td>Female</td>\n",
       "      <td>Instagram</td>\n",
       "      <td>150</td>\n",
       "    </tr>\n",
       "    <tr>\n",
       "      <th>2</th>\n",
       "      <td>Female</td>\n",
       "      <td>LinkedIn</td>\n",
       "      <td>40</td>\n",
       "    </tr>\n",
       "    <tr>\n",
       "      <th>3</th>\n",
       "      <td>Female</td>\n",
       "      <td>Snapchat</td>\n",
       "      <td>28</td>\n",
       "    </tr>\n",
       "    <tr>\n",
       "      <th>4</th>\n",
       "      <td>Female</td>\n",
       "      <td>Twitter</td>\n",
       "      <td>66</td>\n",
       "    </tr>\n",
       "    <tr>\n",
       "      <th>5</th>\n",
       "      <td>Female</td>\n",
       "      <td>Whatsapp</td>\n",
       "      <td>50</td>\n",
       "    </tr>\n",
       "    <tr>\n",
       "      <th>6</th>\n",
       "      <td>Male</td>\n",
       "      <td>Facebook</td>\n",
       "      <td>38</td>\n",
       "    </tr>\n",
       "    <tr>\n",
       "      <th>7</th>\n",
       "      <td>Male</td>\n",
       "      <td>Instagram</td>\n",
       "      <td>76</td>\n",
       "    </tr>\n",
       "    <tr>\n",
       "      <th>8</th>\n",
       "      <td>Male</td>\n",
       "      <td>LinkedIn</td>\n",
       "      <td>48</td>\n",
       "    </tr>\n",
       "    <tr>\n",
       "      <th>9</th>\n",
       "      <td>Male</td>\n",
       "      <td>Telegram</td>\n",
       "      <td>50</td>\n",
       "    </tr>\n",
       "    <tr>\n",
       "      <th>10</th>\n",
       "      <td>Male</td>\n",
       "      <td>Twitter</td>\n",
       "      <td>102</td>\n",
       "    </tr>\n",
       "    <tr>\n",
       "      <th>11</th>\n",
       "      <td>Male</td>\n",
       "      <td>Whatsapp</td>\n",
       "      <td>18</td>\n",
       "    </tr>\n",
       "    <tr>\n",
       "      <th>12</th>\n",
       "      <td>Non-binary</td>\n",
       "      <td>Facebook</td>\n",
       "      <td>130</td>\n",
       "    </tr>\n",
       "    <tr>\n",
       "      <th>13</th>\n",
       "      <td>Non-binary</td>\n",
       "      <td>Instagram</td>\n",
       "      <td>10</td>\n",
       "    </tr>\n",
       "    <tr>\n",
       "      <th>14</th>\n",
       "      <td>Non-binary</td>\n",
       "      <td>LinkedIn</td>\n",
       "      <td>30</td>\n",
       "    </tr>\n",
       "    <tr>\n",
       "      <th>15</th>\n",
       "      <td>Non-binary</td>\n",
       "      <td>Snapchat</td>\n",
       "      <td>40</td>\n",
       "    </tr>\n",
       "    <tr>\n",
       "      <th>16</th>\n",
       "      <td>Non-binary</td>\n",
       "      <td>Telegram</td>\n",
       "      <td>18</td>\n",
       "    </tr>\n",
       "    <tr>\n",
       "      <th>17</th>\n",
       "      <td>Non-binary</td>\n",
       "      <td>Twitter</td>\n",
       "      <td>20</td>\n",
       "    </tr>\n",
       "    <tr>\n",
       "      <th>18</th>\n",
       "      <td>Unknown</td>\n",
       "      <td>Facebook</td>\n",
       "      <td>12</td>\n",
       "    </tr>\n",
       "    <tr>\n",
       "      <th>19</th>\n",
       "      <td>Unknown</td>\n",
       "      <td>Instagram</td>\n",
       "      <td>15</td>\n",
       "    </tr>\n",
       "    <tr>\n",
       "      <th>20</th>\n",
       "      <td>Unknown</td>\n",
       "      <td>LinkedIn</td>\n",
       "      <td>2</td>\n",
       "    </tr>\n",
       "    <tr>\n",
       "      <th>21</th>\n",
       "      <td>Unknown</td>\n",
       "      <td>Snapchat</td>\n",
       "      <td>12</td>\n",
       "    </tr>\n",
       "    <tr>\n",
       "      <th>22</th>\n",
       "      <td>Unknown</td>\n",
       "      <td>Telegram</td>\n",
       "      <td>12</td>\n",
       "    </tr>\n",
       "    <tr>\n",
       "      <th>23</th>\n",
       "      <td>Unknown</td>\n",
       "      <td>Twitter</td>\n",
       "      <td>12</td>\n",
       "    </tr>\n",
       "    <tr>\n",
       "      <th>24</th>\n",
       "      <td>Unknown</td>\n",
       "      <td>Whatsapp</td>\n",
       "      <td>12</td>\n",
       "    </tr>\n",
       "  </tbody>\n",
       "</table>\n",
       "</div>"
      ],
      "text/plain": [
       "        Gender   Platform  Count\n",
       "0       Female   Facebook     10\n",
       "1       Female  Instagram    150\n",
       "2       Female   LinkedIn     40\n",
       "3       Female   Snapchat     28\n",
       "4       Female    Twitter     66\n",
       "5       Female   Whatsapp     50\n",
       "6         Male   Facebook     38\n",
       "7         Male  Instagram     76\n",
       "8         Male   LinkedIn     48\n",
       "9         Male   Telegram     50\n",
       "10        Male    Twitter    102\n",
       "11        Male   Whatsapp     18\n",
       "12  Non-binary   Facebook    130\n",
       "13  Non-binary  Instagram     10\n",
       "14  Non-binary   LinkedIn     30\n",
       "15  Non-binary   Snapchat     40\n",
       "16  Non-binary   Telegram     18\n",
       "17  Non-binary    Twitter     20\n",
       "18     Unknown   Facebook     12\n",
       "19     Unknown  Instagram     15\n",
       "20     Unknown   LinkedIn      2\n",
       "21     Unknown   Snapchat     12\n",
       "22     Unknown   Telegram     12\n",
       "23     Unknown    Twitter     12\n",
       "24     Unknown   Whatsapp     12"
      ]
     },
     "execution_count": 86,
     "metadata": {},
     "output_type": "execute_result"
    }
   ],
   "source": [
    "# Group the data by gender and platform\n",
    "gender_platform_grouped = train_df.groupby(['Gender', 'Platform']).size().reset_index(name='Count')\n",
    "\n",
    "gender_platform_grouped"
   ]
  },
  {
   "cell_type": "code",
   "execution_count": 88,
   "metadata": {},
   "outputs": [
    {
     "data": {
      "application/vnd.plotly.v1+json": {
       "config": {
        "plotlyServerURL": "https://plot.ly"
       },
       "data": [
        {
         "alignmentgroup": "True",
         "hovertemplate": "Platform=Facebook<br>Gender=%{x}<br>Count=%{y}<extra></extra>",
         "legendgroup": "Facebook",
         "marker": {
          "color": "#636efa",
          "pattern": {
           "shape": ""
          }
         },
         "name": "Facebook",
         "offsetgroup": "Facebook",
         "orientation": "v",
         "showlegend": true,
         "textposition": "auto",
         "type": "bar",
         "x": [
          "Female",
          "Male",
          "Non-binary",
          "Unknown"
         ],
         "xaxis": "x",
         "y": [
          10,
          38,
          130,
          12
         ],
         "yaxis": "y"
        },
        {
         "alignmentgroup": "True",
         "hovertemplate": "Platform=Instagram<br>Gender=%{x}<br>Count=%{y}<extra></extra>",
         "legendgroup": "Instagram",
         "marker": {
          "color": "#EF553B",
          "pattern": {
           "shape": ""
          }
         },
         "name": "Instagram",
         "offsetgroup": "Instagram",
         "orientation": "v",
         "showlegend": true,
         "textposition": "auto",
         "type": "bar",
         "x": [
          "Female",
          "Male",
          "Non-binary",
          "Unknown"
         ],
         "xaxis": "x",
         "y": [
          150,
          76,
          10,
          15
         ],
         "yaxis": "y"
        },
        {
         "alignmentgroup": "True",
         "hovertemplate": "Platform=LinkedIn<br>Gender=%{x}<br>Count=%{y}<extra></extra>",
         "legendgroup": "LinkedIn",
         "marker": {
          "color": "#00cc96",
          "pattern": {
           "shape": ""
          }
         },
         "name": "LinkedIn",
         "offsetgroup": "LinkedIn",
         "orientation": "v",
         "showlegend": true,
         "textposition": "auto",
         "type": "bar",
         "x": [
          "Female",
          "Male",
          "Non-binary",
          "Unknown"
         ],
         "xaxis": "x",
         "y": [
          40,
          48,
          30,
          2
         ],
         "yaxis": "y"
        },
        {
         "alignmentgroup": "True",
         "hovertemplate": "Platform=Snapchat<br>Gender=%{x}<br>Count=%{y}<extra></extra>",
         "legendgroup": "Snapchat",
         "marker": {
          "color": "#ab63fa",
          "pattern": {
           "shape": ""
          }
         },
         "name": "Snapchat",
         "offsetgroup": "Snapchat",
         "orientation": "v",
         "showlegend": true,
         "textposition": "auto",
         "type": "bar",
         "x": [
          "Female",
          "Non-binary",
          "Unknown"
         ],
         "xaxis": "x",
         "y": [
          28,
          40,
          12
         ],
         "yaxis": "y"
        },
        {
         "alignmentgroup": "True",
         "hovertemplate": "Platform=Twitter<br>Gender=%{x}<br>Count=%{y}<extra></extra>",
         "legendgroup": "Twitter",
         "marker": {
          "color": "#FFA15A",
          "pattern": {
           "shape": ""
          }
         },
         "name": "Twitter",
         "offsetgroup": "Twitter",
         "orientation": "v",
         "showlegend": true,
         "textposition": "auto",
         "type": "bar",
         "x": [
          "Female",
          "Male",
          "Non-binary",
          "Unknown"
         ],
         "xaxis": "x",
         "y": [
          66,
          102,
          20,
          12
         ],
         "yaxis": "y"
        },
        {
         "alignmentgroup": "True",
         "hovertemplate": "Platform=Whatsapp<br>Gender=%{x}<br>Count=%{y}<extra></extra>",
         "legendgroup": "Whatsapp",
         "marker": {
          "color": "#19d3f3",
          "pattern": {
           "shape": ""
          }
         },
         "name": "Whatsapp",
         "offsetgroup": "Whatsapp",
         "orientation": "v",
         "showlegend": true,
         "textposition": "auto",
         "type": "bar",
         "x": [
          "Female",
          "Male",
          "Unknown"
         ],
         "xaxis": "x",
         "y": [
          50,
          18,
          12
         ],
         "yaxis": "y"
        },
        {
         "alignmentgroup": "True",
         "hovertemplate": "Platform=Telegram<br>Gender=%{x}<br>Count=%{y}<extra></extra>",
         "legendgroup": "Telegram",
         "marker": {
          "color": "#FF6692",
          "pattern": {
           "shape": ""
          }
         },
         "name": "Telegram",
         "offsetgroup": "Telegram",
         "orientation": "v",
         "showlegend": true,
         "textposition": "auto",
         "type": "bar",
         "x": [
          "Male",
          "Non-binary",
          "Unknown"
         ],
         "xaxis": "x",
         "y": [
          50,
          18,
          12
         ],
         "yaxis": "y"
        }
       ],
       "layout": {
        "barmode": "group",
        "legend": {
         "title": {
          "text": "Platform"
         },
         "tracegroupgap": 0
        },
        "template": {
         "data": {
          "bar": [
           {
            "error_x": {
             "color": "#2a3f5f"
            },
            "error_y": {
             "color": "#2a3f5f"
            },
            "marker": {
             "line": {
              "color": "#E5ECF6",
              "width": 0.5
             },
             "pattern": {
              "fillmode": "overlay",
              "size": 10,
              "solidity": 0.2
             }
            },
            "type": "bar"
           }
          ],
          "barpolar": [
           {
            "marker": {
             "line": {
              "color": "#E5ECF6",
              "width": 0.5
             },
             "pattern": {
              "fillmode": "overlay",
              "size": 10,
              "solidity": 0.2
             }
            },
            "type": "barpolar"
           }
          ],
          "carpet": [
           {
            "aaxis": {
             "endlinecolor": "#2a3f5f",
             "gridcolor": "white",
             "linecolor": "white",
             "minorgridcolor": "white",
             "startlinecolor": "#2a3f5f"
            },
            "baxis": {
             "endlinecolor": "#2a3f5f",
             "gridcolor": "white",
             "linecolor": "white",
             "minorgridcolor": "white",
             "startlinecolor": "#2a3f5f"
            },
            "type": "carpet"
           }
          ],
          "choropleth": [
           {
            "colorbar": {
             "outlinewidth": 0,
             "ticks": ""
            },
            "type": "choropleth"
           }
          ],
          "contour": [
           {
            "colorbar": {
             "outlinewidth": 0,
             "ticks": ""
            },
            "colorscale": [
             [
              0,
              "#0d0887"
             ],
             [
              0.1111111111111111,
              "#46039f"
             ],
             [
              0.2222222222222222,
              "#7201a8"
             ],
             [
              0.3333333333333333,
              "#9c179e"
             ],
             [
              0.4444444444444444,
              "#bd3786"
             ],
             [
              0.5555555555555556,
              "#d8576b"
             ],
             [
              0.6666666666666666,
              "#ed7953"
             ],
             [
              0.7777777777777778,
              "#fb9f3a"
             ],
             [
              0.8888888888888888,
              "#fdca26"
             ],
             [
              1,
              "#f0f921"
             ]
            ],
            "type": "contour"
           }
          ],
          "contourcarpet": [
           {
            "colorbar": {
             "outlinewidth": 0,
             "ticks": ""
            },
            "type": "contourcarpet"
           }
          ],
          "heatmap": [
           {
            "colorbar": {
             "outlinewidth": 0,
             "ticks": ""
            },
            "colorscale": [
             [
              0,
              "#0d0887"
             ],
             [
              0.1111111111111111,
              "#46039f"
             ],
             [
              0.2222222222222222,
              "#7201a8"
             ],
             [
              0.3333333333333333,
              "#9c179e"
             ],
             [
              0.4444444444444444,
              "#bd3786"
             ],
             [
              0.5555555555555556,
              "#d8576b"
             ],
             [
              0.6666666666666666,
              "#ed7953"
             ],
             [
              0.7777777777777778,
              "#fb9f3a"
             ],
             [
              0.8888888888888888,
              "#fdca26"
             ],
             [
              1,
              "#f0f921"
             ]
            ],
            "type": "heatmap"
           }
          ],
          "heatmapgl": [
           {
            "colorbar": {
             "outlinewidth": 0,
             "ticks": ""
            },
            "colorscale": [
             [
              0,
              "#0d0887"
             ],
             [
              0.1111111111111111,
              "#46039f"
             ],
             [
              0.2222222222222222,
              "#7201a8"
             ],
             [
              0.3333333333333333,
              "#9c179e"
             ],
             [
              0.4444444444444444,
              "#bd3786"
             ],
             [
              0.5555555555555556,
              "#d8576b"
             ],
             [
              0.6666666666666666,
              "#ed7953"
             ],
             [
              0.7777777777777778,
              "#fb9f3a"
             ],
             [
              0.8888888888888888,
              "#fdca26"
             ],
             [
              1,
              "#f0f921"
             ]
            ],
            "type": "heatmapgl"
           }
          ],
          "histogram": [
           {
            "marker": {
             "pattern": {
              "fillmode": "overlay",
              "size": 10,
              "solidity": 0.2
             }
            },
            "type": "histogram"
           }
          ],
          "histogram2d": [
           {
            "colorbar": {
             "outlinewidth": 0,
             "ticks": ""
            },
            "colorscale": [
             [
              0,
              "#0d0887"
             ],
             [
              0.1111111111111111,
              "#46039f"
             ],
             [
              0.2222222222222222,
              "#7201a8"
             ],
             [
              0.3333333333333333,
              "#9c179e"
             ],
             [
              0.4444444444444444,
              "#bd3786"
             ],
             [
              0.5555555555555556,
              "#d8576b"
             ],
             [
              0.6666666666666666,
              "#ed7953"
             ],
             [
              0.7777777777777778,
              "#fb9f3a"
             ],
             [
              0.8888888888888888,
              "#fdca26"
             ],
             [
              1,
              "#f0f921"
             ]
            ],
            "type": "histogram2d"
           }
          ],
          "histogram2dcontour": [
           {
            "colorbar": {
             "outlinewidth": 0,
             "ticks": ""
            },
            "colorscale": [
             [
              0,
              "#0d0887"
             ],
             [
              0.1111111111111111,
              "#46039f"
             ],
             [
              0.2222222222222222,
              "#7201a8"
             ],
             [
              0.3333333333333333,
              "#9c179e"
             ],
             [
              0.4444444444444444,
              "#bd3786"
             ],
             [
              0.5555555555555556,
              "#d8576b"
             ],
             [
              0.6666666666666666,
              "#ed7953"
             ],
             [
              0.7777777777777778,
              "#fb9f3a"
             ],
             [
              0.8888888888888888,
              "#fdca26"
             ],
             [
              1,
              "#f0f921"
             ]
            ],
            "type": "histogram2dcontour"
           }
          ],
          "mesh3d": [
           {
            "colorbar": {
             "outlinewidth": 0,
             "ticks": ""
            },
            "type": "mesh3d"
           }
          ],
          "parcoords": [
           {
            "line": {
             "colorbar": {
              "outlinewidth": 0,
              "ticks": ""
             }
            },
            "type": "parcoords"
           }
          ],
          "pie": [
           {
            "automargin": true,
            "type": "pie"
           }
          ],
          "scatter": [
           {
            "fillpattern": {
             "fillmode": "overlay",
             "size": 10,
             "solidity": 0.2
            },
            "type": "scatter"
           }
          ],
          "scatter3d": [
           {
            "line": {
             "colorbar": {
              "outlinewidth": 0,
              "ticks": ""
             }
            },
            "marker": {
             "colorbar": {
              "outlinewidth": 0,
              "ticks": ""
             }
            },
            "type": "scatter3d"
           }
          ],
          "scattercarpet": [
           {
            "marker": {
             "colorbar": {
              "outlinewidth": 0,
              "ticks": ""
             }
            },
            "type": "scattercarpet"
           }
          ],
          "scattergeo": [
           {
            "marker": {
             "colorbar": {
              "outlinewidth": 0,
              "ticks": ""
             }
            },
            "type": "scattergeo"
           }
          ],
          "scattergl": [
           {
            "marker": {
             "colorbar": {
              "outlinewidth": 0,
              "ticks": ""
             }
            },
            "type": "scattergl"
           }
          ],
          "scattermapbox": [
           {
            "marker": {
             "colorbar": {
              "outlinewidth": 0,
              "ticks": ""
             }
            },
            "type": "scattermapbox"
           }
          ],
          "scatterpolar": [
           {
            "marker": {
             "colorbar": {
              "outlinewidth": 0,
              "ticks": ""
             }
            },
            "type": "scatterpolar"
           }
          ],
          "scatterpolargl": [
           {
            "marker": {
             "colorbar": {
              "outlinewidth": 0,
              "ticks": ""
             }
            },
            "type": "scatterpolargl"
           }
          ],
          "scatterternary": [
           {
            "marker": {
             "colorbar": {
              "outlinewidth": 0,
              "ticks": ""
             }
            },
            "type": "scatterternary"
           }
          ],
          "surface": [
           {
            "colorbar": {
             "outlinewidth": 0,
             "ticks": ""
            },
            "colorscale": [
             [
              0,
              "#0d0887"
             ],
             [
              0.1111111111111111,
              "#46039f"
             ],
             [
              0.2222222222222222,
              "#7201a8"
             ],
             [
              0.3333333333333333,
              "#9c179e"
             ],
             [
              0.4444444444444444,
              "#bd3786"
             ],
             [
              0.5555555555555556,
              "#d8576b"
             ],
             [
              0.6666666666666666,
              "#ed7953"
             ],
             [
              0.7777777777777778,
              "#fb9f3a"
             ],
             [
              0.8888888888888888,
              "#fdca26"
             ],
             [
              1,
              "#f0f921"
             ]
            ],
            "type": "surface"
           }
          ],
          "table": [
           {
            "cells": {
             "fill": {
              "color": "#EBF0F8"
             },
             "line": {
              "color": "white"
             }
            },
            "header": {
             "fill": {
              "color": "#C8D4E3"
             },
             "line": {
              "color": "white"
             }
            },
            "type": "table"
           }
          ]
         },
         "layout": {
          "annotationdefaults": {
           "arrowcolor": "#2a3f5f",
           "arrowhead": 0,
           "arrowwidth": 1
          },
          "autotypenumbers": "strict",
          "coloraxis": {
           "colorbar": {
            "outlinewidth": 0,
            "ticks": ""
           }
          },
          "colorscale": {
           "diverging": [
            [
             0,
             "#8e0152"
            ],
            [
             0.1,
             "#c51b7d"
            ],
            [
             0.2,
             "#de77ae"
            ],
            [
             0.3,
             "#f1b6da"
            ],
            [
             0.4,
             "#fde0ef"
            ],
            [
             0.5,
             "#f7f7f7"
            ],
            [
             0.6,
             "#e6f5d0"
            ],
            [
             0.7,
             "#b8e186"
            ],
            [
             0.8,
             "#7fbc41"
            ],
            [
             0.9,
             "#4d9221"
            ],
            [
             1,
             "#276419"
            ]
           ],
           "sequential": [
            [
             0,
             "#0d0887"
            ],
            [
             0.1111111111111111,
             "#46039f"
            ],
            [
             0.2222222222222222,
             "#7201a8"
            ],
            [
             0.3333333333333333,
             "#9c179e"
            ],
            [
             0.4444444444444444,
             "#bd3786"
            ],
            [
             0.5555555555555556,
             "#d8576b"
            ],
            [
             0.6666666666666666,
             "#ed7953"
            ],
            [
             0.7777777777777778,
             "#fb9f3a"
            ],
            [
             0.8888888888888888,
             "#fdca26"
            ],
            [
             1,
             "#f0f921"
            ]
           ],
           "sequentialminus": [
            [
             0,
             "#0d0887"
            ],
            [
             0.1111111111111111,
             "#46039f"
            ],
            [
             0.2222222222222222,
             "#7201a8"
            ],
            [
             0.3333333333333333,
             "#9c179e"
            ],
            [
             0.4444444444444444,
             "#bd3786"
            ],
            [
             0.5555555555555556,
             "#d8576b"
            ],
            [
             0.6666666666666666,
             "#ed7953"
            ],
            [
             0.7777777777777778,
             "#fb9f3a"
            ],
            [
             0.8888888888888888,
             "#fdca26"
            ],
            [
             1,
             "#f0f921"
            ]
           ]
          },
          "colorway": [
           "#636efa",
           "#EF553B",
           "#00cc96",
           "#ab63fa",
           "#FFA15A",
           "#19d3f3",
           "#FF6692",
           "#B6E880",
           "#FF97FF",
           "#FECB52"
          ],
          "font": {
           "color": "#2a3f5f"
          },
          "geo": {
           "bgcolor": "white",
           "lakecolor": "white",
           "landcolor": "#E5ECF6",
           "showlakes": true,
           "showland": true,
           "subunitcolor": "white"
          },
          "hoverlabel": {
           "align": "left"
          },
          "hovermode": "closest",
          "mapbox": {
           "style": "light"
          },
          "paper_bgcolor": "white",
          "plot_bgcolor": "#E5ECF6",
          "polar": {
           "angularaxis": {
            "gridcolor": "white",
            "linecolor": "white",
            "ticks": ""
           },
           "bgcolor": "#E5ECF6",
           "radialaxis": {
            "gridcolor": "white",
            "linecolor": "white",
            "ticks": ""
           }
          },
          "scene": {
           "xaxis": {
            "backgroundcolor": "#E5ECF6",
            "gridcolor": "white",
            "gridwidth": 2,
            "linecolor": "white",
            "showbackground": true,
            "ticks": "",
            "zerolinecolor": "white"
           },
           "yaxis": {
            "backgroundcolor": "#E5ECF6",
            "gridcolor": "white",
            "gridwidth": 2,
            "linecolor": "white",
            "showbackground": true,
            "ticks": "",
            "zerolinecolor": "white"
           },
           "zaxis": {
            "backgroundcolor": "#E5ECF6",
            "gridcolor": "white",
            "gridwidth": 2,
            "linecolor": "white",
            "showbackground": true,
            "ticks": "",
            "zerolinecolor": "white"
           }
          },
          "shapedefaults": {
           "line": {
            "color": "#2a3f5f"
           }
          },
          "ternary": {
           "aaxis": {
            "gridcolor": "white",
            "linecolor": "white",
            "ticks": ""
           },
           "baxis": {
            "gridcolor": "white",
            "linecolor": "white",
            "ticks": ""
           },
           "bgcolor": "#E5ECF6",
           "caxis": {
            "gridcolor": "white",
            "linecolor": "white",
            "ticks": ""
           }
          },
          "title": {
           "x": 0.05
          },
          "xaxis": {
           "automargin": true,
           "gridcolor": "white",
           "linecolor": "white",
           "ticks": "",
           "title": {
            "standoff": 15
           },
           "zerolinecolor": "white",
           "zerolinewidth": 2
          },
          "yaxis": {
           "automargin": true,
           "gridcolor": "white",
           "linecolor": "white",
           "ticks": "",
           "title": {
            "standoff": 15
           },
           "zerolinecolor": "white",
           "zerolinewidth": 2
          }
         }
        },
        "title": {
         "text": "Platform by Gender Usage"
        },
        "xaxis": {
         "anchor": "y",
         "domain": [
          0,
          1
         ],
         "title": {
          "text": "Gender"
         }
        },
        "yaxis": {
         "anchor": "x",
         "domain": [
          0,
          1
         ],
         "title": {
          "text": "Count"
         }
        }
       }
      }
     },
     "metadata": {},
     "output_type": "display_data"
    }
   ],
   "source": [
    "plt = px.bar(gender_platform_grouped, x='Gender', y='Count', color='Platform', title='Platform by Gender Usage', barmode='group')\n",
    "plt.show()"
   ]
  },
  {
   "cell_type": "markdown",
   "metadata": {},
   "source": [
    "### **Age and Gender**"
   ]
  },
  {
   "cell_type": "code",
   "execution_count": 93,
   "metadata": {},
   "outputs": [
    {
     "data": {
      "text/plain": [
       "Gender      Age \n",
       "Female      21.0    20\n",
       "            22.0    48\n",
       "            23.0    10\n",
       "            24.0    26\n",
       "            25.0    40\n",
       "            26.0     8\n",
       "            27.0    28\n",
       "            28.0    36\n",
       "            29.0    28\n",
       "            30.0     8\n",
       "            31.0     8\n",
       "            32.0    28\n",
       "            33.0    18\n",
       "            34.0    18\n",
       "            35.0    20\n",
       "Male        21.0    10\n",
       "            22.0     8\n",
       "            23.0     8\n",
       "            24.0    10\n",
       "            25.0    24\n",
       "            26.0    28\n",
       "            27.0    44\n",
       "            28.0    28\n",
       "            29.0    30\n",
       "            30.0    40\n",
       "            31.0    54\n",
       "            32.0    10\n",
       "            33.0    10\n",
       "            34.0    10\n",
       "            35.0    18\n",
       "Non-binary  21.0    26\n",
       "            22.0    18\n",
       "            23.0    30\n",
       "            24.0    28\n",
       "            26.0    30\n",
       "            27.0    20\n",
       "            28.0    28\n",
       "            29.0    32\n",
       "            33.0    28\n",
       "            34.0     8\n",
       "Unknown     27.0    77\n",
       "dtype: int64"
      ]
     },
     "execution_count": 93,
     "metadata": {},
     "output_type": "execute_result"
    }
   ],
   "source": [
    "# Group the data by gender and age\n",
    "gender_age_grouped = train_df.groupby(['Gender', 'Age']).size()\n",
    "\n",
    "gender_age_grouped\n"
   ]
  },
  {
   "cell_type": "code",
   "execution_count": 91,
   "metadata": {},
   "outputs": [
    {
     "data": {
      "application/vnd.plotly.v1+json": {
       "config": {
        "plotlyServerURL": "https://plot.ly"
       },
       "data": [
        {
         "alignmentgroup": "True",
         "bingroup": "x",
         "hovertemplate": "Gender=Female<br>Age=%{x}<br>count=%{y}<extra></extra>",
         "legendgroup": "Female",
         "marker": {
          "color": "#636efa",
          "pattern": {
           "shape": ""
          }
         },
         "name": "Female",
         "offsetgroup": "Female",
         "orientation": "v",
         "showlegend": true,
         "type": "histogram",
         "x": [
          25,
          28,
          27,
          29,
          23,
          22,
          35,
          32,
          24,
          22,
          25,
          34,
          21,
          33,
          22,
          25,
          35,
          21,
          28,
          24,
          33,
          22,
          28,
          30,
          26,
          31,
          24,
          29,
          32,
          27,
          34,
          28,
          25,
          32,
          29,
          22,
          27,
          25,
          28,
          27,
          29,
          23,
          22,
          35,
          32,
          24,
          22,
          25,
          34,
          21,
          33,
          22,
          25,
          35,
          21,
          28,
          24,
          33,
          22,
          28,
          30,
          26,
          31,
          24,
          29,
          32,
          27,
          34,
          28,
          25,
          32,
          29,
          22,
          27,
          25,
          28,
          27,
          29,
          23,
          22,
          35,
          32,
          24,
          22,
          25,
          34,
          21,
          33,
          22,
          25,
          35,
          21,
          28,
          25,
          32,
          29,
          22,
          27,
          25,
          28,
          27,
          29,
          23,
          22,
          35,
          32,
          24,
          22,
          25,
          34,
          21,
          33,
          22,
          25,
          35,
          21,
          28,
          24,
          33,
          22,
          28,
          30,
          26,
          31,
          24,
          29,
          32,
          27,
          34,
          28,
          25,
          32,
          29,
          22,
          27,
          25,
          28,
          27,
          29,
          23,
          22,
          35,
          32,
          24,
          22,
          25,
          34,
          21,
          33,
          22,
          25,
          35,
          21,
          28,
          24,
          33,
          22,
          28,
          30,
          26,
          31,
          24,
          29,
          32,
          27,
          34,
          28,
          25,
          32,
          29,
          22,
          27,
          25,
          28,
          27,
          29,
          23,
          22,
          35,
          32,
          24,
          22,
          25,
          34,
          21,
          33,
          22,
          25,
          35,
          21,
          28,
          24,
          33,
          22,
          28,
          30,
          26,
          31,
          24,
          29,
          32,
          27,
          34,
          28,
          25,
          32,
          29,
          22,
          27,
          25,
          28,
          27,
          29,
          23,
          22,
          35,
          32,
          24,
          22,
          25,
          34,
          21,
          33,
          22,
          25,
          35,
          21,
          28,
          24,
          33,
          22,
          28,
          30,
          26,
          31,
          24,
          29,
          32,
          27,
          34,
          28,
          25,
          32,
          29,
          22,
          27,
          25,
          28,
          27,
          29,
          23,
          22,
          35,
          32,
          24,
          22,
          25,
          34,
          21,
          33,
          22,
          25,
          35,
          21,
          28,
          25,
          32,
          29,
          22,
          27,
          25,
          28,
          27,
          29,
          23,
          22,
          35,
          32,
          24,
          22,
          25,
          34,
          21,
          33,
          22,
          25,
          35,
          21,
          28,
          24,
          33,
          22,
          28,
          30,
          26,
          31,
          24,
          29,
          32,
          27,
          34,
          28,
          25,
          32,
          29,
          22,
          27,
          25,
          28,
          27,
          29,
          23,
          22,
          35,
          32,
          24,
          22,
          25,
          34,
          21,
          33,
          22,
          25,
          35,
          21,
          28,
          24,
          33,
          22,
          28,
          30,
          26,
          31,
          24,
          29,
          32,
          27,
          34,
          28,
          25,
          32,
          29,
          22,
          27
         ],
         "xaxis": "x",
         "yaxis": "y"
        },
        {
         "alignmentgroup": "True",
         "bingroup": "x",
         "hovertemplate": "Gender=Male<br>Age=%{x}<br>count=%{y}<extra></extra>",
         "legendgroup": "Male",
         "marker": {
          "color": "#EF553B",
          "pattern": {
           "shape": ""
          }
         },
         "name": "Male",
         "offsetgroup": "Male",
         "orientation": "v",
         "showlegend": true,
         "type": "histogram",
         "x": [
          30,
          33,
          21,
          31,
          34,
          28,
          27,
          26,
          29,
          31,
          30,
          28,
          29,
          27,
          31,
          29,
          30,
          32,
          27,
          31,
          25,
          27,
          23,
          25,
          28,
          27,
          35,
          25,
          26,
          31,
          22,
          31,
          30,
          24,
          26,
          35,
          30,
          33,
          21,
          31,
          34,
          28,
          27,
          26,
          29,
          31,
          30,
          28,
          29,
          27,
          31,
          29,
          30,
          32,
          27,
          31,
          25,
          27,
          23,
          25,
          28,
          27,
          35,
          25,
          26,
          31,
          22,
          31,
          30,
          24,
          26,
          35,
          30,
          33,
          21,
          31,
          34,
          28,
          27,
          26,
          29,
          31,
          30,
          28,
          29,
          27,
          31,
          29,
          30,
          32,
          30,
          24,
          26,
          35,
          30,
          33,
          21,
          31,
          34,
          28,
          27,
          26,
          29,
          31,
          30,
          28,
          29,
          27,
          31,
          29,
          30,
          32,
          27,
          31,
          25,
          27,
          23,
          25,
          28,
          27,
          35,
          25,
          26,
          31,
          22,
          31,
          30,
          24,
          26,
          35,
          30,
          33,
          21,
          31,
          34,
          28,
          27,
          26,
          29,
          31,
          30,
          28,
          29,
          27,
          31,
          29,
          30,
          32,
          27,
          31,
          25,
          27,
          23,
          25,
          28,
          27,
          35,
          25,
          26,
          31,
          22,
          31,
          30,
          24,
          26,
          35,
          30,
          33,
          21,
          31,
          34,
          28,
          27,
          26,
          29,
          31,
          30,
          28,
          29,
          27,
          31,
          29,
          30,
          32,
          27,
          31,
          25,
          27,
          23,
          25,
          28,
          27,
          35,
          25,
          26,
          31,
          22,
          31,
          30,
          24,
          26,
          35,
          30,
          33,
          21,
          31,
          34,
          28,
          27,
          26,
          29,
          31,
          30,
          28,
          29,
          27,
          31,
          29,
          30,
          32,
          27,
          31,
          25,
          27,
          23,
          25,
          28,
          27,
          35,
          25,
          26,
          31,
          22,
          31,
          30,
          24,
          26,
          35,
          30,
          33,
          21,
          31,
          34,
          28,
          27,
          26,
          29,
          31,
          30,
          28,
          29,
          27,
          31,
          29,
          30,
          32,
          30,
          24,
          26,
          35,
          30,
          33,
          21,
          31,
          34,
          28,
          27,
          26,
          29,
          31,
          30,
          28,
          29,
          27,
          31,
          29,
          30,
          32,
          27,
          31,
          25,
          27,
          23,
          25,
          28,
          27,
          35,
          25,
          26,
          31,
          22,
          31,
          30,
          24,
          26,
          35,
          30,
          33,
          21,
          31,
          34,
          28,
          27,
          26,
          29,
          31,
          30,
          28,
          29,
          27,
          31,
          29,
          30,
          32,
          27,
          31,
          25,
          27,
          23,
          25,
          28,
          27,
          35,
          25,
          26,
          31,
          22,
          31,
          30,
          24,
          26,
          35
         ],
         "xaxis": "x",
         "yaxis": "y"
        },
        {
         "alignmentgroup": "True",
         "bingroup": "x",
         "hovertemplate": "Gender=Non-binary<br>Age=%{x}<br>count=%{y}<extra></extra>",
         "legendgroup": "Non-binary",
         "marker": {
          "color": "#00cc96",
          "pattern": {
           "shape": ""
          }
         },
         "name": "Non-binary",
         "offsetgroup": "Non-binary",
         "orientation": "v",
         "showlegend": true,
         "type": "histogram",
         "x": [
          22,
          24,
          26,
          21,
          23,
          33,
          27,
          26,
          23,
          24,
          28,
          23,
          26,
          29,
          29,
          34,
          29,
          22,
          21,
          28,
          33,
          24,
          29,
          21,
          27,
          33,
          28,
          22,
          24,
          26,
          21,
          23,
          33,
          27,
          26,
          23,
          24,
          28,
          23,
          26,
          29,
          29,
          34,
          29,
          22,
          21,
          28,
          33,
          24,
          29,
          21,
          27,
          33,
          28,
          22,
          24,
          26,
          21,
          23,
          33,
          27,
          26,
          23,
          24,
          28,
          23,
          26,
          27,
          33,
          28,
          22,
          24,
          26,
          21,
          23,
          33,
          27,
          26,
          23,
          24,
          28,
          23,
          26,
          29,
          29,
          34,
          29,
          22,
          21,
          28,
          33,
          24,
          29,
          21,
          27,
          33,
          28,
          22,
          24,
          26,
          21,
          23,
          33,
          27,
          26,
          23,
          24,
          28,
          23,
          26,
          29,
          29,
          34,
          29,
          22,
          21,
          28,
          33,
          24,
          29,
          21,
          27,
          33,
          28,
          22,
          24,
          26,
          21,
          23,
          33,
          27,
          26,
          23,
          24,
          28,
          23,
          26,
          29,
          29,
          34,
          29,
          22,
          21,
          28,
          33,
          24,
          29,
          21,
          27,
          33,
          28,
          22,
          24,
          26,
          21,
          23,
          33,
          27,
          26,
          23,
          24,
          28,
          23,
          26,
          29,
          29,
          34,
          29,
          22,
          21,
          28,
          33,
          24,
          29,
          21,
          27,
          33,
          28,
          22,
          24,
          26,
          21,
          23,
          33,
          27,
          26,
          23,
          24,
          28,
          23,
          26,
          27,
          33,
          28,
          22,
          24,
          26,
          21,
          23,
          33,
          27,
          26,
          23,
          24,
          28,
          23,
          26,
          29,
          29,
          34,
          29,
          22,
          21,
          28,
          33,
          24,
          29,
          21,
          27,
          33,
          28,
          22,
          24,
          26,
          21,
          23,
          33,
          27,
          26,
          23,
          24,
          28,
          23,
          26,
          29,
          29,
          34,
          29,
          22,
          21,
          28,
          33,
          24,
          29,
          21,
          27,
          33,
          28
         ],
         "xaxis": "x",
         "yaxis": "y"
        },
        {
         "alignmentgroup": "True",
         "bingroup": "x",
         "hovertemplate": "Gender=Unknown<br>Age=%{x}<br>count=%{y}<extra></extra>",
         "legendgroup": "Unknown",
         "marker": {
          "color": "#ab63fa",
          "pattern": {
           "shape": ""
          }
         },
         "name": "Unknown",
         "offsetgroup": "Unknown",
         "orientation": "v",
         "showlegend": true,
         "type": "histogram",
         "x": [
          27,
          27,
          27,
          27,
          27,
          27,
          27,
          27,
          27,
          27,
          27,
          27,
          27,
          27,
          27,
          27,
          27,
          27,
          27,
          27,
          27,
          27,
          27,
          27,
          27,
          27,
          27,
          27,
          27,
          27,
          27,
          27,
          27,
          27,
          27,
          27,
          27,
          27,
          27,
          27,
          27,
          27,
          27,
          27,
          27,
          27,
          27,
          27,
          27,
          27,
          27,
          27,
          27,
          27,
          27,
          27,
          27,
          27,
          27,
          27,
          27,
          27,
          27,
          27,
          27,
          27,
          27,
          27,
          27,
          27,
          27,
          27,
          27,
          27,
          27,
          27,
          27
         ],
         "xaxis": "x",
         "yaxis": "y"
        }
       ],
       "layout": {
        "barmode": "relative",
        "legend": {
         "title": {
          "text": "Gender"
         },
         "tracegroupgap": 0
        },
        "template": {
         "data": {
          "bar": [
           {
            "error_x": {
             "color": "#2a3f5f"
            },
            "error_y": {
             "color": "#2a3f5f"
            },
            "marker": {
             "line": {
              "color": "#E5ECF6",
              "width": 0.5
             },
             "pattern": {
              "fillmode": "overlay",
              "size": 10,
              "solidity": 0.2
             }
            },
            "type": "bar"
           }
          ],
          "barpolar": [
           {
            "marker": {
             "line": {
              "color": "#E5ECF6",
              "width": 0.5
             },
             "pattern": {
              "fillmode": "overlay",
              "size": 10,
              "solidity": 0.2
             }
            },
            "type": "barpolar"
           }
          ],
          "carpet": [
           {
            "aaxis": {
             "endlinecolor": "#2a3f5f",
             "gridcolor": "white",
             "linecolor": "white",
             "minorgridcolor": "white",
             "startlinecolor": "#2a3f5f"
            },
            "baxis": {
             "endlinecolor": "#2a3f5f",
             "gridcolor": "white",
             "linecolor": "white",
             "minorgridcolor": "white",
             "startlinecolor": "#2a3f5f"
            },
            "type": "carpet"
           }
          ],
          "choropleth": [
           {
            "colorbar": {
             "outlinewidth": 0,
             "ticks": ""
            },
            "type": "choropleth"
           }
          ],
          "contour": [
           {
            "colorbar": {
             "outlinewidth": 0,
             "ticks": ""
            },
            "colorscale": [
             [
              0,
              "#0d0887"
             ],
             [
              0.1111111111111111,
              "#46039f"
             ],
             [
              0.2222222222222222,
              "#7201a8"
             ],
             [
              0.3333333333333333,
              "#9c179e"
             ],
             [
              0.4444444444444444,
              "#bd3786"
             ],
             [
              0.5555555555555556,
              "#d8576b"
             ],
             [
              0.6666666666666666,
              "#ed7953"
             ],
             [
              0.7777777777777778,
              "#fb9f3a"
             ],
             [
              0.8888888888888888,
              "#fdca26"
             ],
             [
              1,
              "#f0f921"
             ]
            ],
            "type": "contour"
           }
          ],
          "contourcarpet": [
           {
            "colorbar": {
             "outlinewidth": 0,
             "ticks": ""
            },
            "type": "contourcarpet"
           }
          ],
          "heatmap": [
           {
            "colorbar": {
             "outlinewidth": 0,
             "ticks": ""
            },
            "colorscale": [
             [
              0,
              "#0d0887"
             ],
             [
              0.1111111111111111,
              "#46039f"
             ],
             [
              0.2222222222222222,
              "#7201a8"
             ],
             [
              0.3333333333333333,
              "#9c179e"
             ],
             [
              0.4444444444444444,
              "#bd3786"
             ],
             [
              0.5555555555555556,
              "#d8576b"
             ],
             [
              0.6666666666666666,
              "#ed7953"
             ],
             [
              0.7777777777777778,
              "#fb9f3a"
             ],
             [
              0.8888888888888888,
              "#fdca26"
             ],
             [
              1,
              "#f0f921"
             ]
            ],
            "type": "heatmap"
           }
          ],
          "heatmapgl": [
           {
            "colorbar": {
             "outlinewidth": 0,
             "ticks": ""
            },
            "colorscale": [
             [
              0,
              "#0d0887"
             ],
             [
              0.1111111111111111,
              "#46039f"
             ],
             [
              0.2222222222222222,
              "#7201a8"
             ],
             [
              0.3333333333333333,
              "#9c179e"
             ],
             [
              0.4444444444444444,
              "#bd3786"
             ],
             [
              0.5555555555555556,
              "#d8576b"
             ],
             [
              0.6666666666666666,
              "#ed7953"
             ],
             [
              0.7777777777777778,
              "#fb9f3a"
             ],
             [
              0.8888888888888888,
              "#fdca26"
             ],
             [
              1,
              "#f0f921"
             ]
            ],
            "type": "heatmapgl"
           }
          ],
          "histogram": [
           {
            "marker": {
             "pattern": {
              "fillmode": "overlay",
              "size": 10,
              "solidity": 0.2
             }
            },
            "type": "histogram"
           }
          ],
          "histogram2d": [
           {
            "colorbar": {
             "outlinewidth": 0,
             "ticks": ""
            },
            "colorscale": [
             [
              0,
              "#0d0887"
             ],
             [
              0.1111111111111111,
              "#46039f"
             ],
             [
              0.2222222222222222,
              "#7201a8"
             ],
             [
              0.3333333333333333,
              "#9c179e"
             ],
             [
              0.4444444444444444,
              "#bd3786"
             ],
             [
              0.5555555555555556,
              "#d8576b"
             ],
             [
              0.6666666666666666,
              "#ed7953"
             ],
             [
              0.7777777777777778,
              "#fb9f3a"
             ],
             [
              0.8888888888888888,
              "#fdca26"
             ],
             [
              1,
              "#f0f921"
             ]
            ],
            "type": "histogram2d"
           }
          ],
          "histogram2dcontour": [
           {
            "colorbar": {
             "outlinewidth": 0,
             "ticks": ""
            },
            "colorscale": [
             [
              0,
              "#0d0887"
             ],
             [
              0.1111111111111111,
              "#46039f"
             ],
             [
              0.2222222222222222,
              "#7201a8"
             ],
             [
              0.3333333333333333,
              "#9c179e"
             ],
             [
              0.4444444444444444,
              "#bd3786"
             ],
             [
              0.5555555555555556,
              "#d8576b"
             ],
             [
              0.6666666666666666,
              "#ed7953"
             ],
             [
              0.7777777777777778,
              "#fb9f3a"
             ],
             [
              0.8888888888888888,
              "#fdca26"
             ],
             [
              1,
              "#f0f921"
             ]
            ],
            "type": "histogram2dcontour"
           }
          ],
          "mesh3d": [
           {
            "colorbar": {
             "outlinewidth": 0,
             "ticks": ""
            },
            "type": "mesh3d"
           }
          ],
          "parcoords": [
           {
            "line": {
             "colorbar": {
              "outlinewidth": 0,
              "ticks": ""
             }
            },
            "type": "parcoords"
           }
          ],
          "pie": [
           {
            "automargin": true,
            "type": "pie"
           }
          ],
          "scatter": [
           {
            "fillpattern": {
             "fillmode": "overlay",
             "size": 10,
             "solidity": 0.2
            },
            "type": "scatter"
           }
          ],
          "scatter3d": [
           {
            "line": {
             "colorbar": {
              "outlinewidth": 0,
              "ticks": ""
             }
            },
            "marker": {
             "colorbar": {
              "outlinewidth": 0,
              "ticks": ""
             }
            },
            "type": "scatter3d"
           }
          ],
          "scattercarpet": [
           {
            "marker": {
             "colorbar": {
              "outlinewidth": 0,
              "ticks": ""
             }
            },
            "type": "scattercarpet"
           }
          ],
          "scattergeo": [
           {
            "marker": {
             "colorbar": {
              "outlinewidth": 0,
              "ticks": ""
             }
            },
            "type": "scattergeo"
           }
          ],
          "scattergl": [
           {
            "marker": {
             "colorbar": {
              "outlinewidth": 0,
              "ticks": ""
             }
            },
            "type": "scattergl"
           }
          ],
          "scattermapbox": [
           {
            "marker": {
             "colorbar": {
              "outlinewidth": 0,
              "ticks": ""
             }
            },
            "type": "scattermapbox"
           }
          ],
          "scatterpolar": [
           {
            "marker": {
             "colorbar": {
              "outlinewidth": 0,
              "ticks": ""
             }
            },
            "type": "scatterpolar"
           }
          ],
          "scatterpolargl": [
           {
            "marker": {
             "colorbar": {
              "outlinewidth": 0,
              "ticks": ""
             }
            },
            "type": "scatterpolargl"
           }
          ],
          "scatterternary": [
           {
            "marker": {
             "colorbar": {
              "outlinewidth": 0,
              "ticks": ""
             }
            },
            "type": "scatterternary"
           }
          ],
          "surface": [
           {
            "colorbar": {
             "outlinewidth": 0,
             "ticks": ""
            },
            "colorscale": [
             [
              0,
              "#0d0887"
             ],
             [
              0.1111111111111111,
              "#46039f"
             ],
             [
              0.2222222222222222,
              "#7201a8"
             ],
             [
              0.3333333333333333,
              "#9c179e"
             ],
             [
              0.4444444444444444,
              "#bd3786"
             ],
             [
              0.5555555555555556,
              "#d8576b"
             ],
             [
              0.6666666666666666,
              "#ed7953"
             ],
             [
              0.7777777777777778,
              "#fb9f3a"
             ],
             [
              0.8888888888888888,
              "#fdca26"
             ],
             [
              1,
              "#f0f921"
             ]
            ],
            "type": "surface"
           }
          ],
          "table": [
           {
            "cells": {
             "fill": {
              "color": "#EBF0F8"
             },
             "line": {
              "color": "white"
             }
            },
            "header": {
             "fill": {
              "color": "#C8D4E3"
             },
             "line": {
              "color": "white"
             }
            },
            "type": "table"
           }
          ]
         },
         "layout": {
          "annotationdefaults": {
           "arrowcolor": "#2a3f5f",
           "arrowhead": 0,
           "arrowwidth": 1
          },
          "autotypenumbers": "strict",
          "coloraxis": {
           "colorbar": {
            "outlinewidth": 0,
            "ticks": ""
           }
          },
          "colorscale": {
           "diverging": [
            [
             0,
             "#8e0152"
            ],
            [
             0.1,
             "#c51b7d"
            ],
            [
             0.2,
             "#de77ae"
            ],
            [
             0.3,
             "#f1b6da"
            ],
            [
             0.4,
             "#fde0ef"
            ],
            [
             0.5,
             "#f7f7f7"
            ],
            [
             0.6,
             "#e6f5d0"
            ],
            [
             0.7,
             "#b8e186"
            ],
            [
             0.8,
             "#7fbc41"
            ],
            [
             0.9,
             "#4d9221"
            ],
            [
             1,
             "#276419"
            ]
           ],
           "sequential": [
            [
             0,
             "#0d0887"
            ],
            [
             0.1111111111111111,
             "#46039f"
            ],
            [
             0.2222222222222222,
             "#7201a8"
            ],
            [
             0.3333333333333333,
             "#9c179e"
            ],
            [
             0.4444444444444444,
             "#bd3786"
            ],
            [
             0.5555555555555556,
             "#d8576b"
            ],
            [
             0.6666666666666666,
             "#ed7953"
            ],
            [
             0.7777777777777778,
             "#fb9f3a"
            ],
            [
             0.8888888888888888,
             "#fdca26"
            ],
            [
             1,
             "#f0f921"
            ]
           ],
           "sequentialminus": [
            [
             0,
             "#0d0887"
            ],
            [
             0.1111111111111111,
             "#46039f"
            ],
            [
             0.2222222222222222,
             "#7201a8"
            ],
            [
             0.3333333333333333,
             "#9c179e"
            ],
            [
             0.4444444444444444,
             "#bd3786"
            ],
            [
             0.5555555555555556,
             "#d8576b"
            ],
            [
             0.6666666666666666,
             "#ed7953"
            ],
            [
             0.7777777777777778,
             "#fb9f3a"
            ],
            [
             0.8888888888888888,
             "#fdca26"
            ],
            [
             1,
             "#f0f921"
            ]
           ]
          },
          "colorway": [
           "#636efa",
           "#EF553B",
           "#00cc96",
           "#ab63fa",
           "#FFA15A",
           "#19d3f3",
           "#FF6692",
           "#B6E880",
           "#FF97FF",
           "#FECB52"
          ],
          "font": {
           "color": "#2a3f5f"
          },
          "geo": {
           "bgcolor": "white",
           "lakecolor": "white",
           "landcolor": "#E5ECF6",
           "showlakes": true,
           "showland": true,
           "subunitcolor": "white"
          },
          "hoverlabel": {
           "align": "left"
          },
          "hovermode": "closest",
          "mapbox": {
           "style": "light"
          },
          "paper_bgcolor": "white",
          "plot_bgcolor": "#E5ECF6",
          "polar": {
           "angularaxis": {
            "gridcolor": "white",
            "linecolor": "white",
            "ticks": ""
           },
           "bgcolor": "#E5ECF6",
           "radialaxis": {
            "gridcolor": "white",
            "linecolor": "white",
            "ticks": ""
           }
          },
          "scene": {
           "xaxis": {
            "backgroundcolor": "#E5ECF6",
            "gridcolor": "white",
            "gridwidth": 2,
            "linecolor": "white",
            "showbackground": true,
            "ticks": "",
            "zerolinecolor": "white"
           },
           "yaxis": {
            "backgroundcolor": "#E5ECF6",
            "gridcolor": "white",
            "gridwidth": 2,
            "linecolor": "white",
            "showbackground": true,
            "ticks": "",
            "zerolinecolor": "white"
           },
           "zaxis": {
            "backgroundcolor": "#E5ECF6",
            "gridcolor": "white",
            "gridwidth": 2,
            "linecolor": "white",
            "showbackground": true,
            "ticks": "",
            "zerolinecolor": "white"
           }
          },
          "shapedefaults": {
           "line": {
            "color": "#2a3f5f"
           }
          },
          "ternary": {
           "aaxis": {
            "gridcolor": "white",
            "linecolor": "white",
            "ticks": ""
           },
           "baxis": {
            "gridcolor": "white",
            "linecolor": "white",
            "ticks": ""
           },
           "bgcolor": "#E5ECF6",
           "caxis": {
            "gridcolor": "white",
            "linecolor": "white",
            "ticks": ""
           }
          },
          "title": {
           "x": 0.05
          },
          "xaxis": {
           "automargin": true,
           "gridcolor": "white",
           "linecolor": "white",
           "ticks": "",
           "title": {
            "standoff": 15
           },
           "zerolinecolor": "white",
           "zerolinewidth": 2
          },
          "yaxis": {
           "automargin": true,
           "gridcolor": "white",
           "linecolor": "white",
           "ticks": "",
           "title": {
            "standoff": 15
           },
           "zerolinecolor": "white",
           "zerolinewidth": 2
          }
         }
        },
        "title": {
         "text": "Age by Gender"
        },
        "xaxis": {
         "anchor": "y",
         "domain": [
          0,
          1
         ],
         "title": {
          "text": "Age"
         }
        },
        "yaxis": {
         "anchor": "x",
         "domain": [
          0,
          1
         ],
         "title": {
          "text": "count"
         }
        }
       }
      }
     },
     "metadata": {},
     "output_type": "display_data"
    }
   ],
   "source": [
    "plt = px.histogram(train_df, x='Age', color='Gender', title='Age by Gender')\n",
    "plt.show()"
   ]
  },
  {
   "cell_type": "markdown",
   "metadata": {},
   "source": [
    "### **Platform and Emotions**"
   ]
  },
  {
   "cell_type": "code",
   "execution_count": 98,
   "metadata": {},
   "outputs": [
    {
     "data": {
      "text/html": [
       "<div>\n",
       "<style scoped>\n",
       "    .dataframe tbody tr th:only-of-type {\n",
       "        vertical-align: middle;\n",
       "    }\n",
       "\n",
       "    .dataframe tbody tr th {\n",
       "        vertical-align: top;\n",
       "    }\n",
       "\n",
       "    .dataframe thead th {\n",
       "        text-align: right;\n",
       "    }\n",
       "</style>\n",
       "<table border=\"1\" class=\"dataframe\">\n",
       "  <thead>\n",
       "    <tr style=\"text-align: right;\">\n",
       "      <th></th>\n",
       "      <th>Platform</th>\n",
       "      <th>Dominant_Emotion</th>\n",
       "      <th>Count</th>\n",
       "    </tr>\n",
       "  </thead>\n",
       "  <tbody>\n",
       "    <tr>\n",
       "      <th>0</th>\n",
       "      <td>Facebook</td>\n",
       "      <td>Anxiety</td>\n",
       "      <td>50</td>\n",
       "    </tr>\n",
       "    <tr>\n",
       "      <th>1</th>\n",
       "      <td>Facebook</td>\n",
       "      <td>Boredom</td>\n",
       "      <td>40</td>\n",
       "    </tr>\n",
       "    <tr>\n",
       "      <th>2</th>\n",
       "      <td>Facebook</td>\n",
       "      <td>Neutral</td>\n",
       "      <td>70</td>\n",
       "    </tr>\n",
       "    <tr>\n",
       "      <th>3</th>\n",
       "      <td>Facebook</td>\n",
       "      <td>Sadness</td>\n",
       "      <td>30</td>\n",
       "    </tr>\n",
       "    <tr>\n",
       "      <th>4</th>\n",
       "      <td>Instagram</td>\n",
       "      <td>Anger</td>\n",
       "      <td>10</td>\n",
       "    </tr>\n",
       "    <tr>\n",
       "      <th>5</th>\n",
       "      <td>Instagram</td>\n",
       "      <td>Anxiety</td>\n",
       "      <td>30</td>\n",
       "    </tr>\n",
       "    <tr>\n",
       "      <th>6</th>\n",
       "      <td>Instagram</td>\n",
       "      <td>Happiness</td>\n",
       "      <td>171</td>\n",
       "    </tr>\n",
       "    <tr>\n",
       "      <th>7</th>\n",
       "      <td>Instagram</td>\n",
       "      <td>Neutral</td>\n",
       "      <td>20</td>\n",
       "    </tr>\n",
       "    <tr>\n",
       "      <th>8</th>\n",
       "      <td>Instagram</td>\n",
       "      <td>Sadness</td>\n",
       "      <td>20</td>\n",
       "    </tr>\n",
       "    <tr>\n",
       "      <th>9</th>\n",
       "      <td>LinkedIn</td>\n",
       "      <td>Anxiety</td>\n",
       "      <td>20</td>\n",
       "    </tr>\n",
       "    <tr>\n",
       "      <th>10</th>\n",
       "      <td>LinkedIn</td>\n",
       "      <td>Boredom</td>\n",
       "      <td>70</td>\n",
       "    </tr>\n",
       "    <tr>\n",
       "      <th>11</th>\n",
       "      <td>LinkedIn</td>\n",
       "      <td>Neutral</td>\n",
       "      <td>20</td>\n",
       "    </tr>\n",
       "    <tr>\n",
       "      <th>12</th>\n",
       "      <td>LinkedIn</td>\n",
       "      <td>Sadness</td>\n",
       "      <td>10</td>\n",
       "    </tr>\n",
       "    <tr>\n",
       "      <th>13</th>\n",
       "      <td>Snapchat</td>\n",
       "      <td>Anxiety</td>\n",
       "      <td>20</td>\n",
       "    </tr>\n",
       "    <tr>\n",
       "      <th>14</th>\n",
       "      <td>Snapchat</td>\n",
       "      <td>Happiness</td>\n",
       "      <td>10</td>\n",
       "    </tr>\n",
       "    <tr>\n",
       "      <th>15</th>\n",
       "      <td>Snapchat</td>\n",
       "      <td>Neutral</td>\n",
       "      <td>20</td>\n",
       "    </tr>\n",
       "    <tr>\n",
       "      <th>16</th>\n",
       "      <td>Snapchat</td>\n",
       "      <td>Sadness</td>\n",
       "      <td>30</td>\n",
       "    </tr>\n",
       "    <tr>\n",
       "      <th>17</th>\n",
       "      <td>Telegram</td>\n",
       "      <td>Anger</td>\n",
       "      <td>10</td>\n",
       "    </tr>\n",
       "    <tr>\n",
       "      <th>18</th>\n",
       "      <td>Telegram</td>\n",
       "      <td>Anxiety</td>\n",
       "      <td>10</td>\n",
       "    </tr>\n",
       "    <tr>\n",
       "      <th>19</th>\n",
       "      <td>Telegram</td>\n",
       "      <td>Boredom</td>\n",
       "      <td>10</td>\n",
       "    </tr>\n",
       "    <tr>\n",
       "      <th>20</th>\n",
       "      <td>Telegram</td>\n",
       "      <td>Neutral</td>\n",
       "      <td>30</td>\n",
       "    </tr>\n",
       "    <tr>\n",
       "      <th>21</th>\n",
       "      <td>Telegram</td>\n",
       "      <td>Sadness</td>\n",
       "      <td>20</td>\n",
       "    </tr>\n",
       "    <tr>\n",
       "      <th>22</th>\n",
       "      <td>Twitter</td>\n",
       "      <td>Anger</td>\n",
       "      <td>80</td>\n",
       "    </tr>\n",
       "    <tr>\n",
       "      <th>23</th>\n",
       "      <td>Twitter</td>\n",
       "      <td>Anxiety</td>\n",
       "      <td>20</td>\n",
       "    </tr>\n",
       "    <tr>\n",
       "      <th>24</th>\n",
       "      <td>Twitter</td>\n",
       "      <td>Boredom</td>\n",
       "      <td>20</td>\n",
       "    </tr>\n",
       "    <tr>\n",
       "      <th>25</th>\n",
       "      <td>Twitter</td>\n",
       "      <td>Happiness</td>\n",
       "      <td>10</td>\n",
       "    </tr>\n",
       "    <tr>\n",
       "      <th>26</th>\n",
       "      <td>Twitter</td>\n",
       "      <td>Neutral</td>\n",
       "      <td>20</td>\n",
       "    </tr>\n",
       "    <tr>\n",
       "      <th>27</th>\n",
       "      <td>Twitter</td>\n",
       "      <td>Sadness</td>\n",
       "      <td>50</td>\n",
       "    </tr>\n",
       "    <tr>\n",
       "      <th>28</th>\n",
       "      <td>Whatsapp</td>\n",
       "      <td>Anger</td>\n",
       "      <td>30</td>\n",
       "    </tr>\n",
       "    <tr>\n",
       "      <th>29</th>\n",
       "      <td>Whatsapp</td>\n",
       "      <td>Anxiety</td>\n",
       "      <td>20</td>\n",
       "    </tr>\n",
       "    <tr>\n",
       "      <th>30</th>\n",
       "      <td>Whatsapp</td>\n",
       "      <td>Happiness</td>\n",
       "      <td>10</td>\n",
       "    </tr>\n",
       "    <tr>\n",
       "      <th>31</th>\n",
       "      <td>Whatsapp</td>\n",
       "      <td>Neutral</td>\n",
       "      <td>20</td>\n",
       "    </tr>\n",
       "  </tbody>\n",
       "</table>\n",
       "</div>"
      ],
      "text/plain": [
       "     Platform Dominant_Emotion  Count\n",
       "0    Facebook          Anxiety     50\n",
       "1    Facebook          Boredom     40\n",
       "2    Facebook          Neutral     70\n",
       "3    Facebook          Sadness     30\n",
       "4   Instagram            Anger     10\n",
       "5   Instagram          Anxiety     30\n",
       "6   Instagram        Happiness    171\n",
       "7   Instagram          Neutral     20\n",
       "8   Instagram          Sadness     20\n",
       "9    LinkedIn          Anxiety     20\n",
       "10   LinkedIn          Boredom     70\n",
       "11   LinkedIn          Neutral     20\n",
       "12   LinkedIn          Sadness     10\n",
       "13   Snapchat          Anxiety     20\n",
       "14   Snapchat        Happiness     10\n",
       "15   Snapchat          Neutral     20\n",
       "16   Snapchat          Sadness     30\n",
       "17   Telegram            Anger     10\n",
       "18   Telegram          Anxiety     10\n",
       "19   Telegram          Boredom     10\n",
       "20   Telegram          Neutral     30\n",
       "21   Telegram          Sadness     20\n",
       "22    Twitter            Anger     80\n",
       "23    Twitter          Anxiety     20\n",
       "24    Twitter          Boredom     20\n",
       "25    Twitter        Happiness     10\n",
       "26    Twitter          Neutral     20\n",
       "27    Twitter          Sadness     50\n",
       "28   Whatsapp            Anger     30\n",
       "29   Whatsapp          Anxiety     20\n",
       "30   Whatsapp        Happiness     10\n",
       "31   Whatsapp          Neutral     20"
      ]
     },
     "execution_count": 98,
     "metadata": {},
     "output_type": "execute_result"
    }
   ],
   "source": [
    "# Group the data by gender and age\n",
    "gender_emotion_grouped = train_df.groupby(['Platform', 'Dominant_Emotion']).size().reset_index(name='Count')\n",
    "\n",
    "gender_emotion_grouped"
   ]
  },
  {
   "cell_type": "code",
   "execution_count": 99,
   "metadata": {},
   "outputs": [
    {
     "data": {
      "application/vnd.plotly.v1+json": {
       "config": {
        "plotlyServerURL": "https://plot.ly"
       },
       "data": [
        {
         "alignmentgroup": "True",
         "hovertemplate": "Dominant_Emotion=Anxiety<br>Platform=%{x}<br>Count=%{y}<extra></extra>",
         "legendgroup": "Anxiety",
         "marker": {
          "color": "#636efa",
          "pattern": {
           "shape": ""
          }
         },
         "name": "Anxiety",
         "offsetgroup": "Anxiety",
         "orientation": "v",
         "showlegend": true,
         "textposition": "auto",
         "type": "bar",
         "x": [
          "Facebook",
          "Instagram",
          "LinkedIn",
          "Snapchat",
          "Telegram",
          "Twitter",
          "Whatsapp"
         ],
         "xaxis": "x",
         "y": [
          50,
          30,
          20,
          20,
          10,
          20,
          20
         ],
         "yaxis": "y"
        },
        {
         "alignmentgroup": "True",
         "hovertemplate": "Dominant_Emotion=Boredom<br>Platform=%{x}<br>Count=%{y}<extra></extra>",
         "legendgroup": "Boredom",
         "marker": {
          "color": "#EF553B",
          "pattern": {
           "shape": ""
          }
         },
         "name": "Boredom",
         "offsetgroup": "Boredom",
         "orientation": "v",
         "showlegend": true,
         "textposition": "auto",
         "type": "bar",
         "x": [
          "Facebook",
          "LinkedIn",
          "Telegram",
          "Twitter"
         ],
         "xaxis": "x",
         "y": [
          40,
          70,
          10,
          20
         ],
         "yaxis": "y"
        },
        {
         "alignmentgroup": "True",
         "hovertemplate": "Dominant_Emotion=Neutral<br>Platform=%{x}<br>Count=%{y}<extra></extra>",
         "legendgroup": "Neutral",
         "marker": {
          "color": "#00cc96",
          "pattern": {
           "shape": ""
          }
         },
         "name": "Neutral",
         "offsetgroup": "Neutral",
         "orientation": "v",
         "showlegend": true,
         "textposition": "auto",
         "type": "bar",
         "x": [
          "Facebook",
          "Instagram",
          "LinkedIn",
          "Snapchat",
          "Telegram",
          "Twitter",
          "Whatsapp"
         ],
         "xaxis": "x",
         "y": [
          70,
          20,
          20,
          20,
          30,
          20,
          20
         ],
         "yaxis": "y"
        },
        {
         "alignmentgroup": "True",
         "hovertemplate": "Dominant_Emotion=Sadness<br>Platform=%{x}<br>Count=%{y}<extra></extra>",
         "legendgroup": "Sadness",
         "marker": {
          "color": "#ab63fa",
          "pattern": {
           "shape": ""
          }
         },
         "name": "Sadness",
         "offsetgroup": "Sadness",
         "orientation": "v",
         "showlegend": true,
         "textposition": "auto",
         "type": "bar",
         "x": [
          "Facebook",
          "Instagram",
          "LinkedIn",
          "Snapchat",
          "Telegram",
          "Twitter"
         ],
         "xaxis": "x",
         "y": [
          30,
          20,
          10,
          30,
          20,
          50
         ],
         "yaxis": "y"
        },
        {
         "alignmentgroup": "True",
         "hovertemplate": "Dominant_Emotion=Anger<br>Platform=%{x}<br>Count=%{y}<extra></extra>",
         "legendgroup": "Anger",
         "marker": {
          "color": "#FFA15A",
          "pattern": {
           "shape": ""
          }
         },
         "name": "Anger",
         "offsetgroup": "Anger",
         "orientation": "v",
         "showlegend": true,
         "textposition": "auto",
         "type": "bar",
         "x": [
          "Instagram",
          "Telegram",
          "Twitter",
          "Whatsapp"
         ],
         "xaxis": "x",
         "y": [
          10,
          10,
          80,
          30
         ],
         "yaxis": "y"
        },
        {
         "alignmentgroup": "True",
         "hovertemplate": "Dominant_Emotion=Happiness<br>Platform=%{x}<br>Count=%{y}<extra></extra>",
         "legendgroup": "Happiness",
         "marker": {
          "color": "#19d3f3",
          "pattern": {
           "shape": ""
          }
         },
         "name": "Happiness",
         "offsetgroup": "Happiness",
         "orientation": "v",
         "showlegend": true,
         "textposition": "auto",
         "type": "bar",
         "x": [
          "Instagram",
          "Snapchat",
          "Twitter",
          "Whatsapp"
         ],
         "xaxis": "x",
         "y": [
          171,
          10,
          10,
          10
         ],
         "yaxis": "y"
        }
       ],
       "layout": {
        "barmode": "group",
        "legend": {
         "title": {
          "text": "Dominant_Emotion"
         },
         "tracegroupgap": 0
        },
        "template": {
         "data": {
          "bar": [
           {
            "error_x": {
             "color": "#2a3f5f"
            },
            "error_y": {
             "color": "#2a3f5f"
            },
            "marker": {
             "line": {
              "color": "#E5ECF6",
              "width": 0.5
             },
             "pattern": {
              "fillmode": "overlay",
              "size": 10,
              "solidity": 0.2
             }
            },
            "type": "bar"
           }
          ],
          "barpolar": [
           {
            "marker": {
             "line": {
              "color": "#E5ECF6",
              "width": 0.5
             },
             "pattern": {
              "fillmode": "overlay",
              "size": 10,
              "solidity": 0.2
             }
            },
            "type": "barpolar"
           }
          ],
          "carpet": [
           {
            "aaxis": {
             "endlinecolor": "#2a3f5f",
             "gridcolor": "white",
             "linecolor": "white",
             "minorgridcolor": "white",
             "startlinecolor": "#2a3f5f"
            },
            "baxis": {
             "endlinecolor": "#2a3f5f",
             "gridcolor": "white",
             "linecolor": "white",
             "minorgridcolor": "white",
             "startlinecolor": "#2a3f5f"
            },
            "type": "carpet"
           }
          ],
          "choropleth": [
           {
            "colorbar": {
             "outlinewidth": 0,
             "ticks": ""
            },
            "type": "choropleth"
           }
          ],
          "contour": [
           {
            "colorbar": {
             "outlinewidth": 0,
             "ticks": ""
            },
            "colorscale": [
             [
              0,
              "#0d0887"
             ],
             [
              0.1111111111111111,
              "#46039f"
             ],
             [
              0.2222222222222222,
              "#7201a8"
             ],
             [
              0.3333333333333333,
              "#9c179e"
             ],
             [
              0.4444444444444444,
              "#bd3786"
             ],
             [
              0.5555555555555556,
              "#d8576b"
             ],
             [
              0.6666666666666666,
              "#ed7953"
             ],
             [
              0.7777777777777778,
              "#fb9f3a"
             ],
             [
              0.8888888888888888,
              "#fdca26"
             ],
             [
              1,
              "#f0f921"
             ]
            ],
            "type": "contour"
           }
          ],
          "contourcarpet": [
           {
            "colorbar": {
             "outlinewidth": 0,
             "ticks": ""
            },
            "type": "contourcarpet"
           }
          ],
          "heatmap": [
           {
            "colorbar": {
             "outlinewidth": 0,
             "ticks": ""
            },
            "colorscale": [
             [
              0,
              "#0d0887"
             ],
             [
              0.1111111111111111,
              "#46039f"
             ],
             [
              0.2222222222222222,
              "#7201a8"
             ],
             [
              0.3333333333333333,
              "#9c179e"
             ],
             [
              0.4444444444444444,
              "#bd3786"
             ],
             [
              0.5555555555555556,
              "#d8576b"
             ],
             [
              0.6666666666666666,
              "#ed7953"
             ],
             [
              0.7777777777777778,
              "#fb9f3a"
             ],
             [
              0.8888888888888888,
              "#fdca26"
             ],
             [
              1,
              "#f0f921"
             ]
            ],
            "type": "heatmap"
           }
          ],
          "heatmapgl": [
           {
            "colorbar": {
             "outlinewidth": 0,
             "ticks": ""
            },
            "colorscale": [
             [
              0,
              "#0d0887"
             ],
             [
              0.1111111111111111,
              "#46039f"
             ],
             [
              0.2222222222222222,
              "#7201a8"
             ],
             [
              0.3333333333333333,
              "#9c179e"
             ],
             [
              0.4444444444444444,
              "#bd3786"
             ],
             [
              0.5555555555555556,
              "#d8576b"
             ],
             [
              0.6666666666666666,
              "#ed7953"
             ],
             [
              0.7777777777777778,
              "#fb9f3a"
             ],
             [
              0.8888888888888888,
              "#fdca26"
             ],
             [
              1,
              "#f0f921"
             ]
            ],
            "type": "heatmapgl"
           }
          ],
          "histogram": [
           {
            "marker": {
             "pattern": {
              "fillmode": "overlay",
              "size": 10,
              "solidity": 0.2
             }
            },
            "type": "histogram"
           }
          ],
          "histogram2d": [
           {
            "colorbar": {
             "outlinewidth": 0,
             "ticks": ""
            },
            "colorscale": [
             [
              0,
              "#0d0887"
             ],
             [
              0.1111111111111111,
              "#46039f"
             ],
             [
              0.2222222222222222,
              "#7201a8"
             ],
             [
              0.3333333333333333,
              "#9c179e"
             ],
             [
              0.4444444444444444,
              "#bd3786"
             ],
             [
              0.5555555555555556,
              "#d8576b"
             ],
             [
              0.6666666666666666,
              "#ed7953"
             ],
             [
              0.7777777777777778,
              "#fb9f3a"
             ],
             [
              0.8888888888888888,
              "#fdca26"
             ],
             [
              1,
              "#f0f921"
             ]
            ],
            "type": "histogram2d"
           }
          ],
          "histogram2dcontour": [
           {
            "colorbar": {
             "outlinewidth": 0,
             "ticks": ""
            },
            "colorscale": [
             [
              0,
              "#0d0887"
             ],
             [
              0.1111111111111111,
              "#46039f"
             ],
             [
              0.2222222222222222,
              "#7201a8"
             ],
             [
              0.3333333333333333,
              "#9c179e"
             ],
             [
              0.4444444444444444,
              "#bd3786"
             ],
             [
              0.5555555555555556,
              "#d8576b"
             ],
             [
              0.6666666666666666,
              "#ed7953"
             ],
             [
              0.7777777777777778,
              "#fb9f3a"
             ],
             [
              0.8888888888888888,
              "#fdca26"
             ],
             [
              1,
              "#f0f921"
             ]
            ],
            "type": "histogram2dcontour"
           }
          ],
          "mesh3d": [
           {
            "colorbar": {
             "outlinewidth": 0,
             "ticks": ""
            },
            "type": "mesh3d"
           }
          ],
          "parcoords": [
           {
            "line": {
             "colorbar": {
              "outlinewidth": 0,
              "ticks": ""
             }
            },
            "type": "parcoords"
           }
          ],
          "pie": [
           {
            "automargin": true,
            "type": "pie"
           }
          ],
          "scatter": [
           {
            "fillpattern": {
             "fillmode": "overlay",
             "size": 10,
             "solidity": 0.2
            },
            "type": "scatter"
           }
          ],
          "scatter3d": [
           {
            "line": {
             "colorbar": {
              "outlinewidth": 0,
              "ticks": ""
             }
            },
            "marker": {
             "colorbar": {
              "outlinewidth": 0,
              "ticks": ""
             }
            },
            "type": "scatter3d"
           }
          ],
          "scattercarpet": [
           {
            "marker": {
             "colorbar": {
              "outlinewidth": 0,
              "ticks": ""
             }
            },
            "type": "scattercarpet"
           }
          ],
          "scattergeo": [
           {
            "marker": {
             "colorbar": {
              "outlinewidth": 0,
              "ticks": ""
             }
            },
            "type": "scattergeo"
           }
          ],
          "scattergl": [
           {
            "marker": {
             "colorbar": {
              "outlinewidth": 0,
              "ticks": ""
             }
            },
            "type": "scattergl"
           }
          ],
          "scattermapbox": [
           {
            "marker": {
             "colorbar": {
              "outlinewidth": 0,
              "ticks": ""
             }
            },
            "type": "scattermapbox"
           }
          ],
          "scatterpolar": [
           {
            "marker": {
             "colorbar": {
              "outlinewidth": 0,
              "ticks": ""
             }
            },
            "type": "scatterpolar"
           }
          ],
          "scatterpolargl": [
           {
            "marker": {
             "colorbar": {
              "outlinewidth": 0,
              "ticks": ""
             }
            },
            "type": "scatterpolargl"
           }
          ],
          "scatterternary": [
           {
            "marker": {
             "colorbar": {
              "outlinewidth": 0,
              "ticks": ""
             }
            },
            "type": "scatterternary"
           }
          ],
          "surface": [
           {
            "colorbar": {
             "outlinewidth": 0,
             "ticks": ""
            },
            "colorscale": [
             [
              0,
              "#0d0887"
             ],
             [
              0.1111111111111111,
              "#46039f"
             ],
             [
              0.2222222222222222,
              "#7201a8"
             ],
             [
              0.3333333333333333,
              "#9c179e"
             ],
             [
              0.4444444444444444,
              "#bd3786"
             ],
             [
              0.5555555555555556,
              "#d8576b"
             ],
             [
              0.6666666666666666,
              "#ed7953"
             ],
             [
              0.7777777777777778,
              "#fb9f3a"
             ],
             [
              0.8888888888888888,
              "#fdca26"
             ],
             [
              1,
              "#f0f921"
             ]
            ],
            "type": "surface"
           }
          ],
          "table": [
           {
            "cells": {
             "fill": {
              "color": "#EBF0F8"
             },
             "line": {
              "color": "white"
             }
            },
            "header": {
             "fill": {
              "color": "#C8D4E3"
             },
             "line": {
              "color": "white"
             }
            },
            "type": "table"
           }
          ]
         },
         "layout": {
          "annotationdefaults": {
           "arrowcolor": "#2a3f5f",
           "arrowhead": 0,
           "arrowwidth": 1
          },
          "autotypenumbers": "strict",
          "coloraxis": {
           "colorbar": {
            "outlinewidth": 0,
            "ticks": ""
           }
          },
          "colorscale": {
           "diverging": [
            [
             0,
             "#8e0152"
            ],
            [
             0.1,
             "#c51b7d"
            ],
            [
             0.2,
             "#de77ae"
            ],
            [
             0.3,
             "#f1b6da"
            ],
            [
             0.4,
             "#fde0ef"
            ],
            [
             0.5,
             "#f7f7f7"
            ],
            [
             0.6,
             "#e6f5d0"
            ],
            [
             0.7,
             "#b8e186"
            ],
            [
             0.8,
             "#7fbc41"
            ],
            [
             0.9,
             "#4d9221"
            ],
            [
             1,
             "#276419"
            ]
           ],
           "sequential": [
            [
             0,
             "#0d0887"
            ],
            [
             0.1111111111111111,
             "#46039f"
            ],
            [
             0.2222222222222222,
             "#7201a8"
            ],
            [
             0.3333333333333333,
             "#9c179e"
            ],
            [
             0.4444444444444444,
             "#bd3786"
            ],
            [
             0.5555555555555556,
             "#d8576b"
            ],
            [
             0.6666666666666666,
             "#ed7953"
            ],
            [
             0.7777777777777778,
             "#fb9f3a"
            ],
            [
             0.8888888888888888,
             "#fdca26"
            ],
            [
             1,
             "#f0f921"
            ]
           ],
           "sequentialminus": [
            [
             0,
             "#0d0887"
            ],
            [
             0.1111111111111111,
             "#46039f"
            ],
            [
             0.2222222222222222,
             "#7201a8"
            ],
            [
             0.3333333333333333,
             "#9c179e"
            ],
            [
             0.4444444444444444,
             "#bd3786"
            ],
            [
             0.5555555555555556,
             "#d8576b"
            ],
            [
             0.6666666666666666,
             "#ed7953"
            ],
            [
             0.7777777777777778,
             "#fb9f3a"
            ],
            [
             0.8888888888888888,
             "#fdca26"
            ],
            [
             1,
             "#f0f921"
            ]
           ]
          },
          "colorway": [
           "#636efa",
           "#EF553B",
           "#00cc96",
           "#ab63fa",
           "#FFA15A",
           "#19d3f3",
           "#FF6692",
           "#B6E880",
           "#FF97FF",
           "#FECB52"
          ],
          "font": {
           "color": "#2a3f5f"
          },
          "geo": {
           "bgcolor": "white",
           "lakecolor": "white",
           "landcolor": "#E5ECF6",
           "showlakes": true,
           "showland": true,
           "subunitcolor": "white"
          },
          "hoverlabel": {
           "align": "left"
          },
          "hovermode": "closest",
          "mapbox": {
           "style": "light"
          },
          "paper_bgcolor": "white",
          "plot_bgcolor": "#E5ECF6",
          "polar": {
           "angularaxis": {
            "gridcolor": "white",
            "linecolor": "white",
            "ticks": ""
           },
           "bgcolor": "#E5ECF6",
           "radialaxis": {
            "gridcolor": "white",
            "linecolor": "white",
            "ticks": ""
           }
          },
          "scene": {
           "xaxis": {
            "backgroundcolor": "#E5ECF6",
            "gridcolor": "white",
            "gridwidth": 2,
            "linecolor": "white",
            "showbackground": true,
            "ticks": "",
            "zerolinecolor": "white"
           },
           "yaxis": {
            "backgroundcolor": "#E5ECF6",
            "gridcolor": "white",
            "gridwidth": 2,
            "linecolor": "white",
            "showbackground": true,
            "ticks": "",
            "zerolinecolor": "white"
           },
           "zaxis": {
            "backgroundcolor": "#E5ECF6",
            "gridcolor": "white",
            "gridwidth": 2,
            "linecolor": "white",
            "showbackground": true,
            "ticks": "",
            "zerolinecolor": "white"
           }
          },
          "shapedefaults": {
           "line": {
            "color": "#2a3f5f"
           }
          },
          "ternary": {
           "aaxis": {
            "gridcolor": "white",
            "linecolor": "white",
            "ticks": ""
           },
           "baxis": {
            "gridcolor": "white",
            "linecolor": "white",
            "ticks": ""
           },
           "bgcolor": "#E5ECF6",
           "caxis": {
            "gridcolor": "white",
            "linecolor": "white",
            "ticks": ""
           }
          },
          "title": {
           "x": 0.05
          },
          "xaxis": {
           "automargin": true,
           "gridcolor": "white",
           "linecolor": "white",
           "ticks": "",
           "title": {
            "standoff": 15
           },
           "zerolinecolor": "white",
           "zerolinewidth": 2
          },
          "yaxis": {
           "automargin": true,
           "gridcolor": "white",
           "linecolor": "white",
           "ticks": "",
           "title": {
            "standoff": 15
           },
           "zerolinecolor": "white",
           "zerolinewidth": 2
          }
         }
        },
        "title": {
         "text": "Dominant Emotion by Gender"
        },
        "xaxis": {
         "anchor": "y",
         "domain": [
          0,
          1
         ],
         "title": {
          "text": "Platform"
         }
        },
        "yaxis": {
         "anchor": "x",
         "domain": [
          0,
          1
         ],
         "title": {
          "text": "Count"
         }
        }
       }
      }
     },
     "metadata": {},
     "output_type": "display_data"
    }
   ],
   "source": [
    "plt = px.bar(gender_emotion_grouped, x='Platform', y='Count', color='Dominant_Emotion', title='Dominant Emotion by Gender', barmode='group')\n",
    "\n",
    "plt.show()"
   ]
  },
  {
   "cell_type": "code",
   "execution_count": 97,
   "metadata": {},
   "outputs": [
    {
     "data": {
      "application/vnd.plotly.v1+json": {
       "config": {
        "plotlyServerURL": "https://plot.ly"
       },
       "data": [
        {
         "coloraxis": "coloraxis",
         "hovertemplate": "Dominant_Emotion: %{x}<br>Platform: %{y}<br>color: %{z}<extra></extra>",
         "name": "0",
         "type": "heatmap",
         "x": [
          "Anger",
          "Anxiety",
          "Boredom",
          "Happiness",
          "Neutral",
          "Sadness"
         ],
         "xaxis": "x",
         "y": [
          "Facebook",
          "Instagram",
          "LinkedIn",
          "Snapchat",
          "Telegram",
          "Twitter",
          "Whatsapp"
         ],
         "yaxis": "y",
         "z": [
          [
           0,
           50,
           40,
           0,
           70,
           30
          ],
          [
           10,
           30,
           0,
           171,
           20,
           20
          ],
          [
           0,
           20,
           70,
           0,
           20,
           10
          ],
          [
           0,
           20,
           0,
           10,
           20,
           30
          ],
          [
           10,
           10,
           10,
           0,
           30,
           20
          ],
          [
           80,
           20,
           20,
           10,
           20,
           50
          ],
          [
           30,
           20,
           0,
           10,
           20,
           0
          ]
         ]
        }
       ],
       "layout": {
        "coloraxis": {
         "colorscale": [
          [
           0,
           "#0d0887"
          ],
          [
           0.1111111111111111,
           "#46039f"
          ],
          [
           0.2222222222222222,
           "#7201a8"
          ],
          [
           0.3333333333333333,
           "#9c179e"
          ],
          [
           0.4444444444444444,
           "#bd3786"
          ],
          [
           0.5555555555555556,
           "#d8576b"
          ],
          [
           0.6666666666666666,
           "#ed7953"
          ],
          [
           0.7777777777777778,
           "#fb9f3a"
          ],
          [
           0.8888888888888888,
           "#fdca26"
          ],
          [
           1,
           "#f0f921"
          ]
         ]
        },
        "template": {
         "data": {
          "bar": [
           {
            "error_x": {
             "color": "#2a3f5f"
            },
            "error_y": {
             "color": "#2a3f5f"
            },
            "marker": {
             "line": {
              "color": "#E5ECF6",
              "width": 0.5
             },
             "pattern": {
              "fillmode": "overlay",
              "size": 10,
              "solidity": 0.2
             }
            },
            "type": "bar"
           }
          ],
          "barpolar": [
           {
            "marker": {
             "line": {
              "color": "#E5ECF6",
              "width": 0.5
             },
             "pattern": {
              "fillmode": "overlay",
              "size": 10,
              "solidity": 0.2
             }
            },
            "type": "barpolar"
           }
          ],
          "carpet": [
           {
            "aaxis": {
             "endlinecolor": "#2a3f5f",
             "gridcolor": "white",
             "linecolor": "white",
             "minorgridcolor": "white",
             "startlinecolor": "#2a3f5f"
            },
            "baxis": {
             "endlinecolor": "#2a3f5f",
             "gridcolor": "white",
             "linecolor": "white",
             "minorgridcolor": "white",
             "startlinecolor": "#2a3f5f"
            },
            "type": "carpet"
           }
          ],
          "choropleth": [
           {
            "colorbar": {
             "outlinewidth": 0,
             "ticks": ""
            },
            "type": "choropleth"
           }
          ],
          "contour": [
           {
            "colorbar": {
             "outlinewidth": 0,
             "ticks": ""
            },
            "colorscale": [
             [
              0,
              "#0d0887"
             ],
             [
              0.1111111111111111,
              "#46039f"
             ],
             [
              0.2222222222222222,
              "#7201a8"
             ],
             [
              0.3333333333333333,
              "#9c179e"
             ],
             [
              0.4444444444444444,
              "#bd3786"
             ],
             [
              0.5555555555555556,
              "#d8576b"
             ],
             [
              0.6666666666666666,
              "#ed7953"
             ],
             [
              0.7777777777777778,
              "#fb9f3a"
             ],
             [
              0.8888888888888888,
              "#fdca26"
             ],
             [
              1,
              "#f0f921"
             ]
            ],
            "type": "contour"
           }
          ],
          "contourcarpet": [
           {
            "colorbar": {
             "outlinewidth": 0,
             "ticks": ""
            },
            "type": "contourcarpet"
           }
          ],
          "heatmap": [
           {
            "colorbar": {
             "outlinewidth": 0,
             "ticks": ""
            },
            "colorscale": [
             [
              0,
              "#0d0887"
             ],
             [
              0.1111111111111111,
              "#46039f"
             ],
             [
              0.2222222222222222,
              "#7201a8"
             ],
             [
              0.3333333333333333,
              "#9c179e"
             ],
             [
              0.4444444444444444,
              "#bd3786"
             ],
             [
              0.5555555555555556,
              "#d8576b"
             ],
             [
              0.6666666666666666,
              "#ed7953"
             ],
             [
              0.7777777777777778,
              "#fb9f3a"
             ],
             [
              0.8888888888888888,
              "#fdca26"
             ],
             [
              1,
              "#f0f921"
             ]
            ],
            "type": "heatmap"
           }
          ],
          "heatmapgl": [
           {
            "colorbar": {
             "outlinewidth": 0,
             "ticks": ""
            },
            "colorscale": [
             [
              0,
              "#0d0887"
             ],
             [
              0.1111111111111111,
              "#46039f"
             ],
             [
              0.2222222222222222,
              "#7201a8"
             ],
             [
              0.3333333333333333,
              "#9c179e"
             ],
             [
              0.4444444444444444,
              "#bd3786"
             ],
             [
              0.5555555555555556,
              "#d8576b"
             ],
             [
              0.6666666666666666,
              "#ed7953"
             ],
             [
              0.7777777777777778,
              "#fb9f3a"
             ],
             [
              0.8888888888888888,
              "#fdca26"
             ],
             [
              1,
              "#f0f921"
             ]
            ],
            "type": "heatmapgl"
           }
          ],
          "histogram": [
           {
            "marker": {
             "pattern": {
              "fillmode": "overlay",
              "size": 10,
              "solidity": 0.2
             }
            },
            "type": "histogram"
           }
          ],
          "histogram2d": [
           {
            "colorbar": {
             "outlinewidth": 0,
             "ticks": ""
            },
            "colorscale": [
             [
              0,
              "#0d0887"
             ],
             [
              0.1111111111111111,
              "#46039f"
             ],
             [
              0.2222222222222222,
              "#7201a8"
             ],
             [
              0.3333333333333333,
              "#9c179e"
             ],
             [
              0.4444444444444444,
              "#bd3786"
             ],
             [
              0.5555555555555556,
              "#d8576b"
             ],
             [
              0.6666666666666666,
              "#ed7953"
             ],
             [
              0.7777777777777778,
              "#fb9f3a"
             ],
             [
              0.8888888888888888,
              "#fdca26"
             ],
             [
              1,
              "#f0f921"
             ]
            ],
            "type": "histogram2d"
           }
          ],
          "histogram2dcontour": [
           {
            "colorbar": {
             "outlinewidth": 0,
             "ticks": ""
            },
            "colorscale": [
             [
              0,
              "#0d0887"
             ],
             [
              0.1111111111111111,
              "#46039f"
             ],
             [
              0.2222222222222222,
              "#7201a8"
             ],
             [
              0.3333333333333333,
              "#9c179e"
             ],
             [
              0.4444444444444444,
              "#bd3786"
             ],
             [
              0.5555555555555556,
              "#d8576b"
             ],
             [
              0.6666666666666666,
              "#ed7953"
             ],
             [
              0.7777777777777778,
              "#fb9f3a"
             ],
             [
              0.8888888888888888,
              "#fdca26"
             ],
             [
              1,
              "#f0f921"
             ]
            ],
            "type": "histogram2dcontour"
           }
          ],
          "mesh3d": [
           {
            "colorbar": {
             "outlinewidth": 0,
             "ticks": ""
            },
            "type": "mesh3d"
           }
          ],
          "parcoords": [
           {
            "line": {
             "colorbar": {
              "outlinewidth": 0,
              "ticks": ""
             }
            },
            "type": "parcoords"
           }
          ],
          "pie": [
           {
            "automargin": true,
            "type": "pie"
           }
          ],
          "scatter": [
           {
            "fillpattern": {
             "fillmode": "overlay",
             "size": 10,
             "solidity": 0.2
            },
            "type": "scatter"
           }
          ],
          "scatter3d": [
           {
            "line": {
             "colorbar": {
              "outlinewidth": 0,
              "ticks": ""
             }
            },
            "marker": {
             "colorbar": {
              "outlinewidth": 0,
              "ticks": ""
             }
            },
            "type": "scatter3d"
           }
          ],
          "scattercarpet": [
           {
            "marker": {
             "colorbar": {
              "outlinewidth": 0,
              "ticks": ""
             }
            },
            "type": "scattercarpet"
           }
          ],
          "scattergeo": [
           {
            "marker": {
             "colorbar": {
              "outlinewidth": 0,
              "ticks": ""
             }
            },
            "type": "scattergeo"
           }
          ],
          "scattergl": [
           {
            "marker": {
             "colorbar": {
              "outlinewidth": 0,
              "ticks": ""
             }
            },
            "type": "scattergl"
           }
          ],
          "scattermapbox": [
           {
            "marker": {
             "colorbar": {
              "outlinewidth": 0,
              "ticks": ""
             }
            },
            "type": "scattermapbox"
           }
          ],
          "scatterpolar": [
           {
            "marker": {
             "colorbar": {
              "outlinewidth": 0,
              "ticks": ""
             }
            },
            "type": "scatterpolar"
           }
          ],
          "scatterpolargl": [
           {
            "marker": {
             "colorbar": {
              "outlinewidth": 0,
              "ticks": ""
             }
            },
            "type": "scatterpolargl"
           }
          ],
          "scatterternary": [
           {
            "marker": {
             "colorbar": {
              "outlinewidth": 0,
              "ticks": ""
             }
            },
            "type": "scatterternary"
           }
          ],
          "surface": [
           {
            "colorbar": {
             "outlinewidth": 0,
             "ticks": ""
            },
            "colorscale": [
             [
              0,
              "#0d0887"
             ],
             [
              0.1111111111111111,
              "#46039f"
             ],
             [
              0.2222222222222222,
              "#7201a8"
             ],
             [
              0.3333333333333333,
              "#9c179e"
             ],
             [
              0.4444444444444444,
              "#bd3786"
             ],
             [
              0.5555555555555556,
              "#d8576b"
             ],
             [
              0.6666666666666666,
              "#ed7953"
             ],
             [
              0.7777777777777778,
              "#fb9f3a"
             ],
             [
              0.8888888888888888,
              "#fdca26"
             ],
             [
              1,
              "#f0f921"
             ]
            ],
            "type": "surface"
           }
          ],
          "table": [
           {
            "cells": {
             "fill": {
              "color": "#EBF0F8"
             },
             "line": {
              "color": "white"
             }
            },
            "header": {
             "fill": {
              "color": "#C8D4E3"
             },
             "line": {
              "color": "white"
             }
            },
            "type": "table"
           }
          ]
         },
         "layout": {
          "annotationdefaults": {
           "arrowcolor": "#2a3f5f",
           "arrowhead": 0,
           "arrowwidth": 1
          },
          "autotypenumbers": "strict",
          "coloraxis": {
           "colorbar": {
            "outlinewidth": 0,
            "ticks": ""
           }
          },
          "colorscale": {
           "diverging": [
            [
             0,
             "#8e0152"
            ],
            [
             0.1,
             "#c51b7d"
            ],
            [
             0.2,
             "#de77ae"
            ],
            [
             0.3,
             "#f1b6da"
            ],
            [
             0.4,
             "#fde0ef"
            ],
            [
             0.5,
             "#f7f7f7"
            ],
            [
             0.6,
             "#e6f5d0"
            ],
            [
             0.7,
             "#b8e186"
            ],
            [
             0.8,
             "#7fbc41"
            ],
            [
             0.9,
             "#4d9221"
            ],
            [
             1,
             "#276419"
            ]
           ],
           "sequential": [
            [
             0,
             "#0d0887"
            ],
            [
             0.1111111111111111,
             "#46039f"
            ],
            [
             0.2222222222222222,
             "#7201a8"
            ],
            [
             0.3333333333333333,
             "#9c179e"
            ],
            [
             0.4444444444444444,
             "#bd3786"
            ],
            [
             0.5555555555555556,
             "#d8576b"
            ],
            [
             0.6666666666666666,
             "#ed7953"
            ],
            [
             0.7777777777777778,
             "#fb9f3a"
            ],
            [
             0.8888888888888888,
             "#fdca26"
            ],
            [
             1,
             "#f0f921"
            ]
           ],
           "sequentialminus": [
            [
             0,
             "#0d0887"
            ],
            [
             0.1111111111111111,
             "#46039f"
            ],
            [
             0.2222222222222222,
             "#7201a8"
            ],
            [
             0.3333333333333333,
             "#9c179e"
            ],
            [
             0.4444444444444444,
             "#bd3786"
            ],
            [
             0.5555555555555556,
             "#d8576b"
            ],
            [
             0.6666666666666666,
             "#ed7953"
            ],
            [
             0.7777777777777778,
             "#fb9f3a"
            ],
            [
             0.8888888888888888,
             "#fdca26"
            ],
            [
             1,
             "#f0f921"
            ]
           ]
          },
          "colorway": [
           "#636efa",
           "#EF553B",
           "#00cc96",
           "#ab63fa",
           "#FFA15A",
           "#19d3f3",
           "#FF6692",
           "#B6E880",
           "#FF97FF",
           "#FECB52"
          ],
          "font": {
           "color": "#2a3f5f"
          },
          "geo": {
           "bgcolor": "white",
           "lakecolor": "white",
           "landcolor": "#E5ECF6",
           "showlakes": true,
           "showland": true,
           "subunitcolor": "white"
          },
          "hoverlabel": {
           "align": "left"
          },
          "hovermode": "closest",
          "mapbox": {
           "style": "light"
          },
          "paper_bgcolor": "white",
          "plot_bgcolor": "#E5ECF6",
          "polar": {
           "angularaxis": {
            "gridcolor": "white",
            "linecolor": "white",
            "ticks": ""
           },
           "bgcolor": "#E5ECF6",
           "radialaxis": {
            "gridcolor": "white",
            "linecolor": "white",
            "ticks": ""
           }
          },
          "scene": {
           "xaxis": {
            "backgroundcolor": "#E5ECF6",
            "gridcolor": "white",
            "gridwidth": 2,
            "linecolor": "white",
            "showbackground": true,
            "ticks": "",
            "zerolinecolor": "white"
           },
           "yaxis": {
            "backgroundcolor": "#E5ECF6",
            "gridcolor": "white",
            "gridwidth": 2,
            "linecolor": "white",
            "showbackground": true,
            "ticks": "",
            "zerolinecolor": "white"
           },
           "zaxis": {
            "backgroundcolor": "#E5ECF6",
            "gridcolor": "white",
            "gridwidth": 2,
            "linecolor": "white",
            "showbackground": true,
            "ticks": "",
            "zerolinecolor": "white"
           }
          },
          "shapedefaults": {
           "line": {
            "color": "#2a3f5f"
           }
          },
          "ternary": {
           "aaxis": {
            "gridcolor": "white",
            "linecolor": "white",
            "ticks": ""
           },
           "baxis": {
            "gridcolor": "white",
            "linecolor": "white",
            "ticks": ""
           },
           "bgcolor": "#E5ECF6",
           "caxis": {
            "gridcolor": "white",
            "linecolor": "white",
            "ticks": ""
           }
          },
          "title": {
           "x": 0.05
          },
          "xaxis": {
           "automargin": true,
           "gridcolor": "white",
           "linecolor": "white",
           "ticks": "",
           "title": {
            "standoff": 15
           },
           "zerolinecolor": "white",
           "zerolinewidth": 2
          },
          "yaxis": {
           "automargin": true,
           "gridcolor": "white",
           "linecolor": "white",
           "ticks": "",
           "title": {
            "standoff": 15
           },
           "zerolinecolor": "white",
           "zerolinewidth": 2
          }
         }
        },
        "title": {
         "text": "Platform vs Dominant Emotion Heatmap"
        },
        "xaxis": {
         "anchor": "y",
         "constrain": "domain",
         "domain": [
          0,
          1
         ],
         "scaleanchor": "y",
         "title": {
          "text": "Dominant_Emotion"
         }
        },
        "yaxis": {
         "anchor": "x",
         "autorange": "reversed",
         "constrain": "domain",
         "domain": [
          0,
          1
         ],
         "title": {
          "text": "Platform"
         }
        }
       }
      }
     },
     "metadata": {},
     "output_type": "display_data"
    }
   ],
   "source": [
    "# Create a contingency table\n",
    "contingency_table = pd.crosstab(train_df['Platform'], train_df['Dominant_Emotion'])\n",
    "\n",
    "# Plot the heatmap\n",
    "fig = px.imshow(contingency_table, title='Platform vs Dominant Emotion Heatmap')\n",
    "fig.show()"
   ]
  },
  {
   "cell_type": "markdown",
   "metadata": {},
   "source": [
    "### **Time Spent VS Emotions**"
   ]
  },
  {
   "cell_type": "code",
   "execution_count": 100,
   "metadata": {},
   "outputs": [
    {
     "data": {
      "application/vnd.plotly.v1+json": {
       "config": {
        "plotlyServerURL": "https://plot.ly"
       },
       "data": [
        {
         "alignmentgroup": "True",
         "bingroup": "x",
         "hovertemplate": "Dominant_Emotion=Happiness<br>Daily_Usage_Time (minutes)=%{x}<br>count=%{y}<extra></extra>",
         "legendgroup": "Happiness",
         "marker": {
          "color": "#636efa",
          "pattern": {
           "shape": ""
          }
         },
         "name": "Happiness",
         "offsetgroup": "Happiness",
         "orientation": "v",
         "showlegend": true,
         "type": "histogram",
         "x": [
          120,
          150,
          170,
          180,
          140,
          190,
          160,
          145,
          170,
          150,
          175,
          165,
          95,
          175,
          165,
          140,
          155,
          85,
          170,
          110,
          120,
          150,
          170,
          180,
          140,
          190,
          160,
          145,
          170,
          150,
          175,
          165,
          95,
          175,
          165,
          140,
          155,
          85,
          170,
          110,
          120,
          150,
          170,
          180,
          140,
          190,
          160,
          145,
          170,
          150,
          175,
          165,
          95,
          175,
          165,
          140,
          155,
          85,
          170,
          110,
          120,
          150,
          170,
          180,
          140,
          190,
          160,
          145,
          170,
          150,
          175,
          165,
          95,
          175,
          165,
          140,
          155,
          85,
          170,
          110,
          120,
          150,
          170,
          180,
          140,
          190,
          160,
          145,
          170,
          150,
          175,
          165,
          95,
          175,
          165,
          140,
          155,
          85,
          170,
          110,
          120,
          150,
          170,
          180,
          140,
          190,
          160,
          145,
          170,
          150,
          175,
          165,
          95,
          175,
          165,
          140,
          155,
          85,
          170,
          110,
          120,
          150,
          170,
          180,
          140,
          190,
          160,
          145,
          170,
          60,
          150,
          175,
          165,
          95,
          175,
          165,
          140,
          155,
          85,
          170,
          110,
          120,
          150,
          170,
          180,
          140,
          190,
          160,
          145,
          170,
          150,
          175,
          165,
          95,
          175,
          165,
          140,
          155,
          85,
          170,
          110,
          120,
          150,
          170,
          180,
          140,
          190,
          160,
          145,
          170,
          150,
          175,
          165,
          95,
          175,
          165,
          140,
          155,
          85,
          170,
          110,
          120,
          150,
          170,
          180,
          140,
          190,
          160,
          145,
          170,
          150,
          175,
          165,
          95,
          175,
          165,
          140,
          155,
          85,
          170,
          110
         ],
         "xaxis": "x",
         "yaxis": "y"
        },
        {
         "alignmentgroup": "True",
         "bingroup": "x",
         "hovertemplate": "Dominant_Emotion=Anger<br>Daily_Usage_Time (minutes)=%{x}<br>count=%{y}<extra></extra>",
         "legendgroup": "Anger",
         "marker": {
          "color": "#EF553B",
          "pattern": {
           "shape": ""
          }
         },
         "name": "Anger",
         "offsetgroup": "Anger",
         "orientation": "v",
         "showlegend": true,
         "type": "histogram",
         "x": [
          90,
          85,
          100,
          105,
          90,
          85,
          95,
          75,
          70,
          90,
          120,
          105,
          60,
          90,
          85,
          100,
          105,
          90,
          85,
          95,
          75,
          70,
          90,
          120,
          105,
          60,
          90,
          85,
          100,
          105,
          90,
          85,
          95,
          75,
          70,
          90,
          120,
          105,
          60,
          90,
          85,
          100,
          105,
          90,
          85,
          95,
          75,
          70,
          90,
          120,
          105,
          60,
          90,
          85,
          100,
          105,
          90,
          85,
          95,
          75,
          70,
          90,
          120,
          105,
          60,
          90,
          85,
          100,
          105,
          90,
          85,
          95,
          75,
          70,
          90,
          120,
          105,
          60,
          90,
          85,
          100,
          105,
          90,
          85,
          95,
          75,
          70,
          90,
          120,
          105,
          60,
          90,
          85,
          100,
          105,
          90,
          85,
          95,
          75,
          70,
          90,
          120,
          105,
          60,
          90,
          85,
          100,
          105,
          90,
          85,
          95,
          75,
          70,
          90,
          120,
          105,
          60,
          90,
          85,
          100,
          105,
          90,
          85,
          95,
          75,
          70,
          90,
          120,
          105,
          60
         ],
         "xaxis": "x",
         "yaxis": "y"
        },
        {
         "alignmentgroup": "True",
         "bingroup": "x",
         "hovertemplate": "Dominant_Emotion=Neutral<br>Daily_Usage_Time (minutes)=%{x}<br>count=%{y}<extra></extra>",
         "legendgroup": "Neutral",
         "marker": {
          "color": "#00cc96",
          "pattern": {
           "shape": ""
          }
         },
         "name": "Neutral",
         "offsetgroup": "Neutral",
         "orientation": "v",
         "showlegend": true,
         "type": "histogram",
         "x": [
          60,
          55,
          40,
          50,
          80,
          70,
          115,
          105,
          130,
          85,
          80,
          65,
          55,
          80,
          90,
          70,
          60,
          75,
          70,
          120,
          60,
          55,
          40,
          50,
          80,
          70,
          115,
          105,
          130,
          85,
          80,
          65,
          55,
          80,
          90,
          70,
          60,
          75,
          70,
          120,
          60,
          55,
          40,
          50,
          80,
          70,
          115,
          105,
          130,
          85,
          80,
          65,
          55,
          80,
          90,
          70,
          60,
          75,
          70,
          120,
          60,
          55,
          40,
          50,
          80,
          70,
          115,
          105,
          130,
          85,
          80,
          65,
          55,
          80,
          90,
          70,
          60,
          75,
          70,
          120,
          60,
          55,
          40,
          50,
          80,
          70,
          115,
          105,
          130,
          85,
          80,
          65,
          55,
          80,
          90,
          70,
          60,
          75,
          70,
          120,
          60,
          55,
          40,
          50,
          80,
          70,
          115,
          105,
          130,
          85,
          80,
          65,
          55,
          80,
          90,
          70,
          60,
          75,
          70,
          120,
          60,
          55,
          40,
          50,
          80,
          70,
          115,
          105,
          130,
          85,
          80,
          65,
          55,
          80,
          90,
          70,
          60,
          75,
          70,
          120,
          60,
          55,
          40,
          50,
          80,
          70,
          115,
          105,
          130,
          85,
          80,
          65,
          55,
          80,
          90,
          70,
          60,
          75,
          70,
          120,
          60,
          55,
          40,
          50,
          80,
          70,
          115,
          105,
          130,
          85,
          80,
          65,
          55,
          80,
          90,
          70,
          60,
          75,
          70,
          120,
          60,
          55,
          40,
          50,
          80,
          70,
          115,
          105,
          130,
          85,
          80,
          65,
          55,
          80,
          90,
          70,
          60,
          75,
          70,
          120
         ],
         "xaxis": "x",
         "yaxis": "y"
        },
        {
         "alignmentgroup": "True",
         "bingroup": "x",
         "hovertemplate": "Dominant_Emotion=Anxiety<br>Daily_Usage_Time (minutes)=%{x}<br>count=%{y}<extra></extra>",
         "legendgroup": "Anxiety",
         "marker": {
          "color": "#ab63fa",
          "pattern": {
           "shape": ""
          }
         },
         "name": "Anxiety",
         "offsetgroup": "Anxiety",
         "orientation": "v",
         "showlegend": true,
         "type": "histogram",
         "x": [
          200,
          75,
          125,
          75,
          55,
          65,
          100,
          75,
          60,
          70,
          120,
          105,
          115,
          65,
          100,
          70,
          150,
          200,
          75,
          125,
          75,
          55,
          65,
          100,
          75,
          60,
          70,
          120,
          105,
          115,
          65,
          100,
          70,
          150,
          200,
          75,
          125,
          75,
          55,
          65,
          100,
          75,
          60,
          70,
          120,
          105,
          115,
          65,
          100,
          70,
          150,
          200,
          75,
          125,
          75,
          55,
          65,
          100,
          75,
          60,
          70,
          120,
          105,
          115,
          65,
          100,
          70,
          150,
          200,
          75,
          125,
          75,
          55,
          65,
          100,
          75,
          60,
          70,
          120,
          105,
          115,
          65,
          100,
          70,
          150,
          200,
          75,
          125,
          75,
          55,
          65,
          100,
          75,
          60,
          70,
          120,
          105,
          115,
          65,
          100,
          70,
          150,
          200,
          75,
          125,
          75,
          55,
          65,
          100,
          75,
          60,
          70,
          120,
          105,
          115,
          65,
          100,
          70,
          150,
          200,
          75,
          125,
          75,
          55,
          65,
          100,
          75,
          60,
          70,
          120,
          105,
          115,
          65,
          100,
          70,
          150,
          200,
          75,
          125,
          75,
          55,
          65,
          100,
          75,
          60,
          70,
          120,
          105,
          115,
          65,
          100,
          70,
          150,
          200,
          75,
          125,
          75,
          55,
          65,
          100,
          75,
          60,
          70,
          120,
          105,
          115,
          65,
          100,
          70,
          150
         ],
         "xaxis": "x",
         "yaxis": "y"
        },
        {
         "alignmentgroup": "True",
         "bingroup": "x",
         "hovertemplate": "Dominant_Emotion=Boredom<br>Daily_Usage_Time (minutes)=%{x}<br>count=%{y}<extra></extra>",
         "legendgroup": "Boredom",
         "marker": {
          "color": "#FFA15A",
          "pattern": {
           "shape": ""
          }
         },
         "name": "Boredom",
         "offsetgroup": "Boredom",
         "orientation": "v",
         "showlegend": true,
         "type": "histogram",
         "x": [
          45,
          65,
          60,
          65,
          55,
          60,
          55,
          90,
          60,
          60,
          70,
          75,
          50,
          85,
          45,
          65,
          60,
          65,
          55,
          60,
          55,
          90,
          60,
          60,
          70,
          75,
          50,
          85,
          45,
          65,
          60,
          65,
          55,
          60,
          55,
          90,
          60,
          60,
          70,
          75,
          50,
          85,
          45,
          65,
          60,
          65,
          55,
          60,
          55,
          90,
          60,
          60,
          70,
          75,
          50,
          85,
          45,
          65,
          60,
          65,
          55,
          60,
          55,
          90,
          60,
          60,
          70,
          75,
          50,
          85,
          45,
          65,
          60,
          65,
          55,
          60,
          55,
          90,
          60,
          60,
          70,
          75,
          50,
          85,
          45,
          65,
          60,
          65,
          55,
          60,
          55,
          90,
          60,
          60,
          70,
          75,
          50,
          85,
          45,
          65,
          60,
          65,
          55,
          60,
          55,
          90,
          60,
          60,
          70,
          75,
          50,
          85,
          45,
          65,
          60,
          65,
          55,
          60,
          55,
          90,
          60,
          60,
          70,
          75,
          50,
          85,
          45,
          65,
          60,
          65,
          55,
          60,
          55,
          90,
          60,
          60,
          70,
          75,
          50,
          85
         ],
         "xaxis": "x",
         "yaxis": "y"
        },
        {
         "alignmentgroup": "True",
         "bingroup": "x",
         "hovertemplate": "Dominant_Emotion=Sadness<br>Daily_Usage_Time (minutes)=%{x}<br>count=%{y}<extra></extra>",
         "legendgroup": "Sadness",
         "marker": {
          "color": "#19d3f3",
          "pattern": {
           "shape": ""
          }
         },
         "name": "Sadness",
         "offsetgroup": "Sadness",
         "orientation": "v",
         "showlegend": true,
         "type": "histogram",
         "x": [
          110,
          95,
          90,
          70,
          45,
          130,
          45,
          90,
          145,
          50,
          90,
          75,
          75,
          50,
          85,
          95,
          110,
          95,
          90,
          70,
          45,
          130,
          45,
          90,
          145,
          50,
          90,
          75,
          75,
          50,
          85,
          95,
          110,
          95,
          90,
          70,
          45,
          130,
          45,
          90,
          145,
          50,
          90,
          75,
          75,
          50,
          85,
          95,
          110,
          95,
          90,
          70,
          45,
          130,
          45,
          90,
          145,
          50,
          90,
          75,
          75,
          50,
          85,
          95,
          110,
          95,
          90,
          70,
          45,
          130,
          45,
          90,
          145,
          50,
          90,
          75,
          75,
          50,
          85,
          95,
          110,
          95,
          90,
          70,
          45,
          130,
          45,
          90,
          145,
          50,
          90,
          75,
          75,
          50,
          85,
          95,
          110,
          95,
          90,
          70,
          45,
          130,
          45,
          90,
          145,
          50,
          90,
          75,
          75,
          50,
          85,
          95,
          110,
          95,
          90,
          70,
          45,
          130,
          45,
          90,
          145,
          50,
          90,
          75,
          75,
          50,
          85,
          95,
          110,
          95,
          90,
          70,
          45,
          130,
          45,
          90,
          145,
          50,
          90,
          75,
          75,
          50,
          85,
          95,
          110,
          95,
          90,
          70,
          45,
          130,
          45,
          90,
          145,
          50,
          90,
          75,
          75,
          50,
          85,
          95
         ],
         "xaxis": "x",
         "yaxis": "y"
        }
       ],
       "layout": {
        "barmode": "relative",
        "legend": {
         "title": {
          "text": "Dominant_Emotion"
         },
         "tracegroupgap": 0
        },
        "template": {
         "data": {
          "bar": [
           {
            "error_x": {
             "color": "#2a3f5f"
            },
            "error_y": {
             "color": "#2a3f5f"
            },
            "marker": {
             "line": {
              "color": "#E5ECF6",
              "width": 0.5
             },
             "pattern": {
              "fillmode": "overlay",
              "size": 10,
              "solidity": 0.2
             }
            },
            "type": "bar"
           }
          ],
          "barpolar": [
           {
            "marker": {
             "line": {
              "color": "#E5ECF6",
              "width": 0.5
             },
             "pattern": {
              "fillmode": "overlay",
              "size": 10,
              "solidity": 0.2
             }
            },
            "type": "barpolar"
           }
          ],
          "carpet": [
           {
            "aaxis": {
             "endlinecolor": "#2a3f5f",
             "gridcolor": "white",
             "linecolor": "white",
             "minorgridcolor": "white",
             "startlinecolor": "#2a3f5f"
            },
            "baxis": {
             "endlinecolor": "#2a3f5f",
             "gridcolor": "white",
             "linecolor": "white",
             "minorgridcolor": "white",
             "startlinecolor": "#2a3f5f"
            },
            "type": "carpet"
           }
          ],
          "choropleth": [
           {
            "colorbar": {
             "outlinewidth": 0,
             "ticks": ""
            },
            "type": "choropleth"
           }
          ],
          "contour": [
           {
            "colorbar": {
             "outlinewidth": 0,
             "ticks": ""
            },
            "colorscale": [
             [
              0,
              "#0d0887"
             ],
             [
              0.1111111111111111,
              "#46039f"
             ],
             [
              0.2222222222222222,
              "#7201a8"
             ],
             [
              0.3333333333333333,
              "#9c179e"
             ],
             [
              0.4444444444444444,
              "#bd3786"
             ],
             [
              0.5555555555555556,
              "#d8576b"
             ],
             [
              0.6666666666666666,
              "#ed7953"
             ],
             [
              0.7777777777777778,
              "#fb9f3a"
             ],
             [
              0.8888888888888888,
              "#fdca26"
             ],
             [
              1,
              "#f0f921"
             ]
            ],
            "type": "contour"
           }
          ],
          "contourcarpet": [
           {
            "colorbar": {
             "outlinewidth": 0,
             "ticks": ""
            },
            "type": "contourcarpet"
           }
          ],
          "heatmap": [
           {
            "colorbar": {
             "outlinewidth": 0,
             "ticks": ""
            },
            "colorscale": [
             [
              0,
              "#0d0887"
             ],
             [
              0.1111111111111111,
              "#46039f"
             ],
             [
              0.2222222222222222,
              "#7201a8"
             ],
             [
              0.3333333333333333,
              "#9c179e"
             ],
             [
              0.4444444444444444,
              "#bd3786"
             ],
             [
              0.5555555555555556,
              "#d8576b"
             ],
             [
              0.6666666666666666,
              "#ed7953"
             ],
             [
              0.7777777777777778,
              "#fb9f3a"
             ],
             [
              0.8888888888888888,
              "#fdca26"
             ],
             [
              1,
              "#f0f921"
             ]
            ],
            "type": "heatmap"
           }
          ],
          "heatmapgl": [
           {
            "colorbar": {
             "outlinewidth": 0,
             "ticks": ""
            },
            "colorscale": [
             [
              0,
              "#0d0887"
             ],
             [
              0.1111111111111111,
              "#46039f"
             ],
             [
              0.2222222222222222,
              "#7201a8"
             ],
             [
              0.3333333333333333,
              "#9c179e"
             ],
             [
              0.4444444444444444,
              "#bd3786"
             ],
             [
              0.5555555555555556,
              "#d8576b"
             ],
             [
              0.6666666666666666,
              "#ed7953"
             ],
             [
              0.7777777777777778,
              "#fb9f3a"
             ],
             [
              0.8888888888888888,
              "#fdca26"
             ],
             [
              1,
              "#f0f921"
             ]
            ],
            "type": "heatmapgl"
           }
          ],
          "histogram": [
           {
            "marker": {
             "pattern": {
              "fillmode": "overlay",
              "size": 10,
              "solidity": 0.2
             }
            },
            "type": "histogram"
           }
          ],
          "histogram2d": [
           {
            "colorbar": {
             "outlinewidth": 0,
             "ticks": ""
            },
            "colorscale": [
             [
              0,
              "#0d0887"
             ],
             [
              0.1111111111111111,
              "#46039f"
             ],
             [
              0.2222222222222222,
              "#7201a8"
             ],
             [
              0.3333333333333333,
              "#9c179e"
             ],
             [
              0.4444444444444444,
              "#bd3786"
             ],
             [
              0.5555555555555556,
              "#d8576b"
             ],
             [
              0.6666666666666666,
              "#ed7953"
             ],
             [
              0.7777777777777778,
              "#fb9f3a"
             ],
             [
              0.8888888888888888,
              "#fdca26"
             ],
             [
              1,
              "#f0f921"
             ]
            ],
            "type": "histogram2d"
           }
          ],
          "histogram2dcontour": [
           {
            "colorbar": {
             "outlinewidth": 0,
             "ticks": ""
            },
            "colorscale": [
             [
              0,
              "#0d0887"
             ],
             [
              0.1111111111111111,
              "#46039f"
             ],
             [
              0.2222222222222222,
              "#7201a8"
             ],
             [
              0.3333333333333333,
              "#9c179e"
             ],
             [
              0.4444444444444444,
              "#bd3786"
             ],
             [
              0.5555555555555556,
              "#d8576b"
             ],
             [
              0.6666666666666666,
              "#ed7953"
             ],
             [
              0.7777777777777778,
              "#fb9f3a"
             ],
             [
              0.8888888888888888,
              "#fdca26"
             ],
             [
              1,
              "#f0f921"
             ]
            ],
            "type": "histogram2dcontour"
           }
          ],
          "mesh3d": [
           {
            "colorbar": {
             "outlinewidth": 0,
             "ticks": ""
            },
            "type": "mesh3d"
           }
          ],
          "parcoords": [
           {
            "line": {
             "colorbar": {
              "outlinewidth": 0,
              "ticks": ""
             }
            },
            "type": "parcoords"
           }
          ],
          "pie": [
           {
            "automargin": true,
            "type": "pie"
           }
          ],
          "scatter": [
           {
            "fillpattern": {
             "fillmode": "overlay",
             "size": 10,
             "solidity": 0.2
            },
            "type": "scatter"
           }
          ],
          "scatter3d": [
           {
            "line": {
             "colorbar": {
              "outlinewidth": 0,
              "ticks": ""
             }
            },
            "marker": {
             "colorbar": {
              "outlinewidth": 0,
              "ticks": ""
             }
            },
            "type": "scatter3d"
           }
          ],
          "scattercarpet": [
           {
            "marker": {
             "colorbar": {
              "outlinewidth": 0,
              "ticks": ""
             }
            },
            "type": "scattercarpet"
           }
          ],
          "scattergeo": [
           {
            "marker": {
             "colorbar": {
              "outlinewidth": 0,
              "ticks": ""
             }
            },
            "type": "scattergeo"
           }
          ],
          "scattergl": [
           {
            "marker": {
             "colorbar": {
              "outlinewidth": 0,
              "ticks": ""
             }
            },
            "type": "scattergl"
           }
          ],
          "scattermapbox": [
           {
            "marker": {
             "colorbar": {
              "outlinewidth": 0,
              "ticks": ""
             }
            },
            "type": "scattermapbox"
           }
          ],
          "scatterpolar": [
           {
            "marker": {
             "colorbar": {
              "outlinewidth": 0,
              "ticks": ""
             }
            },
            "type": "scatterpolar"
           }
          ],
          "scatterpolargl": [
           {
            "marker": {
             "colorbar": {
              "outlinewidth": 0,
              "ticks": ""
             }
            },
            "type": "scatterpolargl"
           }
          ],
          "scatterternary": [
           {
            "marker": {
             "colorbar": {
              "outlinewidth": 0,
              "ticks": ""
             }
            },
            "type": "scatterternary"
           }
          ],
          "surface": [
           {
            "colorbar": {
             "outlinewidth": 0,
             "ticks": ""
            },
            "colorscale": [
             [
              0,
              "#0d0887"
             ],
             [
              0.1111111111111111,
              "#46039f"
             ],
             [
              0.2222222222222222,
              "#7201a8"
             ],
             [
              0.3333333333333333,
              "#9c179e"
             ],
             [
              0.4444444444444444,
              "#bd3786"
             ],
             [
              0.5555555555555556,
              "#d8576b"
             ],
             [
              0.6666666666666666,
              "#ed7953"
             ],
             [
              0.7777777777777778,
              "#fb9f3a"
             ],
             [
              0.8888888888888888,
              "#fdca26"
             ],
             [
              1,
              "#f0f921"
             ]
            ],
            "type": "surface"
           }
          ],
          "table": [
           {
            "cells": {
             "fill": {
              "color": "#EBF0F8"
             },
             "line": {
              "color": "white"
             }
            },
            "header": {
             "fill": {
              "color": "#C8D4E3"
             },
             "line": {
              "color": "white"
             }
            },
            "type": "table"
           }
          ]
         },
         "layout": {
          "annotationdefaults": {
           "arrowcolor": "#2a3f5f",
           "arrowhead": 0,
           "arrowwidth": 1
          },
          "autotypenumbers": "strict",
          "coloraxis": {
           "colorbar": {
            "outlinewidth": 0,
            "ticks": ""
           }
          },
          "colorscale": {
           "diverging": [
            [
             0,
             "#8e0152"
            ],
            [
             0.1,
             "#c51b7d"
            ],
            [
             0.2,
             "#de77ae"
            ],
            [
             0.3,
             "#f1b6da"
            ],
            [
             0.4,
             "#fde0ef"
            ],
            [
             0.5,
             "#f7f7f7"
            ],
            [
             0.6,
             "#e6f5d0"
            ],
            [
             0.7,
             "#b8e186"
            ],
            [
             0.8,
             "#7fbc41"
            ],
            [
             0.9,
             "#4d9221"
            ],
            [
             1,
             "#276419"
            ]
           ],
           "sequential": [
            [
             0,
             "#0d0887"
            ],
            [
             0.1111111111111111,
             "#46039f"
            ],
            [
             0.2222222222222222,
             "#7201a8"
            ],
            [
             0.3333333333333333,
             "#9c179e"
            ],
            [
             0.4444444444444444,
             "#bd3786"
            ],
            [
             0.5555555555555556,
             "#d8576b"
            ],
            [
             0.6666666666666666,
             "#ed7953"
            ],
            [
             0.7777777777777778,
             "#fb9f3a"
            ],
            [
             0.8888888888888888,
             "#fdca26"
            ],
            [
             1,
             "#f0f921"
            ]
           ],
           "sequentialminus": [
            [
             0,
             "#0d0887"
            ],
            [
             0.1111111111111111,
             "#46039f"
            ],
            [
             0.2222222222222222,
             "#7201a8"
            ],
            [
             0.3333333333333333,
             "#9c179e"
            ],
            [
             0.4444444444444444,
             "#bd3786"
            ],
            [
             0.5555555555555556,
             "#d8576b"
            ],
            [
             0.6666666666666666,
             "#ed7953"
            ],
            [
             0.7777777777777778,
             "#fb9f3a"
            ],
            [
             0.8888888888888888,
             "#fdca26"
            ],
            [
             1,
             "#f0f921"
            ]
           ]
          },
          "colorway": [
           "#636efa",
           "#EF553B",
           "#00cc96",
           "#ab63fa",
           "#FFA15A",
           "#19d3f3",
           "#FF6692",
           "#B6E880",
           "#FF97FF",
           "#FECB52"
          ],
          "font": {
           "color": "#2a3f5f"
          },
          "geo": {
           "bgcolor": "white",
           "lakecolor": "white",
           "landcolor": "#E5ECF6",
           "showlakes": true,
           "showland": true,
           "subunitcolor": "white"
          },
          "hoverlabel": {
           "align": "left"
          },
          "hovermode": "closest",
          "mapbox": {
           "style": "light"
          },
          "paper_bgcolor": "white",
          "plot_bgcolor": "#E5ECF6",
          "polar": {
           "angularaxis": {
            "gridcolor": "white",
            "linecolor": "white",
            "ticks": ""
           },
           "bgcolor": "#E5ECF6",
           "radialaxis": {
            "gridcolor": "white",
            "linecolor": "white",
            "ticks": ""
           }
          },
          "scene": {
           "xaxis": {
            "backgroundcolor": "#E5ECF6",
            "gridcolor": "white",
            "gridwidth": 2,
            "linecolor": "white",
            "showbackground": true,
            "ticks": "",
            "zerolinecolor": "white"
           },
           "yaxis": {
            "backgroundcolor": "#E5ECF6",
            "gridcolor": "white",
            "gridwidth": 2,
            "linecolor": "white",
            "showbackground": true,
            "ticks": "",
            "zerolinecolor": "white"
           },
           "zaxis": {
            "backgroundcolor": "#E5ECF6",
            "gridcolor": "white",
            "gridwidth": 2,
            "linecolor": "white",
            "showbackground": true,
            "ticks": "",
            "zerolinecolor": "white"
           }
          },
          "shapedefaults": {
           "line": {
            "color": "#2a3f5f"
           }
          },
          "ternary": {
           "aaxis": {
            "gridcolor": "white",
            "linecolor": "white",
            "ticks": ""
           },
           "baxis": {
            "gridcolor": "white",
            "linecolor": "white",
            "ticks": ""
           },
           "bgcolor": "#E5ECF6",
           "caxis": {
            "gridcolor": "white",
            "linecolor": "white",
            "ticks": ""
           }
          },
          "title": {
           "x": 0.05
          },
          "xaxis": {
           "automargin": true,
           "gridcolor": "white",
           "linecolor": "white",
           "ticks": "",
           "title": {
            "standoff": 15
           },
           "zerolinecolor": "white",
           "zerolinewidth": 2
          },
          "yaxis": {
           "automargin": true,
           "gridcolor": "white",
           "linecolor": "white",
           "ticks": "",
           "title": {
            "standoff": 15
           },
           "zerolinecolor": "white",
           "zerolinewidth": 2
          }
         }
        },
        "title": {
         "text": "Time Usage by Dominant Emotion"
        },
        "xaxis": {
         "anchor": "y",
         "domain": [
          0,
          1
         ],
         "title": {
          "text": "Daily_Usage_Time (minutes)"
         }
        },
        "yaxis": {
         "anchor": "x",
         "domain": [
          0,
          1
         ],
         "title": {
          "text": "count"
         }
        }
       }
      }
     },
     "metadata": {},
     "output_type": "display_data"
    }
   ],
   "source": [
    "# Daily Usage time by Dominant_Emotion\n",
    "plt = px.histogram(train_df, x='Daily_Usage_Time (minutes)', color='Dominant_Emotion', title='Time Usage by Dominant Emotion')\n",
    "plt.show()"
   ]
  },
  {
   "cell_type": "markdown",
   "metadata": {},
   "source": [
    "### **Likes Received VS Emotions**"
   ]
  },
  {
   "cell_type": "code",
   "execution_count": 102,
   "metadata": {},
   "outputs": [
    {
     "data": {
      "application/vnd.plotly.v1+json": {
       "config": {
        "plotlyServerURL": "https://plot.ly"
       },
       "data": [
        {
         "alignmentgroup": "True",
         "bingroup": "x",
         "hovertemplate": "Dominant_Emotion=Happiness<br>Likes_Received_Per_Day=%{x}<br>count=%{y}<extra></extra>",
         "legendgroup": "Happiness",
         "marker": {
          "color": "#636efa",
          "pattern": {
           "shape": ""
          }
         },
         "name": "Happiness",
         "offsetgroup": "Happiness",
         "orientation": "v",
         "showlegend": true,
         "type": "histogram",
         "x": [
          45,
          60,
          80,
          90,
          70,
          95,
          85,
          75,
          90,
          80,
          85,
          78,
          45,
          70,
          75,
          60,
          72,
          30,
          78,
          45,
          50,
          65,
          90,
          100,
          75,
          105,
          85,
          80,
          95,
          90,
          100,
          85,
          48,
          72,
          78,
          65,
          75,
          33,
          83,
          50,
          50,
          65,
          90,
          100,
          75,
          105,
          85,
          80,
          95,
          90,
          100,
          85,
          48,
          72,
          78,
          65,
          75,
          33,
          83,
          50,
          50,
          65,
          90,
          100,
          75,
          105,
          85,
          80,
          95,
          90,
          100,
          85,
          48,
          72,
          78,
          65,
          75,
          33,
          83,
          50,
          50,
          65,
          90,
          100,
          75,
          105,
          85,
          80,
          95,
          90,
          100,
          85,
          48,
          72,
          78,
          65,
          75,
          33,
          83,
          50,
          50,
          65,
          90,
          100,
          75,
          105,
          85,
          80,
          95,
          90,
          100,
          85,
          48,
          72,
          78,
          65,
          75,
          33,
          83,
          50,
          50,
          65,
          90,
          100,
          75,
          105,
          85,
          80,
          95,
          30,
          90,
          100,
          85,
          48,
          72,
          78,
          65,
          75,
          33,
          83,
          50,
          50,
          65,
          90,
          100,
          75,
          105,
          85,
          80,
          95,
          90,
          100,
          85,
          48,
          72,
          78,
          65,
          75,
          33,
          83,
          50,
          50,
          65,
          90,
          100,
          75,
          105,
          85,
          80,
          95,
          90,
          100,
          85,
          48,
          72,
          78,
          65,
          75,
          33,
          83,
          50,
          50,
          65,
          90,
          100,
          75,
          105,
          85,
          80,
          95,
          90,
          100,
          85,
          48,
          72,
          78,
          65,
          75,
          33,
          83,
          50
         ],
         "xaxis": "x",
         "yaxis": "y"
        },
        {
         "alignmentgroup": "True",
         "bingroup": "x",
         "hovertemplate": "Dominant_Emotion=Anger<br>Likes_Received_Per_Day=%{x}<br>count=%{y}<extra></extra>",
         "legendgroup": "Anger",
         "marker": {
          "color": "#EF553B",
          "pattern": {
           "shape": ""
          }
         },
         "name": "Anger",
         "offsetgroup": "Anger",
         "orientation": "v",
         "showlegend": true,
         "type": "histogram",
         "x": [
          20,
          30,
          40,
          28,
          38,
          35,
          40,
          29,
          20,
          20,
          55,
          50,
          15,
          30,
          40,
          50,
          35,
          43,
          45,
          50,
          33,
          22,
          24,
          60,
          55,
          18,
          30,
          40,
          50,
          35,
          43,
          45,
          50,
          33,
          22,
          24,
          60,
          55,
          18,
          30,
          40,
          50,
          35,
          43,
          45,
          50,
          33,
          22,
          24,
          60,
          55,
          18,
          30,
          40,
          50,
          35,
          43,
          45,
          50,
          33,
          22,
          24,
          60,
          55,
          18,
          30,
          40,
          50,
          35,
          43,
          45,
          50,
          33,
          22,
          24,
          60,
          55,
          18,
          30,
          40,
          50,
          35,
          43,
          45,
          50,
          33,
          22,
          24,
          60,
          55,
          18,
          30,
          40,
          50,
          35,
          43,
          45,
          50,
          33,
          22,
          24,
          60,
          55,
          18,
          30,
          40,
          50,
          35,
          43,
          45,
          50,
          33,
          22,
          24,
          60,
          55,
          18,
          30,
          40,
          50,
          35,
          43,
          45,
          50,
          33,
          22,
          24,
          60,
          55,
          18
         ],
         "xaxis": "x",
         "yaxis": "y"
        },
        {
         "alignmentgroup": "True",
         "bingroup": "x",
         "hovertemplate": "Dominant_Emotion=Neutral<br>Likes_Received_Per_Day=%{x}<br>count=%{y}<extra></extra>",
         "legendgroup": "Neutral",
         "marker": {
          "color": "#00cc96",
          "pattern": {
           "shape": ""
          }
         },
         "name": "Neutral",
         "offsetgroup": "Neutral",
         "orientation": "v",
         "showlegend": true,
         "type": "histogram",
         "x": [
          15,
          10,
          5,
          8,
          18,
          27,
          55,
          20,
          70,
          25,
          18,
          25,
          15,
          28,
          35,
          20,
          15,
          33,
          12,
          38,
          20,
          15,
          10,
          12,
          20,
          30,
          60,
          25,
          80,
          27,
          21,
          27,
          17,
          30,
          37,
          22,
          18,
          37,
          14,
          40,
          20,
          15,
          10,
          12,
          20,
          30,
          60,
          25,
          80,
          27,
          21,
          27,
          17,
          30,
          37,
          22,
          18,
          37,
          14,
          40,
          20,
          15,
          10,
          12,
          20,
          30,
          60,
          25,
          80,
          27,
          21,
          27,
          17,
          30,
          37,
          22,
          18,
          37,
          14,
          40,
          20,
          15,
          10,
          12,
          20,
          30,
          60,
          25,
          80,
          27,
          21,
          27,
          17,
          30,
          37,
          22,
          18,
          37,
          14,
          40,
          20,
          15,
          10,
          12,
          20,
          30,
          60,
          25,
          80,
          27,
          21,
          27,
          17,
          30,
          37,
          22,
          18,
          37,
          14,
          40,
          20,
          15,
          10,
          12,
          20,
          30,
          60,
          25,
          80,
          27,
          21,
          27,
          17,
          30,
          37,
          22,
          18,
          37,
          14,
          40,
          20,
          15,
          10,
          12,
          20,
          30,
          60,
          25,
          80,
          27,
          21,
          27,
          17,
          30,
          37,
          22,
          18,
          37,
          14,
          40,
          20,
          15,
          10,
          12,
          20,
          30,
          60,
          25,
          80,
          27,
          21,
          27,
          17,
          30,
          37,
          22,
          18,
          37,
          14,
          40,
          20,
          15,
          10,
          12,
          20,
          30,
          60,
          25,
          80,
          27,
          21,
          27,
          17,
          30,
          37,
          22,
          18,
          37,
          14,
          40
         ],
         "xaxis": "x",
         "yaxis": "y"
        },
        {
         "alignmentgroup": "True",
         "bingroup": "x",
         "hovertemplate": "Dominant_Emotion=Anxiety<br>Likes_Received_Per_Day=%{x}<br>count=%{y}<extra></extra>",
         "legendgroup": "Anxiety",
         "marker": {
          "color": "#ab63fa",
          "pattern": {
           "shape": ""
          }
         },
         "name": "Anxiety",
         "offsetgroup": "Anxiety",
         "orientation": "v",
         "showlegend": true,
         "type": "histogram",
         "x": [
          100,
          35,
          55,
          25,
          9,
          22,
          18,
          28,
          10,
          40,
          50,
          45,
          36,
          12,
          35,
          28,
          65,
          110,
          45,
          65,
          30,
          12,
          27,
          22,
          30,
          15,
          42,
          55,
          48,
          38,
          13,
          37,
          30,
          70,
          110,
          45,
          65,
          30,
          12,
          27,
          22,
          30,
          15,
          42,
          55,
          48,
          38,
          13,
          37,
          30,
          70,
          110,
          45,
          65,
          30,
          12,
          27,
          22,
          30,
          15,
          42,
          55,
          48,
          38,
          13,
          37,
          30,
          70,
          110,
          45,
          65,
          30,
          12,
          27,
          22,
          30,
          15,
          42,
          55,
          48,
          38,
          13,
          37,
          30,
          70,
          110,
          45,
          65,
          30,
          12,
          27,
          22,
          30,
          15,
          42,
          55,
          48,
          38,
          13,
          37,
          30,
          70,
          110,
          45,
          65,
          30,
          12,
          27,
          22,
          30,
          15,
          42,
          55,
          48,
          38,
          13,
          37,
          30,
          70,
          110,
          45,
          65,
          30,
          12,
          27,
          22,
          30,
          15,
          42,
          55,
          48,
          38,
          13,
          37,
          30,
          70,
          110,
          45,
          65,
          30,
          12,
          27,
          22,
          30,
          15,
          42,
          55,
          48,
          38,
          13,
          37,
          30,
          70,
          110,
          45,
          65,
          30,
          12,
          27,
          22,
          30,
          15,
          42,
          55,
          48,
          38,
          13,
          37,
          30,
          70
         ],
         "xaxis": "x",
         "yaxis": "y"
        },
        {
         "alignmentgroup": "True",
         "bingroup": "x",
         "hovertemplate": "Dominant_Emotion=Boredom<br>Likes_Received_Per_Day=%{x}<br>count=%{y}<extra></extra>",
         "legendgroup": "Boredom",
         "marker": {
          "color": "#FFA15A",
          "pattern": {
           "shape": ""
          }
         },
         "name": "Boredom",
         "offsetgroup": "Boredom",
         "orientation": "v",
         "showlegend": true,
         "type": "histogram",
         "x": [
          5,
          12,
          11,
          13,
          10,
          12,
          8,
          20,
          10,
          8,
          12,
          18,
          8,
          30,
          10,
          14,
          17,
          17,
          11,
          15,
          12,
          22,
          12,
          12,
          13,
          20,
          10,
          35,
          10,
          14,
          17,
          17,
          11,
          15,
          12,
          22,
          12,
          12,
          13,
          20,
          10,
          35,
          10,
          14,
          17,
          17,
          11,
          15,
          12,
          22,
          12,
          12,
          13,
          20,
          10,
          35,
          10,
          14,
          17,
          17,
          11,
          15,
          12,
          22,
          12,
          12,
          13,
          20,
          10,
          35,
          10,
          14,
          17,
          17,
          11,
          15,
          12,
          22,
          12,
          12,
          13,
          20,
          10,
          35,
          10,
          14,
          17,
          17,
          11,
          15,
          12,
          22,
          12,
          12,
          13,
          20,
          10,
          35,
          10,
          14,
          17,
          17,
          11,
          15,
          12,
          22,
          12,
          12,
          13,
          20,
          10,
          35,
          10,
          14,
          17,
          17,
          11,
          15,
          12,
          22,
          12,
          12,
          13,
          20,
          10,
          35,
          10,
          14,
          17,
          17,
          11,
          15,
          12,
          22,
          12,
          12,
          13,
          20,
          10,
          35
         ],
         "xaxis": "x",
         "yaxis": "y"
        },
        {
         "alignmentgroup": "True",
         "bingroup": "x",
         "hovertemplate": "Dominant_Emotion=Sadness<br>Likes_Received_Per_Day=%{x}<br>count=%{y}<extra></extra>",
         "legendgroup": "Sadness",
         "marker": {
          "color": "#19d3f3",
          "pattern": {
           "shape": ""
          }
         },
         "name": "Sadness",
         "offsetgroup": "Sadness",
         "orientation": "v",
         "showlegend": true,
         "type": "histogram",
         "x": [
          25,
          20,
          33,
          20,
          6,
          88,
          6,
          33,
          60,
          15,
          40,
          18,
          22,
          18,
          40,
          20,
          35,
          30,
          40,
          25,
          8,
          95,
          9,
          37,
          65,
          18,
          42,
          21,
          23,
          20,
          45,
          23,
          35,
          30,
          40,
          25,
          8,
          95,
          9,
          37,
          65,
          18,
          42,
          21,
          23,
          20,
          45,
          23,
          35,
          30,
          40,
          25,
          8,
          95,
          9,
          37,
          65,
          18,
          42,
          21,
          23,
          20,
          45,
          23,
          35,
          30,
          40,
          25,
          8,
          95,
          9,
          37,
          65,
          18,
          42,
          21,
          23,
          20,
          45,
          23,
          35,
          30,
          40,
          25,
          8,
          95,
          9,
          37,
          65,
          18,
          42,
          21,
          23,
          20,
          45,
          23,
          35,
          30,
          40,
          25,
          8,
          95,
          9,
          37,
          65,
          18,
          42,
          21,
          23,
          20,
          45,
          23,
          35,
          30,
          40,
          25,
          8,
          95,
          9,
          37,
          65,
          18,
          42,
          21,
          23,
          20,
          45,
          23,
          35,
          30,
          40,
          25,
          8,
          95,
          9,
          37,
          65,
          18,
          42,
          21,
          23,
          20,
          45,
          23,
          35,
          30,
          40,
          25,
          8,
          95,
          9,
          37,
          65,
          18,
          42,
          21,
          23,
          20,
          45,
          23
         ],
         "xaxis": "x",
         "yaxis": "y"
        }
       ],
       "layout": {
        "barmode": "relative",
        "legend": {
         "title": {
          "text": "Dominant_Emotion"
         },
         "tracegroupgap": 0
        },
        "template": {
         "data": {
          "bar": [
           {
            "error_x": {
             "color": "#2a3f5f"
            },
            "error_y": {
             "color": "#2a3f5f"
            },
            "marker": {
             "line": {
              "color": "#E5ECF6",
              "width": 0.5
             },
             "pattern": {
              "fillmode": "overlay",
              "size": 10,
              "solidity": 0.2
             }
            },
            "type": "bar"
           }
          ],
          "barpolar": [
           {
            "marker": {
             "line": {
              "color": "#E5ECF6",
              "width": 0.5
             },
             "pattern": {
              "fillmode": "overlay",
              "size": 10,
              "solidity": 0.2
             }
            },
            "type": "barpolar"
           }
          ],
          "carpet": [
           {
            "aaxis": {
             "endlinecolor": "#2a3f5f",
             "gridcolor": "white",
             "linecolor": "white",
             "minorgridcolor": "white",
             "startlinecolor": "#2a3f5f"
            },
            "baxis": {
             "endlinecolor": "#2a3f5f",
             "gridcolor": "white",
             "linecolor": "white",
             "minorgridcolor": "white",
             "startlinecolor": "#2a3f5f"
            },
            "type": "carpet"
           }
          ],
          "choropleth": [
           {
            "colorbar": {
             "outlinewidth": 0,
             "ticks": ""
            },
            "type": "choropleth"
           }
          ],
          "contour": [
           {
            "colorbar": {
             "outlinewidth": 0,
             "ticks": ""
            },
            "colorscale": [
             [
              0,
              "#0d0887"
             ],
             [
              0.1111111111111111,
              "#46039f"
             ],
             [
              0.2222222222222222,
              "#7201a8"
             ],
             [
              0.3333333333333333,
              "#9c179e"
             ],
             [
              0.4444444444444444,
              "#bd3786"
             ],
             [
              0.5555555555555556,
              "#d8576b"
             ],
             [
              0.6666666666666666,
              "#ed7953"
             ],
             [
              0.7777777777777778,
              "#fb9f3a"
             ],
             [
              0.8888888888888888,
              "#fdca26"
             ],
             [
              1,
              "#f0f921"
             ]
            ],
            "type": "contour"
           }
          ],
          "contourcarpet": [
           {
            "colorbar": {
             "outlinewidth": 0,
             "ticks": ""
            },
            "type": "contourcarpet"
           }
          ],
          "heatmap": [
           {
            "colorbar": {
             "outlinewidth": 0,
             "ticks": ""
            },
            "colorscale": [
             [
              0,
              "#0d0887"
             ],
             [
              0.1111111111111111,
              "#46039f"
             ],
             [
              0.2222222222222222,
              "#7201a8"
             ],
             [
              0.3333333333333333,
              "#9c179e"
             ],
             [
              0.4444444444444444,
              "#bd3786"
             ],
             [
              0.5555555555555556,
              "#d8576b"
             ],
             [
              0.6666666666666666,
              "#ed7953"
             ],
             [
              0.7777777777777778,
              "#fb9f3a"
             ],
             [
              0.8888888888888888,
              "#fdca26"
             ],
             [
              1,
              "#f0f921"
             ]
            ],
            "type": "heatmap"
           }
          ],
          "heatmapgl": [
           {
            "colorbar": {
             "outlinewidth": 0,
             "ticks": ""
            },
            "colorscale": [
             [
              0,
              "#0d0887"
             ],
             [
              0.1111111111111111,
              "#46039f"
             ],
             [
              0.2222222222222222,
              "#7201a8"
             ],
             [
              0.3333333333333333,
              "#9c179e"
             ],
             [
              0.4444444444444444,
              "#bd3786"
             ],
             [
              0.5555555555555556,
              "#d8576b"
             ],
             [
              0.6666666666666666,
              "#ed7953"
             ],
             [
              0.7777777777777778,
              "#fb9f3a"
             ],
             [
              0.8888888888888888,
              "#fdca26"
             ],
             [
              1,
              "#f0f921"
             ]
            ],
            "type": "heatmapgl"
           }
          ],
          "histogram": [
           {
            "marker": {
             "pattern": {
              "fillmode": "overlay",
              "size": 10,
              "solidity": 0.2
             }
            },
            "type": "histogram"
           }
          ],
          "histogram2d": [
           {
            "colorbar": {
             "outlinewidth": 0,
             "ticks": ""
            },
            "colorscale": [
             [
              0,
              "#0d0887"
             ],
             [
              0.1111111111111111,
              "#46039f"
             ],
             [
              0.2222222222222222,
              "#7201a8"
             ],
             [
              0.3333333333333333,
              "#9c179e"
             ],
             [
              0.4444444444444444,
              "#bd3786"
             ],
             [
              0.5555555555555556,
              "#d8576b"
             ],
             [
              0.6666666666666666,
              "#ed7953"
             ],
             [
              0.7777777777777778,
              "#fb9f3a"
             ],
             [
              0.8888888888888888,
              "#fdca26"
             ],
             [
              1,
              "#f0f921"
             ]
            ],
            "type": "histogram2d"
           }
          ],
          "histogram2dcontour": [
           {
            "colorbar": {
             "outlinewidth": 0,
             "ticks": ""
            },
            "colorscale": [
             [
              0,
              "#0d0887"
             ],
             [
              0.1111111111111111,
              "#46039f"
             ],
             [
              0.2222222222222222,
              "#7201a8"
             ],
             [
              0.3333333333333333,
              "#9c179e"
             ],
             [
              0.4444444444444444,
              "#bd3786"
             ],
             [
              0.5555555555555556,
              "#d8576b"
             ],
             [
              0.6666666666666666,
              "#ed7953"
             ],
             [
              0.7777777777777778,
              "#fb9f3a"
             ],
             [
              0.8888888888888888,
              "#fdca26"
             ],
             [
              1,
              "#f0f921"
             ]
            ],
            "type": "histogram2dcontour"
           }
          ],
          "mesh3d": [
           {
            "colorbar": {
             "outlinewidth": 0,
             "ticks": ""
            },
            "type": "mesh3d"
           }
          ],
          "parcoords": [
           {
            "line": {
             "colorbar": {
              "outlinewidth": 0,
              "ticks": ""
             }
            },
            "type": "parcoords"
           }
          ],
          "pie": [
           {
            "automargin": true,
            "type": "pie"
           }
          ],
          "scatter": [
           {
            "fillpattern": {
             "fillmode": "overlay",
             "size": 10,
             "solidity": 0.2
            },
            "type": "scatter"
           }
          ],
          "scatter3d": [
           {
            "line": {
             "colorbar": {
              "outlinewidth": 0,
              "ticks": ""
             }
            },
            "marker": {
             "colorbar": {
              "outlinewidth": 0,
              "ticks": ""
             }
            },
            "type": "scatter3d"
           }
          ],
          "scattercarpet": [
           {
            "marker": {
             "colorbar": {
              "outlinewidth": 0,
              "ticks": ""
             }
            },
            "type": "scattercarpet"
           }
          ],
          "scattergeo": [
           {
            "marker": {
             "colorbar": {
              "outlinewidth": 0,
              "ticks": ""
             }
            },
            "type": "scattergeo"
           }
          ],
          "scattergl": [
           {
            "marker": {
             "colorbar": {
              "outlinewidth": 0,
              "ticks": ""
             }
            },
            "type": "scattergl"
           }
          ],
          "scattermapbox": [
           {
            "marker": {
             "colorbar": {
              "outlinewidth": 0,
              "ticks": ""
             }
            },
            "type": "scattermapbox"
           }
          ],
          "scatterpolar": [
           {
            "marker": {
             "colorbar": {
              "outlinewidth": 0,
              "ticks": ""
             }
            },
            "type": "scatterpolar"
           }
          ],
          "scatterpolargl": [
           {
            "marker": {
             "colorbar": {
              "outlinewidth": 0,
              "ticks": ""
             }
            },
            "type": "scatterpolargl"
           }
          ],
          "scatterternary": [
           {
            "marker": {
             "colorbar": {
              "outlinewidth": 0,
              "ticks": ""
             }
            },
            "type": "scatterternary"
           }
          ],
          "surface": [
           {
            "colorbar": {
             "outlinewidth": 0,
             "ticks": ""
            },
            "colorscale": [
             [
              0,
              "#0d0887"
             ],
             [
              0.1111111111111111,
              "#46039f"
             ],
             [
              0.2222222222222222,
              "#7201a8"
             ],
             [
              0.3333333333333333,
              "#9c179e"
             ],
             [
              0.4444444444444444,
              "#bd3786"
             ],
             [
              0.5555555555555556,
              "#d8576b"
             ],
             [
              0.6666666666666666,
              "#ed7953"
             ],
             [
              0.7777777777777778,
              "#fb9f3a"
             ],
             [
              0.8888888888888888,
              "#fdca26"
             ],
             [
              1,
              "#f0f921"
             ]
            ],
            "type": "surface"
           }
          ],
          "table": [
           {
            "cells": {
             "fill": {
              "color": "#EBF0F8"
             },
             "line": {
              "color": "white"
             }
            },
            "header": {
             "fill": {
              "color": "#C8D4E3"
             },
             "line": {
              "color": "white"
             }
            },
            "type": "table"
           }
          ]
         },
         "layout": {
          "annotationdefaults": {
           "arrowcolor": "#2a3f5f",
           "arrowhead": 0,
           "arrowwidth": 1
          },
          "autotypenumbers": "strict",
          "coloraxis": {
           "colorbar": {
            "outlinewidth": 0,
            "ticks": ""
           }
          },
          "colorscale": {
           "diverging": [
            [
             0,
             "#8e0152"
            ],
            [
             0.1,
             "#c51b7d"
            ],
            [
             0.2,
             "#de77ae"
            ],
            [
             0.3,
             "#f1b6da"
            ],
            [
             0.4,
             "#fde0ef"
            ],
            [
             0.5,
             "#f7f7f7"
            ],
            [
             0.6,
             "#e6f5d0"
            ],
            [
             0.7,
             "#b8e186"
            ],
            [
             0.8,
             "#7fbc41"
            ],
            [
             0.9,
             "#4d9221"
            ],
            [
             1,
             "#276419"
            ]
           ],
           "sequential": [
            [
             0,
             "#0d0887"
            ],
            [
             0.1111111111111111,
             "#46039f"
            ],
            [
             0.2222222222222222,
             "#7201a8"
            ],
            [
             0.3333333333333333,
             "#9c179e"
            ],
            [
             0.4444444444444444,
             "#bd3786"
            ],
            [
             0.5555555555555556,
             "#d8576b"
            ],
            [
             0.6666666666666666,
             "#ed7953"
            ],
            [
             0.7777777777777778,
             "#fb9f3a"
            ],
            [
             0.8888888888888888,
             "#fdca26"
            ],
            [
             1,
             "#f0f921"
            ]
           ],
           "sequentialminus": [
            [
             0,
             "#0d0887"
            ],
            [
             0.1111111111111111,
             "#46039f"
            ],
            [
             0.2222222222222222,
             "#7201a8"
            ],
            [
             0.3333333333333333,
             "#9c179e"
            ],
            [
             0.4444444444444444,
             "#bd3786"
            ],
            [
             0.5555555555555556,
             "#d8576b"
            ],
            [
             0.6666666666666666,
             "#ed7953"
            ],
            [
             0.7777777777777778,
             "#fb9f3a"
            ],
            [
             0.8888888888888888,
             "#fdca26"
            ],
            [
             1,
             "#f0f921"
            ]
           ]
          },
          "colorway": [
           "#636efa",
           "#EF553B",
           "#00cc96",
           "#ab63fa",
           "#FFA15A",
           "#19d3f3",
           "#FF6692",
           "#B6E880",
           "#FF97FF",
           "#FECB52"
          ],
          "font": {
           "color": "#2a3f5f"
          },
          "geo": {
           "bgcolor": "white",
           "lakecolor": "white",
           "landcolor": "#E5ECF6",
           "showlakes": true,
           "showland": true,
           "subunitcolor": "white"
          },
          "hoverlabel": {
           "align": "left"
          },
          "hovermode": "closest",
          "mapbox": {
           "style": "light"
          },
          "paper_bgcolor": "white",
          "plot_bgcolor": "#E5ECF6",
          "polar": {
           "angularaxis": {
            "gridcolor": "white",
            "linecolor": "white",
            "ticks": ""
           },
           "bgcolor": "#E5ECF6",
           "radialaxis": {
            "gridcolor": "white",
            "linecolor": "white",
            "ticks": ""
           }
          },
          "scene": {
           "xaxis": {
            "backgroundcolor": "#E5ECF6",
            "gridcolor": "white",
            "gridwidth": 2,
            "linecolor": "white",
            "showbackground": true,
            "ticks": "",
            "zerolinecolor": "white"
           },
           "yaxis": {
            "backgroundcolor": "#E5ECF6",
            "gridcolor": "white",
            "gridwidth": 2,
            "linecolor": "white",
            "showbackground": true,
            "ticks": "",
            "zerolinecolor": "white"
           },
           "zaxis": {
            "backgroundcolor": "#E5ECF6",
            "gridcolor": "white",
            "gridwidth": 2,
            "linecolor": "white",
            "showbackground": true,
            "ticks": "",
            "zerolinecolor": "white"
           }
          },
          "shapedefaults": {
           "line": {
            "color": "#2a3f5f"
           }
          },
          "ternary": {
           "aaxis": {
            "gridcolor": "white",
            "linecolor": "white",
            "ticks": ""
           },
           "baxis": {
            "gridcolor": "white",
            "linecolor": "white",
            "ticks": ""
           },
           "bgcolor": "#E5ECF6",
           "caxis": {
            "gridcolor": "white",
            "linecolor": "white",
            "ticks": ""
           }
          },
          "title": {
           "x": 0.05
          },
          "xaxis": {
           "automargin": true,
           "gridcolor": "white",
           "linecolor": "white",
           "ticks": "",
           "title": {
            "standoff": 15
           },
           "zerolinecolor": "white",
           "zerolinewidth": 2
          },
          "yaxis": {
           "automargin": true,
           "gridcolor": "white",
           "linecolor": "white",
           "ticks": "",
           "title": {
            "standoff": 15
           },
           "zerolinecolor": "white",
           "zerolinewidth": 2
          }
         }
        },
        "title": {
         "text": "Likes Received vs Dominant Emotion"
        },
        "xaxis": {
         "anchor": "y",
         "domain": [
          0,
          1
         ],
         "title": {
          "text": "Likes_Received_Per_Day"
         }
        },
        "yaxis": {
         "anchor": "x",
         "domain": [
          0,
          1
         ],
         "title": {
          "text": "count"
         }
        }
       }
      }
     },
     "metadata": {},
     "output_type": "display_data"
    }
   ],
   "source": [
    "plt = px.histogram(train_df, x='Likes_Received_Per_Day', color='Dominant_Emotion', title='Likes Received vs Dominant Emotion')\n",
    "plt.show()"
   ]
  },
  {
   "cell_type": "markdown",
   "metadata": {},
   "source": [
    "## **Model Training**"
   ]
  },
  {
   "cell_type": "code",
   "execution_count": 124,
   "metadata": {},
   "outputs": [],
   "source": [
    "from sklearn.model_selection import train_test_split, cross_val_score, GridSearchCV\n",
    "from sklearn.compose import ColumnTransformer\n",
    "from sklearn.pipeline import Pipeline\n",
    "from sklearn.ensemble import RandomForestClassifier\n",
    "from sklearn.metrics import confusion_matrix, accuracy_score, f1_score, precision_score, recall_score\n",
    "from sklearn.preprocessing import StandardScaler, LabelEncoder, OneHotEncoder\n",
    "from xgboost import XGBClassifier"
   ]
  },
  {
   "cell_type": "code",
   "execution_count": 107,
   "metadata": {},
   "outputs": [
    {
     "data": {
      "text/plain": [
       "User_ID                       0\n",
       "Age                           0\n",
       "Gender                        0\n",
       "Platform                      0\n",
       "Daily_Usage_Time (minutes)    0\n",
       "Posts_Per_Day                 0\n",
       "Likes_Received_Per_Day        0\n",
       "Comments_Received_Per_Day     0\n",
       "Messages_Sent_Per_Day         0\n",
       "Dominant_Emotion              0\n",
       "dtype: int64"
      ]
     },
     "execution_count": 107,
     "metadata": {},
     "output_type": "execute_result"
    }
   ],
   "source": [
    "train_df.isnull().sum()"
   ]
  },
  {
   "cell_type": "code",
   "execution_count": 108,
   "metadata": {},
   "outputs": [],
   "source": [
    "X = train_df.drop(columns = ['User_ID', 'Dominant_Emotion'])\n",
    "y = train_df['Dominant_Emotion']\n",
    "\n",
    "X_train, X_test, y_train, y_test = train_test_split(X, y, test_size = 0.2, random_state = 42)"
   ]
  },
  {
   "cell_type": "code",
   "execution_count": 123,
   "metadata": {},
   "outputs": [],
   "source": [
    "numeric_features = ['Daily_Usage_Time (minutes)',\n",
    "       'Posts_Per_Day', 'Likes_Received_Per_Day', 'Comments_Received_Per_Day',\n",
    "       'Messages_Sent_Per_Day']\n",
    "categorical_features = ['Age', 'Gender', 'Platform']\n",
    "\n",
    "preprocessor = ColumnTransformer([\n",
    "    ('num', StandardScaler(), numeric_features),\n",
    "    ('cat', OneHotEncoder(), categorical_features)\n",
    "])\n",
    "\n",
    "rf_pipeline = Pipeline([\n",
    "    ('preprocessor', preprocessor),\n",
    "    ('rf', RandomForestClassifier(random_state = 42))\n",
    "])"
   ]
  },
  {
   "cell_type": "code",
   "execution_count": 126,
   "metadata": {},
   "outputs": [
    {
     "name": "stdout",
     "output_type": "stream",
     "text": [
      "Fitting 5 folds for each of 108 candidates, totalling 540 fits\n",
      "Best Parameters: {'rf__max_depth': None, 'rf__min_samples_leaf': 1, 'rf__min_samples_split': 2, 'rf__n_estimators': 300}\n"
     ]
    }
   ],
   "source": [
    "param_grid = {\n",
    "    'rf__n_estimators': [100, 200, 300],\n",
    "    'rf__max_depth': [None, 10, 20, 30],\n",
    "    'rf__min_samples_split': [2, 5, 10],\n",
    "    'rf__min_samples_leaf': [1, 2, 4]\n",
    "}\n",
    "\n",
    "grid_search = GridSearchCV(estimator=rf_pipeline, param_grid=param_grid, cv=5, n_jobs=-1, verbose=2)\n",
    "\n",
    "grid_search.fit(X_train, y_train)\n",
    "y_pred = grid_search.predict(X_test)\n",
    "\n",
    "# In ra các kết quả đánh giá\n",
    "print(f\"Best Parameters: {grid_search.best_params_}\")"
   ]
  },
  {
   "cell_type": "code",
   "execution_count": 127,
   "metadata": {},
   "outputs": [
    {
     "name": "stdout",
     "output_type": "stream",
     "text": [
      "Accuracy: 0.9950248756218906\n",
      "F1 Score: 0.9950201354734427\n",
      "Precision: 0.995130729332063\n",
      "Recall: 0.9950248756218906\n"
     ]
    }
   ],
   "source": [
    "rf_pipeline_best = grid_search.best_estimator_\n",
    "y_pred = rf_pipeline_best.predict(X_test)\n",
    "\n",
    "print(f\"Accuracy: {accuracy_score(y_test, y_pred)}\")\n",
    "print(f\"F1 Score: {f1_score(y_test, y_pred, average='weighted')}\")\n",
    "print(f\"Precision: {precision_score(y_test, y_pred, average='weighted')}\")\n",
    "print(f\"Recall: {recall_score(y_test, y_pred, average='weighted')}\")"
   ]
  },
  {
   "cell_type": "code",
   "execution_count": null,
   "metadata": {},
   "outputs": [],
   "source": []
  }
 ],
 "metadata": {
  "kernelspec": {
   "display_name": "base",
   "language": "python",
   "name": "python3"
  },
  "language_info": {
   "codemirror_mode": {
    "name": "ipython",
    "version": 3
   },
   "file_extension": ".py",
   "mimetype": "text/x-python",
   "name": "python",
   "nbconvert_exporter": "python",
   "pygments_lexer": "ipython3",
   "version": "3.9.19"
  }
 },
 "nbformat": 4,
 "nbformat_minor": 2
}
